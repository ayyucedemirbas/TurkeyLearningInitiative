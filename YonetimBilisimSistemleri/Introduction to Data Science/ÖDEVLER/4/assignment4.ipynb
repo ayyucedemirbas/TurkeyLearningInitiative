{
 "cells": [
  {
   "cell_type": "markdown",
   "metadata": {},
   "source": [
    "# IS709 Assignment 4\n",
    "\n",
    "### Due: January 10, Sunday-23.59\n",
    "\n",
    "### Submission and Grading Policy\n",
    "\n",
    "- Submit your assignments to the corresponding assignment link in https://odtuclass.metu.edu.tr.\n",
    "- Solutions should be submitted in a single **ipynb** file named: metu-username_HW_4.ipynb (e.g., “e123456_HW_4.ipynb”).\n",
    "- Late submissions will be accepted by January 13, 2021, 23:59 with a 5% per day penalty.\n",
    "<!-- - Do not change variable names in the code blocks and the texts in the markdowns. -->\n",
    "- **This is an individual assignment. You have to adhere to the academic integrity principles.**\n",
    "- You are supposed to be able to interpret your findings. Hence, you shouldn't just find a number or result and just leave it. You need to comment on your findings by giving as much as **necessary** details.    \n",
    "\n",
    "## Questions\n",
    "\n",
    "### Clustering Part\n",
    "\n",
    "There are two datasets for the clustering part. They are data_cls_1.csv and data_cls_2.csv.     \n",
    "You need to answer the below questions for each dataset. (You are going to use true labels files in Q2)\n",
    "\n",
    "\n",
    "\n",
    "**Q1.**     \n",
    "**a.** Generate  k-means models for k= 2, 3, 4, 5, 6, 7, 8, 9, and 10.    \n",
    "Determine the optimal value of k by looking at **wss graph** and **silhouette scores**.      \n",
    "    \n",
    "**b.** Plot the clusters for the optimal value of k.    \n",
    "<font color=#C91414> Hint: Please use principal component analysis for 2D plotting since the number of attributes is greater than 2.</font>      \n",
    "     \n",
    "     \n",
    "  \n",
    "**Q2.**    \n",
    "**a.** Generate  DBSCAN models for epsilon values between 0.1 (included) and 2.5(included) incrementing it with steps=0.10 and for min_samples=5, 10, 15 and 20.   \n",
    "Find the optimal value of k by **adjusted rand scores**. (While calculating adjusted rand scores you will need true labels. Please see https://scikit-learn.org/stable/modules/generated/sklearn.metrics.adjusted_rand_score.html#sklearn.metrics.adjusted_rand_score)    \n",
    "     \n",
    "**b.** Plot the clusters for the optimal value of k.  \n",
    "<font color=#C91414> Hint: Please use principal component analysis for 2D plotting since the number of attributes is greater than 2.</font>    \n",
    "  \n",
    "**Q3.** Did you obtain the same optimal k values in Q1 and Q2? Comment on the quality of the clusters that you obtained in Q1 and Q2. Which algorithm gave a better result? What could be the reason one of them outperforms in different cases?\n",
    "\n",
    "\n",
    "\n"
   ]
  }
 ],
 "metadata": {
  "kernelspec": {
   "display_name": "Python 3",
   "language": "python",
   "name": "python3"
  },
  "language_info": {
   "codemirror_mode": {
    "name": "ipython",
    "version": 3
   },
   "file_extension": ".py",
   "mimetype": "text/x-python",
   "name": "python",
   "nbconvert_exporter": "python",
   "pygments_lexer": "ipython3",
   "version": "3.7.6"
  }
 },
 "nbformat": 4,
 "nbformat_minor": 4
}

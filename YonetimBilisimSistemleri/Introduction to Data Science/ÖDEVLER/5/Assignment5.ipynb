{
 "cells": [
  {
   "cell_type": "markdown",
   "metadata": {},
   "source": [
    "# IS709 Assignment 5\n",
    "\n",
    "### Due: January 17, Sunday-23.59\n",
    "\n",
    "### Submission and Grading Policy\n",
    "\n",
    "- Submit your assignments to the corresponding assignment link in https://odtuclass.metu.edu.tr.\n",
    "- Solutions should be submitted in a single **ipynb** file named: metu-username_HW_4.ipynb (e.g., “e123456_HW_4.ipynb”).\n",
    "- Late submissions will be accepted by January 20, 2021, 23:59 with a 5% per day penalty.\n",
    "- **This is an individual assignment. You have to adhere to the academic integrity principles.**\n",
    "- You are supposed to be able to interpret your findings. Hence, you shouldn't just find a number or result and just leave it. You need to comment on your findings by giving as much as **necessary** details.    \n",
    "\n",
    "### Questions\n",
    "\n",
    "**1.** Choose 4 attributes(except the target variable) and create missing values in the dataset. You can use the variations of the example code below or you can write your own method. Please set seeds differently for each attribute. Split data set as train, validation and test set with %60, %20, and %20, respectively by ensuring that your test dataset includes at least 20% missingness.\n",
    " > mis_data=data.copy()    \n",
    "   np.random.seed(3)    \n",
    "   indexes=np.random.choice(np.arange(len(data)),size=500, replace=False)   ##creates 500 missing value in x6\n",
    "   mis_data.loc[indexes,\"x6\"]=np.nan  \n",
    "\n",
    "**2.** Handle missing values by\n",
    "- Median Imputation\n",
    "- Mean Imputation  \n",
    "Hint: Please see https://scikit-learn.org/stable/modules/generated/sklearn.impute.SimpleImputer.html#sklearn.impute.SimpleImputer and try to understand the difference between fit, fit_transform and transform.\n",
    "\n",
    "\n",
    "IMPORTANT: You need to impute values based on the train set. You should use exactly the same test dataset for all cases. You shouldn't use test dataset to calculate the mean and median for imputation. \n",
    "\n",
    "**3.** Generate three decision tree classifier with n_depth= 2, 5, and 10 for each missing data handling methods. (Use same random state for each model)      \n",
    "**4.** Compare the performance of models and handling methods using accuracy, F-score, and Matthews Correlation Coefficient. You are supposed to show them on train, validation, and test datasets.**Comment on the results.**"
   ]
  }
 ],
 "metadata": {
  "kernelspec": {
   "display_name": "Python 3",
   "language": "python",
   "name": "python3"
  },
  "language_info": {
   "codemirror_mode": {
    "name": "ipython",
    "version": 3
   },
   "file_extension": ".py",
   "mimetype": "text/x-python",
   "name": "python",
   "nbconvert_exporter": "python",
   "pygments_lexer": "ipython3",
   "version": "3.7.6"
  }
 },
 "nbformat": 4,
 "nbformat_minor": 4
}

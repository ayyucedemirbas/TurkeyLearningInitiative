{
 "cells": [
  {
   "cell_type": "markdown",
   "metadata": {},
   "source": [
    "# IS709 Assignment 2\n",
    "\n",
    "### Due: December 6, Sunday-23.59\n",
    "\n",
    "### Submission and Grading Policy\n",
    "\n",
    "- Submit your assignments to the corresponding assignment link in https://odtuclass.metu.edu.tr.\n",
    "- Solutions should be submitted in a single **ipynb** file named: metu-username_HW_2.ipynb (e.g., “e123456_HW_2.ipynb”).\n",
    "- Late submissions will be accepted by December 9, 2020 at 23:59 with a 5% per day penalty.\n",
    "- Do not change variable names in the code blocks and the texts in the markdowns.\n",
    "- **It is an individual assignment. You have to adhere to academic integrity principles.**\n",
    "- You are supposed to be able to interpret your findings. Hence, you shouldn't just find a number or result and just leave it. You need to comment on your findings by giving as much as **necessary** details.  \n",
    "  \n",
    "In this assignment, you will work on statistical hypothesis testing and try different statistical tests and comment on your findings.\n",
    "\n"
   ]
  },
  {
   "cell_type": "markdown",
   "metadata": {},
   "source": [
    "**Import the libraries you need.**  "
   ]
  },
  {
   "cell_type": "code",
   "execution_count": 1,
   "metadata": {},
   "outputs": [],
   "source": [
    "# answer\n",
    "import numpy as np\n",
    "from scipy import stats\n",
    "import scikit_posthocs as sp\n",
    "import pandas as pd\n",
    "pd.options.display.float_format = '{:,.4f}'.format"
   ]
  },
  {
   "cell_type": "markdown",
   "metadata": {},
   "source": [
    "# Hypothesis Testing\n",
    "\n",
    "## Q1\n",
    "A botanist is curious about the productivity/efficiency of her newly developed hybrid tomato seed. Therefore, she recorded the amount of product (in kg) obtained from the seedlings that grew from hybrid seeds and regular seeds.\n",
    "\n",
    "**Conduct the hypothesis testing to check whether there is a difference between the average obtained product of these two seeds by using a 0.05 significance level to evaluate the null and alternative hypotheses. Before doing hypothesis testing, check the related assumptions. Comment on the results.**\n",
    "\n",
    "regular_seed=[24.88, 20.96, 19.97, 14.29, 18.89, 18.67, 19.46, 17.88, 19.57,\n",
    "       18.31, 15.88, 22.26, 22.25, 24.65, 19.84, 18.52, 18.11, 15.21,\n",
    "       22.54, 16.5 , 16.26, 19.1 , 24.  , 20.38, 16.73, 17.63, 21.51,\n",
    "       19.23, 17.47]\n",
    "       \n",
    "hybrid_seed=[22.28, 25.3 , 29.12, 19.14, 21.05, 20.5 , 15.5 , 20.13, 19.82,\n",
    "       26.48, 22.59, 17.96, 25.  , 21.89, 17.59, 21.15, 21.17, 20.29,\n",
    "       23.09, 16.03, 22.16, 26.14, 25.64, 26.43, 26.47, 27.61, 19.53,\n",
    "       25.62, 17.23, 21.13, 17.06, 26.24, 27.13, 22.38])\n"
   ]
  },
  {
   "cell_type": "markdown",
   "metadata": {},
   "source": [
    "### Assumptions\n",
    "Observations in each sample are independent and identically distributed (iid).  \n",
    "Observations in each sample are normally distributed.  \n",
    "Observations in each sample have the same variance.  \n"
   ]
  },
  {
   "cell_type": "code",
   "execution_count": 2,
   "metadata": {},
   "outputs": [],
   "source": [
    "# answer\n",
    "# defining numpy arrays\n",
    "regular_seed=np.array([24.88, 20.96, 19.97, 14.29, 18.89, 18.67, 19.46, 17.88, 19.57,\n",
    "       18.31, 15.88, 22.26, 22.25, 24.65, 19.84, 18.52, 18.11, 15.21,\n",
    "       22.54, 16.5 , 16.26, 19.1 , 24.  , 20.38, 16.73, 17.63, 21.51,\n",
    "       19.23, 17.47])\n",
    "\n",
    "hybrid_seed=np.array([22.28, 25.3 , 29.12, 19.14, 21.05, 20.5 , 15.5 , 20.13, 19.82,\n",
    "       26.48, 22.59, 17.96, 25.  , 21.89, 17.59, 21.15, 21.17, 20.29,\n",
    "       23.09, 16.03, 22.16, 26.14, 25.64, 26.43, 26.47, 27.61, 19.53,\n",
    "       25.62, 17.23, 21.13, 17.06, 26.24, 27.13, 22.38])\n"
   ]
  },
  {
   "cell_type": "markdown",
   "metadata": {},
   "source": [
    "$H_{0}$: The data is normally distributed.  \n",
    "$H_{1}$: The data is not normally distributed.   \n",
    "Assume that alpha=0.05 If p-value is >0.05, it can be said that data is normality distributed."
   ]
  },
  {
   "cell_type": "code",
   "execution_count": 3,
   "metadata": {},
   "outputs": [
    {
     "name": "stdout",
     "output_type": "stream",
     "text": [
      "For regular seed p value:0.702764\n",
      "Fail to reject null hypothesis >> The data is normally distributed\n",
      "-------------------\n",
      "For hybrid seed p value:0.276011\n",
      "Fail to reject null hypothesis >> The data is normally distributed\n"
     ]
    }
   ],
   "source": [
    "test_stat_regular, p_value_regular=stats.shapiro(regular_seed)\n",
    "test_stat_hybrid, p_value_hybrid=stats.shapiro(hybrid_seed)\n",
    "\n",
    "print(\"For regular seed p value:%.6f\" % p_value_regular)\n",
    "if p_value_regular <0.05:\n",
    "    print(\"Reject null hypothesis >> The data is not normally distributed\")\n",
    "else:\n",
    "    print(\"Fail to reject null hypothesis >> The data is normally distributed\")\n",
    "print(\"-------------------\")\n",
    "\n",
    "print(\"For hybrid seed p value:%.6f\" % p_value_hybrid)\n",
    "if p_value_hybrid <0.05:\n",
    "    print(\"Reject null hypothesis >> The data is not normally distributed\")\n",
    "else:\n",
    "    print(\"Fail to reject null hypothesis >> The data is normally distributed\")"
   ]
  },
  {
   "cell_type": "markdown",
   "metadata": {},
   "source": [
    "$H_{0}$: The variances of the samples are same.  \n",
    "$H_{1}$: The variances of the samples are different. "
   ]
  },
  {
   "cell_type": "markdown",
   "metadata": {},
   "source": [
    "It tests the null hypothesis that the population variances are equal (called homogeneity of variance or homoscedasticity). If the resulting p-value of Levene's test is less than some significance level (typically 0.05), the obtained differences in sample variances are unlikely to have occurred based on random sampling from a population with equal variances"
   ]
  },
  {
   "cell_type": "code",
   "execution_count": 4,
   "metadata": {},
   "outputs": [
    {
     "name": "stdout",
     "output_type": "stream",
     "text": [
      "p value:0.060595\n",
      "Fail to reject null hypothesis >> The variances of the samples are same.\n"
     ]
    }
   ],
   "source": [
    "stat, pvalue_levene= stats.levene(regular_seed,hybrid_seed)\n",
    "\n",
    "print(\"p value:%.6f\" % pvalue_levene)\n",
    "if pvalue_levene <0.05:\n",
    "    print(\"Reject null hypothesis >> The variances of the samples are different.\")\n",
    "else:\n",
    "    print(\"Fail to reject null hypothesis >> The variances of the samples are same.\")"
   ]
  },
  {
   "cell_type": "markdown",
   "metadata": {},
   "source": [
    "$H_{0}$: $\\mu_{1}= \\mu_{2}$  **or** $\\mu_{1}- \\mu_{2} = 0 $     **or** The mean of the samples are same.      \n",
    "$H_{1}$: $\\mu_{1} \\neq \\mu_{2}$  **or** $\\mu_{1}- \\mu_{2} \\neq 0 $      **or** The mean of the samples are different."
   ]
  },
  {
   "cell_type": "code",
   "execution_count": 5,
   "metadata": {},
   "outputs": [
    {
     "name": "stdout",
     "output_type": "stream",
     "text": [
      "p value:0.00077710\n",
      "Reject null hypothesis\n"
     ]
    }
   ],
   "source": [
    "ttest,p_value = stats.ttest_ind(regular_seed,hybrid_seed)\n",
    "print(\"p value:%.8f\" % p_value)\n",
    "if p_value <0.05:\n",
    "    print(\"Reject null hypothesis\")\n",
    "else:\n",
    "    print(\"Fail to reject null hypothesis\")"
   ]
  },
  {
   "cell_type": "markdown",
   "metadata": {},
   "source": [
    "**At this significance level, there is enough evidence to conclude that the average product obtained from hybrid seed is different than the regular seed.**    \n",
    "    \n",
    "Note: If you want to test whether the productivity of hybrid seed is higher than the regular seed, you need to set alternative hypothesis as $H_{1}$: $\\mu_{regular} < \\mu_{hybrid}$ and make a decision with p-value/2."
   ]
  },
  {
   "cell_type": "markdown",
   "metadata": {},
   "source": [
    "## Q2.\n",
    "\n",
    "Fifteen students were diagnosed with iron deficiency anemia by the METU Health Center in the previous semester. Healthcare personnel told these patients about the dangers of anemia and prescribed an iron supply. The patients came for control two months later, and their iron levels were reexamined.\n",
    "\n",
    "**According to this information, conduct the hypothesis testing to check whether there is a increase in the iron levels of the patients after the iron supply by using a 0.05 significance level. Before doing hypothesis testing, check the related assumptions. Comment on the results.**\n",
    "\n",
    "test_results_before_supply=[12.68, 10.65, 10.14,  7.2 ,  9.58,  9.46,  9.87,  9.05,  9.93, 9.28,  8.02, 11.32, 11.32, 12.56, 10.07]  \n",
    "test_results_after_supply=[12.55, 12.4 , 11.29, 14.08, 11.78, 11.69, 12.77, 14.63, 13.26, 11.87, 12.21, 13.68, 12.82, 12.15, 12.74]"
   ]
  },
  {
   "cell_type": "markdown",
   "metadata": {},
   "source": [
    "## Assumptions\n",
    "• The dependent variable must be continuous (interval/ratio)  \n",
    "• The observations are independent of one another  \n",
    "• The dependent variable should be approximately normally distributed"
   ]
  },
  {
   "cell_type": "code",
   "execution_count": 6,
   "metadata": {},
   "outputs": [],
   "source": [
    "test_results_before_supply=np.array([12.68, 10.65, 10.14,  7.2 ,  9.58,  9.46,  9.87,  9.05,  9.93,\n",
    "        9.28,  8.02, 11.32, 11.32, 12.56, 10.07])\n",
    "test_results_after_supply=np.array([12.55, 12.4 , 11.29, 14.08, 11.78, 11.69, 12.77, 14.63, 13.26,\n",
    "       11.87, 12.21, 13.68, 12.82, 12.15, 12.74])"
   ]
  },
  {
   "cell_type": "code",
   "execution_count": 7,
   "metadata": {},
   "outputs": [
    {
     "name": "stdout",
     "output_type": "stream",
     "text": [
      "For test results before supply p value:0.780257\n",
      "Fail to reject null hypothesis >> The data is normally distributed\n",
      "-------------------\n",
      "For test results after supply p value:0.611893\n",
      "Fail to reject null hypothesis >> The data is normally distributed\n",
      "-------------------\n"
     ]
    }
   ],
   "source": [
    "test_stat_before, p_value_before=stats.shapiro(test_results_before_supply)\n",
    "test_stat_after, p_value_after=stats.shapiro(test_results_after_supply)\n",
    "\n",
    "print(\"For test results before supply p value:%.6f\" % p_value_before)\n",
    "if p_value_before <0.05:\n",
    "    print(\"Reject null hypothesis >> The data is not normally distributed\")\n",
    "else:\n",
    "    print(\"Fail to reject null hypothesis >> The data is normally distributed\")\n",
    "print(\"-------------------\")\n",
    "\n",
    "print(\"For test results after supply p value:%.6f\" % p_value_after)\n",
    "if p_value_after <0.05:\n",
    "    print(\"Reject null hypothesis >> The data is not normally distributed\")\n",
    "else:\n",
    "    print(\"Fail to reject null hypothesis >> The data is normally distributed\")\n",
    "print(\"-------------------\")\n"
   ]
  },
  {
   "cell_type": "markdown",
   "metadata": {},
   "source": [
    "$H_{0}$: $\\mu_{d}<= 0 $ **or** The true mean difference is equal or smaller than zero.   \n",
    "$H_{1}$: $\\mu_{d}> 0 $ **or**  The true mean difference is bigger than zero.  "
   ]
  },
  {
   "cell_type": "code",
   "execution_count": 8,
   "metadata": {},
   "outputs": [
    {
     "name": "stdout",
     "output_type": "stream",
     "text": [
      "p value:0.000126 one tailed p value:0.000063\n",
      "Reject null hypothesis\n"
     ]
    }
   ],
   "source": [
    "test_stat, p_value_paired = stats.ttest_rel(test_results_before_supply,test_results_after_supply)\n",
    "print(\"p value:%.6f\" % p_value_paired , \"one tailed p value:%.6f\" %(p_value_paired/2))\n",
    "if p_value_paired <0.05:\n",
    "    print(\"Reject null hypothesis\")\n",
    "else:\n",
    "    print(\"Fail to reject null hypothesis\")"
   ]
  },
  {
   "cell_type": "markdown",
   "metadata": {},
   "source": [
    "At this significance level, there is enough evidence to conclude mean iron level of patients has increased after the taking iron supply."
   ]
  },
  {
   "cell_type": "markdown",
   "metadata": {},
   "source": [
    "## Q3. \n",
    "\n",
    "A pediatrician wants to see the effect of formula consumption on the average monthly weight gain (in gr) of babies. For this reason, she collected  data from three different groups. The first group is exclusively breastfed children(receives only breast milk), the second group is children who are fed with only formula and the last group is both formula and breastfed children. These data as below \n",
    "\n",
    "\n",
    "only_breast=[794.1, 716.9, 993. , 724.7, 760.9, 908.2, 659.3 , 690.8, 768.7,\n",
    "       717.3 , 630.7, 729.5, 714.1, 810.3, 583.5, 679.9, 865.1]      \n",
    "   \n",
    "only_formula=[ 898.8,  881.2,  940.2,  966.2,  957.5, 1061.7, 1046.2,  980.4,\n",
    "        895.6,  919.7, 1074.1,  952.5,  796.3,  859.6,  871.1 , 1047.5,\n",
    "        919.1 , 1160.5,  996.9]     \n",
    "        \n",
    "both=[976.4, 656.4, 861.2, 706.8, 718.5, 717.1, 759.8, 894.6, 867.6,\n",
    "       805.6, 765.4, 800.3, 789.9, 875.3, 740. , 799.4, 790.3, 795.2 ,\n",
    "       823.6, 818.7, 926.8, 791.7, 948.3]  \n",
    "**According to this information, conduct the hypothesis testing to check whether there is a difference between the average monthly gain of these three groups by using a 0.05 significance level. If there is a significant difference, perform further analysis to find that caused the difference.  Before doing hypothesis testing, check the related assumptions. Comment on the results.**\n"
   ]
  },
  {
   "cell_type": "markdown",
   "metadata": {},
   "source": [
    "## Assumptions\n",
    "Observations in each sample are independent and identically distributed (iid).  \n",
    "Observations in each sample are normally distributed.  \n",
    "Observations in each sample have the same variance.  "
   ]
  },
  {
   "cell_type": "code",
   "execution_count": 9,
   "metadata": {},
   "outputs": [],
   "source": [
    "only_breast=np.array([794.1, 716.9, 993. , 724.7, 760.9, 908.2, 659.3 , 690.8, 768.7,\n",
    "       717.3 , 630.7, 729.5, 714.1, 810.3, 583.5, 679.9, 865.1])\n",
    "\n",
    "only_formula=np.array([ 898.8,  881.2,  940.2,  966.2,  957.5, 1061.7, 1046.2,  980.4,\n",
    "        895.6,  919.7, 1074.1,  952.5,  796.3,  859.6,  871.1 , 1047.5,\n",
    "        919.1 , 1160.5,  996.9])\n",
    "\n",
    "both=np.array([976.4, 656.4, 861.2, 706.8, 718.5, 717.1, 759.8, 894.6, 867.6,\n",
    "       805.6, 765.4, 800.3, 789.9, 875.3, 740. , 799.4, 790.3, 795.2 ,\n",
    "       823.6, 818.7, 926.8, 791.7, 948.3])"
   ]
  },
  {
   "cell_type": "markdown",
   "metadata": {},
   "source": [
    "$ H_{0} $: The data is normally distributed.  \n",
    "$ H_{1} $: The data is not normally distributed.   \n",
    "Assume that alpha=0.05 If p-value is >0.05, it can be said that data is normality distributed."
   ]
  },
  {
   "cell_type": "code",
   "execution_count": 10,
   "metadata": {},
   "outputs": [
    {
     "name": "stdout",
     "output_type": "stream",
     "text": [
      "For only breast p value:0.469420\n",
      "Fail to reject null hypothesis >> The data is normally distributed\n",
      "-------------------\n",
      "For only formula value:0.887907\n",
      "Fail to reject null hypothesis >> The data is normally distributed\n",
      "-------------------\n",
      "For both p value:0.797288\n",
      "Fail to reject null hypothesis >> The data is normally distributed\n"
     ]
    }
   ],
   "source": [
    "test_stat_g1, p_value_g1=stats.shapiro(only_breast)\n",
    "test_stat_g2, p_value_g2=stats.shapiro(only_formula)\n",
    "test_stat_g3, p_value_g3=stats.shapiro(both)\n",
    "\n",
    "print(\"For only breast p value:%.6f\" % p_value_g1)\n",
    "if p_value_g1 <0.05:\n",
    "    print(\"Reject null hypothesis >> The data is not normally distributed\")\n",
    "else:\n",
    "    print(\"Fail to reject null hypothesis >> The data is normally distributed\")\n",
    "print(\"-------------------\")\n",
    "\n",
    "print(\"For only formula value:%.6f\" % p_value_g2)\n",
    "if p_value_g2 <0.05:\n",
    "    print(\"Reject null hypothesis >> The data is not normally distributed\")\n",
    "else:\n",
    "    print(\"Fail to reject null hypothesis >> The data is normally distributed\")\n",
    "print(\"-------------------\")\n",
    "\n",
    "print(\"For both p value:%.6f\" % p_value_g3)\n",
    "if p_value_g3 <0.05:\n",
    "    print(\"Reject null hypothesis >> The data is not normally distributed\")\n",
    "else:\n",
    "    print(\"Fail to reject null hypothesis >> The data is normally distributed\")\n"
   ]
  },
  {
   "cell_type": "markdown",
   "metadata": {},
   "source": [
    "$H_{0}$: The variances of the samples are same.  \n",
    "$H_{1}$: The variances of the samples are different. "
   ]
  },
  {
   "cell_type": "code",
   "execution_count": 11,
   "metadata": {},
   "outputs": [
    {
     "name": "stdout",
     "output_type": "stream",
     "text": [
      "p value:0.767312\n",
      "Fail to reject null hypothesis >> The variances of the samples are same.\n"
     ]
    }
   ],
   "source": [
    "stat, pvalue_levene= stats.levene(only_breast,only_formula,both)\n",
    "\n",
    "print(\"p value:%.6f\" % pvalue_levene)\n",
    "if pvalue_levene <0.05:\n",
    "    print(\"Reject null hypothesis >> The variances of the samples are different.\")\n",
    "else:\n",
    "    print(\"Fail to reject null hypothesis >> The variances of the samples are same.\")"
   ]
  },
  {
   "cell_type": "markdown",
   "metadata": {},
   "source": [
    "    \n",
    "$H_{0}$: $\\mu_{1}= \\mu_{2}= \\mu_{3} $ **or** The mean of the samples are same.      \n",
    "$H_{1}$: At least one of them is different.    "
   ]
  },
  {
   "cell_type": "code",
   "execution_count": 12,
   "metadata": {},
   "outputs": [
    {
     "name": "stdout",
     "output_type": "stream",
     "text": [
      "p value:0.000000\n",
      "Reject null hypothesis\n"
     ]
    }
   ],
   "source": [
    "F, p_value = stats.f_oneway(only_breast,only_formula,both)\n",
    "print(\"p value:%.6f\" % p_value)\n",
    "if p_value <0.05:\n",
    "    print(\"Reject null hypothesis\")\n",
    "else:\n",
    "    print(\"Fail to reject null hypothesis\")\n"
   ]
  },
  {
   "cell_type": "markdown",
   "metadata": {},
   "source": [
    "**At this significance level, it can be concluded that at least one of the group has the different average monthly weight gain.**"
   ]
  },
  {
   "cell_type": "markdown",
   "metadata": {},
   "source": [
    "### post hoc // pairwise comparisons"
   ]
  },
  {
   "cell_type": "code",
   "execution_count": 13,
   "metadata": {},
   "outputs": [
    {
     "data": {
      "text/html": [
       "<div>\n",
       "<style scoped>\n",
       "    .dataframe tbody tr th:only-of-type {\n",
       "        vertical-align: middle;\n",
       "    }\n",
       "\n",
       "    .dataframe tbody tr th {\n",
       "        vertical-align: top;\n",
       "    }\n",
       "\n",
       "    .dataframe thead th {\n",
       "        text-align: right;\n",
       "    }\n",
       "</style>\n",
       "<table border=\"1\" class=\"dataframe\">\n",
       "  <thead>\n",
       "    <tr style=\"text-align: right;\">\n",
       "      <th></th>\n",
       "      <th>1</th>\n",
       "      <th>2</th>\n",
       "      <th>3</th>\n",
       "    </tr>\n",
       "  </thead>\n",
       "  <tbody>\n",
       "    <tr>\n",
       "      <th>1</th>\n",
       "      <td>1.0000</td>\n",
       "      <td>0.0000</td>\n",
       "      <td>0.1295</td>\n",
       "    </tr>\n",
       "    <tr>\n",
       "      <th>2</th>\n",
       "      <td>0.0000</td>\n",
       "      <td>1.0000</td>\n",
       "      <td>0.0000</td>\n",
       "    </tr>\n",
       "    <tr>\n",
       "      <th>3</th>\n",
       "      <td>0.1295</td>\n",
       "      <td>0.0000</td>\n",
       "      <td>1.0000</td>\n",
       "    </tr>\n",
       "  </tbody>\n",
       "</table>\n",
       "</div>"
      ],
      "text/plain": [
       "       1      2      3\n",
       "1 1.0000 0.0000 0.1295\n",
       "2 0.0000 1.0000 0.0000\n",
       "3 0.1295 0.0000 1.0000"
      ]
     },
     "execution_count": 13,
     "metadata": {},
     "output_type": "execute_result"
    }
   ],
   "source": [
    "# https://scikit-posthocs.readthedocs.io/en/latest/generated/scikit_posthocs.posthoc_ttest/\n",
    "# pip install scikit-posthocs\n",
    "\n",
    "# Pairwise T test for multiple comparisons of independent groups. May be used after a parametric ANOVA to do pairwise comparisons.\n",
    "sp.posthoc_ttest([only_breast,only_formula,both], equal_var=True, p_adjust=\"bonferroni\")\n",
    "# sp.posthoc_ttest([only_breast,only_formula,both], equal_var=True, p_adjust=\"holm\")"
   ]
  },
  {
   "cell_type": "code",
   "execution_count": 14,
   "metadata": {},
   "outputs": [
    {
     "data": {
      "text/html": [
       "<div>\n",
       "<style scoped>\n",
       "    .dataframe tbody tr th:only-of-type {\n",
       "        vertical-align: middle;\n",
       "    }\n",
       "\n",
       "    .dataframe tbody tr th {\n",
       "        vertical-align: top;\n",
       "    }\n",
       "\n",
       "    .dataframe thead th {\n",
       "        text-align: right;\n",
       "    }\n",
       "</style>\n",
       "<table border=\"1\" class=\"dataframe\">\n",
       "  <thead>\n",
       "    <tr style=\"text-align: right;\">\n",
       "      <th></th>\n",
       "      <th>1</th>\n",
       "      <th>2</th>\n",
       "      <th>3</th>\n",
       "    </tr>\n",
       "  </thead>\n",
       "  <tbody>\n",
       "    <tr>\n",
       "      <th>1</th>\n",
       "      <td>1.0000</td>\n",
       "      <td>0.0010</td>\n",
       "      <td>0.0996</td>\n",
       "    </tr>\n",
       "    <tr>\n",
       "      <th>2</th>\n",
       "      <td>0.0010</td>\n",
       "      <td>1.0000</td>\n",
       "      <td>0.0010</td>\n",
       "    </tr>\n",
       "    <tr>\n",
       "      <th>3</th>\n",
       "      <td>0.0996</td>\n",
       "      <td>0.0010</td>\n",
       "      <td>1.0000</td>\n",
       "    </tr>\n",
       "  </tbody>\n",
       "</table>\n",
       "</div>"
      ],
      "text/plain": [
       "       1      2      3\n",
       "1 1.0000 0.0010 0.0996\n",
       "2 0.0010 1.0000 0.0010\n",
       "3 0.0996 0.0010 1.0000"
      ]
     },
     "execution_count": 14,
     "metadata": {},
     "output_type": "execute_result"
    }
   ],
   "source": [
    "# Performs Tukey’s all-pairs comparisons test for normally distributed data with equal group variances.\n",
    "sp.posthoc_tukey([only_breast,only_formula,both])"
   ]
  },
  {
   "cell_type": "markdown",
   "metadata": {},
   "source": [
    "**At this significance level, it can be concluded that**\n",
    "- group 1 is different than group2\n",
    "- group 2 is different than both group 1 and group 3\n",
    "- group 3 is different than group 2"
   ]
  },
  {
   "cell_type": "markdown",
   "metadata": {},
   "source": [
    "# Q4.\n",
    "\n",
    "A medical company wants to test whether its new glucose meter kit is measuring correctly. For this reason, an experiment was organized and blood samples were taken from 12 participants. By using these samples, glucose levels of participants were measured with the both newly developed glucose meter kit and standard lab methods.\n",
    "\n",
    "standard_lab_method=[102.4, 123.7, 106.2, 149.2, 158.1, 159.3, 150.7, 151. , 140.8, 143.3, 112.7,  99.5, 158.8]    \n",
    "new_meter=[105.2,  110.1, 120. , 142.2, 160.4, 138. ,  147.7, 137.8, 153.5, 160.8,  90.4, 104.6, 170. ]\n",
    "\n",
    "**According to this information, conduct hypothesis testing to check whether there is a difference between measurements of two methods by using a 0.05 significance level. Before doing hypothesis testing, check the related assumptions. Comment on the results.**"
   ]
  },
  {
   "cell_type": "code",
   "execution_count": 15,
   "metadata": {},
   "outputs": [],
   "source": [
    "standard_lab=np.array([102.4, 123.7, 106.2, 149.2, 158.1, 159.3, 150.7, 151. , 140.8, 143.3, 112.7,  99.5, 158.8])\n",
    "new_meter = np.array([105.2,  110.1, 120. , 142.2, 160.4, 138. ,  147.7, 137.8, 153.5, 160.8,  90.4, 104.6, 170. ])"
   ]
  },
  {
   "cell_type": "code",
   "execution_count": 16,
   "metadata": {},
   "outputs": [
    {
     "name": "stdout",
     "output_type": "stream",
     "text": [
      "standard lab measurement p value:0.033830\n",
      "Reject null hypothesis >> The data is not normally distributed\n",
      "-------------------\n",
      "new meter p value:0.472730\n",
      "Fail to reject null hypothesis >> The data is normally distributed\n",
      "-------------------\n"
     ]
    }
   ],
   "source": [
    "test_stat_lab, p_value_lab=stats.shapiro(standard_lab)\n",
    "test_stat_new_meter, p_value_new_meter=stats.shapiro(new_meter)\n",
    "\n",
    "print(\"standard lab measurement p value:%.6f\" % p_value_lab)\n",
    "if p_value_lab <0.05:\n",
    "    print(\"Reject null hypothesis >> The data is not normally distributed\")\n",
    "else:\n",
    "    print(\"Fail to reject null hypothesis >> The data is normally distributed\")\n",
    "print(\"-------------------\")\n",
    "\n",
    "print(\"new meter p value:%.6f\" % p_value_new_meter)\n",
    "if p_value_new_meter <0.05:\n",
    "    print(\"Reject null hypothesis >> The data is not normally distributed\")\n",
    "else:\n",
    "    print(\"Fail to reject null hypothesis >> The data is normally distributed\")\n",
    "print(\"-------------------\")"
   ]
  },
  {
   "cell_type": "markdown",
   "metadata": {},
   "source": [
    "$H_{0}$: $\\mu_{d} =0 $ **or** The true mean difference is equal zero.   \n",
    "$H_{1}$: $\\mu_{d}\\neq 0 $ **or**  The true mean difference is different than zero.  "
   ]
  },
  {
   "cell_type": "code",
   "execution_count": 17,
   "metadata": {},
   "outputs": [
    {
     "name": "stdout",
     "output_type": "stream",
     "text": [
      "p-value:0.786865\n",
      "Fail to recejt null hypothesis\n"
     ]
    }
   ],
   "source": [
    "test,pvalue = stats.wilcoxon(standard_lab,new_meter) ##alternative default two sided\n",
    "print(\"p-value:%.6f\" %pvalue)\n",
    "if pvalue <0.05:\n",
    "    print(\"Reject null hypothesis\")\n",
    "else:\n",
    "    print(\"Fail to recejt null hypothesis\")"
   ]
  },
  {
   "cell_type": "markdown",
   "metadata": {},
   "source": [
    "At this significance level, it can be said that there is no difference between these methods >> newly delevoped kit measures correctly"
   ]
  },
  {
   "cell_type": "markdown",
   "metadata": {},
   "source": [
    "# Q5.\n",
    "A newly graduate of Computer Science is interested in the entry-level data analyst position salaries of defense industry firms and game firms. To investigate whether there is a difference between them, she selected 13 job advertisements from Linkedin, Glassdoor, and Monster Jobs randomly in each of the two industries and records their annual salaries (in K USD).The data as below.\n",
    "\n",
    "game=[80., 72., 70., 58., 68., 67., 69., 66., 69., 67., 62., 75., 95.] \n",
    "defense=[72., 79., 73., 76., 74., 78., 74., 72., 76., 79., 73., 72., 94.]\n",
    "\n",
    "**According to this information, conduct the hypothesis testing to check whether there is a difference between the average salary of entry-level data analyst salary in these two industries by using a 0.05 significance level. Before doing hypothesis testing, check the related assumptions. Comment on the results.**"
   ]
  },
  {
   "cell_type": "code",
   "execution_count": 18,
   "metadata": {},
   "outputs": [],
   "source": [
    "game=np.array([80., 72., 70., 58., 68., 67., 69., 66., 69., 67., 62., 75., 95.])\n",
    "defence=np.array([72., 79., 73., 76., 74., 78., 74., 72., 76., 79., 73., 72., 94.])\n"
   ]
  },
  {
   "cell_type": "code",
   "execution_count": 19,
   "metadata": {},
   "outputs": [
    {
     "name": "stdout",
     "output_type": "stream",
     "text": [
      "game p value:0.034390\n",
      "Reject null hypothesis >> The data is not normally distributed\n",
      "-------------------\n",
      "defence p value:0.000528\n",
      "Reject null hypothesis >> The data is not normally distributed\n",
      "-------------------\n"
     ]
    }
   ],
   "source": [
    "test_stat_game, p_value_game=stats.shapiro(game)\n",
    "test_stat_defence, p_value_defence=stats.shapiro(defence)\n",
    "\n",
    "print(\"game p value:%.6f\" % p_value_game)\n",
    "if p_value_game <0.05:\n",
    "    print(\"Reject null hypothesis >> The data is not normally distributed\")\n",
    "else:\n",
    "    print(\"Fail to reject null hypothesis >> The data is normally distributed\")\n",
    "print(\"-------------------\")\n",
    "\n",
    "print(\"defence p value:%.6f\" % p_value_defence)\n",
    "if p_value_defence <0.05:\n",
    "    print(\"Reject null hypothesis >> The data is not normally distributed\")\n",
    "else:\n",
    "    print(\"Fail to reject null hypothesis >> The data is normally distributed\")\n",
    "print(\"-------------------\")"
   ]
  },
  {
   "cell_type": "markdown",
   "metadata": {},
   "source": [
    "$H_{0}$: $\\mu_{1}= \\mu_{2}$  **or** $\\mu_{1}- \\mu_{2} = 0 $  **or** The mean of the samples are same.      \n",
    "$H_{1}$: $\\mu_{1} \\neq \\mu_{2}$  **or** $\\mu_{1}- \\mu_{2} \\neq 0 $  **or** The mean of the samples are different."
   ]
  },
  {
   "cell_type": "code",
   "execution_count": 20,
   "metadata": {},
   "outputs": [
    {
     "name": "stdout",
     "output_type": "stream",
     "text": [
      "p-value 0.009408140012626494\n",
      "Reject null hypothesis\n"
     ]
    }
   ],
   "source": [
    "ttest,pvalue = stats.mannwhitneyu(game,defence, alternative=\"two-sided\")\n",
    "print(\"p-value\",pvalue)\n",
    "if pvalue <0.05:\n",
    "    print(\"Reject null hypothesis\")\n",
    "else:\n",
    "    print(\"Fail to recejt null hypothesis\")"
   ]
  },
  {
   "cell_type": "markdown",
   "metadata": {},
   "source": [
    "At this significance level, it can be said that there is a statistically significant difference between average entry level data analyst salaries of these two industries"
   ]
  }
 ],
 "metadata": {
  "kernelspec": {
   "display_name": "Python 3",
   "language": "python",
   "name": "python3"
  },
  "language_info": {
   "codemirror_mode": {
    "name": "ipython",
    "version": 3
   },
   "file_extension": ".py",
   "mimetype": "text/x-python",
   "name": "python",
   "nbconvert_exporter": "python",
   "pygments_lexer": "ipython3",
   "version": "3.7.6"
  }
 },
 "nbformat": 4,
 "nbformat_minor": 4
}

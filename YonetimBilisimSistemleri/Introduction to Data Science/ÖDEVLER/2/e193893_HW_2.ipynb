{
 "cells": [
  {
   "cell_type": "markdown",
   "metadata": {},
   "source": [
    "# IS709 Assignment 2\n",
    "\n",
    "### Due: December 6, Sunday-23.59\n",
    "\n",
    "### Submission and Grading Policy\n",
    "\n",
    "- Submit your assignments to the corresponding assignment link in https://odtuclass.metu.edu.tr.\n",
    "- Solutions should be submitted in a single **ipynb** file named: metu-username_HW_2.ipynb (e.g., “e123456_HW_2.ipynb”).\n",
    "- Late submissions will be accepted by December 9, 2020 at 23:59 with a 5% per day penalty.\n",
    "- Do not change variable names in the code blocks and the texts in the markdowns.\n",
    "- Do not change the data.    \n",
    "- You can add code blocks or markdown cells as many as you want.   \n",
    "- **It is an individual assignment. You have to adhere to academic integrity principles.**\n",
    "- You are supposed to be able to interpret your findings. Hence, you shouldn't just find a number or result and just leave it. You need to comment on your findings by giving as much as **necessary** details. \n",
    " \n",
    "In this assignment, you will work on statistical hypothesis testing and try different statistical tests and comment on your findings.\n",
    "\n",
    "\n"
   ]
  },
  {
   "cell_type": "markdown",
   "metadata": {},
   "source": [
    "**Import the libraries you need.**  "
   ]
  },
  {
   "cell_type": "code",
   "execution_count": 1,
   "metadata": {},
   "outputs": [
    {
     "name": "stderr",
     "output_type": "stream",
     "text": [
      "C:\\Users\\ozan\\Anaconda3\\lib\\site-packages\\statsmodels\\tools\\_testing.py:19: FutureWarning: pandas.util.testing is deprecated. Use the functions in the public API at pandas.testing instead.\n",
      "  import pandas.util.testing as tm\n"
     ]
    }
   ],
   "source": [
    "import pandas as pd\n",
    "import numpy as np\n",
    "import scipy.stats as stats\n",
    "from scipy.stats import shapiro\n",
    "from scipy.stats import t\n",
    "import matplotlib.pyplot as plt\n",
    "import statsmodels.api as sm\n",
    "import statistics\n",
    "import pylab\n",
    "from math import sqrt\n",
    "import seaborn as sns\n",
    "import pingouin as pg\n",
    "from pingouin import pairwise_ttests\n",
    "%matplotlib inline"
   ]
  },
  {
   "cell_type": "markdown",
   "metadata": {},
   "source": [
    "# Hypothesis Testing\n",
    "\n",
    "## Q1.\n",
    "A botanist is curious about the productivity/efficiency of her newly developed hybrid tomato seed. Therefore, she recorded the amount of product (in kg) obtained from the seedlings that grew from hybrid seeds and regular seeds.\n",
    "\n",
    "**Conduct the hypothesis testing to check whether there is a difference between the average obtained product of these two seeds by using a 0.05 significance level to evaluate the null and alternative hypotheses. Before doing hypothesis testing, check the related assumptions. Comment on the results.**\n",
    "\n",
    "regular_seed=[24.88, 20.96, 19.97, 14.29, 18.89, 18.67, 19.46, 17.88, 19.57,\n",
    "       18.31, 15.88, 22.26, 22.25, 24.65, 19.84, 18.52, 18.11, 15.21,\n",
    "       22.54, 16.5 , 16.26, 19.1 , 24.  , 20.38, 16.73, 17.63, 21.51,\n",
    "       19.23, 17.47]\n",
    "       \n",
    "hybrid_seed=[22.28, 25.3 , 29.12, 19.14, 21.05, 20.5 , 15.5 , 20.13, 19.82,\n",
    "       26.48, 22.59, 17.96, 25.  , 21.89, 17.59, 21.15, 21.17, 20.29,\n",
    "       23.09, 16.03, 22.16, 26.14, 25.64, 26.43, 26.47, 27.61, 19.53,\n",
    "       25.62, 17.23, 21.13, 17.06, 26.24, 27.13, 22.38])\n"
   ]
  },
  {
   "cell_type": "code",
   "execution_count": 2,
   "metadata": {},
   "outputs": [],
   "source": [
    "regular_seed=[24.88, 20.96, 19.97, 14.29, 18.89, 18.67, 19.46, 17.88, 19.57, 18.31, 15.88, 22.26, 22.25, 24.65, 19.84, 18.52, 18.11, 15.21, 22.54, 16.5 , 16.26, 19.1 , 24. , 20.38, 16.73, 17.63, 21.51, 19.23, 17.47]\n",
    "hybrid_seed=[22.28, 25.3 , 29.12, 19.14, 21.05, 20.5 , 15.5 , 20.13, 19.82, 26.48, 22.59, 17.96, 25. , 21.89, 17.59, 21.15, 21.17, 20.29, 23.09, 16.03, 22.16, 26.14, 25.64, 26.43, 26.47, 27.61, 19.53, 25.62, 17.23, 21.13, 17.06, 26.24, 27.13, 22.38]"
   ]
  },
  {
   "cell_type": "markdown",
   "metadata": {},
   "source": [
    "## Assumption Control"
   ]
  },
  {
   "cell_type": "code",
   "execution_count": 3,
   "metadata": {},
   "outputs": [
    {
     "data": {
      "image/png": "[encoded data removed]",
      "text/plain": [
       "<Figure size 432x288 with 1 Axes>"
      ]
     },
     "metadata": {
      "needs_background": "light"
     },
     "output_type": "display_data"
    }
   ],
   "source": [
    "#qq plot\n",
    "stats.probplot(regular_seed, dist=\"norm\", plot=pylab)\n",
    "pylab.show()"
   ]
  },
  {
   "cell_type": "code",
   "execution_count": 4,
   "metadata": {},
   "outputs": [
    {
     "data": {
      "image/png": "[encoded data removed]",
      "text/plain": [
       "<Figure size 432x288 with 1 Axes>"
      ]
     },
     "metadata": {
      "needs_background": "light"
     },
     "output_type": "display_data"
    }
   ],
   "source": [
    "stats.probplot(hybrid_seed, dist=\"norm\", plot=pylab)\n",
    "pylab.show()"
   ]
  },
  {
   "cell_type": "markdown",
   "metadata": {},
   "source": [
    "When we look at qq-plot to evaluate normality of two distributions, there is no significant evidence to say that these satisfies normality assumption. Therefore, we need to have more powerful test such as Shapiro-Wilks.\n",
    "\n",
    "From now on, we have tested distributions related to current and another questions by using Shapiro-Wilks regarding normality assumption."
   ]
  },
  {
   "cell_type": "markdown",
   "metadata": {},
   "source": [
    "### Shapiro-Wilks Test\n",
    "\n",
    "H0: There is no statistically significant difference between sample distribution and theoretical(normal) distribution\n",
    "\n",
    "H1: There is statistically significant difference between sample distribution and theoretical(normal) distribution"
   ]
  },
  {
   "cell_type": "code",
   "execution_count": 5,
   "metadata": {},
   "outputs": [
    {
     "data": {
      "text/plain": [
       "ShapiroResult(statistic=0.9750723838806152, pvalue=0.7027644515037537)"
      ]
     },
     "execution_count": 5,
     "metadata": {},
     "output_type": "execute_result"
    }
   ],
   "source": [
    "shapiro(regular_seed)"
   ]
  },
  {
   "cell_type": "code",
   "execution_count": 6,
   "metadata": {},
   "outputs": [
    {
     "name": "stdout",
     "output_type": "stream",
     "text": [
      "T Calculated Statistic: 0.9750723838806152\n",
      "P-value: 0.7027644515037537\n"
     ]
    }
   ],
   "source": [
    "print(\"T Calculated Statistic: \" + str(shapiro(regular_seed)[0]))\n",
    "print(\"P-value: \" + str(shapiro(regular_seed)[1]))"
   ]
  },
  {
   "cell_type": "markdown",
   "metadata": {},
   "source": [
    "Since p-value (0.7027644515037537) is greater than alpha(0.05), we can say that Ho fails to reject.Therefore, normality assumption is valid for regular_seed."
   ]
  },
  {
   "cell_type": "code",
   "execution_count": 7,
   "metadata": {},
   "outputs": [
    {
     "data": {
      "text/plain": [
       "ShapiroResult(statistic=0.9619008302688599, pvalue=0.27601149678230286)"
      ]
     },
     "execution_count": 7,
     "metadata": {},
     "output_type": "execute_result"
    }
   ],
   "source": [
    "shapiro(hybrid_seed)"
   ]
  },
  {
   "cell_type": "code",
   "execution_count": 8,
   "metadata": {},
   "outputs": [
    {
     "name": "stdout",
     "output_type": "stream",
     "text": [
      "T Calculated Statistic 0.9619008302688599\n",
      "P-value: 0.27601149678230286\n"
     ]
    }
   ],
   "source": [
    "print(\"T Calculated Statistic \" + str(shapiro(hybrid_seed)[0]))\n",
    "print(\"P-value: \" + str(shapiro(hybrid_seed)[1]))"
   ]
  },
  {
   "cell_type": "markdown",
   "metadata": {},
   "source": [
    "Since p-value (0.27601149678230286) is greater than alpha(0.05), we can say that Ho fails to reject.Therefore, normality assumption is valid for hybrid_seed."
   ]
  },
  {
   "cell_type": "markdown",
   "metadata": {},
   "source": [
    "Due to validation of normality assumption, parametric statistical tests can be used."
   ]
  },
  {
   "cell_type": "markdown",
   "metadata": {},
   "source": [
    "# Hypothesis Testing"
   ]
  },
  {
   "cell_type": "markdown",
   "metadata": {},
   "source": [
    "H0: 𝜇1=𝜇2 (the means of regular seed and hybrid seed are equal)\n",
    "\n",
    "H1: 𝜇1≠𝜇2 (the means of regular seed and hybrid seed are unequal)\n"
   ]
  },
  {
   "cell_type": "markdown",
   "metadata": {},
   "source": [
    "Since we have two different groups(unpaired) with continuous endpoint and we have investigated difference between the average obtained product of these two seeds by using a 0.05 significance level (alpha), Independent Two Samples T-Test can be used for Hypothesis testing regarding parametric statistical tests."
   ]
  },
  {
   "cell_type": "code",
   "execution_count": 9,
   "metadata": {},
   "outputs": [],
   "source": [
    "#Testing hypothesis with Python built-in function"
   ]
  },
  {
   "cell_type": "code",
   "execution_count": 10,
   "metadata": {},
   "outputs": [
    {
     "data": {
      "text/plain": [
       "Ttest_indResult(statistic=-3.5381790855069073, pvalue=0.0007771046298238749)"
      ]
     },
     "execution_count": 10,
     "metadata": {},
     "output_type": "execute_result"
    }
   ],
   "source": [
    "stats.ttest_ind(a=regular_seed, b=hybrid_seed)"
   ]
  },
  {
   "cell_type": "code",
   "execution_count": 11,
   "metadata": {},
   "outputs": [
    {
     "name": "stdout",
     "output_type": "stream",
     "text": [
      "Test Statistics = -3.5382, p-value = 0.0008\n"
     ]
    }
   ],
   "source": [
    "test_statistic, pvalue = stats.ttest_ind(regular_seed, hybrid_seed)\n",
    "print('Test Statistics = %.4f, p-value = %.4f' % (test_statistic, pvalue))"
   ]
  },
  {
   "cell_type": "code",
   "execution_count": 12,
   "metadata": {},
   "outputs": [
    {
     "data": {
      "text/plain": [
       "29"
      ]
     },
     "execution_count": 12,
     "metadata": {},
     "output_type": "execute_result"
    }
   ],
   "source": [
    "len(regular_seed)"
   ]
  },
  {
   "cell_type": "code",
   "execution_count": 13,
   "metadata": {},
   "outputs": [
    {
     "data": {
      "text/plain": [
       "34"
      ]
     },
     "execution_count": 13,
     "metadata": {},
     "output_type": "execute_result"
    }
   ],
   "source": [
    "len(hybrid_seed)"
   ]
  },
  {
   "cell_type": "markdown",
   "metadata": {},
   "source": [
    "**p-value:**\n",
    "\n",
    "Since p-value (0.0008) is less than alpha(0.05), we can conclude that Ho rejects that means there is statistically significant difference between means of regular and hybrid seeds.\n",
    "\n",
    "**Test statistics:**\n",
    "\n",
    "alpha=0.05 and we have two-sided hypothesis(𝜇1≠𝜇2), so table score can be calculated by using \n",
    "\n",
    "alpha/2=0.025 and df=n1+n2-2 where n1=29 (number of observations in regular seed) and n2=34 (number of observations in hybrid seed)\n",
    "\n",
    "table score of t = +/-1.9996 where alpha/2=0.025 and df=61\n",
    "\n",
    "Since Test Statistics(-3.5382) is less than critical value-table score(-1.9996), we can conclude that Ho rejects that means there is statistically significant difference between means of regular and hybrid seeds."
   ]
  },
  {
   "cell_type": "markdown",
   "metadata": {},
   "source": [
    "Comment via test statistics is compatible with comment via p-value."
   ]
  },
  {
   "cell_type": "code",
   "execution_count": 14,
   "metadata": {},
   "outputs": [],
   "source": [
    "#Testing hypothesis with T-test from Scratch"
   ]
  },
  {
   "cell_type": "markdown",
   "metadata": {},
   "source": [
    "alpha=0.05 and we have two-sided hypothesis(𝜇1≠𝜇2), so table score can be calculated by using \n",
    "\n",
    "alpha/2=0.025 and df=n1+n2-2 where n1=29 (number of observations in regular seed) and n2=34 (number of observations in hybrid seed)\n",
    "\n",
    "table score of t = +/-1.9996 where alpha/2=0.025 and df=61"
   ]
  },
  {
   "cell_type": "code",
   "execution_count": 15,
   "metadata": {},
   "outputs": [
    {
     "name": "stdout",
     "output_type": "stream",
     "text": [
      "t=-3.5944, df=61, cv=1.9996, p=0.0007\n",
      "Reject the null hypothesis that the means are equal by using test statistics.\n",
      "Reject the null hypothesis that the means are equal by using p-value.\n"
     ]
    }
   ],
   "source": [
    "def independent_ttest(data1, data2, alpha):\n",
    "\n",
    "    mean1, mean2 = np.mean(data1), np.mean(data2)\n",
    "    std1, std2 = np.std(data1), np.std(data2)\n",
    "# calculate sp (pooled standard deviation)\n",
    "    sp = sqrt((((len(data1)-1)*(std1**2.0)+(len(data2)-1)*(std2**2.0))/ (len(data1)+len(data2)-2)))\n",
    "    num = sqrt(1/len(data1) + 1/len(data2))\n",
    "    num1 = sp*num\n",
    "# calculate the t statistic\n",
    "    t_stat = (mean1 - mean2)/num1\n",
    "# degrees of freedom\n",
    "    df = len(data1) + len(data2) - 2\n",
    "# calculate the critical value\n",
    "    cv = t.ppf(1.0 - (alpha/2), df)\n",
    "# calculate the p-value\n",
    "    p = (1.0 - t.cdf(abs(t_stat), df)) * 2.0\n",
    "# return everything\n",
    "    return t_stat, df, cv, p\n",
    " \n",
    "# calculate the t test\n",
    "alpha = 0.05\n",
    "t_stat, df, cv, p = independent_ttest(regular_seed, hybrid_seed, alpha)\n",
    "print('t=%.4f, df=%d, cv=%.4f, p=%.4f' % (t_stat, df, cv, p))\n",
    "# interpret via critical value\n",
    "if abs(t_stat) <= cv:\n",
    "\tprint('Fail To reject null hypothesis that the means are equal by using test statistics.')\n",
    "else:\n",
    "\tprint('Reject the null hypothesis that the means are equal by using test statistics.')\n",
    "if p > alpha:\n",
    "\tprint('Accept null hypothesis that the means are equal by using p-value.')\n",
    "else:\n",
    "\tprint('Reject the null hypothesis that the means are equal by using p-value.')"
   ]
  },
  {
   "cell_type": "markdown",
   "metadata": {},
   "source": [
    "Since t-statistics(-3.5944) is less than -critical value(-1.9996), Ho is rejected that means there is statistically significant difference between means of regular and hybrid seeds.\n",
    "\n",
    "This result is compatible with testing hypothesis with p-value using python function for T-test"
   ]
  },
  {
   "cell_type": "markdown",
   "metadata": {},
   "source": [
    "Results of different methods (test for python function and scratch) to evaluate hypothesis are slightly different such that test statistics=-3.5382 for pyhthon fuction and test statistics=-3.5944 from scratch.However, this does not lead to interpret hypothesis testing differently because differences are very little and their p values are almost zero that means Ho is rejected."
   ]
  },
  {
   "cell_type": "markdown",
   "metadata": {},
   "source": [
    "## Q2.\n",
    "\n",
    "Fifteen students were diagnosed with iron deficiency anemia by the METU Health Center in the previous semester. Healthcare personnel told these patients about the dangers of anemia and prescribed an iron supply. The patients came for control two months later, and their iron levels were reexamined.\n",
    "\n",
    "**According to this information, conduct the hypothesis testing to check whether there is a increase in the iron levels of the patients after the iron supply by using a 0.05 significance level. Before doing hypothesis testing, check the related assumptions. Comment on the results.**\n",
    "\n",
    "test_results_before_supply=[12.68, 10.65, 10.14,  7.2 ,  9.58,  9.46,  9.87,  9.05,  9.93, 9.28,  8.02, 11.32, 11.32, 12.56, 10.07]  \n",
    "test_results_after_supply=[12.55, 12.4 , 11.29, 14.08, 11.78, 11.69, 12.77, 14.63, 13.26, 11.87, 12.21, 13.68, 12.82, 12.15, 12.74]"
   ]
  },
  {
   "cell_type": "code",
   "execution_count": 16,
   "metadata": {},
   "outputs": [],
   "source": [
    "test_results_before_supply=[12.68, 10.65, 10.14, 7.2 , 9.58, 9.46, 9.87, 9.05, 9.93, 9.28, 8.02, 11.32, 11.32, 12.56, 10.07]\n",
    "test_results_after_supply=[12.55, 12.4 , 11.29, 14.08, 11.78, 11.69, 12.77, 14.63, 13.26, 11.87, 12.21, 13.68, 12.82, 12.15, 12.74]"
   ]
  },
  {
   "cell_type": "markdown",
   "metadata": {},
   "source": [
    "## Assumption Control"
   ]
  },
  {
   "cell_type": "markdown",
   "metadata": {},
   "source": [
    "### Shapiro-Wilks Test\n",
    "\n",
    "H0: There is no statistically significant difference between sample distribution and theoretical(normal) distribution\n",
    "\n",
    "H1: There is statistically significant difference between sample distribution and theoretical(normal) distribution"
   ]
  },
  {
   "cell_type": "code",
   "execution_count": 17,
   "metadata": {},
   "outputs": [
    {
     "data": {
      "text/plain": [
       "ShapiroResult(statistic=0.9651115536689758, pvalue=0.7802568674087524)"
      ]
     },
     "execution_count": 17,
     "metadata": {},
     "output_type": "execute_result"
    }
   ],
   "source": [
    "shapiro(test_results_before_supply)"
   ]
  },
  {
   "cell_type": "code",
   "execution_count": 18,
   "metadata": {},
   "outputs": [
    {
     "name": "stdout",
     "output_type": "stream",
     "text": [
      "T Calculated Statistic: 0.9651115536689758\n",
      "P-value: 0.7802568674087524\n"
     ]
    }
   ],
   "source": [
    "print(\"T Calculated Statistic: \" + str(shapiro(test_results_before_supply)[0]))\n",
    "print(\"P-value: \" + str(shapiro(test_results_before_supply)[1]))"
   ]
  },
  {
   "cell_type": "markdown",
   "metadata": {},
   "source": [
    "Since p-value (0.7802568674087524) is greater than alpha(0.05), we can say that Ho fails to reject.Therefore, normality assumption is valid for test_results_before_supply."
   ]
  },
  {
   "cell_type": "code",
   "execution_count": 19,
   "metadata": {},
   "outputs": [
    {
     "data": {
      "text/plain": [
       "ShapiroResult(statistic=0.9553298354148865, pvalue=0.6118934154510498)"
      ]
     },
     "execution_count": 19,
     "metadata": {},
     "output_type": "execute_result"
    }
   ],
   "source": [
    "shapiro(test_results_after_supply)"
   ]
  },
  {
   "cell_type": "code",
   "execution_count": 20,
   "metadata": {},
   "outputs": [
    {
     "name": "stdout",
     "output_type": "stream",
     "text": [
      "T Calculated Statistic: 0.9553298354148865\n",
      "P-value: 0.6118934154510498\n"
     ]
    }
   ],
   "source": [
    "print(\"T Calculated Statistic: \" + str(shapiro(test_results_after_supply)[0]))\n",
    "print(\"P-value: \" + str(shapiro(test_results_after_supply)[1]))"
   ]
  },
  {
   "cell_type": "markdown",
   "metadata": {},
   "source": [
    "Since p-value (0.6118934154510498) is greater than alpha(0.05), we can say that Ho fails to reject.Therefore, normality assumption is valid for test_results_after_supply."
   ]
  },
  {
   "cell_type": "markdown",
   "metadata": {},
   "source": [
    "Due to validation of normality assumption, parametric statistical tests can be used."
   ]
  },
  {
   "cell_type": "markdown",
   "metadata": {},
   "source": [
    "# Hypothesis Testing"
   ]
  },
  {
   "cell_type": "markdown",
   "metadata": {},
   "source": [
    "H0: 𝜇1=𝜇2 (the means of iron-levels of patients are equal after iron supply)\n",
    "\n",
    "H1: 𝜇1<𝜇2 (the means of iron level of patients after iron supply is greater than  mean of iron level of patients before iron supply)\n"
   ]
  },
  {
   "cell_type": "markdown",
   "metadata": {},
   "source": [
    "Since we have one group (paired) with continuous endpoint and we have investigated effects of iron supply to same people within group. Therefore, Dependent Two Samples T-Test can be used for Hypothesis testing regarding parametric statistical tests.Also, We will check whether there is a increase in the iron levels of the patients after the iron supply, alternative hypothesis(H1) is generated like 𝜇1<𝜇2."
   ]
  },
  {
   "cell_type": "code",
   "execution_count": 21,
   "metadata": {},
   "outputs": [],
   "source": [
    "#Testing hypothesis with Python built-in function"
   ]
  },
  {
   "cell_type": "code",
   "execution_count": 22,
   "metadata": {},
   "outputs": [
    {
     "data": {
      "text/plain": [
       "Ttest_relResult(statistic=-5.234470546314352, pvalue=0.0001263744085492977)"
      ]
     },
     "execution_count": 22,
     "metadata": {},
     "output_type": "execute_result"
    }
   ],
   "source": [
    "stats.ttest_rel(a=test_results_before_supply, b=test_results_after_supply)"
   ]
  },
  {
   "cell_type": "code",
   "execution_count": 23,
   "metadata": {},
   "outputs": [
    {
     "name": "stdout",
     "output_type": "stream",
     "text": [
      "Test Statistics = -5.2345, p-value = 0.0001\n"
     ]
    }
   ],
   "source": [
    "test_statistic, pvalue = stats.ttest_rel(test_results_before_supply, test_results_after_supply)\n",
    "print('Test Statistics = %.4f, p-value = %.4f' % (test_statistic, pvalue))"
   ]
  },
  {
   "cell_type": "markdown",
   "metadata": {},
   "source": [
    "**p-value:**\n",
    "\n",
    "Since p-value (0.0001) is less than alpha(0.05), we can conclude that Ho rejects that means there is statistically significant difference between means of iron levels of patients after iron supply.\n",
    "\n",
    "As you can see from box-plot below, iron supply increases iron levels of patients."
   ]
  },
  {
   "cell_type": "code",
   "execution_count": 24,
   "metadata": {},
   "outputs": [
    {
     "data": {
      "text/plain": [
       "15"
      ]
     },
     "execution_count": 24,
     "metadata": {},
     "output_type": "execute_result"
    }
   ],
   "source": [
    "len(test_results_before_supply)"
   ]
  },
  {
   "cell_type": "code",
   "execution_count": 25,
   "metadata": {},
   "outputs": [
    {
     "data": {
      "text/plain": [
       "15"
      ]
     },
     "execution_count": 25,
     "metadata": {},
     "output_type": "execute_result"
    }
   ],
   "source": [
    "len(test_results_after_supply)"
   ]
  },
  {
   "cell_type": "markdown",
   "metadata": {},
   "source": [
    "**Test statistics:**\n",
    "\n",
    "alpha=0.05 and we have one-sided hypothesis (𝜇1<𝜇2), so table score can be calculated by using \n",
    "\n",
    "alpha=0.05 and df=n-1 (number of people are equal) where n=15 (number of patients)\n",
    "\n",
    "table score of t = 1.7613 where alpha=0.05 and df=14\n",
    "\n",
    "Since Test Statistics(-5.2345) is less than critical value-table score(-1.7613), we can conclude that Ho rejects that means there is statistically significant difference between means of iron levels of patients after iron supply."
   ]
  },
  {
   "cell_type": "markdown",
   "metadata": {},
   "source": [
    "Comment via test statistics is compatible with comment via p-value."
   ]
  },
  {
   "cell_type": "code",
   "execution_count": 26,
   "metadata": {},
   "outputs": [
    {
     "data": {
      "image/png": "[encoded data removed]",
      "text/plain": [
       "<Figure size 432x288 with 1 Axes>"
      ]
     },
     "metadata": {
      "needs_background": "light"
     },
     "output_type": "display_data"
    }
   ],
   "source": [
    "B = pd.DataFrame(test_results_before_supply)\n",
    "A = pd.DataFrame(test_results_after_supply)\n",
    "\n",
    "#After\n",
    "GROUP_A = np.arange(len(A))\n",
    "GROUP_A = pd.DataFrame(GROUP_A)\n",
    "GROUP_A[:] = \"After\"\n",
    "A = pd.concat([A, GROUP_A], axis = 1)\n",
    "\n",
    "#Before\n",
    "GROUP_B = np.arange(len(B))\n",
    "GROUP_B = pd.DataFrame(GROUP_B)\n",
    "GROUP_B[:] = \"Before\"\n",
    "B = pd.concat([B, GROUP_B], axis = 1)\n",
    "\n",
    "#All data including Before and After\n",
    "AB = pd.concat([A,B])\n",
    "AB.columns = [\"Iron Level\",\"GROUP\"]\n",
    "\n",
    "sns.boxplot(x = \"GROUP\", y = \"Iron Level\", data = AB);"
   ]
  },
  {
   "cell_type": "code",
   "execution_count": 27,
   "metadata": {},
   "outputs": [],
   "source": [
    "#Testing hypothesis with T-test from Scratch"
   ]
  },
  {
   "cell_type": "markdown",
   "metadata": {},
   "source": [
    "alpha=0.05 and we have one-sided hypothesis (𝜇1<𝜇2), so table score can be calculated by using \n",
    "\n",
    "alpha=0.05 and df=n-1 (number of people are equal) where n=15 (number of patients)\n",
    "\n",
    "table score of t = 1.7613 where alpha=0.05 and df=14"
   ]
  },
  {
   "cell_type": "code",
   "execution_count": 28,
   "metadata": {},
   "outputs": [
    {
     "name": "stdout",
     "output_type": "stream",
     "text": [
      "t=-5.234, df=14, cv=1.761, p=0.000\n",
      "Reject the null hypothesis that the means are equal by using test statistics.\n",
      "Reject the null hypothesis that the means are equal by using p-value.\n"
     ]
    }
   ],
   "source": [
    "# t-test for dependent samples\n",
    "def dependent_ttest(data1, data2, alpha):\n",
    "\n",
    "    mean1, mean2 = np.mean(data1), np.mean(data2)\n",
    "    n = len(data1)\n",
    "# sum squared difference between observations\n",
    "    d1 = sum([(data1[i]-data2[i])**2 for i in range(n)])\n",
    "# sum difference between observations\n",
    "    d2 = sum([data1[i]-data2[i] for i in range(n)])\n",
    "# standard deviation of the difference between means\n",
    "    sd = sqrt((d1 - (d2**2 / n)) / (n - 1))\n",
    "# standard error of the difference between the means\n",
    "    sed = sd / sqrt(n)\n",
    "# the t statistic\n",
    "    t_stat = (mean1 - mean2) / sed\n",
    "# degrees of freedom\n",
    "    df = n - 1\n",
    "# critical value\n",
    "    cv = t.ppf(1.0 - alpha, df)\n",
    "# p-value\n",
    "    p = (1.0 - t.cdf(abs(t_stat), df)) * 2.0\n",
    "    return t_stat, df, cv, p\n",
    "\n",
    "# the t test\n",
    "alpha = 0.05\n",
    "t_stat, df, cv, p = dependent_ttest(test_results_before_supply, test_results_after_supply, alpha)\n",
    "print('t=%.3f, df=%d, cv=%.3f, p=%.3f' % (t_stat, df, cv, p))\n",
    "if abs(t_stat) <= cv:\n",
    "\tprint('Fail To reject null hypothesis that the means are equal by using test statistics.')\n",
    "else:\n",
    "\tprint('Reject the null hypothesis that the means are equal by using test statistics.')\n",
    "if p > alpha:\n",
    "\tprint('Accept null hypothesis that the means are equal by using p-value.')\n",
    "else:\n",
    "\tprint('Reject the null hypothesis that the means are equal by using p-value.')"
   ]
  },
  {
   "cell_type": "markdown",
   "metadata": {},
   "source": [
    "Since t-statistics(-5.234) is less than -critical value(-1.761), Ho is rejected that means there is statistically significant difference between iron levels of patients after iron supply.\n",
    "\n",
    "This result is compatible with testing hypothesis with p-value using python function for T-test and test statistics and p values are equal (-5.234) and (0.000) regarding python built-in function and scratch."
   ]
  },
  {
   "cell_type": "markdown",
   "metadata": {},
   "source": [
    "## Q3. \n",
    "\n",
    "A pediatrician wants to see the effect of formula consumption on the average monthly weight gain (in gr) of babies. For this reason, she collected  data from three different groups. The first group is exclusively breastfed children(receives only breast milk), the second group is children who are fed with only formula and the last group is both formula and breastfed children. These data as below \n",
    "\n",
    "\n",
    "only_breast=[794.1, 716.9, 993. , 724.7, 760.9, 908.2, 659.3 , 690.8, 768.7,\n",
    "       717.3 , 630.7, 729.5, 714.1, 810.3, 583.5, 679.9, 865.1]      \n",
    "   \n",
    "only_formula=[ 898.8,  881.2,  940.2,  966.2,  957.5, 1061.7, 1046.2,  980.4,\n",
    "        895.6,  919.7, 1074.1,  952.5,  796.3,  859.6,  871.1 , 1047.5,\n",
    "        919.1 , 1160.5,  996.9]     \n",
    "        \n",
    "both=[976.4, 656.4, 861.2, 706.8, 718.5, 717.1, 759.8, 894.6, 867.6,\n",
    "       805.6, 765.4, 800.3, 789.9, 875.3, 740. , 799.4, 790.3, 795.2 ,\n",
    "       823.6, 818.7, 926.8, 791.7, 948.3]  \n",
    "**According to this information, conduct the hypothesis testing to check whether there is a difference between the average monthly gain of these three groups by using a 0.05 significance level. If there is a significant difference, perform further analysis to find that caused the difference.  Before doing hypothesis testing, check the related assumptions. Comment on the results.**\n"
   ]
  },
  {
   "cell_type": "code",
   "execution_count": 29,
   "metadata": {},
   "outputs": [],
   "source": [
    "only_breast=[794.1, 716.9, 993. , 724.7, 760.9, 908.2, 659.3 , 690.8, 768.7, 717.3 , 630.7, 729.5, 714.1, 810.3, 583.5, 679.9, 865.1]\n",
    "only_formula=[ 898.8, 881.2, 940.2, 966.2, 957.5, 1061.7, 1046.2, 980.4, 895.6, 919.7, 1074.1, 952.5, 796.3, 859.6, 871.1 , 1047.5, 919.1 , 1160.5, 996.9]\n",
    "both=[976.4, 656.4, 861.2, 706.8, 718.5, 717.1, 759.8, 894.6, 867.6, 805.6, 765.4, 800.3, 789.9, 875.3, 740. , 799.4, 790.3, 795.2 , 823.6, 818.7, 926.8, 791.7, 948.3]"
   ]
  },
  {
   "cell_type": "markdown",
   "metadata": {},
   "source": [
    "## Assumption Control"
   ]
  },
  {
   "cell_type": "markdown",
   "metadata": {},
   "source": [
    "### Shapiro-Wilks Test\n",
    "\n",
    "H0: There is no statistically significant difference between sample distribution and theoretical(normal) distribution\n",
    "\n",
    "H1: There is statistically significant difference between sample distribution and theoretical(normal) distribution"
   ]
  },
  {
   "cell_type": "code",
   "execution_count": 30,
   "metadata": {},
   "outputs": [
    {
     "data": {
      "text/plain": [
       "ShapiroResult(statistic=0.9508076906204224, pvalue=0.4694197475910187)"
      ]
     },
     "execution_count": 30,
     "metadata": {},
     "output_type": "execute_result"
    }
   ],
   "source": [
    "shapiro(only_breast)"
   ]
  },
  {
   "cell_type": "code",
   "execution_count": 31,
   "metadata": {},
   "outputs": [
    {
     "name": "stdout",
     "output_type": "stream",
     "text": [
      "T Calculated Statistic: 0.9508076906204224\n",
      "P-value: 0.4694197475910187\n"
     ]
    }
   ],
   "source": [
    "print(\"T Calculated Statistic: \" + str(shapiro(only_breast)[0]))\n",
    "print(\"P-value: \" + str(shapiro(only_breast)[1]))"
   ]
  },
  {
   "cell_type": "code",
   "execution_count": 32,
   "metadata": {},
   "outputs": [
    {
     "data": {
      "text/plain": [
       "ShapiroResult(statistic=0.976082980632782, pvalue=0.8879066705703735)"
      ]
     },
     "execution_count": 32,
     "metadata": {},
     "output_type": "execute_result"
    }
   ],
   "source": [
    "shapiro(only_formula)"
   ]
  },
  {
   "cell_type": "code",
   "execution_count": 33,
   "metadata": {},
   "outputs": [
    {
     "name": "stdout",
     "output_type": "stream",
     "text": [
      "T Calculated Statistic: 0.976082980632782\n",
      "P-value: 0.8879066705703735\n"
     ]
    }
   ],
   "source": [
    "print(\"T Calculated Statistic: \" + str(shapiro(only_formula)[0]))\n",
    "print(\"P-value: \" + str(shapiro(only_formula)[1]))"
   ]
  },
  {
   "cell_type": "code",
   "execution_count": 34,
   "metadata": {},
   "outputs": [
    {
     "data": {
      "text/plain": [
       "ShapiroResult(statistic=0.974605917930603, pvalue=0.7972880005836487)"
      ]
     },
     "execution_count": 34,
     "metadata": {},
     "output_type": "execute_result"
    }
   ],
   "source": [
    "shapiro(both)"
   ]
  },
  {
   "cell_type": "code",
   "execution_count": 35,
   "metadata": {},
   "outputs": [
    {
     "name": "stdout",
     "output_type": "stream",
     "text": [
      "T Calculated Statistic: 0.974605917930603\n",
      "P-value: 0.7972880005836487\n"
     ]
    }
   ],
   "source": [
    "print(\"T Calculated Statistic: \" + str(shapiro(both)[0]))\n",
    "print(\"P-value: \" + str(shapiro(both)[1]))"
   ]
  },
  {
   "cell_type": "markdown",
   "metadata": {},
   "source": [
    "Since all p-values are greater than alpha(0.05), we can say that Ho fails to reject.Therefore, normality assumption is valid for all."
   ]
  },
  {
   "cell_type": "markdown",
   "metadata": {},
   "source": [
    "Due to validation of normality assumption, parametric statistical tests can be used."
   ]
  },
  {
   "cell_type": "markdown",
   "metadata": {},
   "source": [
    "# Hypothesis Testing"
   ]
  },
  {
   "cell_type": "markdown",
   "metadata": {},
   "source": [
    "H0: 𝜇1=𝜇2=𝜇3 (the means of monthly gain of these three groups are equal)\n",
    "\n",
    "H1: At least one of the means is different from the others\n"
   ]
  },
  {
   "cell_type": "markdown",
   "metadata": {},
   "source": [
    "Since we have more than two unrelated groups with continuous endpoint and we have investigated effects of formula regarding montly gain of weights. Therefore, Analysis of Variation(ANOVA) can be used for Hypothesis testing regarding parametric statistical tests.Also, since only one independent variable(gain) exists, One-Way ANOVA can be implemented.However, one-way ANOVA won't tell us what groups were different.If our test returns a significant f-statistic, we may need to run post hoc test (like the Least Significant Difference Test) to tell us exactly which group had a difference in means."
   ]
  },
  {
   "cell_type": "code",
   "execution_count": 36,
   "metadata": {},
   "outputs": [],
   "source": [
    "#Testing hypothesis with Python built-in function"
   ]
  },
  {
   "cell_type": "code",
   "execution_count": 37,
   "metadata": {},
   "outputs": [
    {
     "name": "stdout",
     "output_type": "stream",
     "text": [
      "f-score = 26.701251857537958, p-value = 7.18623550288582e-09\n",
      "Reject the null hypothesis!\n",
      "Their means are not the same.\n"
     ]
    }
   ],
   "source": [
    "alpha=0.05\n",
    "fscore, pvalue = stats.f_oneway(only_breast, only_formula, both)\n",
    "\n",
    "print(\"f-score = {}, p-value = {}\".format(fscore, pvalue))\n",
    "\n",
    "if pvalue<alpha:\n",
    "    print(\"Reject the null hypothesis!\\nTheir means are not the same.\")\n",
    "else:\n",
    "    print(\"Failed to reject the null hypothesis!\")"
   ]
  },
  {
   "cell_type": "markdown",
   "metadata": {},
   "source": [
    "**p-value:**\n",
    "\n",
    "Since p-value (7.18623550288582e-09) is less than alpha(0.05), we can conclude that Ho rejects that means there is statistically significant difference between at least one of the means of monthly gain of babies."
   ]
  },
  {
   "cell_type": "code",
   "execution_count": 38,
   "metadata": {},
   "outputs": [
    {
     "data": {
      "text/plain": [
       "17"
      ]
     },
     "execution_count": 38,
     "metadata": {},
     "output_type": "execute_result"
    }
   ],
   "source": [
    "len(only_breast)"
   ]
  },
  {
   "cell_type": "code",
   "execution_count": 39,
   "metadata": {},
   "outputs": [
    {
     "data": {
      "text/plain": [
       "19"
      ]
     },
     "execution_count": 39,
     "metadata": {},
     "output_type": "execute_result"
    }
   ],
   "source": [
    "len(only_formula)"
   ]
  },
  {
   "cell_type": "code",
   "execution_count": 40,
   "metadata": {},
   "outputs": [
    {
     "data": {
      "text/plain": [
       "23"
      ]
     },
     "execution_count": 40,
     "metadata": {},
     "output_type": "execute_result"
    }
   ],
   "source": [
    "len(both)"
   ]
  },
  {
   "cell_type": "code",
   "execution_count": 41,
   "metadata": {},
   "outputs": [
    {
     "data": {
      "text/plain": [
       "59"
      ]
     },
     "execution_count": 41,
     "metadata": {},
     "output_type": "execute_result"
    }
   ],
   "source": [
    "len(only_breast)+len(only_formula)+len(both)"
   ]
  },
  {
   "cell_type": "markdown",
   "metadata": {},
   "source": [
    "**Test statistics:**\n",
    "\n",
    "alpha=0.05 and we have ANOVA, so table score can be calculated by using \n",
    "\n",
    "alpha=0.05 and dfn=3-1=2(degrees of freedom of numarator-variance between) where 3:number of different groups, dfd=59-3=56(degrees of freedom of denumarator-variance within) where 59:number of all observations and 3:Number of groups\n",
    "\n",
    "table score of F = 3.16186116 where alpha=0.05, dfn=2 and dfd=56\n",
    "\n",
    "Since Test Statistics(26.7013) is greater than critical value-table score(3.1619), we can conclude that Ho rejects that means there is statistically significant difference between at least one of the means of monthly gain of babies.\n",
    "\n",
    "Comment via test statistics is compatible with comment via p-value."
   ]
  },
  {
   "cell_type": "markdown",
   "metadata": {},
   "source": [
    "One-way ANOVA won't tell us what groups were different.If our test returns a significant f-statistic, we may need to run post hoc test(like the Least Significant Difference Test) to tell us exactly which group had a difference in means.\n",
    "\n",
    "According to Bonferroni (bonf) test applied below,The p-corr column shows the corrected p-value. For example, between Only Breast and Only Formula the corrected p-value is 4.702207e-07. This is below the alpha(0.05) which is the threshold. Below this is considered 'significant' so we can conclude that the mean score of the Only Breast on 'Gain' is significantly different than \"Only Formula\". The same applies between \"Only Formula\" and \"Both\", but not for \"Only Breast\" and \"Both\" since p-corr of Only Breast-Both is 0.1294573 which is greater than 0.05.\n",
    "\n",
    "To conclude, \"Only Formula\" is significantly different than \"Only Breast\" and \"Both\".However, \"Only Breast\" and \"Both\" are not significantly different from each other."
   ]
  },
  {
   "cell_type": "code",
   "execution_count": 42,
   "metadata": {},
   "outputs": [],
   "source": [
    "#To use Post Test and Box-Plot\n",
    "Br = pd.DataFrame(only_breast)\n",
    "F = pd.DataFrame(only_formula)\n",
    "Bo = pd.DataFrame(both)\n",
    "#Only Breast\n",
    "GROUP_A = np.arange(len(Br))\n",
    "GROUP_A = pd.DataFrame(GROUP_A)\n",
    "GROUP_A[:] = \"Only Breast\"\n",
    "A = pd.concat([Br, GROUP_A], axis = 1)\n",
    "\n",
    "#Only Formula\n",
    "GROUP_B = np.arange(len(F))\n",
    "GROUP_B = pd.DataFrame(GROUP_B)\n",
    "GROUP_B[:] = \"Only Formula\"\n",
    "B = pd.concat([F, GROUP_B], axis = 1)\n",
    "\n",
    "#Both\n",
    "GROUP_C = np.arange(len(Bo))\n",
    "GROUP_C = pd.DataFrame(GROUP_C)\n",
    "GROUP_C[:] = \"Both\"\n",
    "C = pd.concat([Bo, GROUP_C], axis = 1)\n",
    "\n",
    "#ALL DATA with all groups\n",
    "ABC = pd.concat([A,B,C])\n",
    "ABC.columns = [\"Gain\",\"GROUP\"]"
   ]
  },
  {
   "cell_type": "code",
   "execution_count": 43,
   "metadata": {},
   "outputs": [
    {
     "data": {
      "text/html": [
       "<div>\n",
       "<style scoped>\n",
       "    .dataframe tbody tr th:only-of-type {\n",
       "        vertical-align: middle;\n",
       "    }\n",
       "\n",
       "    .dataframe tbody tr th {\n",
       "        vertical-align: top;\n",
       "    }\n",
       "\n",
       "    .dataframe thead th {\n",
       "        text-align: right;\n",
       "    }\n",
       "</style>\n",
       "<table border=\"1\" class=\"dataframe\">\n",
       "  <thead>\n",
       "    <tr style=\"text-align: right;\">\n",
       "      <th></th>\n",
       "      <th>Contrast</th>\n",
       "      <th>A</th>\n",
       "      <th>B</th>\n",
       "      <th>Paired</th>\n",
       "      <th>Parametric</th>\n",
       "      <th>T</th>\n",
       "      <th>dof</th>\n",
       "      <th>Tail</th>\n",
       "      <th>p-unc</th>\n",
       "      <th>p-corr</th>\n",
       "      <th>p-adjust</th>\n",
       "      <th>BF10</th>\n",
       "      <th>hedges</th>\n",
       "    </tr>\n",
       "  </thead>\n",
       "  <tbody>\n",
       "    <tr>\n",
       "      <th>0</th>\n",
       "      <td>GROUP</td>\n",
       "      <td>Only Breast</td>\n",
       "      <td>Only Formula</td>\n",
       "      <td>False</td>\n",
       "      <td>True</td>\n",
       "      <td>-6.573054</td>\n",
       "      <td>34.0</td>\n",
       "      <td>two-sided</td>\n",
       "      <td>1.567402e-07</td>\n",
       "      <td>4.702207e-07</td>\n",
       "      <td>bonf</td>\n",
       "      <td>6.58e+04</td>\n",
       "      <td>-2.145642</td>\n",
       "    </tr>\n",
       "    <tr>\n",
       "      <th>1</th>\n",
       "      <td>GROUP</td>\n",
       "      <td>Only Breast</td>\n",
       "      <td>Both</td>\n",
       "      <td>False</td>\n",
       "      <td>True</td>\n",
       "      <td>-2.092227</td>\n",
       "      <td>38.0</td>\n",
       "      <td>two-sided</td>\n",
       "      <td>4.315143e-02</td>\n",
       "      <td>1.294543e-01</td>\n",
       "      <td>bonf</td>\n",
       "      <td>1.68</td>\n",
       "      <td>-0.655896</td>\n",
       "    </tr>\n",
       "    <tr>\n",
       "      <th>2</th>\n",
       "      <td>GROUP</td>\n",
       "      <td>Only Formula</td>\n",
       "      <td>Both</td>\n",
       "      <td>False</td>\n",
       "      <td>True</td>\n",
       "      <td>5.720115</td>\n",
       "      <td>40.0</td>\n",
       "      <td>two-sided</td>\n",
       "      <td>1.169247e-06</td>\n",
       "      <td>3.507742e-06</td>\n",
       "      <td>bonf</td>\n",
       "      <td>1.096e+04</td>\n",
       "      <td>1.739867</td>\n",
       "    </tr>\n",
       "  </tbody>\n",
       "</table>\n",
       "</div>"
      ],
      "text/plain": [
       "  Contrast             A             B  Paired  Parametric         T   dof  \\\n",
       "0    GROUP   Only Breast  Only Formula   False        True -6.573054  34.0   \n",
       "1    GROUP   Only Breast          Both   False        True -2.092227  38.0   \n",
       "2    GROUP  Only Formula          Both   False        True  5.720115  40.0   \n",
       "\n",
       "        Tail         p-unc        p-corr p-adjust       BF10    hedges  \n",
       "0  two-sided  1.567402e-07  4.702207e-07     bonf   6.58e+04 -2.145642  \n",
       "1  two-sided  4.315143e-02  1.294543e-01     bonf       1.68 -0.655896  \n",
       "2  two-sided  1.169247e-06  3.507742e-06     bonf  1.096e+04  1.739867  "
      ]
     },
     "execution_count": 43,
     "metadata": {},
     "output_type": "execute_result"
    }
   ],
   "source": [
    "posthocs = pairwise_ttests(dv='Gain', between='GROUP', padjust='bonf', data=ABC, correction=False)\n",
    "posthocs"
   ]
  },
  {
   "cell_type": "markdown",
   "metadata": {},
   "source": [
    "To be able to support knowledge about difference, the visualization like box-plot can help. By looking at boxplot below,\"formula\" provides the babies to more gain compared to \"only breast\".\"both breast and formula\" is located between \"only breast\" and \"only formula\" regarding means of gain."
   ]
  },
  {
   "cell_type": "code",
   "execution_count": 44,
   "metadata": {},
   "outputs": [
    {
     "data": {
      "image/png": "[encoded data removed]",
      "text/plain": [
       "<Figure size 432x288 with 1 Axes>"
      ]
     },
     "metadata": {
      "needs_background": "light"
     },
     "output_type": "display_data"
    }
   ],
   "source": [
    "sns.boxplot(x = \"GROUP\", y = \"Gain\", data = ABC);"
   ]
  },
  {
   "cell_type": "code",
   "execution_count": 45,
   "metadata": {},
   "outputs": [],
   "source": [
    "#Testing hypothesis with F-test from Scratch"
   ]
  },
  {
   "cell_type": "markdown",
   "metadata": {},
   "source": [
    "alpha=0.05 and we have ANOVA, so table score can be calculated by using \n",
    "\n",
    "alpha=0.05 and dfn=3-1=2(degrees of freedom of numarator-variance between) where 3:number of different groups, dfd=59-3=56(degrees of freedom of denumarator-variance within) where 59:number of all observations and 3:Number of groups\n",
    "\n",
    "table score of F = 3.16186116 where alpha=0.05, dfn=2 and dfd=56"
   ]
  },
  {
   "cell_type": "code",
   "execution_count": 46,
   "metadata": {},
   "outputs": [
    {
     "name": "stdout",
     "output_type": "stream",
     "text": [
      "26.70515577622895\n",
      "3.161861164913022\n",
      "Reject the null hypothesis that the means are equal by using test statistics.\n"
     ]
    }
   ],
   "source": [
    "only_breast=[794.1, 716.9, 993. , 724.7, 760.9, 908.2, 659.3 , 690.8, 768.7, 717.3 , 630.7, 729.5, 714.1, 810.3, 583.5, 679.9, 865.1]\n",
    "only_formula=[ 898.8, 881.2, 940.2, 966.2, 957.5, 1061.7, 1046.2, 980.4, 895.6, 919.7, 1074.1, 952.5, 796.3, 859.6, 871.1 , 1047.5, 919.1 , 1160.5, 996.9]\n",
    "both=[976.4, 656.4, 861.2, 706.8, 718.5, 717.1, 759.8, 894.6, 867.6, 805.6, 765.4, 800.3, 789.9, 875.3, 740. , 799.4, 790.3, 795.2 , 823.6, 818.7, 926.8, 791.7, 948.3]\n",
    "def sumcalculation(data):\n",
    "    flag = 0\n",
    "    for i in range(len(data)):\n",
    "        flag = flag + (np.mean(data)-data[i])**2\n",
    "    return flag\n",
    "\n",
    "var_within_only_breast = sumcalculation(only_breast)\n",
    "var_within_only_formula = sumcalculation(only_formula)\n",
    "var_within_both = sumcalculation(both)\n",
    "\n",
    "sum_observations = len(only_breast)+len(only_formula)+len(both)\n",
    "corr_sum_observations = sum_observations-3\n",
    "sum_variations_days = var_within_only_breast+var_within_only_formula+var_within_both\n",
    "variation_within = sum_variations_days/corr_sum_observations\n",
    "\n",
    "grand_mean = (np.mean(only_breast)+np.mean(only_formula)+np.mean(both))/3\n",
    "\n",
    "variance_between = ((len(only_breast)*(np.mean(only_breast)-grand_mean)**2)+(len(only_formula)*(np.mean(only_formula)-grand_mean)**2)+(len(both)*(np.mean(both)-grand_mean)**2))/2\n",
    "F_score = variance_between/variation_within\n",
    "critival_value_F = stats.f.ppf(q=1-.05, dfn=2, dfd=56)\n",
    "print(F_score)\n",
    "print(critival_value_F)\n",
    "if abs(F_score) <= critival_value_F:\n",
    "\tprint('Fail To reject null hypothesis that the means are equal by using test statistics.')\n",
    "else:\n",
    "\tprint('Reject the null hypothesis that the means are equal by using test statistics.')"
   ]
  },
  {
   "cell_type": "markdown",
   "metadata": {},
   "source": [
    "Since F-score(26.70515577622895) is greater than critical value (3.161861164913022), we can conclude that Ho rejects that means there is statistically significant difference between at least one of the means of monthly gain of babies.\n",
    "\n",
    "This result is compatible with testing hypothesis with python built-in function for F-test and test statistics (26.701251857537958 and 26.70515577622895) are equal."
   ]
  },
  {
   "cell_type": "markdown",
   "metadata": {},
   "source": [
    "# Q4.\n",
    "\n",
    "A medical company wants to test whether its new glucose meter kit is measuring correctly. For this reason, an experiment was organized and blood samples were taken from 12 participants. By using these samples, glucose levels of participants were measured with thr both newly developed glucose meter kit and standard lab methods.\n",
    "\n",
    "standard_lab_method=[102.4, 123.7, 106.2, 149.2, 158.1, 159.3, 150.7, 151. , 140.8, 143.3, 112.7,  99.5, 158.8]    \n",
    "new_meter=[105.2,  110.1, 120. , 142.2, 160.4, 138. ,  147.7, 137.8, 153.5, 160.8,  90.4, 104.6, 170. ]\n",
    "\n",
    "**According to this information, conduct hypothesis testing to check whether there is a difference between measurements of two methods by using a 0.05 significance level. Before doing hypothesis testing, check the related assumptions. Comment on the results.**"
   ]
  },
  {
   "cell_type": "code",
   "execution_count": 47,
   "metadata": {},
   "outputs": [],
   "source": [
    "standard_lab_method=[102.4, 123.7, 106.2, 149.2, 158.1, 159.3, 150.7, 151. , 140.8, 143.3, 112.7, 99.5, 158.8]\n",
    "new_meter=[105.2, 110.1, 120. , 142.2, 160.4, 138. , 147.7, 137.8, 153.5, 160.8, 90.4, 104.6, 170.]"
   ]
  },
  {
   "cell_type": "markdown",
   "metadata": {},
   "source": [
    "## Assumption Control"
   ]
  },
  {
   "cell_type": "markdown",
   "metadata": {},
   "source": [
    "### Shapiro-Wilks Test\n",
    "\n",
    "H0: There is no statistically significant difference between sample distribution and theoretical(normal) distribution\n",
    "\n",
    "H1: There is statistically significant difference between sample distribution and theoretical(normal) distribution"
   ]
  },
  {
   "cell_type": "code",
   "execution_count": 48,
   "metadata": {},
   "outputs": [
    {
     "data": {
      "text/plain": [
       "ShapiroResult(statistic=0.8557056784629822, pvalue=0.03382979705929756)"
      ]
     },
     "execution_count": 48,
     "metadata": {},
     "output_type": "execute_result"
    }
   ],
   "source": [
    "shapiro(standard_lab_method)"
   ]
  },
  {
   "cell_type": "code",
   "execution_count": 49,
   "metadata": {},
   "outputs": [
    {
     "name": "stdout",
     "output_type": "stream",
     "text": [
      "T Calculated Statistic: 0.8557056784629822\n",
      "P-value: 0.03382979705929756\n"
     ]
    }
   ],
   "source": [
    "print(\"T Calculated Statistic: \" + str(shapiro(standard_lab_method)[0]))\n",
    "print(\"P-value: \" + str(shapiro(standard_lab_method)[1]))"
   ]
  },
  {
   "cell_type": "markdown",
   "metadata": {},
   "source": [
    "Since p-value is less than alpha(0.05), we can conclude that H0 is rejected that means sample does not approximate normal distribution. Normality assumption is not valid for standard_method."
   ]
  },
  {
   "cell_type": "code",
   "execution_count": 50,
   "metadata": {},
   "outputs": [
    {
     "data": {
      "text/plain": [
       "ShapiroResult(statistic=0.9412077069282532, pvalue=0.472730427980423)"
      ]
     },
     "execution_count": 50,
     "metadata": {},
     "output_type": "execute_result"
    }
   ],
   "source": [
    "shapiro(new_meter)"
   ]
  },
  {
   "cell_type": "code",
   "execution_count": 51,
   "metadata": {},
   "outputs": [
    {
     "name": "stdout",
     "output_type": "stream",
     "text": [
      "T Calculated Statistic: 0.9412077069282532\n",
      "P-value: 0.472730427980423\n"
     ]
    }
   ],
   "source": [
    "print(\"T Calculated Statistic: \" + str(shapiro(new_meter)[0]))\n",
    "print(\"P-value: \" + str(shapiro(new_meter)[1]))"
   ]
  },
  {
   "cell_type": "markdown",
   "metadata": {},
   "source": [
    "Since p-value is greater than alpha(0.05), we can conclude that H0 fails to reject that means the sample approximates normal distibution. Normality assumption is valid for \"new_meter\"."
   ]
  },
  {
   "cell_type": "markdown",
   "metadata": {},
   "source": [
    "Since one of the sample does not distributed normally, non-parametric tests should be used."
   ]
  },
  {
   "cell_type": "markdown",
   "metadata": {},
   "source": [
    "# Hypothesis Testing"
   ]
  },
  {
   "cell_type": "markdown",
   "metadata": {},
   "source": [
    "H0: 𝜇1=𝜇2 (the means of glucose level are equal regarding different methods)\n",
    "\n",
    "H1: 𝜇1≠𝜇2 (the means of glucose level are not equal regarding different methods)\n"
   ]
  },
  {
   "cell_type": "markdown",
   "metadata": {},
   "source": [
    "Since we have one group (two samples-paired) with continuous endpoint and we have investigated effects of new methods to measure correctly with that group.In addition to that, non-parametric statistical test should be used due to normality assumption.\n",
    "Therefore, Wilcoxon Signed Rank Test can be used for Hypothesis testing.Also, We will check whether there is a difference between measurements of two methods."
   ]
  },
  {
   "cell_type": "code",
   "execution_count": 52,
   "metadata": {},
   "outputs": [],
   "source": [
    "#Testing hypothesis with Python built-in function"
   ]
  },
  {
   "cell_type": "code",
   "execution_count": 53,
   "metadata": {},
   "outputs": [
    {
     "data": {
      "text/plain": [
       "WilcoxonResult(statistic=41.0, pvalue=0.786865234375)"
      ]
     },
     "execution_count": 53,
     "metadata": {},
     "output_type": "execute_result"
    }
   ],
   "source": [
    "stats.wilcoxon(standard_lab_method, new_meter)"
   ]
  },
  {
   "cell_type": "code",
   "execution_count": 54,
   "metadata": {},
   "outputs": [
    {
     "name": "stdout",
     "output_type": "stream",
     "text": [
      "Test Statistic = 41.0000, p-value = 0.7869\n"
     ]
    }
   ],
   "source": [
    "test_statistic, pvalue = stats.wilcoxon(standard_lab_method, new_meter)\n",
    "\n",
    "print('Test Statistic = %.4f, p-value = %.4f' % (test_statistic, pvalue))"
   ]
  },
  {
   "cell_type": "code",
   "execution_count": 55,
   "metadata": {},
   "outputs": [
    {
     "data": {
      "text/plain": [
       "13"
      ]
     },
     "execution_count": 55,
     "metadata": {},
     "output_type": "execute_result"
    }
   ],
   "source": [
    "len(standard_lab_method)"
   ]
  },
  {
   "cell_type": "code",
   "execution_count": 56,
   "metadata": {},
   "outputs": [
    {
     "data": {
      "text/plain": [
       "13"
      ]
     },
     "execution_count": 56,
     "metadata": {},
     "output_type": "execute_result"
    }
   ],
   "source": [
    "len(new_meter)"
   ]
  },
  {
   "cell_type": "markdown",
   "metadata": {},
   "source": [
    "**p-value:**\n",
    "\n",
    "Since p-value(0.7869) is greater than alpha(0.05), we can conclude that H0 fails to reject and there is no significant evidence that two methods measure differently."
   ]
  },
  {
   "cell_type": "markdown",
   "metadata": {},
   "source": [
    "**Test statistics:**\n",
    "\n",
    "alpha=0.05 and we have two-sided hypothesis (𝜇1≠𝜇2), so table score can be calculated by using \n",
    "\n",
    "table score of W = 17\n",
    "\n",
    "Since Test Statistics(41) is greater than critical value-table score(17), we can conclude that Ho fails to reject and there is no significant evidence that two methods measure differently.\n",
    "\n",
    "**Reference:**https://www.socscistatistics.com/tests/signedranks/default2.aspx and https://www.real-statistics.com/statistics-tables/wilcoxon-signed-ranks-table/\n",
    "\n",
    "Comment via test statistics is compatible with comment via p-value."
   ]
  },
  {
   "cell_type": "markdown",
   "metadata": {},
   "source": [
    "As we can see from box-plot below, the methods measures glucose levels nearly equal."
   ]
  },
  {
   "cell_type": "code",
   "execution_count": 57,
   "metadata": {},
   "outputs": [],
   "source": [
    "Br = pd.DataFrame(standard_lab_method)\n",
    "F = pd.DataFrame(new_meter)\n",
    "\n",
    "GROUP_A = np.arange(len(Br))\n",
    "GROUP_A = pd.DataFrame(GROUP_A)\n",
    "GROUP_A[:] = \"standard_lab_method\"\n",
    "A = pd.concat([Br, GROUP_A], axis = 1)\n",
    "\n",
    "GROUP_B = np.arange(len(F))\n",
    "GROUP_B = pd.DataFrame(GROUP_B)\n",
    "GROUP_B[:] = \"new_meter\"\n",
    "B = pd.concat([F, GROUP_B], axis = 1)\n",
    "\n",
    "#ALL DATA with all groups\n",
    "AB = pd.concat([A,B])\n",
    "AB.columns = [\"Glucose Level\",\"GROUP\"]"
   ]
  },
  {
   "cell_type": "code",
   "execution_count": 58,
   "metadata": {},
   "outputs": [
    {
     "data": {
      "image/png": "[encoded data removed]",
      "text/plain": [
       "<Figure size 432x288 with 1 Axes>"
      ]
     },
     "metadata": {
      "needs_background": "light"
     },
     "output_type": "display_data"
    }
   ],
   "source": [
    "sns.boxplot(x = \"GROUP\", y = \"Glucose Level\", data = AB);"
   ]
  },
  {
   "cell_type": "markdown",
   "metadata": {},
   "source": [
    "# Q5.\n",
    "A newly graduate of Computer Science is interested in the entry-level data analyst position salaries of defense industry firms and game firms. To investigate whether there is a difference between them, she selected 13 job advertisements from Linkedin, Glassdoor, and Monster Jobs randomly in each of the two industries and records their annual salaries (in K USD).The data as below.\n",
    "\n",
    "game=[80., 72., 70., 58., 68., 67., 69., 66., 69., 67., 62., 75., 95.]    \n",
    "defense=[72., 79., 73., 76., 74., 78., 74., 72., 76., 79., 73., 72., 94.]\n",
    "\n",
    "**According to this information, conduct the hypothesis testing to check whether there is a difference between the average salary of entry-level data analyst salary in these two industries by using a 0.05 significance level. Before doing hypothesis testing, check the related assumptions. Comment on the results.**"
   ]
  },
  {
   "cell_type": "code",
   "execution_count": 59,
   "metadata": {},
   "outputs": [],
   "source": [
    "game=[80., 72., 70., 58., 68., 67., 69., 66., 69., 67., 62., 75., 95.]\n",
    "defense=[72., 79., 73., 76., 74., 78., 74., 72., 76., 79., 73., 72., 94.]"
   ]
  },
  {
   "cell_type": "markdown",
   "metadata": {},
   "source": [
    "## Assumption Control"
   ]
  },
  {
   "cell_type": "markdown",
   "metadata": {},
   "source": [
    "### Shapiro-Wilks Test\n",
    "\n",
    "H0: There is no statistically significant difference between sample distribution and theoretical(normal) distribution\n",
    "\n",
    "H1: There is statistically significant difference between sample distribution and theoretical(normal) distribution"
   ]
  },
  {
   "cell_type": "code",
   "execution_count": 60,
   "metadata": {},
   "outputs": [
    {
     "data": {
      "text/plain": [
       "ShapiroResult(statistic=0.8562496304512024, pvalue=0.03438952937722206)"
      ]
     },
     "execution_count": 60,
     "metadata": {},
     "output_type": "execute_result"
    }
   ],
   "source": [
    "shapiro(game)"
   ]
  },
  {
   "cell_type": "code",
   "execution_count": 61,
   "metadata": {},
   "outputs": [
    {
     "name": "stdout",
     "output_type": "stream",
     "text": [
      "T Calculated Statistic: 0.8562496304512024\n",
      "P-value: 0.03438952937722206\n"
     ]
    }
   ],
   "source": [
    "print(\"T Calculated Statistic: \" + str(shapiro(game)[0]))\n",
    "print(\"P-value: \" + str(shapiro(game)[1]))"
   ]
  },
  {
   "cell_type": "markdown",
   "metadata": {},
   "source": [
    "Since p-value is less than alpha(0.05), we can conclude that H0 rejects that means sample does not approximate normal distribution. Normality assumption is not valid for \"game\"."
   ]
  },
  {
   "cell_type": "code",
   "execution_count": 62,
   "metadata": {},
   "outputs": [
    {
     "data": {
      "text/plain": [
       "ShapiroResult(statistic=0.6978541612625122, pvalue=0.000528195989318192)"
      ]
     },
     "execution_count": 62,
     "metadata": {},
     "output_type": "execute_result"
    }
   ],
   "source": [
    "shapiro(defense)"
   ]
  },
  {
   "cell_type": "code",
   "execution_count": 63,
   "metadata": {},
   "outputs": [
    {
     "name": "stdout",
     "output_type": "stream",
     "text": [
      "T Calculated Statistic: 0.6978541612625122\n",
      "P-value: 0.000528195989318192\n"
     ]
    }
   ],
   "source": [
    "print(\"T Calculated Statistic: \" + str(shapiro(defense)[0]))\n",
    "print(\"P-value: \" + str(shapiro(defense)[1]))"
   ]
  },
  {
   "cell_type": "markdown",
   "metadata": {},
   "source": [
    "Since p-value is less than alpha(0.05), we can conclude that H0 rejects that means the sample does not approximate normal distribution. Normality assumption is not valid for \"defense\"."
   ]
  },
  {
   "cell_type": "markdown",
   "metadata": {},
   "source": [
    "Since both samples does not approximate normal distribution, non-parametric tests should be used."
   ]
  },
  {
   "cell_type": "markdown",
   "metadata": {},
   "source": [
    "# Hypothesis Testing"
   ]
  },
  {
   "cell_type": "markdown",
   "metadata": {},
   "source": [
    "H0: 𝜇1=𝜇2 (the means of salaries are equal regarding two industries)\n",
    "\n",
    "H1: 𝜇1≠𝜇2 (the means of salaries are not equal regarding two industries)\n"
   ]
  },
  {
   "cell_type": "markdown",
   "metadata": {},
   "source": [
    "Since we have two different groups (two samples-unpaired) with continuous endpoint and we have investigated salaries in two industries.In addition to that, non-parametric statistical test should be used due to normality assumption.\n",
    "Therefore, Mann Whitney U Test can be used for Hypothesis testing.Also, We will check whether there is a difference between salaries of two industries."
   ]
  },
  {
   "cell_type": "code",
   "execution_count": 64,
   "metadata": {},
   "outputs": [],
   "source": [
    "#Testing hypothesis with Python built-in function"
   ]
  },
  {
   "cell_type": "code",
   "execution_count": 65,
   "metadata": {},
   "outputs": [
    {
     "data": {
      "text/plain": [
       "MannwhitneyuResult(statistic=33.5, pvalue=0.004704070006313247)"
      ]
     },
     "execution_count": 65,
     "metadata": {},
     "output_type": "execute_result"
    }
   ],
   "source": [
    "stats.mannwhitneyu(x=game, y=defense)"
   ]
  },
  {
   "cell_type": "code",
   "execution_count": 66,
   "metadata": {},
   "outputs": [
    {
     "name": "stdout",
     "output_type": "stream",
     "text": [
      "Test Statistic = 33.5000, p-value = 0.0047\n"
     ]
    }
   ],
   "source": [
    "test_statistic, pvalue = stats.mannwhitneyu(game, defense)\n",
    "\n",
    "print('Test Statistic = %.4f, p-value = %.4f' % (test_statistic, pvalue))"
   ]
  },
  {
   "cell_type": "code",
   "execution_count": 67,
   "metadata": {},
   "outputs": [
    {
     "data": {
      "text/plain": [
       "13"
      ]
     },
     "execution_count": 67,
     "metadata": {},
     "output_type": "execute_result"
    }
   ],
   "source": [
    "len(game)"
   ]
  },
  {
   "cell_type": "code",
   "execution_count": 69,
   "metadata": {},
   "outputs": [
    {
     "data": {
      "text/plain": [
       "13"
      ]
     },
     "execution_count": 69,
     "metadata": {},
     "output_type": "execute_result"
    }
   ],
   "source": [
    "len(defense)"
   ]
  },
  {
   "cell_type": "markdown",
   "metadata": {},
   "source": [
    "**p-value:**\n",
    "\n",
    "Since p-value(0.0047) is less than alpha(0.05), we can conclude that H0 rejects and there is significant evidence that two industries have different means of salaries."
   ]
  },
  {
   "cell_type": "markdown",
   "metadata": {},
   "source": [
    "**Test statistics:**\n",
    "\n",
    "alpha=0.05 and we have two-sided hypothesis (𝜇1≠𝜇2), so table score can be calculated by using \n",
    "\n",
    "table score of U = 45\n",
    "\n",
    "Since Test Statistics(33.5) is less than critical value-table score(45), we can conclude that Ho rejects and there is significant evidence that two industries have different means of salaries.\n",
    "\n",
    "**Reference:**https://www.socscistatistics.com/tests/mannwhitney/default3.aspx and https://www.real-statistics.com/statistics-tables/mann-whitney-table/\n",
    "\n",
    "Comment via test statistics is compatible with comment via p-value."
   ]
  },
  {
   "cell_type": "markdown",
   "metadata": {},
   "source": [
    "As we can see from box-plot below, salaries are located in higher position in Defense industry compared to Game industry."
   ]
  },
  {
   "cell_type": "code",
   "execution_count": 68,
   "metadata": {},
   "outputs": [
    {
     "data": {
      "image/png": "[encoded data removed]",
      "text/plain": [
       "<Figure size 432x288 with 1 Axes>"
      ]
     },
     "metadata": {
      "needs_background": "light"
     },
     "output_type": "display_data"
    }
   ],
   "source": [
    "A = pd.DataFrame(game)\n",
    "B = pd.DataFrame(defense)\n",
    "\n",
    "#Game\n",
    "GROUP_A = np.arange(len(A))\n",
    "GROUP_A = pd.DataFrame(GROUP_A)\n",
    "GROUP_A[:] = \"Game\"\n",
    "A = pd.concat([A, GROUP_A], axis = 1)\n",
    "\n",
    "#Defense\n",
    "GROUP_B = np.arange(len(B))\n",
    "GROUP_B = pd.DataFrame(GROUP_B)\n",
    "GROUP_B[:] = \"Defense\"\n",
    "B = pd.concat([B, GROUP_B], axis = 1)\n",
    "\n",
    "#All data including Game and Defense\n",
    "AB = pd.concat([A,B])\n",
    "AB.columns = [\"Salary\",\"GROUP\"]\n",
    "\n",
    "sns.boxplot(x = \"GROUP\", y = \"Salary\", data = AB);"
   ]
  }
 ],
 "metadata": {
  "kernelspec": {
   "display_name": "Python 3",
   "language": "python",
   "name": "python3"
  },
  "language_info": {
   "codemirror_mode": {
    "name": "ipython",
    "version": 3
   },
   "file_extension": ".py",
   "mimetype": "text/x-python",
   "name": "python",
   "nbconvert_exporter": "python",
   "pygments_lexer": "ipython3",
   "version": "3.8.8"
  }
 },
 "nbformat": 4,
 "nbformat_minor": 4
}

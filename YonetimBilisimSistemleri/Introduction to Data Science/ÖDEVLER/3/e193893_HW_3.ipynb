{
 "cells": [
  {
   "cell_type": "markdown",
   "metadata": {},
   "source": [
    "# IS709 Assignment 3\n",
    "\n",
    "### Due: December 20, Sunday-23.59\n",
    "\n",
    "### Submission and Grading Policy\n",
    "\n",
    "- Submit your assignments to the corresponding assignment link in https://odtuclass.metu.edu.tr.\n",
    "- Solutions should be submitted in a single **ipynb** file named: metu-username_HW_3.ipynb (e.g., “e123456_HW_3.ipynb”).\n",
    "- Late submissions will be accepted by December 23, 2020 at 23:59 with a 5% per day penalty.\n",
    "- Do not change variable names in the code blocks and the texts in the markdowns.\n",
    "- You can add markdown or code cells as many as you want.  \n",
    "- <font color=#C91414> **It is an individual assignment. You have to adhere to academic integrity principles.**</font>    \n",
    "- You are supposed to be able to interpret your findings. Hence, you shouldn't just find a number or result and just leave it. You need to comment on your findings by giving as much as **necessary** details.  \n",
    "  "
   ]
  },
  {
   "cell_type": "markdown",
   "metadata": {},
   "source": [
    "In this assignment, you are going to deal with data preprocessing and do some data imputation. You are expected to comment on the aspects of the different imputation methods.  "
   ]
  },
  {
   "cell_type": "markdown",
   "metadata": {},
   "source": [
    "**1. If you haven't alredy install missingno package please open anaconda prompt and install it by typing below code.**    \n",
    "**conda install -c conda-forge missingno**   \n",
    "You may want to see https://anaconda.org/conda-forge/missingno  "
   ]
  },
  {
   "cell_type": "markdown",
   "metadata": {},
   "source": [
    "**2. Import the libraries you need.**  "
   ]
  },
  {
   "cell_type": "code",
   "execution_count": 1,
   "metadata": {},
   "outputs": [],
   "source": [
    "# answer\n",
    "import pandas as pd\n",
    "import numpy as np\n",
    "import matplotlib.pyplot as plt\n",
    "%matplotlib inline\n",
    "import seaborn as sns\n",
    "import missingno as msno\n",
    "from scipy import stats"
   ]
  },
  {
   "cell_type": "markdown",
   "metadata": {},
   "source": [
    "**3.Upload the data files as pandas dataframes.**   \n",
    "Set dataframe name as **data** for assignment3_data.csv and **mis_data** for assignment3_missing_data.csv"
   ]
  },
  {
   "cell_type": "code",
   "execution_count": 2,
   "metadata": {},
   "outputs": [],
   "source": [
    "### answer\n",
    "data=pd.read_csv(\"assignment3_data.csv\")\n",
    "mis_data = pd.read_csv(\"assignment3_missing_data.csv\")"
   ]
  },
  {
   "cell_type": "code",
   "execution_count": 3,
   "metadata": {},
   "outputs": [
    {
     "data": {
      "text/plain": [
       "pandas.core.frame.DataFrame"
      ]
     },
     "execution_count": 3,
     "metadata": {},
     "output_type": "execute_result"
    }
   ],
   "source": [
    "type(data)"
   ]
  },
  {
   "cell_type": "code",
   "execution_count": 4,
   "metadata": {},
   "outputs": [
    {
     "data": {
      "text/plain": [
       "pandas.core.frame.DataFrame"
      ]
     },
     "execution_count": 4,
     "metadata": {},
     "output_type": "execute_result"
    }
   ],
   "source": [
    "type(mis_data)"
   ]
  },
  {
   "cell_type": "code",
   "execution_count": 5,
   "metadata": {
    "scrolled": true
   },
   "outputs": [
    {
     "data": {
      "text/html": [
       "<div>\n",
       "<style scoped>\n",
       "    .dataframe tbody tr th:only-of-type {\n",
       "        vertical-align: middle;\n",
       "    }\n",
       "\n",
       "    .dataframe tbody tr th {\n",
       "        vertical-align: top;\n",
       "    }\n",
       "\n",
       "    .dataframe thead th {\n",
       "        text-align: right;\n",
       "    }\n",
       "</style>\n",
       "<table border=\"1\" class=\"dataframe\">\n",
       "  <thead>\n",
       "    <tr style=\"text-align: right;\">\n",
       "      <th></th>\n",
       "      <th>x1</th>\n",
       "      <th>x2</th>\n",
       "      <th>x3</th>\n",
       "      <th>x4</th>\n",
       "      <th>x5</th>\n",
       "      <th>x6</th>\n",
       "      <th>x7</th>\n",
       "      <th>x8</th>\n",
       "      <th>x9</th>\n",
       "      <th>x10</th>\n",
       "      <th>x11</th>\n",
       "      <th>target</th>\n",
       "    </tr>\n",
       "  </thead>\n",
       "  <tbody>\n",
       "    <tr>\n",
       "      <th>count</th>\n",
       "      <td>3000.000000</td>\n",
       "      <td>3000.000000</td>\n",
       "      <td>3000.000000</td>\n",
       "      <td>3000.0000</td>\n",
       "      <td>3000.000000</td>\n",
       "      <td>3000.000000</td>\n",
       "      <td>3000.00000</td>\n",
       "      <td>3000.000000</td>\n",
       "      <td>3000.000000</td>\n",
       "      <td>3000.000000</td>\n",
       "      <td>3000.000000</td>\n",
       "      <td>3000.000000</td>\n",
       "    </tr>\n",
       "    <tr>\n",
       "      <th>mean</th>\n",
       "      <td>41.870663</td>\n",
       "      <td>4.991567</td>\n",
       "      <td>17.254122</td>\n",
       "      <td>0.9090</td>\n",
       "      <td>5.037667</td>\n",
       "      <td>62.829843</td>\n",
       "      <td>29.68375</td>\n",
       "      <td>40.651577</td>\n",
       "      <td>19.089263</td>\n",
       "      <td>59.918600</td>\n",
       "      <td>10.514563</td>\n",
       "      <td>0.282000</td>\n",
       "    </tr>\n",
       "    <tr>\n",
       "      <th>std</th>\n",
       "      <td>6.948558</td>\n",
       "      <td>2.863294</td>\n",
       "      <td>9.065634</td>\n",
       "      <td>0.7049</td>\n",
       "      <td>2.223937</td>\n",
       "      <td>10.156736</td>\n",
       "      <td>8.57979</td>\n",
       "      <td>15.902000</td>\n",
       "      <td>2.953550</td>\n",
       "      <td>5.721086</td>\n",
       "      <td>3.365819</td>\n",
       "      <td>0.450048</td>\n",
       "    </tr>\n",
       "    <tr>\n",
       "      <th>min</th>\n",
       "      <td>19.780000</td>\n",
       "      <td>0.000000</td>\n",
       "      <td>6.079569</td>\n",
       "      <td>0.0000</td>\n",
       "      <td>0.000000</td>\n",
       "      <td>0.680000</td>\n",
       "      <td>8.87000</td>\n",
       "      <td>2.790000</td>\n",
       "      <td>9.780000</td>\n",
       "      <td>50.000000</td>\n",
       "      <td>5.120000</td>\n",
       "      <td>0.000000</td>\n",
       "    </tr>\n",
       "    <tr>\n",
       "      <th>25%</th>\n",
       "      <td>37.227500</td>\n",
       "      <td>2.517500</td>\n",
       "      <td>10.816362</td>\n",
       "      <td>0.0000</td>\n",
       "      <td>4.000000</td>\n",
       "      <td>58.575000</td>\n",
       "      <td>23.51750</td>\n",
       "      <td>24.847500</td>\n",
       "      <td>17.100000</td>\n",
       "      <td>55.075000</td>\n",
       "      <td>8.200000</td>\n",
       "      <td>0.000000</td>\n",
       "    </tr>\n",
       "    <tr>\n",
       "      <th>50%</th>\n",
       "      <td>41.880000</td>\n",
       "      <td>4.970000</td>\n",
       "      <td>14.678822</td>\n",
       "      <td>1.0000</td>\n",
       "      <td>5.000000</td>\n",
       "      <td>65.620000</td>\n",
       "      <td>28.35500</td>\n",
       "      <td>45.725000</td>\n",
       "      <td>19.105000</td>\n",
       "      <td>59.800000</td>\n",
       "      <td>9.920000</td>\n",
       "      <td>0.000000</td>\n",
       "    </tr>\n",
       "    <tr>\n",
       "      <th>75%</th>\n",
       "      <td>46.595000</td>\n",
       "      <td>7.490000</td>\n",
       "      <td>20.793522</td>\n",
       "      <td>1.0000</td>\n",
       "      <td>6.000000</td>\n",
       "      <td>69.392500</td>\n",
       "      <td>34.39500</td>\n",
       "      <td>53.810000</td>\n",
       "      <td>21.040000</td>\n",
       "      <td>64.800000</td>\n",
       "      <td>12.020000</td>\n",
       "      <td>1.000000</td>\n",
       "    </tr>\n",
       "    <tr>\n",
       "      <th>max</th>\n",
       "      <td>67.920000</td>\n",
       "      <td>10.000000</td>\n",
       "      <td>106.512752</td>\n",
       "      <td>2.0000</td>\n",
       "      <td>14.000000</td>\n",
       "      <td>85.840000</td>\n",
       "      <td>129.32000</td>\n",
       "      <td>76.570000</td>\n",
       "      <td>31.820000</td>\n",
       "      <td>70.000000</td>\n",
       "      <td>30.180000</td>\n",
       "      <td>1.000000</td>\n",
       "    </tr>\n",
       "  </tbody>\n",
       "</table>\n",
       "</div>"
      ],
      "text/plain": [
       "                x1           x2           x3         x4           x5  \\\n",
       "count  3000.000000  3000.000000  3000.000000  3000.0000  3000.000000   \n",
       "mean     41.870663     4.991567    17.254122     0.9090     5.037667   \n",
       "std       6.948558     2.863294     9.065634     0.7049     2.223937   \n",
       "min      19.780000     0.000000     6.079569     0.0000     0.000000   \n",
       "25%      37.227500     2.517500    10.816362     0.0000     4.000000   \n",
       "50%      41.880000     4.970000    14.678822     1.0000     5.000000   \n",
       "75%      46.595000     7.490000    20.793522     1.0000     6.000000   \n",
       "max      67.920000    10.000000   106.512752     2.0000    14.000000   \n",
       "\n",
       "                x6          x7           x8           x9          x10  \\\n",
       "count  3000.000000  3000.00000  3000.000000  3000.000000  3000.000000   \n",
       "mean     62.829843    29.68375    40.651577    19.089263    59.918600   \n",
       "std      10.156736     8.57979    15.902000     2.953550     5.721086   \n",
       "min       0.680000     8.87000     2.790000     9.780000    50.000000   \n",
       "25%      58.575000    23.51750    24.847500    17.100000    55.075000   \n",
       "50%      65.620000    28.35500    45.725000    19.105000    59.800000   \n",
       "75%      69.392500    34.39500    53.810000    21.040000    64.800000   \n",
       "max      85.840000   129.32000    76.570000    31.820000    70.000000   \n",
       "\n",
       "               x11       target  \n",
       "count  3000.000000  3000.000000  \n",
       "mean     10.514563     0.282000  \n",
       "std       3.365819     0.450048  \n",
       "min       5.120000     0.000000  \n",
       "25%       8.200000     0.000000  \n",
       "50%       9.920000     0.000000  \n",
       "75%      12.020000     1.000000  \n",
       "max      30.180000     1.000000  "
      ]
     },
     "execution_count": 5,
     "metadata": {},
     "output_type": "execute_result"
    }
   ],
   "source": [
    "data.describe()"
   ]
  },
  {
   "cell_type": "code",
   "execution_count": 6,
   "metadata": {},
   "outputs": [
    {
     "data": {
      "text/html": [
       "<div>\n",
       "<style scoped>\n",
       "    .dataframe tbody tr th:only-of-type {\n",
       "        vertical-align: middle;\n",
       "    }\n",
       "\n",
       "    .dataframe tbody tr th {\n",
       "        vertical-align: top;\n",
       "    }\n",
       "\n",
       "    .dataframe thead th {\n",
       "        text-align: right;\n",
       "    }\n",
       "</style>\n",
       "<table border=\"1\" class=\"dataframe\">\n",
       "  <thead>\n",
       "    <tr style=\"text-align: right;\">\n",
       "      <th></th>\n",
       "      <th>x1</th>\n",
       "      <th>x2</th>\n",
       "      <th>x3</th>\n",
       "      <th>x4</th>\n",
       "      <th>x5</th>\n",
       "      <th>x6</th>\n",
       "      <th>x7</th>\n",
       "      <th>x8</th>\n",
       "      <th>x9</th>\n",
       "      <th>x10</th>\n",
       "      <th>x11</th>\n",
       "      <th>target</th>\n",
       "    </tr>\n",
       "  </thead>\n",
       "  <tbody>\n",
       "    <tr>\n",
       "      <th>count</th>\n",
       "      <td>3000.000000</td>\n",
       "      <td>2701.000000</td>\n",
       "      <td>2607.000000</td>\n",
       "      <td>3000.0000</td>\n",
       "      <td>3000.000000</td>\n",
       "      <td>2181.000000</td>\n",
       "      <td>2560.000000</td>\n",
       "      <td>2720.000000</td>\n",
       "      <td>2850.000000</td>\n",
       "      <td>2561.000000</td>\n",
       "      <td>3000.000000</td>\n",
       "      <td>3000.000000</td>\n",
       "    </tr>\n",
       "    <tr>\n",
       "      <th>mean</th>\n",
       "      <td>41.870663</td>\n",
       "      <td>5.000396</td>\n",
       "      <td>17.216713</td>\n",
       "      <td>0.9090</td>\n",
       "      <td>5.037667</td>\n",
       "      <td>62.941302</td>\n",
       "      <td>29.643449</td>\n",
       "      <td>40.649761</td>\n",
       "      <td>19.068179</td>\n",
       "      <td>58.446896</td>\n",
       "      <td>10.514563</td>\n",
       "      <td>0.282000</td>\n",
       "    </tr>\n",
       "    <tr>\n",
       "      <th>std</th>\n",
       "      <td>6.948558</td>\n",
       "      <td>2.855768</td>\n",
       "      <td>9.023077</td>\n",
       "      <td>0.7049</td>\n",
       "      <td>2.223937</td>\n",
       "      <td>10.183987</td>\n",
       "      <td>8.586283</td>\n",
       "      <td>15.911694</td>\n",
       "      <td>2.947424</td>\n",
       "      <td>4.838840</td>\n",
       "      <td>3.365819</td>\n",
       "      <td>0.450048</td>\n",
       "    </tr>\n",
       "    <tr>\n",
       "      <th>min</th>\n",
       "      <td>19.780000</td>\n",
       "      <td>0.000000</td>\n",
       "      <td>6.079569</td>\n",
       "      <td>0.0000</td>\n",
       "      <td>0.000000</td>\n",
       "      <td>0.680000</td>\n",
       "      <td>8.870000</td>\n",
       "      <td>2.790000</td>\n",
       "      <td>9.780000</td>\n",
       "      <td>50.000000</td>\n",
       "      <td>5.120000</td>\n",
       "      <td>0.000000</td>\n",
       "    </tr>\n",
       "    <tr>\n",
       "      <th>25%</th>\n",
       "      <td>37.227500</td>\n",
       "      <td>2.550000</td>\n",
       "      <td>10.826434</td>\n",
       "      <td>0.0000</td>\n",
       "      <td>4.000000</td>\n",
       "      <td>58.720000</td>\n",
       "      <td>23.477500</td>\n",
       "      <td>24.832500</td>\n",
       "      <td>17.060000</td>\n",
       "      <td>54.300000</td>\n",
       "      <td>8.200000</td>\n",
       "      <td>0.000000</td>\n",
       "    </tr>\n",
       "    <tr>\n",
       "      <th>50%</th>\n",
       "      <td>41.880000</td>\n",
       "      <td>4.980000</td>\n",
       "      <td>14.647223</td>\n",
       "      <td>1.0000</td>\n",
       "      <td>5.000000</td>\n",
       "      <td>65.680000</td>\n",
       "      <td>28.335000</td>\n",
       "      <td>45.705000</td>\n",
       "      <td>19.080000</td>\n",
       "      <td>58.500000</td>\n",
       "      <td>9.920000</td>\n",
       "      <td>0.000000</td>\n",
       "    </tr>\n",
       "    <tr>\n",
       "      <th>75%</th>\n",
       "      <td>46.595000</td>\n",
       "      <td>7.490000</td>\n",
       "      <td>20.760140</td>\n",
       "      <td>1.0000</td>\n",
       "      <td>6.000000</td>\n",
       "      <td>69.500000</td>\n",
       "      <td>34.395000</td>\n",
       "      <td>53.815000</td>\n",
       "      <td>21.000000</td>\n",
       "      <td>62.600000</td>\n",
       "      <td>12.020000</td>\n",
       "      <td>1.000000</td>\n",
       "    </tr>\n",
       "    <tr>\n",
       "      <th>max</th>\n",
       "      <td>67.920000</td>\n",
       "      <td>10.000000</td>\n",
       "      <td>106.512752</td>\n",
       "      <td>2.0000</td>\n",
       "      <td>14.000000</td>\n",
       "      <td>85.380000</td>\n",
       "      <td>129.320000</td>\n",
       "      <td>76.570000</td>\n",
       "      <td>31.820000</td>\n",
       "      <td>67.000000</td>\n",
       "      <td>30.180000</td>\n",
       "      <td>1.000000</td>\n",
       "    </tr>\n",
       "  </tbody>\n",
       "</table>\n",
       "</div>"
      ],
      "text/plain": [
       "                x1           x2           x3         x4           x5  \\\n",
       "count  3000.000000  2701.000000  2607.000000  3000.0000  3000.000000   \n",
       "mean     41.870663     5.000396    17.216713     0.9090     5.037667   \n",
       "std       6.948558     2.855768     9.023077     0.7049     2.223937   \n",
       "min      19.780000     0.000000     6.079569     0.0000     0.000000   \n",
       "25%      37.227500     2.550000    10.826434     0.0000     4.000000   \n",
       "50%      41.880000     4.980000    14.647223     1.0000     5.000000   \n",
       "75%      46.595000     7.490000    20.760140     1.0000     6.000000   \n",
       "max      67.920000    10.000000   106.512752     2.0000    14.000000   \n",
       "\n",
       "                x6           x7           x8           x9          x10  \\\n",
       "count  2181.000000  2560.000000  2720.000000  2850.000000  2561.000000   \n",
       "mean     62.941302    29.643449    40.649761    19.068179    58.446896   \n",
       "std      10.183987     8.586283    15.911694     2.947424     4.838840   \n",
       "min       0.680000     8.870000     2.790000     9.780000    50.000000   \n",
       "25%      58.720000    23.477500    24.832500    17.060000    54.300000   \n",
       "50%      65.680000    28.335000    45.705000    19.080000    58.500000   \n",
       "75%      69.500000    34.395000    53.815000    21.000000    62.600000   \n",
       "max      85.380000   129.320000    76.570000    31.820000    67.000000   \n",
       "\n",
       "               x11       target  \n",
       "count  3000.000000  3000.000000  \n",
       "mean     10.514563     0.282000  \n",
       "std       3.365819     0.450048  \n",
       "min       5.120000     0.000000  \n",
       "25%       8.200000     0.000000  \n",
       "50%       9.920000     0.000000  \n",
       "75%      12.020000     1.000000  \n",
       "max      30.180000     1.000000  "
      ]
     },
     "execution_count": 6,
     "metadata": {},
     "output_type": "execute_result"
    }
   ],
   "source": [
    "mis_data.describe()"
   ]
  },
  {
   "cell_type": "markdown",
   "metadata": {},
   "source": [
    "**4. Find the number of missing values in each attribute.    \n",
    "Draw bar chart, matrix,  and heatmap of missingno package and comment on your results.**  \n",
    "\n",
    "<font color=#C91414> Hint: Please be aware that missingness pattern and missingness mechanishm are different. Missingno charts give idea about missingness pattern.</font>   \n"
   ]
  },
  {
   "cell_type": "code",
   "execution_count": 7,
   "metadata": {},
   "outputs": [
    {
     "name": "stdout",
     "output_type": "stream",
     "text": [
      "x1 --> # of missing value 0\n",
      "x2 --> # of missing value 0\n",
      "x3 --> # of missing value 0\n",
      "x4 --> # of missing value 0\n",
      "x5 --> # of missing value 0\n",
      "x6 --> # of missing value 0\n",
      "x7 --> # of missing value 0\n",
      "x8 --> # of missing value 0\n",
      "x9 --> # of missing value 0\n",
      "x10 --> # of missing value 0\n",
      "x11 --> # of missing value 0\n",
      "target --> # of missing value 0\n"
     ]
    }
   ],
   "source": [
    "# answer (\"data\" dataset)\n",
    "# Original data\n",
    "for columns in data:\n",
    "    print(columns, \"--> # of missing value\", data[columns].isna().sum())"
   ]
  },
  {
   "cell_type": "markdown",
   "metadata": {},
   "source": [
    "There are no missing values belonging to \"data\" dataset."
   ]
  },
  {
   "cell_type": "markdown",
   "metadata": {},
   "source": [
    "**Bar Chart**: Bar chart shows the # of the nonmissing values in each attribute of the dataset."
   ]
  },
  {
   "cell_type": "markdown",
   "metadata": {},
   "source": [
    "There are no missing values belonging to \"data\" dataset."
   ]
  },
  {
   "cell_type": "code",
   "execution_count": 8,
   "metadata": {},
   "outputs": [
    {
     "data": {
      "image/png": "[encoded data removed]",
      "text/plain": [
       "<Figure size 576x576 with 3 Axes>"
      ]
     },
     "metadata": {
      "needs_background": "light"
     },
     "output_type": "display_data"
    }
   ],
   "source": [
    "msno.bar(data, figsize=(8,8));"
   ]
  },
  {
   "cell_type": "markdown",
   "metadata": {},
   "source": [
    "**Matrix:** The pattern of the missingness in the data set can be examined by using Matrix.\n",
    "\n",
    "The sparkline at right summarizes the general shape of the data completeness and points out the rows with the maximum and minimum nullity in the dataset."
   ]
  },
  {
   "cell_type": "markdown",
   "metadata": {},
   "source": [
    "There are no missing values belonging to \"data\" dataset. The sparkline at right of the matrix shows rows with the maximum and minimum nullity in the dataset. Since there are no missing values, the minimum and maximum value in sparkline is 12."
   ]
  },
  {
   "cell_type": "code",
   "execution_count": 9,
   "metadata": {},
   "outputs": [
    {
     "data": {
      "image/png": "[encoded data removed]",
      "text/plain": [
       "<Figure size 576x576 with 2 Axes>"
      ]
     },
     "metadata": {
      "needs_background": "light"
     },
     "output_type": "display_data"
    }
   ],
   "source": [
    "msno.matrix(data, figsize=(8,8));"
   ]
  },
  {
   "cell_type": "markdown",
   "metadata": {},
   "source": [
    "**Heatmap :** Heatmap shows the correlation of missingness between every 2 columns.\n",
    "\n",
    "A value near -1 means if one variable appears then the other variable is very likely to be missing.  \n",
    "A value near 0 means there is no dependence between the occurrence of missing values of two variables.  \n",
    "A value near 1 means if one variable appears then the other variable is very likely to be present.  \n",
    "\n",
    "However please notice that \n",
    "- if there isn't any missing in an attribute/column, this attribute/column isn't shown in the heatmap."
   ]
  },
  {
   "cell_type": "code",
   "execution_count": 10,
   "metadata": {},
   "outputs": [
    {
     "name": "stderr",
     "output_type": "stream",
     "text": [
      "C:\\Users\\ozan\\Anaconda3\\lib\\site-packages\\seaborn\\matrix.py:311: UserWarning: Attempting to set identical left == right == 0 results in singular transformations; automatically expanding.\n",
      "  ax.set(xlim=(0, self.data.shape[1]), ylim=(0, self.data.shape[0]))\n",
      "C:\\Users\\ozan\\Anaconda3\\lib\\site-packages\\seaborn\\matrix.py:311: UserWarning: Attempting to set identical bottom == top == 0 results in singular transformations; automatically expanding.\n",
      "  ax.set(xlim=(0, self.data.shape[1]), ylim=(0, self.data.shape[0]))\n"
     ]
    },
    {
     "data": {
      "image/png": "[encoded data removed]",
      "text/plain": [
       "<Figure size 576x576 with 2 Axes>"
      ]
     },
     "metadata": {
      "needs_background": "light"
     },
     "output_type": "display_data"
    }
   ],
   "source": [
    "msno.heatmap(data, figsize=(8,8));"
   ]
  },
  {
   "cell_type": "markdown",
   "metadata": {},
   "source": [
    "Since there isn't any missing in an attribute/column for \"data\" dataset, this attribute/column isn't shown in the heatmap."
   ]
  },
  {
   "cell_type": "markdown",
   "metadata": {},
   "source": [
    "There are no missing values belonging to \"data\" dataset. On the other hand, \"mis_data\" have missing values that can be seen as follows:\n",
    "\n",
    "x2, x3, x6, x7, x8, x9 and x10 as attributes have missing values."
   ]
  },
  {
   "cell_type": "code",
   "execution_count": 11,
   "metadata": {},
   "outputs": [
    {
     "name": "stdout",
     "output_type": "stream",
     "text": [
      "x1 --> # of missing value 0\n",
      "x2 --> # of missing value 299\n",
      "x3 --> # of missing value 393\n",
      "x4 --> # of missing value 0\n",
      "x5 --> # of missing value 0\n",
      "x6 --> # of missing value 819\n",
      "x7 --> # of missing value 440\n",
      "x8 --> # of missing value 280\n",
      "x9 --> # of missing value 150\n",
      "x10 --> # of missing value 439\n",
      "x11 --> # of missing value 0\n",
      "target --> # of missing value 0\n"
     ]
    }
   ],
   "source": [
    "# answer (\"mis_data\" dataset)\n",
    "# missing data\n",
    "for columns in mis_data:\n",
    "    print(columns, \"--> # of missing value\", mis_data[columns].isna().sum())"
   ]
  },
  {
   "cell_type": "markdown",
   "metadata": {},
   "source": [
    "**Bar Chart**: Bar chart shows the # of the nonmissing values in each attribute of the dataset."
   ]
  },
  {
   "cell_type": "markdown",
   "metadata": {},
   "source": [
    "Bar chart indicates that x1, x4, x5, x11 and target as attributes have no missing values. However, the other attributes have missing values. For example, x6 has the highest number of missing values as it can be seen from bar chart. \n",
    "\n",
    "The number of missing values can be ordered descendingly regarding attributes as follows: x6>x7>x10>x3>x2>x8>x9"
   ]
  },
  {
   "cell_type": "code",
   "execution_count": 12,
   "metadata": {},
   "outputs": [
    {
     "data": {
      "image/png": "[encoded data removed]",
      "text/plain": [
       "<Figure size 576x576 with 3 Axes>"
      ]
     },
     "metadata": {
      "needs_background": "light"
     },
     "output_type": "display_data"
    }
   ],
   "source": [
    "msno.bar(mis_data, figsize=(8,8));"
   ]
  },
  {
   "cell_type": "markdown",
   "metadata": {},
   "source": [
    "**Matrix:** The pattern of the missingness in the data set can be examined by using Matrix.\n",
    "\n",
    "The sparkline at right summarizes the general shape of the data completeness and points out the rows with the maximum and minimum nullity in the dataset."
   ]
  },
  {
   "cell_type": "markdown",
   "metadata": {},
   "source": [
    "White line shows missing value within the attributes. If no white lines exist in the attributes regarding matrix, the attributes have no missing values. For instance, x1, x4, x5, x11 and target have no missing values.\n",
    "\n",
    "The sparkline at right of the matrix shows rows with the maximum and minimum nullity in the dataset. For example, maximum number of nonmissing value in the one row is 12 that means at least one row has nonmissing values because number of attributes is 12. Also, minimum number of nonmissing value in the one row is 6 that means at least 6 attributes have nonmissing values in the one row.\n",
    "\n",
    "Missingness pattern of x2 and x3 looks similar due to white line(missing value) similarity and large number of missing values exist in x6 compared to other attributes."
   ]
  },
  {
   "cell_type": "code",
   "execution_count": 13,
   "metadata": {},
   "outputs": [
    {
     "data": {
      "image/png": "[encoded data removed]",
      "text/plain": [
       "<Figure size 576x576 with 2 Axes>"
      ]
     },
     "metadata": {
      "needs_background": "light"
     },
     "output_type": "display_data"
    }
   ],
   "source": [
    "msno.matrix(mis_data, figsize=(8,8));"
   ]
  },
  {
   "cell_type": "markdown",
   "metadata": {},
   "source": [
    "**Heatmap :** Heatmap shows the correlation of missingness between every 2 columns.\n",
    "\n",
    "A value near -1 means if one variable appears then the other variable is very likely to be missing.  \n",
    "A value near 0 means there is no dependence between the occurrence of missing values of two variables.  \n",
    "A value near 1 means if one variable appears then the other variable is very likely to be present.  \n",
    "\n",
    "However please notice that \n",
    "- if there isn't any missing in an attribute/column, this attribute/column isn't shown in the heatmap."
   ]
  },
  {
   "cell_type": "markdown",
   "metadata": {},
   "source": [
    "The correlation of missingness between x3 and x2 is 0.6 that is a value near 1. Therefore, we can say that when x3 appears, x2 is likely to be present.\n",
    "\n",
    "x9 and x8 has weak dependence (correlation of missingness=0.3) between the occurence of missing values since correlation of missingness(0.3) is between 0 and 0.5.\n",
    "\n",
    "By considering the other variables, we can say that there is no dependence between the occurrence of missing values of two variables.  "
   ]
  },
  {
   "cell_type": "code",
   "execution_count": 14,
   "metadata": {},
   "outputs": [
    {
     "data": {
      "image/png": "[encoded data removed]",
      "text/plain": [
       "<Figure size 576x576 with 2 Axes>"
      ]
     },
     "metadata": {
      "needs_background": "light"
     },
     "output_type": "display_data"
    }
   ],
   "source": [
    "msno.heatmap(mis_data, figsize=(8,8));"
   ]
  },
  {
   "cell_type": "markdown",
   "metadata": {},
   "source": [
    "**5.Comment on the missingness patterns and the missingness mechanisms by examining original data, missing data and your findings in the previous question.**    \n",
    "\n",
    "**For simplicity to check the missingness mechanism, use the given variable sets for each missing variables.**  \n",
    "\n",
    "- for x6 consider x1, x3, x7   \n",
    "- for x7 consider x8, x9, x10   \n",
    "- for x10 consider x7, x8, x9   \n",
    "\n",
    "> a. First use only the missing data set.   \n",
    "> b. Then use both the original data set and the missing data set. Do the outcomes of this part support the findings in part a?\n",
    "\n",
    "Justify your comments by carrying out some analysis.\n",
    "\n",
    "<font color=#C91414> Hint: You can make different comparisons on attributes while a specific attribute exists or missing. In part B, you can simply reuse your tests and codes on complete data set.</font> \n"
   ]
  },
  {
   "cell_type": "code",
   "execution_count": 15,
   "metadata": {},
   "outputs": [],
   "source": [
    "## answer\n",
    "## missingness pattern"
   ]
  },
  {
   "cell_type": "code",
   "execution_count": 16,
   "metadata": {},
   "outputs": [
    {
     "data": {
      "image/png": "[encoded data removed]",
      "text/plain": [
       "<Figure size 576x576 with 3 Axes>"
      ]
     },
     "metadata": {
      "needs_background": "light"
     },
     "output_type": "display_data"
    }
   ],
   "source": [
    "msno.bar(mis_data, figsize=(8,8));"
   ]
  },
  {
   "cell_type": "code",
   "execution_count": 17,
   "metadata": {},
   "outputs": [
    {
     "data": {
      "image/png": "[encoded data removed]",
      "text/plain": [
       "<Figure size 576x576 with 2 Axes>"
      ]
     },
     "metadata": {
      "needs_background": "light"
     },
     "output_type": "display_data"
    }
   ],
   "source": [
    "msno.matrix(mis_data, figsize=(8,8));"
   ]
  },
  {
   "cell_type": "code",
   "execution_count": 18,
   "metadata": {},
   "outputs": [
    {
     "data": {
      "image/png": "[encoded data removed]",
      "text/plain": [
       "<Figure size 576x576 with 2 Axes>"
      ]
     },
     "metadata": {
      "needs_background": "light"
     },
     "output_type": "display_data"
    }
   ],
   "source": [
    "msno.heatmap(mis_data, figsize=(8,8));"
   ]
  },
  {
   "cell_type": "markdown",
   "metadata": {},
   "source": [
    "By considering Bar chart, it shows that x1, x4, x5, x11 and target as attributes have nonmissing values. However, the other attributes have missing values. For example, x6 has the highest number of missing values as it can be seen from bar chart. The number of missing values can be ordered descendingly regarding attributes as follows: x6>x7>x10>x3>x2>x8>x9\n",
    "\n",
    "By considering matrix, white line shows missing value within the attributes. If no white lines exist in the attributes regarding matrix, the attributes have nonmissing values. For instance, x1, x4, x5, x11 and target have nonmissing values. The sparkline at right of the matrix shows rows with the maximum and minimum nullity in the dataset. For example, maximum number of nonmissing value in the one row is 12 that means at least one row has nonmissing values because number of attributes is 12. Also, minimum number of nonmissing value in the one row is 6 that means at least 6 attributes have nonmissing values in the one row. Moreover, missingness pattern of x2 and x3 looks similar due to white line(missing value) similarity and large number of missing values exist in x6 compared to other attributes. Moreover, missingness patern looks like general. In other words, the pattern does not look like univariate nonresponse, unit nonresponse pattern, monotone, file matching or factor analysis. Lastly, latent data which means data that are missing on a variable for all cases and unit non-response which means data that are missing on all variables for some cases do not exist in our dataset. \n",
    "\n",
    "By considering heatmap, the correlation of missingness between x3 and x2 is 0.6 that is a value near 1. Therefore, we can say that when x3 appears, x2 is likely to be present. Also, x9 and x8 has weak dependence (correlation of missingness=0.3) between the occurence of missing values since correlation of missingness(0.3) is between 0 and 0.5. Moreover, regarding the other variables, we can say that there is no dependence between the occurrence of missing values of two variables.\n",
    "\n",
    "The comments above are related to missing data dataset. When we think of original data, there are no missing values in the original data. Therefore, Bar chart of original data shows that nonmissing value exists and matrix of original data indicates there are no white lines representing missing value within the attributes. Also, heatmap does not show anything since if there isn't any missing in an attribute/column, this attribute/column isn't shown in the heatmap."
   ]
  },
  {
   "cell_type": "code",
   "execution_count": 19,
   "metadata": {},
   "outputs": [
    {
     "data": {
      "text/html": [
       "<div>\n",
       "<style scoped>\n",
       "    .dataframe tbody tr th:only-of-type {\n",
       "        vertical-align: middle;\n",
       "    }\n",
       "\n",
       "    .dataframe tbody tr th {\n",
       "        vertical-align: top;\n",
       "    }\n",
       "\n",
       "    .dataframe thead th {\n",
       "        text-align: right;\n",
       "    }\n",
       "</style>\n",
       "<table border=\"1\" class=\"dataframe\">\n",
       "  <thead>\n",
       "    <tr style=\"text-align: right;\">\n",
       "      <th></th>\n",
       "      <th>x1</th>\n",
       "      <th>x2</th>\n",
       "      <th>x3</th>\n",
       "      <th>x4</th>\n",
       "      <th>x5</th>\n",
       "      <th>x6</th>\n",
       "      <th>x7</th>\n",
       "      <th>x8</th>\n",
       "      <th>x9</th>\n",
       "      <th>x10</th>\n",
       "      <th>x11</th>\n",
       "      <th>target</th>\n",
       "    </tr>\n",
       "  </thead>\n",
       "  <tbody>\n",
       "  </tbody>\n",
       "</table>\n",
       "</div>"
      ],
      "text/plain": [
       "Empty DataFrame\n",
       "Columns: [x1, x2, x3, x4, x5, x6, x7, x8, x9, x10, x11, target]\n",
       "Index: []"
      ]
     },
     "execution_count": 19,
     "metadata": {},
     "output_type": "execute_result"
    }
   ],
   "source": [
    "# There are no instances with fully empty data\n",
    "mis_data[mis_data.isnull().all(axis=1)]"
   ]
  },
  {
   "cell_type": "code",
   "execution_count": 20,
   "metadata": {},
   "outputs": [
    {
     "data": {
      "text/plain": [
       "2820"
      ]
     },
     "execution_count": 20,
     "metadata": {},
     "output_type": "execute_result"
    }
   ],
   "source": [
    "#Total number of missing values in the dataset\n",
    "mis_data.isnull().sum().sum()"
   ]
  },
  {
   "cell_type": "code",
   "execution_count": 21,
   "metadata": {},
   "outputs": [
    {
     "data": {
      "text/html": [
       "<div>\n",
       "<style scoped>\n",
       "    .dataframe tbody tr th:only-of-type {\n",
       "        vertical-align: middle;\n",
       "    }\n",
       "\n",
       "    .dataframe tbody tr th {\n",
       "        vertical-align: top;\n",
       "    }\n",
       "\n",
       "    .dataframe thead th {\n",
       "        text-align: right;\n",
       "    }\n",
       "</style>\n",
       "<table border=\"1\" class=\"dataframe\">\n",
       "  <thead>\n",
       "    <tr style=\"text-align: right;\">\n",
       "      <th></th>\n",
       "      <th>x1</th>\n",
       "      <th>x2</th>\n",
       "      <th>x3</th>\n",
       "      <th>x4</th>\n",
       "      <th>x5</th>\n",
       "      <th>x6</th>\n",
       "      <th>x7</th>\n",
       "      <th>x8</th>\n",
       "      <th>x9</th>\n",
       "      <th>x10</th>\n",
       "      <th>x11</th>\n",
       "      <th>target</th>\n",
       "    </tr>\n",
       "  </thead>\n",
       "  <tbody>\n",
       "    <tr>\n",
       "      <th>2</th>\n",
       "      <td>42.68</td>\n",
       "      <td>2.07</td>\n",
       "      <td>7.502324</td>\n",
       "      <td>1</td>\n",
       "      <td>6</td>\n",
       "      <td>67.82</td>\n",
       "      <td>26.48</td>\n",
       "      <td>25.08</td>\n",
       "      <td>21.74</td>\n",
       "      <td>62.3</td>\n",
       "      <td>11.40</td>\n",
       "      <td>0</td>\n",
       "    </tr>\n",
       "    <tr>\n",
       "      <th>6</th>\n",
       "      <td>41.42</td>\n",
       "      <td>7.66</td>\n",
       "      <td>16.820178</td>\n",
       "      <td>1</td>\n",
       "      <td>2</td>\n",
       "      <td>72.48</td>\n",
       "      <td>30.74</td>\n",
       "      <td>21.40</td>\n",
       "      <td>16.41</td>\n",
       "      <td>66.1</td>\n",
       "      <td>10.22</td>\n",
       "      <td>0</td>\n",
       "    </tr>\n",
       "    <tr>\n",
       "      <th>8</th>\n",
       "      <td>41.69</td>\n",
       "      <td>2.97</td>\n",
       "      <td>33.977555</td>\n",
       "      <td>0</td>\n",
       "      <td>6</td>\n",
       "      <td>68.95</td>\n",
       "      <td>27.54</td>\n",
       "      <td>27.43</td>\n",
       "      <td>23.70</td>\n",
       "      <td>61.7</td>\n",
       "      <td>11.61</td>\n",
       "      <td>0</td>\n",
       "    </tr>\n",
       "    <tr>\n",
       "      <th>9</th>\n",
       "      <td>38.66</td>\n",
       "      <td>1.88</td>\n",
       "      <td>16.620460</td>\n",
       "      <td>2</td>\n",
       "      <td>5</td>\n",
       "      <td>59.70</td>\n",
       "      <td>25.58</td>\n",
       "      <td>19.70</td>\n",
       "      <td>17.28</td>\n",
       "      <td>61.3</td>\n",
       "      <td>21.10</td>\n",
       "      <td>0</td>\n",
       "    </tr>\n",
       "    <tr>\n",
       "      <th>14</th>\n",
       "      <td>42.35</td>\n",
       "      <td>8.80</td>\n",
       "      <td>22.319527</td>\n",
       "      <td>1</td>\n",
       "      <td>7</td>\n",
       "      <td>67.06</td>\n",
       "      <td>39.90</td>\n",
       "      <td>23.85</td>\n",
       "      <td>19.51</td>\n",
       "      <td>59.3</td>\n",
       "      <td>5.38</td>\n",
       "      <td>0</td>\n",
       "    </tr>\n",
       "    <tr>\n",
       "      <th>...</th>\n",
       "      <td>...</td>\n",
       "      <td>...</td>\n",
       "      <td>...</td>\n",
       "      <td>...</td>\n",
       "      <td>...</td>\n",
       "      <td>...</td>\n",
       "      <td>...</td>\n",
       "      <td>...</td>\n",
       "      <td>...</td>\n",
       "      <td>...</td>\n",
       "      <td>...</td>\n",
       "      <td>...</td>\n",
       "    </tr>\n",
       "    <tr>\n",
       "      <th>2987</th>\n",
       "      <td>27.36</td>\n",
       "      <td>0.60</td>\n",
       "      <td>14.930687</td>\n",
       "      <td>1</td>\n",
       "      <td>2</td>\n",
       "      <td>68.49</td>\n",
       "      <td>32.66</td>\n",
       "      <td>49.97</td>\n",
       "      <td>16.19</td>\n",
       "      <td>51.4</td>\n",
       "      <td>15.95</td>\n",
       "      <td>1</td>\n",
       "    </tr>\n",
       "    <tr>\n",
       "      <th>2988</th>\n",
       "      <td>40.37</td>\n",
       "      <td>1.44</td>\n",
       "      <td>11.696020</td>\n",
       "      <td>1</td>\n",
       "      <td>7</td>\n",
       "      <td>60.45</td>\n",
       "      <td>25.09</td>\n",
       "      <td>47.74</td>\n",
       "      <td>20.23</td>\n",
       "      <td>52.5</td>\n",
       "      <td>6.97</td>\n",
       "      <td>0</td>\n",
       "    </tr>\n",
       "    <tr>\n",
       "      <th>2995</th>\n",
       "      <td>40.31</td>\n",
       "      <td>0.54</td>\n",
       "      <td>11.398028</td>\n",
       "      <td>1</td>\n",
       "      <td>10</td>\n",
       "      <td>68.07</td>\n",
       "      <td>28.46</td>\n",
       "      <td>56.22</td>\n",
       "      <td>20.64</td>\n",
       "      <td>65.8</td>\n",
       "      <td>11.92</td>\n",
       "      <td>0</td>\n",
       "    </tr>\n",
       "    <tr>\n",
       "      <th>2996</th>\n",
       "      <td>42.69</td>\n",
       "      <td>3.02</td>\n",
       "      <td>15.510137</td>\n",
       "      <td>0</td>\n",
       "      <td>5</td>\n",
       "      <td>66.49</td>\n",
       "      <td>24.45</td>\n",
       "      <td>55.78</td>\n",
       "      <td>20.31</td>\n",
       "      <td>53.2</td>\n",
       "      <td>7.52</td>\n",
       "      <td>0</td>\n",
       "    </tr>\n",
       "    <tr>\n",
       "      <th>2997</th>\n",
       "      <td>28.73</td>\n",
       "      <td>4.23</td>\n",
       "      <td>22.062557</td>\n",
       "      <td>1</td>\n",
       "      <td>6</td>\n",
       "      <td>63.24</td>\n",
       "      <td>28.35</td>\n",
       "      <td>57.91</td>\n",
       "      <td>17.48</td>\n",
       "      <td>63.2</td>\n",
       "      <td>10.36</td>\n",
       "      <td>1</td>\n",
       "    </tr>\n",
       "  </tbody>\n",
       "</table>\n",
       "<p>1170 rows × 12 columns</p>\n",
       "</div>"
      ],
      "text/plain": [
       "         x1    x2         x3  x4  x5     x6     x7     x8     x9   x10    x11  \\\n",
       "2     42.68  2.07   7.502324   1   6  67.82  26.48  25.08  21.74  62.3  11.40   \n",
       "6     41.42  7.66  16.820178   1   2  72.48  30.74  21.40  16.41  66.1  10.22   \n",
       "8     41.69  2.97  33.977555   0   6  68.95  27.54  27.43  23.70  61.7  11.61   \n",
       "9     38.66  1.88  16.620460   2   5  59.70  25.58  19.70  17.28  61.3  21.10   \n",
       "14    42.35  8.80  22.319527   1   7  67.06  39.90  23.85  19.51  59.3   5.38   \n",
       "...     ...   ...        ...  ..  ..    ...    ...    ...    ...   ...    ...   \n",
       "2987  27.36  0.60  14.930687   1   2  68.49  32.66  49.97  16.19  51.4  15.95   \n",
       "2988  40.37  1.44  11.696020   1   7  60.45  25.09  47.74  20.23  52.5   6.97   \n",
       "2995  40.31  0.54  11.398028   1  10  68.07  28.46  56.22  20.64  65.8  11.92   \n",
       "2996  42.69  3.02  15.510137   0   5  66.49  24.45  55.78  20.31  53.2   7.52   \n",
       "2997  28.73  4.23  22.062557   1   6  63.24  28.35  57.91  17.48  63.2  10.36   \n",
       "\n",
       "      target  \n",
       "2          0  \n",
       "6          0  \n",
       "8          0  \n",
       "9          0  \n",
       "14         0  \n",
       "...      ...  \n",
       "2987       1  \n",
       "2988       0  \n",
       "2995       0  \n",
       "2996       0  \n",
       "2997       1  \n",
       "\n",
       "[1170 rows x 12 columns]"
      ]
     },
     "execution_count": 21,
     "metadata": {},
     "output_type": "execute_result"
    }
   ],
   "source": [
    "#Instances which have no missing values\n",
    "mis_data[mis_data.notnull().all(axis=1)]"
   ]
  },
  {
   "cell_type": "code",
   "execution_count": 22,
   "metadata": {},
   "outputs": [
    {
     "data": {
      "text/html": [
       "<div>\n",
       "<style scoped>\n",
       "    .dataframe tbody tr th:only-of-type {\n",
       "        vertical-align: middle;\n",
       "    }\n",
       "\n",
       "    .dataframe tbody tr th {\n",
       "        vertical-align: top;\n",
       "    }\n",
       "\n",
       "    .dataframe thead th {\n",
       "        text-align: right;\n",
       "    }\n",
       "</style>\n",
       "<table border=\"1\" class=\"dataframe\">\n",
       "  <thead>\n",
       "    <tr style=\"text-align: right;\">\n",
       "      <th></th>\n",
       "      <th>x1</th>\n",
       "      <th>x2</th>\n",
       "      <th>x3</th>\n",
       "      <th>x4</th>\n",
       "      <th>x5</th>\n",
       "      <th>x6</th>\n",
       "      <th>x7</th>\n",
       "      <th>x8</th>\n",
       "      <th>x9</th>\n",
       "      <th>x10</th>\n",
       "      <th>x11</th>\n",
       "      <th>target</th>\n",
       "    </tr>\n",
       "  </thead>\n",
       "  <tbody>\n",
       "    <tr>\n",
       "      <th>0</th>\n",
       "      <td>54.52</td>\n",
       "      <td>2.22</td>\n",
       "      <td>10.386904</td>\n",
       "      <td>0</td>\n",
       "      <td>6</td>\n",
       "      <td>NaN</td>\n",
       "      <td>34.54</td>\n",
       "      <td>20.91</td>\n",
       "      <td>NaN</td>\n",
       "      <td>61.7</td>\n",
       "      <td>8.73</td>\n",
       "      <td>0</td>\n",
       "    </tr>\n",
       "    <tr>\n",
       "      <th>1</th>\n",
       "      <td>45.06</td>\n",
       "      <td>8.71</td>\n",
       "      <td>16.769842</td>\n",
       "      <td>0</td>\n",
       "      <td>3</td>\n",
       "      <td>74.88</td>\n",
       "      <td>46.53</td>\n",
       "      <td>NaN</td>\n",
       "      <td>NaN</td>\n",
       "      <td>64.0</td>\n",
       "      <td>10.08</td>\n",
       "      <td>1</td>\n",
       "    </tr>\n",
       "    <tr>\n",
       "      <th>3</th>\n",
       "      <td>28.96</td>\n",
       "      <td>9.19</td>\n",
       "      <td>NaN</td>\n",
       "      <td>1</td>\n",
       "      <td>8</td>\n",
       "      <td>54.74</td>\n",
       "      <td>NaN</td>\n",
       "      <td>22.36</td>\n",
       "      <td>18.75</td>\n",
       "      <td>57.3</td>\n",
       "      <td>16.85</td>\n",
       "      <td>1</td>\n",
       "    </tr>\n",
       "    <tr>\n",
       "      <th>4</th>\n",
       "      <td>40.06</td>\n",
       "      <td>4.88</td>\n",
       "      <td>22.511603</td>\n",
       "      <td>1</td>\n",
       "      <td>7</td>\n",
       "      <td>61.57</td>\n",
       "      <td>28.38</td>\n",
       "      <td>NaN</td>\n",
       "      <td>17.62</td>\n",
       "      <td>NaN</td>\n",
       "      <td>12.74</td>\n",
       "      <td>0</td>\n",
       "    </tr>\n",
       "    <tr>\n",
       "      <th>5</th>\n",
       "      <td>39.52</td>\n",
       "      <td>NaN</td>\n",
       "      <td>10.373459</td>\n",
       "      <td>1</td>\n",
       "      <td>6</td>\n",
       "      <td>70.47</td>\n",
       "      <td>NaN</td>\n",
       "      <td>26.90</td>\n",
       "      <td>19.90</td>\n",
       "      <td>NaN</td>\n",
       "      <td>7.73</td>\n",
       "      <td>0</td>\n",
       "    </tr>\n",
       "    <tr>\n",
       "      <th>...</th>\n",
       "      <td>...</td>\n",
       "      <td>...</td>\n",
       "      <td>...</td>\n",
       "      <td>...</td>\n",
       "      <td>...</td>\n",
       "      <td>...</td>\n",
       "      <td>...</td>\n",
       "      <td>...</td>\n",
       "      <td>...</td>\n",
       "      <td>...</td>\n",
       "      <td>...</td>\n",
       "      <td>...</td>\n",
       "    </tr>\n",
       "    <tr>\n",
       "      <th>2992</th>\n",
       "      <td>35.64</td>\n",
       "      <td>7.06</td>\n",
       "      <td>30.561046</td>\n",
       "      <td>2</td>\n",
       "      <td>5</td>\n",
       "      <td>64.06</td>\n",
       "      <td>NaN</td>\n",
       "      <td>49.94</td>\n",
       "      <td>17.71</td>\n",
       "      <td>NaN</td>\n",
       "      <td>7.97</td>\n",
       "      <td>1</td>\n",
       "    </tr>\n",
       "    <tr>\n",
       "      <th>2993</th>\n",
       "      <td>50.84</td>\n",
       "      <td>1.77</td>\n",
       "      <td>43.480629</td>\n",
       "      <td>2</td>\n",
       "      <td>6</td>\n",
       "      <td>NaN</td>\n",
       "      <td>21.99</td>\n",
       "      <td>52.34</td>\n",
       "      <td>NaN</td>\n",
       "      <td>58.4</td>\n",
       "      <td>16.25</td>\n",
       "      <td>0</td>\n",
       "    </tr>\n",
       "    <tr>\n",
       "      <th>2994</th>\n",
       "      <td>38.73</td>\n",
       "      <td>7.62</td>\n",
       "      <td>NaN</td>\n",
       "      <td>1</td>\n",
       "      <td>7</td>\n",
       "      <td>64.58</td>\n",
       "      <td>36.06</td>\n",
       "      <td>43.90</td>\n",
       "      <td>19.83</td>\n",
       "      <td>62.0</td>\n",
       "      <td>11.98</td>\n",
       "      <td>0</td>\n",
       "    </tr>\n",
       "    <tr>\n",
       "      <th>2998</th>\n",
       "      <td>57.59</td>\n",
       "      <td>7.32</td>\n",
       "      <td>14.103525</td>\n",
       "      <td>1</td>\n",
       "      <td>10</td>\n",
       "      <td>NaN</td>\n",
       "      <td>23.09</td>\n",
       "      <td>NaN</td>\n",
       "      <td>18.86</td>\n",
       "      <td>52.4</td>\n",
       "      <td>10.26</td>\n",
       "      <td>0</td>\n",
       "    </tr>\n",
       "    <tr>\n",
       "      <th>2999</th>\n",
       "      <td>39.50</td>\n",
       "      <td>NaN</td>\n",
       "      <td>11.382163</td>\n",
       "      <td>1</td>\n",
       "      <td>3</td>\n",
       "      <td>65.71</td>\n",
       "      <td>46.38</td>\n",
       "      <td>56.17</td>\n",
       "      <td>21.41</td>\n",
       "      <td>53.3</td>\n",
       "      <td>16.06</td>\n",
       "      <td>1</td>\n",
       "    </tr>\n",
       "  </tbody>\n",
       "</table>\n",
       "<p>1830 rows × 12 columns</p>\n",
       "</div>"
      ],
      "text/plain": [
       "         x1    x2         x3  x4  x5     x6     x7     x8     x9   x10    x11  \\\n",
       "0     54.52  2.22  10.386904   0   6    NaN  34.54  20.91    NaN  61.7   8.73   \n",
       "1     45.06  8.71  16.769842   0   3  74.88  46.53    NaN    NaN  64.0  10.08   \n",
       "3     28.96  9.19        NaN   1   8  54.74    NaN  22.36  18.75  57.3  16.85   \n",
       "4     40.06  4.88  22.511603   1   7  61.57  28.38    NaN  17.62   NaN  12.74   \n",
       "5     39.52   NaN  10.373459   1   6  70.47    NaN  26.90  19.90   NaN   7.73   \n",
       "...     ...   ...        ...  ..  ..    ...    ...    ...    ...   ...    ...   \n",
       "2992  35.64  7.06  30.561046   2   5  64.06    NaN  49.94  17.71   NaN   7.97   \n",
       "2993  50.84  1.77  43.480629   2   6    NaN  21.99  52.34    NaN  58.4  16.25   \n",
       "2994  38.73  7.62        NaN   1   7  64.58  36.06  43.90  19.83  62.0  11.98   \n",
       "2998  57.59  7.32  14.103525   1  10    NaN  23.09    NaN  18.86  52.4  10.26   \n",
       "2999  39.50   NaN  11.382163   1   3  65.71  46.38  56.17  21.41  53.3  16.06   \n",
       "\n",
       "      target  \n",
       "0          0  \n",
       "1          1  \n",
       "3          1  \n",
       "4          0  \n",
       "5          0  \n",
       "...      ...  \n",
       "2992       1  \n",
       "2993       0  \n",
       "2994       0  \n",
       "2998       0  \n",
       "2999       1  \n",
       "\n",
       "[1830 rows x 12 columns]"
      ]
     },
     "execution_count": 22,
     "metadata": {},
     "output_type": "execute_result"
    }
   ],
   "source": [
    "#Instances which have at least one missing value\n",
    "mis_data[mis_data.isnull().any(axis=1)]"
   ]
  },
  {
   "cell_type": "code",
   "execution_count": 23,
   "metadata": {},
   "outputs": [],
   "source": [
    "## answer\n",
    "## missingness mechanisms"
   ]
  },
  {
   "cell_type": "markdown",
   "metadata": {},
   "source": [
    "In both original data and missing data, x4, x5 and target have integer variables. Values of x4 is 0,1,2; values of x5 is 0,1,2,3,..,14; values of target is 0 and 1. Since x5 has 14 different values, x5 can be considered as numerical variables. On the other hand, x4 and target can be considered as categorical variables since they have little number of different values like 0,1,2. Also, since type of the other variables is float, they can be considered as numrical variables."
   ]
  },
  {
   "cell_type": "code",
   "execution_count": 24,
   "metadata": {},
   "outputs": [
    {
     "data": {
      "text/plain": [
       "x1        float64\n",
       "x2        float64\n",
       "x3        float64\n",
       "x4          int64\n",
       "x5          int64\n",
       "x6        float64\n",
       "x7        float64\n",
       "x8        float64\n",
       "x9        float64\n",
       "x10       float64\n",
       "x11       float64\n",
       "target      int64\n",
       "dtype: object"
      ]
     },
     "execution_count": 24,
     "metadata": {},
     "output_type": "execute_result"
    }
   ],
   "source": [
    "data.dtypes"
   ]
  },
  {
   "cell_type": "code",
   "execution_count": 25,
   "metadata": {},
   "outputs": [
    {
     "data": {
      "text/plain": [
       "x1        float64\n",
       "x2        float64\n",
       "x3        float64\n",
       "x4          int64\n",
       "x5          int64\n",
       "x6        float64\n",
       "x7        float64\n",
       "x8        float64\n",
       "x9        float64\n",
       "x10       float64\n",
       "x11       float64\n",
       "target      int64\n",
       "dtype: object"
      ]
     },
     "execution_count": 25,
     "metadata": {},
     "output_type": "execute_result"
    }
   ],
   "source": [
    "mis_data.dtypes"
   ]
  },
  {
   "cell_type": "code",
   "execution_count": 26,
   "metadata": {},
   "outputs": [
    {
     "data": {
      "text/plain": [
       "array([0, 1, 2], dtype=int64)"
      ]
     },
     "execution_count": 26,
     "metadata": {},
     "output_type": "execute_result"
    }
   ],
   "source": [
    "data[\"x4\"].unique()"
   ]
  },
  {
   "cell_type": "code",
   "execution_count": 27,
   "metadata": {},
   "outputs": [
    {
     "data": {
      "text/plain": [
       "array([ 6,  3,  8,  7,  2,  5, 10,  4,  9,  1, 12,  0, 13, 11, 14],\n",
       "      dtype=int64)"
      ]
     },
     "execution_count": 27,
     "metadata": {},
     "output_type": "execute_result"
    }
   ],
   "source": [
    "data[\"x5\"].unique()"
   ]
  },
  {
   "cell_type": "code",
   "execution_count": 28,
   "metadata": {},
   "outputs": [
    {
     "data": {
      "text/plain": [
       "array([0, 1], dtype=int64)"
      ]
     },
     "execution_count": 28,
     "metadata": {},
     "output_type": "execute_result"
    }
   ],
   "source": [
    "data[\"target\"].unique()"
   ]
  },
  {
   "cell_type": "code",
   "execution_count": 29,
   "metadata": {},
   "outputs": [
    {
     "data": {
      "text/plain": [
       "array([0, 1, 2], dtype=int64)"
      ]
     },
     "execution_count": 29,
     "metadata": {},
     "output_type": "execute_result"
    }
   ],
   "source": [
    "mis_data[\"x4\"].unique()"
   ]
  },
  {
   "cell_type": "code",
   "execution_count": 30,
   "metadata": {},
   "outputs": [
    {
     "data": {
      "text/plain": [
       "array([ 6,  3,  8,  7,  2,  5, 10,  4,  9,  1, 12,  0, 13, 11, 14],\n",
       "      dtype=int64)"
      ]
     },
     "execution_count": 30,
     "metadata": {},
     "output_type": "execute_result"
    }
   ],
   "source": [
    "mis_data[\"x5\"].unique()"
   ]
  },
  {
   "cell_type": "code",
   "execution_count": 31,
   "metadata": {},
   "outputs": [
    {
     "data": {
      "text/plain": [
       "array([0, 1], dtype=int64)"
      ]
     },
     "execution_count": 31,
     "metadata": {},
     "output_type": "execute_result"
    }
   ],
   "source": [
    "mis_data[\"target\"].unique()"
   ]
  },
  {
   "cell_type": "code",
   "execution_count": 32,
   "metadata": {},
   "outputs": [
    {
     "data": {
      "text/html": [
       "<div>\n",
       "<style scoped>\n",
       "    .dataframe tbody tr th:only-of-type {\n",
       "        vertical-align: middle;\n",
       "    }\n",
       "\n",
       "    .dataframe tbody tr th {\n",
       "        vertical-align: top;\n",
       "    }\n",
       "\n",
       "    .dataframe thead th {\n",
       "        text-align: right;\n",
       "    }\n",
       "</style>\n",
       "<table border=\"1\" class=\"dataframe\">\n",
       "  <thead>\n",
       "    <tr style=\"text-align: right;\">\n",
       "      <th></th>\n",
       "      <th>x1</th>\n",
       "      <th>x2</th>\n",
       "      <th>x3</th>\n",
       "      <th>x4</th>\n",
       "      <th>x5</th>\n",
       "      <th>x6</th>\n",
       "      <th>x7</th>\n",
       "      <th>x8</th>\n",
       "      <th>x9</th>\n",
       "      <th>x10</th>\n",
       "      <th>x11</th>\n",
       "      <th>target</th>\n",
       "    </tr>\n",
       "  </thead>\n",
       "  <tbody>\n",
       "    <tr>\n",
       "      <th>count</th>\n",
       "      <td>3000.000000</td>\n",
       "      <td>3000.000000</td>\n",
       "      <td>3000.000000</td>\n",
       "      <td>3000.0000</td>\n",
       "      <td>3000.000000</td>\n",
       "      <td>3000.000000</td>\n",
       "      <td>3000.00000</td>\n",
       "      <td>3000.000000</td>\n",
       "      <td>3000.000000</td>\n",
       "      <td>3000.000000</td>\n",
       "      <td>3000.000000</td>\n",
       "      <td>3000.000000</td>\n",
       "    </tr>\n",
       "    <tr>\n",
       "      <th>mean</th>\n",
       "      <td>41.870663</td>\n",
       "      <td>4.991567</td>\n",
       "      <td>17.254122</td>\n",
       "      <td>0.9090</td>\n",
       "      <td>5.037667</td>\n",
       "      <td>62.829843</td>\n",
       "      <td>29.68375</td>\n",
       "      <td>40.651577</td>\n",
       "      <td>19.089263</td>\n",
       "      <td>59.918600</td>\n",
       "      <td>10.514563</td>\n",
       "      <td>0.282000</td>\n",
       "    </tr>\n",
       "    <tr>\n",
       "      <th>std</th>\n",
       "      <td>6.948558</td>\n",
       "      <td>2.863294</td>\n",
       "      <td>9.065634</td>\n",
       "      <td>0.7049</td>\n",
       "      <td>2.223937</td>\n",
       "      <td>10.156736</td>\n",
       "      <td>8.57979</td>\n",
       "      <td>15.902000</td>\n",
       "      <td>2.953550</td>\n",
       "      <td>5.721086</td>\n",
       "      <td>3.365819</td>\n",
       "      <td>0.450048</td>\n",
       "    </tr>\n",
       "    <tr>\n",
       "      <th>min</th>\n",
       "      <td>19.780000</td>\n",
       "      <td>0.000000</td>\n",
       "      <td>6.079569</td>\n",
       "      <td>0.0000</td>\n",
       "      <td>0.000000</td>\n",
       "      <td>0.680000</td>\n",
       "      <td>8.87000</td>\n",
       "      <td>2.790000</td>\n",
       "      <td>9.780000</td>\n",
       "      <td>50.000000</td>\n",
       "      <td>5.120000</td>\n",
       "      <td>0.000000</td>\n",
       "    </tr>\n",
       "    <tr>\n",
       "      <th>25%</th>\n",
       "      <td>37.227500</td>\n",
       "      <td>2.517500</td>\n",
       "      <td>10.816362</td>\n",
       "      <td>0.0000</td>\n",
       "      <td>4.000000</td>\n",
       "      <td>58.575000</td>\n",
       "      <td>23.51750</td>\n",
       "      <td>24.847500</td>\n",
       "      <td>17.100000</td>\n",
       "      <td>55.075000</td>\n",
       "      <td>8.200000</td>\n",
       "      <td>0.000000</td>\n",
       "    </tr>\n",
       "    <tr>\n",
       "      <th>50%</th>\n",
       "      <td>41.880000</td>\n",
       "      <td>4.970000</td>\n",
       "      <td>14.678822</td>\n",
       "      <td>1.0000</td>\n",
       "      <td>5.000000</td>\n",
       "      <td>65.620000</td>\n",
       "      <td>28.35500</td>\n",
       "      <td>45.725000</td>\n",
       "      <td>19.105000</td>\n",
       "      <td>59.800000</td>\n",
       "      <td>9.920000</td>\n",
       "      <td>0.000000</td>\n",
       "    </tr>\n",
       "    <tr>\n",
       "      <th>75%</th>\n",
       "      <td>46.595000</td>\n",
       "      <td>7.490000</td>\n",
       "      <td>20.793522</td>\n",
       "      <td>1.0000</td>\n",
       "      <td>6.000000</td>\n",
       "      <td>69.392500</td>\n",
       "      <td>34.39500</td>\n",
       "      <td>53.810000</td>\n",
       "      <td>21.040000</td>\n",
       "      <td>64.800000</td>\n",
       "      <td>12.020000</td>\n",
       "      <td>1.000000</td>\n",
       "    </tr>\n",
       "    <tr>\n",
       "      <th>max</th>\n",
       "      <td>67.920000</td>\n",
       "      <td>10.000000</td>\n",
       "      <td>106.512752</td>\n",
       "      <td>2.0000</td>\n",
       "      <td>14.000000</td>\n",
       "      <td>85.840000</td>\n",
       "      <td>129.32000</td>\n",
       "      <td>76.570000</td>\n",
       "      <td>31.820000</td>\n",
       "      <td>70.000000</td>\n",
       "      <td>30.180000</td>\n",
       "      <td>1.000000</td>\n",
       "    </tr>\n",
       "  </tbody>\n",
       "</table>\n",
       "</div>"
      ],
      "text/plain": [
       "                x1           x2           x3         x4           x5  \\\n",
       "count  3000.000000  3000.000000  3000.000000  3000.0000  3000.000000   \n",
       "mean     41.870663     4.991567    17.254122     0.9090     5.037667   \n",
       "std       6.948558     2.863294     9.065634     0.7049     2.223937   \n",
       "min      19.780000     0.000000     6.079569     0.0000     0.000000   \n",
       "25%      37.227500     2.517500    10.816362     0.0000     4.000000   \n",
       "50%      41.880000     4.970000    14.678822     1.0000     5.000000   \n",
       "75%      46.595000     7.490000    20.793522     1.0000     6.000000   \n",
       "max      67.920000    10.000000   106.512752     2.0000    14.000000   \n",
       "\n",
       "                x6          x7           x8           x9          x10  \\\n",
       "count  3000.000000  3000.00000  3000.000000  3000.000000  3000.000000   \n",
       "mean     62.829843    29.68375    40.651577    19.089263    59.918600   \n",
       "std      10.156736     8.57979    15.902000     2.953550     5.721086   \n",
       "min       0.680000     8.87000     2.790000     9.780000    50.000000   \n",
       "25%      58.575000    23.51750    24.847500    17.100000    55.075000   \n",
       "50%      65.620000    28.35500    45.725000    19.105000    59.800000   \n",
       "75%      69.392500    34.39500    53.810000    21.040000    64.800000   \n",
       "max      85.840000   129.32000    76.570000    31.820000    70.000000   \n",
       "\n",
       "               x11       target  \n",
       "count  3000.000000  3000.000000  \n",
       "mean     10.514563     0.282000  \n",
       "std       3.365819     0.450048  \n",
       "min       5.120000     0.000000  \n",
       "25%       8.200000     0.000000  \n",
       "50%       9.920000     0.000000  \n",
       "75%      12.020000     1.000000  \n",
       "max      30.180000     1.000000  "
      ]
     },
     "execution_count": 32,
     "metadata": {},
     "output_type": "execute_result"
    }
   ],
   "source": [
    "data.describe()"
   ]
  },
  {
   "cell_type": "code",
   "execution_count": 33,
   "metadata": {},
   "outputs": [
    {
     "data": {
      "text/html": [
       "<div>\n",
       "<style scoped>\n",
       "    .dataframe tbody tr th:only-of-type {\n",
       "        vertical-align: middle;\n",
       "    }\n",
       "\n",
       "    .dataframe tbody tr th {\n",
       "        vertical-align: top;\n",
       "    }\n",
       "\n",
       "    .dataframe thead th {\n",
       "        text-align: right;\n",
       "    }\n",
       "</style>\n",
       "<table border=\"1\" class=\"dataframe\">\n",
       "  <thead>\n",
       "    <tr style=\"text-align: right;\">\n",
       "      <th></th>\n",
       "      <th>x1</th>\n",
       "      <th>x2</th>\n",
       "      <th>x3</th>\n",
       "      <th>x4</th>\n",
       "      <th>x5</th>\n",
       "      <th>x6</th>\n",
       "      <th>x7</th>\n",
       "      <th>x8</th>\n",
       "      <th>x9</th>\n",
       "      <th>x10</th>\n",
       "      <th>x11</th>\n",
       "      <th>target</th>\n",
       "    </tr>\n",
       "  </thead>\n",
       "  <tbody>\n",
       "    <tr>\n",
       "      <th>count</th>\n",
       "      <td>3000.000000</td>\n",
       "      <td>2701.000000</td>\n",
       "      <td>2607.000000</td>\n",
       "      <td>3000.0000</td>\n",
       "      <td>3000.000000</td>\n",
       "      <td>2181.000000</td>\n",
       "      <td>2560.000000</td>\n",
       "      <td>2720.000000</td>\n",
       "      <td>2850.000000</td>\n",
       "      <td>2561.000000</td>\n",
       "      <td>3000.000000</td>\n",
       "      <td>3000.000000</td>\n",
       "    </tr>\n",
       "    <tr>\n",
       "      <th>mean</th>\n",
       "      <td>41.870663</td>\n",
       "      <td>5.000396</td>\n",
       "      <td>17.216713</td>\n",
       "      <td>0.9090</td>\n",
       "      <td>5.037667</td>\n",
       "      <td>62.941302</td>\n",
       "      <td>29.643449</td>\n",
       "      <td>40.649761</td>\n",
       "      <td>19.068179</td>\n",
       "      <td>58.446896</td>\n",
       "      <td>10.514563</td>\n",
       "      <td>0.282000</td>\n",
       "    </tr>\n",
       "    <tr>\n",
       "      <th>std</th>\n",
       "      <td>6.948558</td>\n",
       "      <td>2.855768</td>\n",
       "      <td>9.023077</td>\n",
       "      <td>0.7049</td>\n",
       "      <td>2.223937</td>\n",
       "      <td>10.183987</td>\n",
       "      <td>8.586283</td>\n",
       "      <td>15.911694</td>\n",
       "      <td>2.947424</td>\n",
       "      <td>4.838840</td>\n",
       "      <td>3.365819</td>\n",
       "      <td>0.450048</td>\n",
       "    </tr>\n",
       "    <tr>\n",
       "      <th>min</th>\n",
       "      <td>19.780000</td>\n",
       "      <td>0.000000</td>\n",
       "      <td>6.079569</td>\n",
       "      <td>0.0000</td>\n",
       "      <td>0.000000</td>\n",
       "      <td>0.680000</td>\n",
       "      <td>8.870000</td>\n",
       "      <td>2.790000</td>\n",
       "      <td>9.780000</td>\n",
       "      <td>50.000000</td>\n",
       "      <td>5.120000</td>\n",
       "      <td>0.000000</td>\n",
       "    </tr>\n",
       "    <tr>\n",
       "      <th>25%</th>\n",
       "      <td>37.227500</td>\n",
       "      <td>2.550000</td>\n",
       "      <td>10.826434</td>\n",
       "      <td>0.0000</td>\n",
       "      <td>4.000000</td>\n",
       "      <td>58.720000</td>\n",
       "      <td>23.477500</td>\n",
       "      <td>24.832500</td>\n",
       "      <td>17.060000</td>\n",
       "      <td>54.300000</td>\n",
       "      <td>8.200000</td>\n",
       "      <td>0.000000</td>\n",
       "    </tr>\n",
       "    <tr>\n",
       "      <th>50%</th>\n",
       "      <td>41.880000</td>\n",
       "      <td>4.980000</td>\n",
       "      <td>14.647223</td>\n",
       "      <td>1.0000</td>\n",
       "      <td>5.000000</td>\n",
       "      <td>65.680000</td>\n",
       "      <td>28.335000</td>\n",
       "      <td>45.705000</td>\n",
       "      <td>19.080000</td>\n",
       "      <td>58.500000</td>\n",
       "      <td>9.920000</td>\n",
       "      <td>0.000000</td>\n",
       "    </tr>\n",
       "    <tr>\n",
       "      <th>75%</th>\n",
       "      <td>46.595000</td>\n",
       "      <td>7.490000</td>\n",
       "      <td>20.760140</td>\n",
       "      <td>1.0000</td>\n",
       "      <td>6.000000</td>\n",
       "      <td>69.500000</td>\n",
       "      <td>34.395000</td>\n",
       "      <td>53.815000</td>\n",
       "      <td>21.000000</td>\n",
       "      <td>62.600000</td>\n",
       "      <td>12.020000</td>\n",
       "      <td>1.000000</td>\n",
       "    </tr>\n",
       "    <tr>\n",
       "      <th>max</th>\n",
       "      <td>67.920000</td>\n",
       "      <td>10.000000</td>\n",
       "      <td>106.512752</td>\n",
       "      <td>2.0000</td>\n",
       "      <td>14.000000</td>\n",
       "      <td>85.380000</td>\n",
       "      <td>129.320000</td>\n",
       "      <td>76.570000</td>\n",
       "      <td>31.820000</td>\n",
       "      <td>67.000000</td>\n",
       "      <td>30.180000</td>\n",
       "      <td>1.000000</td>\n",
       "    </tr>\n",
       "  </tbody>\n",
       "</table>\n",
       "</div>"
      ],
      "text/plain": [
       "                x1           x2           x3         x4           x5  \\\n",
       "count  3000.000000  2701.000000  2607.000000  3000.0000  3000.000000   \n",
       "mean     41.870663     5.000396    17.216713     0.9090     5.037667   \n",
       "std       6.948558     2.855768     9.023077     0.7049     2.223937   \n",
       "min      19.780000     0.000000     6.079569     0.0000     0.000000   \n",
       "25%      37.227500     2.550000    10.826434     0.0000     4.000000   \n",
       "50%      41.880000     4.980000    14.647223     1.0000     5.000000   \n",
       "75%      46.595000     7.490000    20.760140     1.0000     6.000000   \n",
       "max      67.920000    10.000000   106.512752     2.0000    14.000000   \n",
       "\n",
       "                x6           x7           x8           x9          x10  \\\n",
       "count  2181.000000  2560.000000  2720.000000  2850.000000  2561.000000   \n",
       "mean     62.941302    29.643449    40.649761    19.068179    58.446896   \n",
       "std      10.183987     8.586283    15.911694     2.947424     4.838840   \n",
       "min       0.680000     8.870000     2.790000     9.780000    50.000000   \n",
       "25%      58.720000    23.477500    24.832500    17.060000    54.300000   \n",
       "50%      65.680000    28.335000    45.705000    19.080000    58.500000   \n",
       "75%      69.500000    34.395000    53.815000    21.000000    62.600000   \n",
       "max      85.380000   129.320000    76.570000    31.820000    67.000000   \n",
       "\n",
       "               x11       target  \n",
       "count  3000.000000  3000.000000  \n",
       "mean     10.514563     0.282000  \n",
       "std       3.365819     0.450048  \n",
       "min       5.120000     0.000000  \n",
       "25%       8.200000     0.000000  \n",
       "50%       9.920000     0.000000  \n",
       "75%      12.020000     1.000000  \n",
       "max      30.180000     1.000000  "
      ]
     },
     "execution_count": 33,
     "metadata": {},
     "output_type": "execute_result"
    }
   ],
   "source": [
    "mis_data.describe()"
   ]
  },
  {
   "cell_type": "markdown",
   "metadata": {},
   "source": [
    "- for x6 consider x1, x3, x7   \n",
    "- for x7 consider x8, x9, x10   \n",
    "- for x10 consider x7, x8, x9   \n",
    "\n",
    "> a. First use only the missing data set.   \n",
    "> b. Then use both the original data set and the missing data set. Do the outcomes of this part support the findings in part a?\n",
    "\n",
    "Justify your comments by carrying out some analysis."
   ]
  },
  {
   "cell_type": "markdown",
   "metadata": {},
   "source": [
    "> a. First use only the missing data set."
   ]
  },
  {
   "cell_type": "code",
   "execution_count": 34,
   "metadata": {},
   "outputs": [],
   "source": [
    "def create_missingness_map(mis_data):\n",
    "    columns=mis_data.columns\n",
    "    mis_map=pd.DataFrame(data=np.zeros(mis_data.shape), columns=mis_data.columns, dtype=int)\n",
    "    for col in columns:\n",
    "        col_mis_index=mis_data[mis_data[col].isnull()].index\n",
    "        mis_map.loc[col_mis_index,col]=1    \n",
    "    return mis_map"
   ]
  },
  {
   "cell_type": "code",
   "execution_count": 35,
   "metadata": {},
   "outputs": [
    {
     "data": {
      "text/html": [
       "<div>\n",
       "<style scoped>\n",
       "    .dataframe tbody tr th:only-of-type {\n",
       "        vertical-align: middle;\n",
       "    }\n",
       "\n",
       "    .dataframe tbody tr th {\n",
       "        vertical-align: top;\n",
       "    }\n",
       "\n",
       "    .dataframe thead th {\n",
       "        text-align: right;\n",
       "    }\n",
       "</style>\n",
       "<table border=\"1\" class=\"dataframe\">\n",
       "  <thead>\n",
       "    <tr style=\"text-align: right;\">\n",
       "      <th></th>\n",
       "      <th>x1</th>\n",
       "      <th>x2</th>\n",
       "      <th>x3</th>\n",
       "      <th>x4</th>\n",
       "      <th>x5</th>\n",
       "      <th>x6</th>\n",
       "      <th>x7</th>\n",
       "      <th>x8</th>\n",
       "      <th>x9</th>\n",
       "      <th>x10</th>\n",
       "      <th>x11</th>\n",
       "      <th>target</th>\n",
       "    </tr>\n",
       "  </thead>\n",
       "  <tbody>\n",
       "    <tr>\n",
       "      <th>0</th>\n",
       "      <td>0</td>\n",
       "      <td>0</td>\n",
       "      <td>0</td>\n",
       "      <td>0</td>\n",
       "      <td>0</td>\n",
       "      <td>1</td>\n",
       "      <td>0</td>\n",
       "      <td>0</td>\n",
       "      <td>1</td>\n",
       "      <td>0</td>\n",
       "      <td>0</td>\n",
       "      <td>0</td>\n",
       "    </tr>\n",
       "    <tr>\n",
       "      <th>1</th>\n",
       "      <td>0</td>\n",
       "      <td>0</td>\n",
       "      <td>0</td>\n",
       "      <td>0</td>\n",
       "      <td>0</td>\n",
       "      <td>0</td>\n",
       "      <td>0</td>\n",
       "      <td>1</td>\n",
       "      <td>1</td>\n",
       "      <td>0</td>\n",
       "      <td>0</td>\n",
       "      <td>0</td>\n",
       "    </tr>\n",
       "    <tr>\n",
       "      <th>2</th>\n",
       "      <td>0</td>\n",
       "      <td>0</td>\n",
       "      <td>0</td>\n",
       "      <td>0</td>\n",
       "      <td>0</td>\n",
       "      <td>0</td>\n",
       "      <td>0</td>\n",
       "      <td>0</td>\n",
       "      <td>0</td>\n",
       "      <td>0</td>\n",
       "      <td>0</td>\n",
       "      <td>0</td>\n",
       "    </tr>\n",
       "    <tr>\n",
       "      <th>3</th>\n",
       "      <td>0</td>\n",
       "      <td>0</td>\n",
       "      <td>1</td>\n",
       "      <td>0</td>\n",
       "      <td>0</td>\n",
       "      <td>0</td>\n",
       "      <td>1</td>\n",
       "      <td>0</td>\n",
       "      <td>0</td>\n",
       "      <td>0</td>\n",
       "      <td>0</td>\n",
       "      <td>0</td>\n",
       "    </tr>\n",
       "    <tr>\n",
       "      <th>4</th>\n",
       "      <td>0</td>\n",
       "      <td>0</td>\n",
       "      <td>0</td>\n",
       "      <td>0</td>\n",
       "      <td>0</td>\n",
       "      <td>0</td>\n",
       "      <td>0</td>\n",
       "      <td>1</td>\n",
       "      <td>0</td>\n",
       "      <td>1</td>\n",
       "      <td>0</td>\n",
       "      <td>0</td>\n",
       "    </tr>\n",
       "    <tr>\n",
       "      <th>5</th>\n",
       "      <td>0</td>\n",
       "      <td>1</td>\n",
       "      <td>0</td>\n",
       "      <td>0</td>\n",
       "      <td>0</td>\n",
       "      <td>0</td>\n",
       "      <td>1</td>\n",
       "      <td>0</td>\n",
       "      <td>0</td>\n",
       "      <td>1</td>\n",
       "      <td>0</td>\n",
       "      <td>0</td>\n",
       "    </tr>\n",
       "    <tr>\n",
       "      <th>6</th>\n",
       "      <td>0</td>\n",
       "      <td>0</td>\n",
       "      <td>0</td>\n",
       "      <td>0</td>\n",
       "      <td>0</td>\n",
       "      <td>0</td>\n",
       "      <td>0</td>\n",
       "      <td>0</td>\n",
       "      <td>0</td>\n",
       "      <td>0</td>\n",
       "      <td>0</td>\n",
       "      <td>0</td>\n",
       "    </tr>\n",
       "    <tr>\n",
       "      <th>7</th>\n",
       "      <td>0</td>\n",
       "      <td>0</td>\n",
       "      <td>0</td>\n",
       "      <td>0</td>\n",
       "      <td>0</td>\n",
       "      <td>0</td>\n",
       "      <td>0</td>\n",
       "      <td>1</td>\n",
       "      <td>0</td>\n",
       "      <td>0</td>\n",
       "      <td>0</td>\n",
       "      <td>0</td>\n",
       "    </tr>\n",
       "    <tr>\n",
       "      <th>8</th>\n",
       "      <td>0</td>\n",
       "      <td>0</td>\n",
       "      <td>0</td>\n",
       "      <td>0</td>\n",
       "      <td>0</td>\n",
       "      <td>0</td>\n",
       "      <td>0</td>\n",
       "      <td>0</td>\n",
       "      <td>0</td>\n",
       "      <td>0</td>\n",
       "      <td>0</td>\n",
       "      <td>0</td>\n",
       "    </tr>\n",
       "    <tr>\n",
       "      <th>9</th>\n",
       "      <td>0</td>\n",
       "      <td>0</td>\n",
       "      <td>0</td>\n",
       "      <td>0</td>\n",
       "      <td>0</td>\n",
       "      <td>0</td>\n",
       "      <td>0</td>\n",
       "      <td>0</td>\n",
       "      <td>0</td>\n",
       "      <td>0</td>\n",
       "      <td>0</td>\n",
       "      <td>0</td>\n",
       "    </tr>\n",
       "  </tbody>\n",
       "</table>\n",
       "</div>"
      ],
      "text/plain": [
       "   x1  x2  x3  x4  x5  x6  x7  x8  x9  x10  x11  target\n",
       "0   0   0   0   0   0   1   0   0   1    0    0       0\n",
       "1   0   0   0   0   0   0   0   1   1    0    0       0\n",
       "2   0   0   0   0   0   0   0   0   0    0    0       0\n",
       "3   0   0   1   0   0   0   1   0   0    0    0       0\n",
       "4   0   0   0   0   0   0   0   1   0    1    0       0\n",
       "5   0   1   0   0   0   0   1   0   0    1    0       0\n",
       "6   0   0   0   0   0   0   0   0   0    0    0       0\n",
       "7   0   0   0   0   0   0   0   1   0    0    0       0\n",
       "8   0   0   0   0   0   0   0   0   0    0    0       0\n",
       "9   0   0   0   0   0   0   0   0   0    0    0       0"
      ]
     },
     "execution_count": 35,
     "metadata": {},
     "output_type": "execute_result"
    }
   ],
   "source": [
    "mis_map=create_missingness_map(mis_data)\n",
    "mis_map.head(10)"
   ]
  },
  {
   "cell_type": "markdown",
   "metadata": {},
   "source": [
    "Since there are numerical variables (x1, x3, x6, x7, x8, x9 and x10) to examine reasons of missingness, missingness map will not use for further analysis. We put the missingness map so as to present general approach to understand missingness mechanism."
   ]
  },
  {
   "cell_type": "code",
   "execution_count": 36,
   "metadata": {},
   "outputs": [],
   "source": [
    "#for x6 consider x1, x3, x7"
   ]
  },
  {
   "cell_type": "markdown",
   "metadata": {},
   "source": [
    "x1, x3 and x7 are numerical attributes, so kolmogorov smirnov test can be applied in order to examine reasons of missingness of x6."
   ]
  },
  {
   "cell_type": "markdown",
   "metadata": {},
   "source": [
    "--------------\n",
    "$H_{0}$: Distribution of x1|x6_is_nan is same with distribution of x1|x6_is_complete.  \n",
    "$H_{1}$: Distribution of x1|x6_is_nan is different than distribution of x1|x6_is_complete.   "
   ]
  },
  {
   "cell_type": "markdown",
   "metadata": {},
   "source": [
    "--------------\n",
    "$H_{0}$: Distribution of x3|x6_is_nan is same with distribution of x3|x6_is_complete.  \n",
    "$H_{1}$: Distribution of x3|x6_is_nan is different than distribution of x3|x6_is_complete.   "
   ]
  },
  {
   "cell_type": "markdown",
   "metadata": {},
   "source": [
    "--------------\n",
    "$H_{0}$: Distribution of x7|x6_is_nan is same with distribution of x7|x6_is_complete.  \n",
    "$H_{1}$: Distribution of x7|x6_is_nan is different than distribution of x7|x6_is_complete.   "
   ]
  },
  {
   "cell_type": "code",
   "execution_count": 37,
   "metadata": {},
   "outputs": [
    {
     "name": "stdout",
     "output_type": "stream",
     "text": [
      "-------- distribution comparison of x1  while x6 exists and x6 is nan--------\n",
      "x1  p value:0.0000\n",
      "Reject null hypothesis >> The samples come from DIFFERENT distribution.\n",
      "-------- distribution comparison of x3  while x6 exists and x6 is nan--------\n",
      "x3  p value:0.2633\n",
      "Fail to reject null hypothesis >> The samples come from same distribution.\n",
      "-------- distribution comparison of x7  while x6 exists and x6 is nan--------\n",
      "x7  p value:0.9836\n",
      "Fail to reject null hypothesis >> The samples come from same distribution.\n"
     ]
    }
   ],
   "source": [
    "x6_mis_index = mis_data[mis_data[\"x6\"].isnull()].index ##Missing indexs of x6\n",
    "x6_complete_index = mis_data[mis_data[\"x6\"].notnull()].index ##Completed indexs of x6\n",
    "\n",
    "check_numerics=[\"x1\",\"x3\",\"x7\"]\n",
    "for column in check_numerics:\n",
    "    print(\"-------- distribution comparison of\", column, \" while x6 exists and x6 is nan--------\")\n",
    " \n",
    "    stat, pvalue= stats.ks_2samp(mis_data.loc[x6_mis_index,column],mis_data.loc[x6_complete_index,column])\n",
    "    print(column, \" p value:%.4f\" % pvalue)\n",
    "    if pvalue <0.05:\n",
    "        print(\"Reject null hypothesis >> The samples come from DIFFERENT distribution.\")\n",
    "    else:\n",
    "        print(\"Fail to reject null hypothesis >> The samples come from same distribution.\")"
   ]
  },
  {
   "cell_type": "markdown",
   "metadata": {},
   "source": [
    "Since null hypothesis rejects regarding distribution comparison of x1 and x6, we can conclude that missingness of x6 is not independent of x1.\n",
    "\n",
    "On the other hand, since null hypothesis fails to reject regarding distribution comparison of x3 and x6, we can conclude that missingness of x6 is independent of x3. Moreover, since null hypothesis fails to reject regarding distribution comparison of x7 and x6, we can conclude that missingness of x6 is independent of x7.\n",
    "\n",
    "Since missingness of x6 depends on other attribute like x1, data of x6 are not MCAR and it may be MAR or MNAR."
   ]
  },
  {
   "cell_type": "code",
   "execution_count": 38,
   "metadata": {},
   "outputs": [],
   "source": [
    "# for x7 consider x8, x9, x10"
   ]
  },
  {
   "cell_type": "markdown",
   "metadata": {},
   "source": [
    "x8, x9 and x10 are numerical attributes, so kolmogorov smirnov test can be applied in order to examine reasons of missingness of x7."
   ]
  },
  {
   "cell_type": "markdown",
   "metadata": {},
   "source": [
    "--------------\n",
    "$H_{0}$: Distribution of x8|x7_is_nan is same with distribution of x8|x7_is_complete.  \n",
    "$H_{1}$: Distribution of x8|x7_is_nan is different than distribution of x8|x7_is_complete.   "
   ]
  },
  {
   "cell_type": "markdown",
   "metadata": {},
   "source": [
    "--------------\n",
    "$H_{0}$: Distribution of x9|x7_is_nan is same with distribution of x9|x7_is_complete.  \n",
    "$H_{1}$: Distribution of x9|x7_is_nan is different than distribution of x9|x7_is_complete.   "
   ]
  },
  {
   "cell_type": "markdown",
   "metadata": {},
   "source": [
    "--------------\n",
    "$H_{0}$: Distribution of x10|x7_is_nan is same with distribution of x10|x7_is_complete.  \n",
    "$H_{1}$: Distribution of x10|x7_is_nan is different than distribution of x10|x7_is_complete.   "
   ]
  },
  {
   "cell_type": "code",
   "execution_count": 39,
   "metadata": {},
   "outputs": [
    {
     "name": "stdout",
     "output_type": "stream",
     "text": [
      "-------- distribution comparison of x8  while x7 exists and x7 is nan--------\n",
      "x8  p value:0.8774\n",
      "Fail to reject null hypothesis >> The samples come from same distribution.\n",
      "-------- distribution comparison of x9  while x7 exists and x7 is nan--------\n",
      "x9  p value:0.1938\n",
      "Fail to reject null hypothesis >> The samples come from same distribution.\n",
      "-------- distribution comparison of x10  while x7 exists and x7 is nan--------\n",
      "x10  p value:0.7508\n",
      "Fail to reject null hypothesis >> The samples come from same distribution.\n"
     ]
    }
   ],
   "source": [
    "x7_mis_index = mis_data[mis_data[\"x7\"].isnull()].index ##Missing indexs of x7\n",
    "x7_complete_index = mis_data[mis_data[\"x7\"].notnull()].index ##Completed indexs of x7\n",
    "\n",
    "check_numerics=[\"x8\",\"x9\",\"x10\"]\n",
    "for column in check_numerics:\n",
    "    print(\"-------- distribution comparison of\", column, \" while x7 exists and x7 is nan--------\")\n",
    " \n",
    "    stat, pvalue= stats.ks_2samp(mis_data.loc[x7_mis_index,column],mis_data.loc[x7_complete_index,column])\n",
    "    print(column, \" p value:%.4f\" % pvalue)\n",
    "    if pvalue <0.05:\n",
    "        print(\"Reject null hypothesis >> The samples come from DIFFERENT distribution.\")\n",
    "    else:\n",
    "        print(\"Fail to reject null hypothesis >> The samples come from same distribution.\")"
   ]
  },
  {
   "cell_type": "markdown",
   "metadata": {},
   "source": [
    "since null hypothesis fails to reject regarding distribution comparison of x8 and x7, we can conclude that missingness of x7 is independent of x8.\n",
    "\n",
    "since null hypothesis fails to reject regarding distribution comparison of x9 and x7, we can conclude that missingness of x7 is independent of x9.\n",
    "\n",
    "since null hypothesis fails to reject regarding distribution comparison of x10 and x7, we can conclude that missingness of x7 is independent of x10.\n",
    "\n",
    "Since missingness of x7 does not depend on other attribute like x8, x9 and x10, data of x7 may be MCAR."
   ]
  },
  {
   "cell_type": "code",
   "execution_count": 40,
   "metadata": {},
   "outputs": [],
   "source": [
    "# for x10 consider x7, x8, x9"
   ]
  },
  {
   "cell_type": "markdown",
   "metadata": {},
   "source": [
    "x7, x8 and x9 are numerical attributes, so kolmogorov smirnov test can be applied in order to examine reasons of missingness of x10."
   ]
  },
  {
   "cell_type": "markdown",
   "metadata": {},
   "source": [
    "--------------\n",
    "$H_{0}$: Distribution of x7|x10_is_nan is same with distribution of x7|x10_is_complete.  \n",
    "$H_{1}$: Distribution of x7|x10_is_nan is different than distribution of x7|x10_is_complete.   "
   ]
  },
  {
   "cell_type": "markdown",
   "metadata": {},
   "source": [
    "--------------\n",
    "$H_{0}$: Distribution of x8|x10_is_nan is same with distribution of x8|x10_is_complete.  \n",
    "$H_{1}$: Distribution of x8|x10_is_nan is different than distribution of x8|x10_is_complete. "
   ]
  },
  {
   "cell_type": "markdown",
   "metadata": {},
   "source": [
    "--------------\n",
    "$H_{0}$: Distribution of x9|x10_is_nan is same with distribution of x9|x10_is_complete.  \n",
    "$H_{1}$: Distribution of x9|x10_is_nan is different than distribution of x9|x10_is_complete. "
   ]
  },
  {
   "cell_type": "code",
   "execution_count": 41,
   "metadata": {},
   "outputs": [
    {
     "name": "stdout",
     "output_type": "stream",
     "text": [
      "-------- distribution comparison of x7  while x10 exists and x10 is nan--------\n",
      "x7  p value:0.4884\n",
      "Fail to reject null hypothesis >> The samples come from same distribution.\n",
      "-------- distribution comparison of x8  while x10 exists and x10 is nan--------\n",
      "x8  p value:0.5192\n",
      "Fail to reject null hypothesis >> The samples come from same distribution.\n",
      "-------- distribution comparison of x9  while x10 exists and x10 is nan--------\n",
      "x9  p value:0.9687\n",
      "Fail to reject null hypothesis >> The samples come from same distribution.\n"
     ]
    }
   ],
   "source": [
    "x10_mis_index = mis_data[mis_data[\"x10\"].isnull()].index ##Missing indexs of x10\n",
    "x10_complete_index = mis_data[mis_data[\"x10\"].notnull()].index ##Completed indexs of x10\n",
    "\n",
    "check_numerics=[\"x7\",\"x8\",\"x9\"]\n",
    "for column in check_numerics:\n",
    "    print(\"-------- distribution comparison of\", column, \" while x10 exists and x10 is nan--------\")\n",
    " \n",
    "    stat, pvalue= stats.ks_2samp(mis_data.loc[x10_mis_index,column],mis_data.loc[x10_complete_index,column])\n",
    "    print(column, \" p value:%.4f\" % pvalue)\n",
    "    if pvalue <0.05:\n",
    "        print(\"Reject null hypothesis >> The samples come from DIFFERENT distribution.\")\n",
    "    else:\n",
    "        print(\"Fail to reject null hypothesis >> The samples come from same distribution.\")"
   ]
  },
  {
   "cell_type": "markdown",
   "metadata": {},
   "source": [
    "since null hypothesis fails to reject regarding distribution comparison of x7 and x10, we can conclude that missingness of x10 is independent of x7.\n",
    "\n",
    "since null hypothesis fails to reject regarding distribution comparison of x8 and x10, we can conclude that missingness of x10 is independent of x8.\n",
    "\n",
    "since null hypothesis fails to reject regarding distribution comparison of x9 and x10, we can conclude that missingness of x10 is independent of x9.\n",
    "\n",
    "Since missingness of x10 does not depend on other attribute like x7, x8 and x9, data of x10 may be MCAR."
   ]
  },
  {
   "cell_type": "markdown",
   "metadata": {},
   "source": [
    "> b. Then use both the original data set and the missing data set. Do the outcomes of this part support the findings in part a?\n",
    "\n",
    "Justify your comments by carrying out some analysis.\n",
    "\n",
    "<font color=#C91414> Hint: You can make different comparisons on attributes while a specific attribute exists or missing. In part B, you can simply reuse your tests and codes on complete data set.</font> "
   ]
  },
  {
   "cell_type": "markdown",
   "metadata": {},
   "source": [
    "To deal with MCAR or MAR, we should take into account their assumptions. The first assumption of MCAR is that the probability that any variable is missing cannot depend on the value of any other variable in the model of interest. We have tested this assumption in part a by using only missing data. The second assumption of MCAR is that the probability that Xj is missing cannot depend on the value of Xj itself. We cannot check it in part a by using only missing data since we don’t know the missing values. In addition to MCAR, MAR has two assumptions as well. The first assumption of MAR is that the probability of missingness on a given variable Xj is related to any of the remaining variables Xi (i=1,...,j-1,j+1,...p) in the data set. We have tested this assumption in part a by using only missing data. The second assumption of MAR is that the probability of missingness does not depend on the values that are missing.  We cannot check it in part a by using only missing data since the missing values are not known. On the other hand, thanks to original data that has no missing values, we can check the second assumptions of both MCAR and MAR in part b by using both original data and missing data."
   ]
  },
  {
   "cell_type": "code",
   "execution_count": 42,
   "metadata": {},
   "outputs": [],
   "source": [
    "#for x6 consider x1, x3, x7"
   ]
  },
  {
   "cell_type": "markdown",
   "metadata": {},
   "source": [
    "--------------\n",
    "$H_{0}$: Distribution of x6|x6_is_nan_original_data is same with distribution of x6|x6_is_complete_original_data.  \n",
    "$H_{1}$: Distribution of x6|x6_is_nan_original_data is different than distribution of x6|x6_is_complete_original_data.  "
   ]
  },
  {
   "cell_type": "markdown",
   "metadata": {},
   "source": [
    "To test the second assumption, original data is used for missing values such that we know indexs of missing values and by the help of their indexs, the corresponding values in original data can be obtained. Also, we know values of complete data. By comparing distribution of values corresponding missing values in original data and distribution of values corresponding complete values in original data, we can check the second assumption."
   ]
  },
  {
   "cell_type": "code",
   "execution_count": 43,
   "metadata": {},
   "outputs": [
    {
     "name": "stdout",
     "output_type": "stream",
     "text": [
      "x6  p value:0.1536\n",
      "Fail to reject null hypothesis >> The samples come from same distribution.\n"
     ]
    }
   ],
   "source": [
    "x6_mis_index = mis_data[mis_data[\"x6\"].isnull()].index ##Missing indexs of x6\n",
    "x6_complete_index = mis_data[mis_data[\"x6\"].notnull()].index ##Completed indexs of x6\n",
    "\n",
    "stat, pvalue= stats.ks_2samp(data.loc[x6_mis_index,\"x6\"],mis_data.loc[x6_complete_index,\"x6\"])\n",
    "print(\"x6\", \" p value:%.4f\" % pvalue)\n",
    "if pvalue <0.05:\n",
    "    print(\"Reject null hypothesis >> The samples come from DIFFERENT distribution.\")\n",
    "else:\n",
    "    print(\"Fail to reject null hypothesis >> The samples come from same distribution.\")"
   ]
  },
  {
   "cell_type": "markdown",
   "metadata": {},
   "source": [
    "Since null hypothesis fails to reject, we can conclude that the probability that \"x6\" is missing does not depend on the value of \"x6\" itself.\n",
    "\n",
    "**Reference:** https://www.theanalysisfactor.com/missing-data-mechanism/"
   ]
  },
  {
   "cell_type": "markdown",
   "metadata": {},
   "source": [
    "Our finding in part b is that missingness of x6 does not depend on the value of \"x6\" itself. It satisfies the second assumption of MAR. Also, our finding in part a is that missingness of x6 depends on other attribute like x1. It satisfies the first assumption of MAR. Therefore, the outcomes in part b supports the finding in part a."
   ]
  },
  {
   "cell_type": "markdown",
   "metadata": {},
   "source": [
    "1-Since missingness of x6 depends on other attribute like x1, data of x6 are not MCAR. (First Assumption)\n",
    "\n",
    "2-Since missingness of x6 does not depend on the value of \"x6\" itself. (Second Assumption)\n",
    "\n",
    "Thus, data of x6 is MAR."
   ]
  },
  {
   "cell_type": "code",
   "execution_count": 44,
   "metadata": {},
   "outputs": [],
   "source": [
    "# for x7 consider x8, x9, x10"
   ]
  },
  {
   "cell_type": "markdown",
   "metadata": {},
   "source": [
    "--------------\n",
    "$H_{0}$: Distribution of x7|x7_is_nan_original_data is same with distribution of x7|x7_is_complete_original_data.  \n",
    "$H_{1}$: Distribution of x7|x7_is_nan_original_data is different than distribution of x7|x7_is_complete_original_data.  "
   ]
  },
  {
   "cell_type": "code",
   "execution_count": 45,
   "metadata": {},
   "outputs": [
    {
     "name": "stdout",
     "output_type": "stream",
     "text": [
      "x7  p value:0.8265\n",
      "Fail to reject null hypothesis >> The samples come from same distribution.\n"
     ]
    }
   ],
   "source": [
    "x7_mis_index = mis_data[mis_data[\"x7\"].isnull()].index ##Missing indexs of x7\n",
    "x7_complete_index = mis_data[mis_data[\"x7\"].notnull()].index ##Completed indexs of x7\n",
    "\n",
    "stat, pvalue= stats.ks_2samp(data.loc[x7_mis_index,\"x7\"],mis_data.loc[x7_complete_index,\"x7\"])\n",
    "print(\"x7\", \" p value:%.4f\" % pvalue)\n",
    "if pvalue <0.05:\n",
    "    print(\"Reject null hypothesis >> The samples come from DIFFERENT distribution.\")\n",
    "else:\n",
    "    print(\"Fail to reject null hypothesis >> The samples come from same distribution.\")"
   ]
  },
  {
   "cell_type": "markdown",
   "metadata": {},
   "source": [
    "Since null hypothesis fails to reject, we can conclude that the probability that \"x7\" is missing does not depend on the value of \"x7\" itself."
   ]
  },
  {
   "cell_type": "markdown",
   "metadata": {},
   "source": [
    "Our finding in part b is that missingness of x7 does not depend on the value of \"x7\" itself. It satisfies the second assumption of MCAR. Moreover, our finding in part a is that missingness of x7 does not depend on other attribute like x8, x9 and x10. It satisfies the first assumption of MCAR. Therefore, the outcomes in part b supports the findings in part a."
   ]
  },
  {
   "cell_type": "markdown",
   "metadata": {},
   "source": [
    "1-Since missingness of x7 does not depend on other attribute like x8, x9 and x10, data of x7 may be MCAR. (First Assumption)\n",
    "\n",
    "2-Since missingness of x7 does not depend on the value of \"x7\" itself. (Second Assumption)\n",
    "\n",
    "Thus, data of x7 is MCAR."
   ]
  },
  {
   "cell_type": "code",
   "execution_count": 46,
   "metadata": {},
   "outputs": [],
   "source": [
    "# for x10 consider x7, x8, x9"
   ]
  },
  {
   "cell_type": "markdown",
   "metadata": {},
   "source": [
    "--------------\n",
    "$H_{0}$: Distribution of x10|x10_is_nan_original_data is same with distribution of x10|x10_is_complete_original_data.  \n",
    "$H_{1}$: Distribution of x10|x10_is_nan_original_data is different than distribution of x10|x10_is_complete_original_data.  "
   ]
  },
  {
   "cell_type": "code",
   "execution_count": 47,
   "metadata": {},
   "outputs": [
    {
     "name": "stdout",
     "output_type": "stream",
     "text": [
      "x10  p value:0.0000\n",
      "Reject null hypothesis >> The samples come from DIFFERENT distribution.\n"
     ]
    }
   ],
   "source": [
    "x10_mis_index = mis_data[mis_data[\"x10\"].isnull()].index ##Missing indexs of x10\n",
    "x10_complete_index = mis_data[mis_data[\"x10\"].notnull()].index ##Completed indexs of x10\n",
    "\n",
    "stat, pvalue= stats.ks_2samp(data.loc[x10_mis_index,\"x10\"],mis_data.loc[x10_complete_index,\"x10\"])\n",
    "print(\"x10\", \" p value:%.4f\" % pvalue)\n",
    "if pvalue <0.05:\n",
    "    print(\"Reject null hypothesis >> The samples come from DIFFERENT distribution.\")\n",
    "else:\n",
    "    print(\"Fail to reject null hypothesis >> The samples come from same distribution.\")"
   ]
  },
  {
   "cell_type": "markdown",
   "metadata": {},
   "source": [
    "Since null hypothesis rejects, we can conclude that the probability that \"x10\" is missing depends on the value of \"x10\" itself."
   ]
  },
  {
   "cell_type": "markdown",
   "metadata": {},
   "source": [
    "Our finding in part b is that missingness of x10 depends on the value of \"x10\" itself. It does not satisfy the second assumption of MCAR. Moreover, our finding in part a is that missingness of x10 does not depend on other attribute like x7, x8 and x9. It satisfies the first assumption of MCAR. Therefore, the outcomes in part b does not support the findings in part a."
   ]
  },
  {
   "cell_type": "markdown",
   "metadata": {},
   "source": [
    "1-Since missingness of x10 does not depend on other attribute like x7, x8 and x9, data of x10 may be MCAR. (First Assumption)\n",
    "\n",
    "2-Since missingness of x10 depends on the value of \"x10\" itself. (Second Assumption)\n",
    "\n",
    "Thus, data of x7 is MNAR due to second assumption."
   ]
  },
  {
   "cell_type": "markdown",
   "metadata": {},
   "source": [
    "**6. Drop na values from the data and save the dataframe as \"mis_data_wona\".** "
   ]
  },
  {
   "cell_type": "code",
   "execution_count": 48,
   "metadata": {},
   "outputs": [],
   "source": [
    "# answer"
   ]
  },
  {
   "cell_type": "code",
   "execution_count": 49,
   "metadata": {},
   "outputs": [
    {
     "name": "stdout",
     "output_type": "stream",
     "text": [
      "x1 --> # of missing value 0\n",
      "x2 --> # of missing value 299\n",
      "x3 --> # of missing value 393\n",
      "x4 --> # of missing value 0\n",
      "x5 --> # of missing value 0\n",
      "x6 --> # of missing value 819\n",
      "x7 --> # of missing value 440\n",
      "x8 --> # of missing value 280\n",
      "x9 --> # of missing value 150\n",
      "x10 --> # of missing value 439\n",
      "x11 --> # of missing value 0\n",
      "target --> # of missing value 0\n"
     ]
    }
   ],
   "source": [
    "for columns in mis_data:\n",
    "    print(columns, \"--> # of missing value\", mis_data[columns].isna().sum())"
   ]
  },
  {
   "cell_type": "markdown",
   "metadata": {},
   "source": [
    "0th index of mis_data has missing values regarding x6 and x9 as it can be seen from table below. We will use them to evaluate correction of imputations."
   ]
  },
  {
   "cell_type": "code",
   "execution_count": 50,
   "metadata": {},
   "outputs": [
    {
     "data": {
      "text/html": [
       "<div>\n",
       "<style scoped>\n",
       "    .dataframe tbody tr th:only-of-type {\n",
       "        vertical-align: middle;\n",
       "    }\n",
       "\n",
       "    .dataframe tbody tr th {\n",
       "        vertical-align: top;\n",
       "    }\n",
       "\n",
       "    .dataframe thead th {\n",
       "        text-align: right;\n",
       "    }\n",
       "</style>\n",
       "<table border=\"1\" class=\"dataframe\">\n",
       "  <thead>\n",
       "    <tr style=\"text-align: right;\">\n",
       "      <th></th>\n",
       "      <th>x1</th>\n",
       "      <th>x2</th>\n",
       "      <th>x3</th>\n",
       "      <th>x4</th>\n",
       "      <th>x5</th>\n",
       "      <th>x6</th>\n",
       "      <th>x7</th>\n",
       "      <th>x8</th>\n",
       "      <th>x9</th>\n",
       "      <th>x10</th>\n",
       "      <th>x11</th>\n",
       "      <th>target</th>\n",
       "    </tr>\n",
       "  </thead>\n",
       "  <tbody>\n",
       "    <tr>\n",
       "      <th>0</th>\n",
       "      <td>54.52</td>\n",
       "      <td>2.22</td>\n",
       "      <td>10.386904</td>\n",
       "      <td>0</td>\n",
       "      <td>6</td>\n",
       "      <td>NaN</td>\n",
       "      <td>34.54</td>\n",
       "      <td>20.91</td>\n",
       "      <td>NaN</td>\n",
       "      <td>61.7</td>\n",
       "      <td>8.73</td>\n",
       "      <td>0</td>\n",
       "    </tr>\n",
       "    <tr>\n",
       "      <th>1</th>\n",
       "      <td>45.06</td>\n",
       "      <td>8.71</td>\n",
       "      <td>16.769842</td>\n",
       "      <td>0</td>\n",
       "      <td>3</td>\n",
       "      <td>74.88</td>\n",
       "      <td>46.53</td>\n",
       "      <td>NaN</td>\n",
       "      <td>NaN</td>\n",
       "      <td>64.0</td>\n",
       "      <td>10.08</td>\n",
       "      <td>1</td>\n",
       "    </tr>\n",
       "    <tr>\n",
       "      <th>3</th>\n",
       "      <td>28.96</td>\n",
       "      <td>9.19</td>\n",
       "      <td>NaN</td>\n",
       "      <td>1</td>\n",
       "      <td>8</td>\n",
       "      <td>54.74</td>\n",
       "      <td>NaN</td>\n",
       "      <td>22.36</td>\n",
       "      <td>18.75</td>\n",
       "      <td>57.3</td>\n",
       "      <td>16.85</td>\n",
       "      <td>1</td>\n",
       "    </tr>\n",
       "    <tr>\n",
       "      <th>4</th>\n",
       "      <td>40.06</td>\n",
       "      <td>4.88</td>\n",
       "      <td>22.511603</td>\n",
       "      <td>1</td>\n",
       "      <td>7</td>\n",
       "      <td>61.57</td>\n",
       "      <td>28.38</td>\n",
       "      <td>NaN</td>\n",
       "      <td>17.62</td>\n",
       "      <td>NaN</td>\n",
       "      <td>12.74</td>\n",
       "      <td>0</td>\n",
       "    </tr>\n",
       "    <tr>\n",
       "      <th>5</th>\n",
       "      <td>39.52</td>\n",
       "      <td>NaN</td>\n",
       "      <td>10.373459</td>\n",
       "      <td>1</td>\n",
       "      <td>6</td>\n",
       "      <td>70.47</td>\n",
       "      <td>NaN</td>\n",
       "      <td>26.90</td>\n",
       "      <td>19.90</td>\n",
       "      <td>NaN</td>\n",
       "      <td>7.73</td>\n",
       "      <td>0</td>\n",
       "    </tr>\n",
       "    <tr>\n",
       "      <th>...</th>\n",
       "      <td>...</td>\n",
       "      <td>...</td>\n",
       "      <td>...</td>\n",
       "      <td>...</td>\n",
       "      <td>...</td>\n",
       "      <td>...</td>\n",
       "      <td>...</td>\n",
       "      <td>...</td>\n",
       "      <td>...</td>\n",
       "      <td>...</td>\n",
       "      <td>...</td>\n",
       "      <td>...</td>\n",
       "    </tr>\n",
       "    <tr>\n",
       "      <th>2992</th>\n",
       "      <td>35.64</td>\n",
       "      <td>7.06</td>\n",
       "      <td>30.561046</td>\n",
       "      <td>2</td>\n",
       "      <td>5</td>\n",
       "      <td>64.06</td>\n",
       "      <td>NaN</td>\n",
       "      <td>49.94</td>\n",
       "      <td>17.71</td>\n",
       "      <td>NaN</td>\n",
       "      <td>7.97</td>\n",
       "      <td>1</td>\n",
       "    </tr>\n",
       "    <tr>\n",
       "      <th>2993</th>\n",
       "      <td>50.84</td>\n",
       "      <td>1.77</td>\n",
       "      <td>43.480629</td>\n",
       "      <td>2</td>\n",
       "      <td>6</td>\n",
       "      <td>NaN</td>\n",
       "      <td>21.99</td>\n",
       "      <td>52.34</td>\n",
       "      <td>NaN</td>\n",
       "      <td>58.4</td>\n",
       "      <td>16.25</td>\n",
       "      <td>0</td>\n",
       "    </tr>\n",
       "    <tr>\n",
       "      <th>2994</th>\n",
       "      <td>38.73</td>\n",
       "      <td>7.62</td>\n",
       "      <td>NaN</td>\n",
       "      <td>1</td>\n",
       "      <td>7</td>\n",
       "      <td>64.58</td>\n",
       "      <td>36.06</td>\n",
       "      <td>43.90</td>\n",
       "      <td>19.83</td>\n",
       "      <td>62.0</td>\n",
       "      <td>11.98</td>\n",
       "      <td>0</td>\n",
       "    </tr>\n",
       "    <tr>\n",
       "      <th>2998</th>\n",
       "      <td>57.59</td>\n",
       "      <td>7.32</td>\n",
       "      <td>14.103525</td>\n",
       "      <td>1</td>\n",
       "      <td>10</td>\n",
       "      <td>NaN</td>\n",
       "      <td>23.09</td>\n",
       "      <td>NaN</td>\n",
       "      <td>18.86</td>\n",
       "      <td>52.4</td>\n",
       "      <td>10.26</td>\n",
       "      <td>0</td>\n",
       "    </tr>\n",
       "    <tr>\n",
       "      <th>2999</th>\n",
       "      <td>39.50</td>\n",
       "      <td>NaN</td>\n",
       "      <td>11.382163</td>\n",
       "      <td>1</td>\n",
       "      <td>3</td>\n",
       "      <td>65.71</td>\n",
       "      <td>46.38</td>\n",
       "      <td>56.17</td>\n",
       "      <td>21.41</td>\n",
       "      <td>53.3</td>\n",
       "      <td>16.06</td>\n",
       "      <td>1</td>\n",
       "    </tr>\n",
       "  </tbody>\n",
       "</table>\n",
       "<p>1830 rows × 12 columns</p>\n",
       "</div>"
      ],
      "text/plain": [
       "         x1    x2         x3  x4  x5     x6     x7     x8     x9   x10    x11  \\\n",
       "0     54.52  2.22  10.386904   0   6    NaN  34.54  20.91    NaN  61.7   8.73   \n",
       "1     45.06  8.71  16.769842   0   3  74.88  46.53    NaN    NaN  64.0  10.08   \n",
       "3     28.96  9.19        NaN   1   8  54.74    NaN  22.36  18.75  57.3  16.85   \n",
       "4     40.06  4.88  22.511603   1   7  61.57  28.38    NaN  17.62   NaN  12.74   \n",
       "5     39.52   NaN  10.373459   1   6  70.47    NaN  26.90  19.90   NaN   7.73   \n",
       "...     ...   ...        ...  ..  ..    ...    ...    ...    ...   ...    ...   \n",
       "2992  35.64  7.06  30.561046   2   5  64.06    NaN  49.94  17.71   NaN   7.97   \n",
       "2993  50.84  1.77  43.480629   2   6    NaN  21.99  52.34    NaN  58.4  16.25   \n",
       "2994  38.73  7.62        NaN   1   7  64.58  36.06  43.90  19.83  62.0  11.98   \n",
       "2998  57.59  7.32  14.103525   1  10    NaN  23.09    NaN  18.86  52.4  10.26   \n",
       "2999  39.50   NaN  11.382163   1   3  65.71  46.38  56.17  21.41  53.3  16.06   \n",
       "\n",
       "      target  \n",
       "0          0  \n",
       "1          1  \n",
       "3          1  \n",
       "4          0  \n",
       "5          0  \n",
       "...      ...  \n",
       "2992       1  \n",
       "2993       0  \n",
       "2994       0  \n",
       "2998       0  \n",
       "2999       1  \n",
       "\n",
       "[1830 rows x 12 columns]"
      ]
     },
     "execution_count": 50,
     "metadata": {},
     "output_type": "execute_result"
    }
   ],
   "source": [
    "mis_data[mis_data.isnull().any(axis=1)]"
   ]
  },
  {
   "cell_type": "code",
   "execution_count": 51,
   "metadata": {},
   "outputs": [],
   "source": [
    "mis_data1 = mis_data.copy()\n",
    "mis_data_wona = mis_data1.dropna()"
   ]
  },
  {
   "cell_type": "code",
   "execution_count": 52,
   "metadata": {},
   "outputs": [
    {
     "data": {
      "text/html": [
       "<div>\n",
       "<style scoped>\n",
       "    .dataframe tbody tr th:only-of-type {\n",
       "        vertical-align: middle;\n",
       "    }\n",
       "\n",
       "    .dataframe tbody tr th {\n",
       "        vertical-align: top;\n",
       "    }\n",
       "\n",
       "    .dataframe thead th {\n",
       "        text-align: right;\n",
       "    }\n",
       "</style>\n",
       "<table border=\"1\" class=\"dataframe\">\n",
       "  <thead>\n",
       "    <tr style=\"text-align: right;\">\n",
       "      <th></th>\n",
       "      <th>x1</th>\n",
       "      <th>x2</th>\n",
       "      <th>x3</th>\n",
       "      <th>x4</th>\n",
       "      <th>x5</th>\n",
       "      <th>x6</th>\n",
       "      <th>x7</th>\n",
       "      <th>x8</th>\n",
       "      <th>x9</th>\n",
       "      <th>x10</th>\n",
       "      <th>x11</th>\n",
       "      <th>target</th>\n",
       "    </tr>\n",
       "  </thead>\n",
       "  <tbody>\n",
       "    <tr>\n",
       "      <th>2</th>\n",
       "      <td>42.68</td>\n",
       "      <td>2.07</td>\n",
       "      <td>7.502324</td>\n",
       "      <td>1</td>\n",
       "      <td>6</td>\n",
       "      <td>67.82</td>\n",
       "      <td>26.48</td>\n",
       "      <td>25.08</td>\n",
       "      <td>21.74</td>\n",
       "      <td>62.3</td>\n",
       "      <td>11.40</td>\n",
       "      <td>0</td>\n",
       "    </tr>\n",
       "    <tr>\n",
       "      <th>6</th>\n",
       "      <td>41.42</td>\n",
       "      <td>7.66</td>\n",
       "      <td>16.820178</td>\n",
       "      <td>1</td>\n",
       "      <td>2</td>\n",
       "      <td>72.48</td>\n",
       "      <td>30.74</td>\n",
       "      <td>21.40</td>\n",
       "      <td>16.41</td>\n",
       "      <td>66.1</td>\n",
       "      <td>10.22</td>\n",
       "      <td>0</td>\n",
       "    </tr>\n",
       "    <tr>\n",
       "      <th>8</th>\n",
       "      <td>41.69</td>\n",
       "      <td>2.97</td>\n",
       "      <td>33.977555</td>\n",
       "      <td>0</td>\n",
       "      <td>6</td>\n",
       "      <td>68.95</td>\n",
       "      <td>27.54</td>\n",
       "      <td>27.43</td>\n",
       "      <td>23.70</td>\n",
       "      <td>61.7</td>\n",
       "      <td>11.61</td>\n",
       "      <td>0</td>\n",
       "    </tr>\n",
       "    <tr>\n",
       "      <th>9</th>\n",
       "      <td>38.66</td>\n",
       "      <td>1.88</td>\n",
       "      <td>16.620460</td>\n",
       "      <td>2</td>\n",
       "      <td>5</td>\n",
       "      <td>59.70</td>\n",
       "      <td>25.58</td>\n",
       "      <td>19.70</td>\n",
       "      <td>17.28</td>\n",
       "      <td>61.3</td>\n",
       "      <td>21.10</td>\n",
       "      <td>0</td>\n",
       "    </tr>\n",
       "    <tr>\n",
       "      <th>14</th>\n",
       "      <td>42.35</td>\n",
       "      <td>8.80</td>\n",
       "      <td>22.319527</td>\n",
       "      <td>1</td>\n",
       "      <td>7</td>\n",
       "      <td>67.06</td>\n",
       "      <td>39.90</td>\n",
       "      <td>23.85</td>\n",
       "      <td>19.51</td>\n",
       "      <td>59.3</td>\n",
       "      <td>5.38</td>\n",
       "      <td>0</td>\n",
       "    </tr>\n",
       "  </tbody>\n",
       "</table>\n",
       "</div>"
      ],
      "text/plain": [
       "       x1    x2         x3  x4  x5     x6     x7     x8     x9   x10    x11  \\\n",
       "2   42.68  2.07   7.502324   1   6  67.82  26.48  25.08  21.74  62.3  11.40   \n",
       "6   41.42  7.66  16.820178   1   2  72.48  30.74  21.40  16.41  66.1  10.22   \n",
       "8   41.69  2.97  33.977555   0   6  68.95  27.54  27.43  23.70  61.7  11.61   \n",
       "9   38.66  1.88  16.620460   2   5  59.70  25.58  19.70  17.28  61.3  21.10   \n",
       "14  42.35  8.80  22.319527   1   7  67.06  39.90  23.85  19.51  59.3   5.38   \n",
       "\n",
       "    target  \n",
       "2        0  \n",
       "6        0  \n",
       "8        0  \n",
       "9        0  \n",
       "14       0  "
      ]
     },
     "execution_count": 52,
     "metadata": {},
     "output_type": "execute_result"
    }
   ],
   "source": [
    "mis_data_wona.head()\n",
    "# There is no 0th index in mis_data_wona as it has missing values."
   ]
  },
  {
   "cell_type": "code",
   "execution_count": 53,
   "metadata": {},
   "outputs": [
    {
     "name": "stdout",
     "output_type": "stream",
     "text": [
      "x1 --> # of missing value 0\n",
      "x2 --> # of missing value 0\n",
      "x3 --> # of missing value 0\n",
      "x4 --> # of missing value 0\n",
      "x5 --> # of missing value 0\n",
      "x6 --> # of missing value 0\n",
      "x7 --> # of missing value 0\n",
      "x8 --> # of missing value 0\n",
      "x9 --> # of missing value 0\n",
      "x10 --> # of missing value 0\n",
      "x11 --> # of missing value 0\n",
      "target --> # of missing value 0\n"
     ]
    }
   ],
   "source": [
    "for columns in mis_data_wona:\n",
    "    print(columns, \"--> # of missing value\", mis_data_wona[columns].isna().sum())"
   ]
  },
  {
   "cell_type": "code",
   "execution_count": 54,
   "metadata": {},
   "outputs": [
    {
     "data": {
      "text/plain": [
       "pandas.core.frame.DataFrame"
      ]
     },
     "execution_count": 54,
     "metadata": {},
     "output_type": "execute_result"
    }
   ],
   "source": [
    "type(mis_data_wona)"
   ]
  },
  {
   "cell_type": "markdown",
   "metadata": {},
   "source": [
    "**7. Impute missing values in mis_data with median and save the dataframe as mis_data_med.** "
   ]
  },
  {
   "cell_type": "code",
   "execution_count": 55,
   "metadata": {},
   "outputs": [],
   "source": [
    "# answer"
   ]
  },
  {
   "cell_type": "code",
   "execution_count": 56,
   "metadata": {},
   "outputs": [
    {
     "name": "stdout",
     "output_type": "stream",
     "text": [
      "x1 --> # of missing value 0\n",
      "x2 --> # of missing value 299\n",
      "x3 --> # of missing value 393\n",
      "x4 --> # of missing value 0\n",
      "x5 --> # of missing value 0\n",
      "x6 --> # of missing value 819\n",
      "x7 --> # of missing value 440\n",
      "x8 --> # of missing value 280\n",
      "x9 --> # of missing value 150\n",
      "x10 --> # of missing value 439\n",
      "x11 --> # of missing value 0\n",
      "target --> # of missing value 0\n"
     ]
    }
   ],
   "source": [
    "for columns in mis_data:\n",
    "    print(columns, \"--> # of missing value\", mis_data[columns].isna().sum())"
   ]
  },
  {
   "cell_type": "code",
   "execution_count": 57,
   "metadata": {},
   "outputs": [],
   "source": [
    "mis_data2 = mis_data.copy()\n",
    "median = mis_data2.median()\n",
    "mis_data_med = mis_data2.fillna(median)"
   ]
  },
  {
   "cell_type": "code",
   "execution_count": 58,
   "metadata": {},
   "outputs": [
    {
     "data": {
      "text/plain": [
       "x1        41.880000\n",
       "x2         4.980000\n",
       "x3        14.647223\n",
       "x4         1.000000\n",
       "x5         5.000000\n",
       "x6        65.680000\n",
       "x7        28.335000\n",
       "x8        45.705000\n",
       "x9        19.080000\n",
       "x10       58.500000\n",
       "x11        9.920000\n",
       "target     0.000000\n",
       "dtype: float64"
      ]
     },
     "execution_count": 58,
     "metadata": {},
     "output_type": "execute_result"
    }
   ],
   "source": [
    "median"
   ]
  },
  {
   "cell_type": "code",
   "execution_count": 59,
   "metadata": {},
   "outputs": [
    {
     "data": {
      "text/html": [
       "<div>\n",
       "<style scoped>\n",
       "    .dataframe tbody tr th:only-of-type {\n",
       "        vertical-align: middle;\n",
       "    }\n",
       "\n",
       "    .dataframe tbody tr th {\n",
       "        vertical-align: top;\n",
       "    }\n",
       "\n",
       "    .dataframe thead th {\n",
       "        text-align: right;\n",
       "    }\n",
       "</style>\n",
       "<table border=\"1\" class=\"dataframe\">\n",
       "  <thead>\n",
       "    <tr style=\"text-align: right;\">\n",
       "      <th></th>\n",
       "      <th>x1</th>\n",
       "      <th>x2</th>\n",
       "      <th>x3</th>\n",
       "      <th>x4</th>\n",
       "      <th>x5</th>\n",
       "      <th>x6</th>\n",
       "      <th>x7</th>\n",
       "      <th>x8</th>\n",
       "      <th>x9</th>\n",
       "      <th>x10</th>\n",
       "      <th>x11</th>\n",
       "      <th>target</th>\n",
       "    </tr>\n",
       "  </thead>\n",
       "  <tbody>\n",
       "    <tr>\n",
       "      <th>0</th>\n",
       "      <td>54.52</td>\n",
       "      <td>2.22</td>\n",
       "      <td>10.386904</td>\n",
       "      <td>0</td>\n",
       "      <td>6</td>\n",
       "      <td>65.68</td>\n",
       "      <td>34.540</td>\n",
       "      <td>20.910</td>\n",
       "      <td>19.08</td>\n",
       "      <td>61.7</td>\n",
       "      <td>8.73</td>\n",
       "      <td>0</td>\n",
       "    </tr>\n",
       "    <tr>\n",
       "      <th>1</th>\n",
       "      <td>45.06</td>\n",
       "      <td>8.71</td>\n",
       "      <td>16.769842</td>\n",
       "      <td>0</td>\n",
       "      <td>3</td>\n",
       "      <td>74.88</td>\n",
       "      <td>46.530</td>\n",
       "      <td>45.705</td>\n",
       "      <td>19.08</td>\n",
       "      <td>64.0</td>\n",
       "      <td>10.08</td>\n",
       "      <td>1</td>\n",
       "    </tr>\n",
       "    <tr>\n",
       "      <th>2</th>\n",
       "      <td>42.68</td>\n",
       "      <td>2.07</td>\n",
       "      <td>7.502324</td>\n",
       "      <td>1</td>\n",
       "      <td>6</td>\n",
       "      <td>67.82</td>\n",
       "      <td>26.480</td>\n",
       "      <td>25.080</td>\n",
       "      <td>21.74</td>\n",
       "      <td>62.3</td>\n",
       "      <td>11.40</td>\n",
       "      <td>0</td>\n",
       "    </tr>\n",
       "    <tr>\n",
       "      <th>3</th>\n",
       "      <td>28.96</td>\n",
       "      <td>9.19</td>\n",
       "      <td>14.647223</td>\n",
       "      <td>1</td>\n",
       "      <td>8</td>\n",
       "      <td>54.74</td>\n",
       "      <td>28.335</td>\n",
       "      <td>22.360</td>\n",
       "      <td>18.75</td>\n",
       "      <td>57.3</td>\n",
       "      <td>16.85</td>\n",
       "      <td>1</td>\n",
       "    </tr>\n",
       "    <tr>\n",
       "      <th>4</th>\n",
       "      <td>40.06</td>\n",
       "      <td>4.88</td>\n",
       "      <td>22.511603</td>\n",
       "      <td>1</td>\n",
       "      <td>7</td>\n",
       "      <td>61.57</td>\n",
       "      <td>28.380</td>\n",
       "      <td>45.705</td>\n",
       "      <td>17.62</td>\n",
       "      <td>58.5</td>\n",
       "      <td>12.74</td>\n",
       "      <td>0</td>\n",
       "    </tr>\n",
       "  </tbody>\n",
       "</table>\n",
       "</div>"
      ],
      "text/plain": [
       "      x1    x2         x3  x4  x5     x6      x7      x8     x9   x10    x11  \\\n",
       "0  54.52  2.22  10.386904   0   6  65.68  34.540  20.910  19.08  61.7   8.73   \n",
       "1  45.06  8.71  16.769842   0   3  74.88  46.530  45.705  19.08  64.0  10.08   \n",
       "2  42.68  2.07   7.502324   1   6  67.82  26.480  25.080  21.74  62.3  11.40   \n",
       "3  28.96  9.19  14.647223   1   8  54.74  28.335  22.360  18.75  57.3  16.85   \n",
       "4  40.06  4.88  22.511603   1   7  61.57  28.380  45.705  17.62  58.5  12.74   \n",
       "\n",
       "   target  \n",
       "0       0  \n",
       "1       1  \n",
       "2       0  \n",
       "3       1  \n",
       "4       0  "
      ]
     },
     "execution_count": 59,
     "metadata": {},
     "output_type": "execute_result"
    }
   ],
   "source": [
    "mis_data_med.head()\n",
    "# value of x6 in 0th index is 65.68 and value of x9 in 0th index is 19.08 corresponding to their median values 65.68 and 19.08,respectively."
   ]
  },
  {
   "cell_type": "code",
   "execution_count": 60,
   "metadata": {},
   "outputs": [
    {
     "name": "stdout",
     "output_type": "stream",
     "text": [
      "x1 --> # of missing value 0\n",
      "x2 --> # of missing value 0\n",
      "x3 --> # of missing value 0\n",
      "x4 --> # of missing value 0\n",
      "x5 --> # of missing value 0\n",
      "x6 --> # of missing value 0\n",
      "x7 --> # of missing value 0\n",
      "x8 --> # of missing value 0\n",
      "x9 --> # of missing value 0\n",
      "x10 --> # of missing value 0\n",
      "x11 --> # of missing value 0\n",
      "target --> # of missing value 0\n"
     ]
    }
   ],
   "source": [
    "for columns in mis_data_med:\n",
    "    print(columns, \"--> # of missing value\", mis_data_med[columns].isna().sum())"
   ]
  },
  {
   "cell_type": "code",
   "execution_count": 61,
   "metadata": {},
   "outputs": [
    {
     "data": {
      "text/plain": [
       "pandas.core.frame.DataFrame"
      ]
     },
     "execution_count": 61,
     "metadata": {},
     "output_type": "execute_result"
    }
   ],
   "source": [
    "type(mis_data_med)"
   ]
  },
  {
   "cell_type": "markdown",
   "metadata": {},
   "source": [
    "**8. Impute missing values in mis_data with mean and save the dataframe as mis_data_mean.**"
   ]
  },
  {
   "cell_type": "code",
   "execution_count": 62,
   "metadata": {},
   "outputs": [],
   "source": [
    "# answer"
   ]
  },
  {
   "cell_type": "code",
   "execution_count": 63,
   "metadata": {},
   "outputs": [
    {
     "name": "stdout",
     "output_type": "stream",
     "text": [
      "x1 --> # of missing value 0\n",
      "x2 --> # of missing value 299\n",
      "x3 --> # of missing value 393\n",
      "x4 --> # of missing value 0\n",
      "x5 --> # of missing value 0\n",
      "x6 --> # of missing value 819\n",
      "x7 --> # of missing value 440\n",
      "x8 --> # of missing value 280\n",
      "x9 --> # of missing value 150\n",
      "x10 --> # of missing value 439\n",
      "x11 --> # of missing value 0\n",
      "target --> # of missing value 0\n"
     ]
    }
   ],
   "source": [
    "for columns in mis_data:\n",
    "    print(columns, \"--> # of missing value\", mis_data[columns].isna().sum())"
   ]
  },
  {
   "cell_type": "code",
   "execution_count": 64,
   "metadata": {},
   "outputs": [],
   "source": [
    "mis_data3 = mis_data.copy()\n",
    "mean = mis_data3.mean()\n",
    "mis_data_mean = mis_data3.fillna(mean)"
   ]
  },
  {
   "cell_type": "code",
   "execution_count": 65,
   "metadata": {},
   "outputs": [
    {
     "data": {
      "text/plain": [
       "x1        41.870663\n",
       "x2         5.000396\n",
       "x3        17.216713\n",
       "x4         0.909000\n",
       "x5         5.037667\n",
       "x6        62.941302\n",
       "x7        29.643449\n",
       "x8        40.649761\n",
       "x9        19.068179\n",
       "x10       58.446896\n",
       "x11       10.514563\n",
       "target     0.282000\n",
       "dtype: float64"
      ]
     },
     "execution_count": 65,
     "metadata": {},
     "output_type": "execute_result"
    }
   ],
   "source": [
    "mean"
   ]
  },
  {
   "cell_type": "code",
   "execution_count": 66,
   "metadata": {},
   "outputs": [
    {
     "data": {
      "text/html": [
       "<div>\n",
       "<style scoped>\n",
       "    .dataframe tbody tr th:only-of-type {\n",
       "        vertical-align: middle;\n",
       "    }\n",
       "\n",
       "    .dataframe tbody tr th {\n",
       "        vertical-align: top;\n",
       "    }\n",
       "\n",
       "    .dataframe thead th {\n",
       "        text-align: right;\n",
       "    }\n",
       "</style>\n",
       "<table border=\"1\" class=\"dataframe\">\n",
       "  <thead>\n",
       "    <tr style=\"text-align: right;\">\n",
       "      <th></th>\n",
       "      <th>x1</th>\n",
       "      <th>x2</th>\n",
       "      <th>x3</th>\n",
       "      <th>x4</th>\n",
       "      <th>x5</th>\n",
       "      <th>x6</th>\n",
       "      <th>x7</th>\n",
       "      <th>x8</th>\n",
       "      <th>x9</th>\n",
       "      <th>x10</th>\n",
       "      <th>x11</th>\n",
       "      <th>target</th>\n",
       "    </tr>\n",
       "  </thead>\n",
       "  <tbody>\n",
       "    <tr>\n",
       "      <th>0</th>\n",
       "      <td>54.52</td>\n",
       "      <td>2.22</td>\n",
       "      <td>10.386904</td>\n",
       "      <td>0</td>\n",
       "      <td>6</td>\n",
       "      <td>62.941302</td>\n",
       "      <td>34.540000</td>\n",
       "      <td>20.910000</td>\n",
       "      <td>19.068179</td>\n",
       "      <td>61.700000</td>\n",
       "      <td>8.73</td>\n",
       "      <td>0</td>\n",
       "    </tr>\n",
       "    <tr>\n",
       "      <th>1</th>\n",
       "      <td>45.06</td>\n",
       "      <td>8.71</td>\n",
       "      <td>16.769842</td>\n",
       "      <td>0</td>\n",
       "      <td>3</td>\n",
       "      <td>74.880000</td>\n",
       "      <td>46.530000</td>\n",
       "      <td>40.649761</td>\n",
       "      <td>19.068179</td>\n",
       "      <td>64.000000</td>\n",
       "      <td>10.08</td>\n",
       "      <td>1</td>\n",
       "    </tr>\n",
       "    <tr>\n",
       "      <th>2</th>\n",
       "      <td>42.68</td>\n",
       "      <td>2.07</td>\n",
       "      <td>7.502324</td>\n",
       "      <td>1</td>\n",
       "      <td>6</td>\n",
       "      <td>67.820000</td>\n",
       "      <td>26.480000</td>\n",
       "      <td>25.080000</td>\n",
       "      <td>21.740000</td>\n",
       "      <td>62.300000</td>\n",
       "      <td>11.40</td>\n",
       "      <td>0</td>\n",
       "    </tr>\n",
       "    <tr>\n",
       "      <th>3</th>\n",
       "      <td>28.96</td>\n",
       "      <td>9.19</td>\n",
       "      <td>17.216713</td>\n",
       "      <td>1</td>\n",
       "      <td>8</td>\n",
       "      <td>54.740000</td>\n",
       "      <td>29.643449</td>\n",
       "      <td>22.360000</td>\n",
       "      <td>18.750000</td>\n",
       "      <td>57.300000</td>\n",
       "      <td>16.85</td>\n",
       "      <td>1</td>\n",
       "    </tr>\n",
       "    <tr>\n",
       "      <th>4</th>\n",
       "      <td>40.06</td>\n",
       "      <td>4.88</td>\n",
       "      <td>22.511603</td>\n",
       "      <td>1</td>\n",
       "      <td>7</td>\n",
       "      <td>61.570000</td>\n",
       "      <td>28.380000</td>\n",
       "      <td>40.649761</td>\n",
       "      <td>17.620000</td>\n",
       "      <td>58.446896</td>\n",
       "      <td>12.74</td>\n",
       "      <td>0</td>\n",
       "    </tr>\n",
       "  </tbody>\n",
       "</table>\n",
       "</div>"
      ],
      "text/plain": [
       "      x1    x2         x3  x4  x5         x6         x7         x8         x9  \\\n",
       "0  54.52  2.22  10.386904   0   6  62.941302  34.540000  20.910000  19.068179   \n",
       "1  45.06  8.71  16.769842   0   3  74.880000  46.530000  40.649761  19.068179   \n",
       "2  42.68  2.07   7.502324   1   6  67.820000  26.480000  25.080000  21.740000   \n",
       "3  28.96  9.19  17.216713   1   8  54.740000  29.643449  22.360000  18.750000   \n",
       "4  40.06  4.88  22.511603   1   7  61.570000  28.380000  40.649761  17.620000   \n",
       "\n",
       "         x10    x11  target  \n",
       "0  61.700000   8.73       0  \n",
       "1  64.000000  10.08       1  \n",
       "2  62.300000  11.40       0  \n",
       "3  57.300000  16.85       1  \n",
       "4  58.446896  12.74       0  "
      ]
     },
     "execution_count": 66,
     "metadata": {},
     "output_type": "execute_result"
    }
   ],
   "source": [
    "mis_data_mean.head()\n",
    "# value of x6 in 0th index is 62.941302 and value of x9 in 0th index is 19.068179 corresponding to their mean values 62.941302 and 19.068179,respectively."
   ]
  },
  {
   "cell_type": "code",
   "execution_count": 67,
   "metadata": {},
   "outputs": [
    {
     "name": "stdout",
     "output_type": "stream",
     "text": [
      "x1 --> # of missing value 0\n",
      "x2 --> # of missing value 0\n",
      "x3 --> # of missing value 0\n",
      "x4 --> # of missing value 0\n",
      "x5 --> # of missing value 0\n",
      "x6 --> # of missing value 0\n",
      "x7 --> # of missing value 0\n",
      "x8 --> # of missing value 0\n",
      "x9 --> # of missing value 0\n",
      "x10 --> # of missing value 0\n",
      "x11 --> # of missing value 0\n",
      "target --> # of missing value 0\n"
     ]
    }
   ],
   "source": [
    "for columns in mis_data_mean:\n",
    "    print(columns, \"--> # of missing value\", mis_data_mean[columns].isna().sum())"
   ]
  },
  {
   "cell_type": "code",
   "execution_count": 68,
   "metadata": {},
   "outputs": [
    {
     "data": {
      "text/plain": [
       "pandas.core.frame.DataFrame"
      ]
     },
     "execution_count": 68,
     "metadata": {},
     "output_type": "execute_result"
    }
   ],
   "source": [
    "type(mis_data_mean)"
   ]
  }
 ],
 "metadata": {
  "kernelspec": {
   "display_name": "Python 3",
   "language": "python",
   "name": "python3"
  },
  "language_info": {
   "codemirror_mode": {
    "name": "ipython",
    "version": 3
   },
   "file_extension": ".py",
   "mimetype": "text/x-python",
   "name": "python",
   "nbconvert_exporter": "python",
   "pygments_lexer": "ipython3",
   "version": "3.8.8"
  }
 },
 "nbformat": 4,
 "nbformat_minor": 4
}

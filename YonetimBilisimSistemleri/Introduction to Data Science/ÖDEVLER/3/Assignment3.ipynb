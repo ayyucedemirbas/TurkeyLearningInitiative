{
 "cells": [
  {
   "cell_type": "markdown",
   "metadata": {},
   "source": [
    "# IS709 Assignment 3\n",
    "\n",
    "### Due: December 20, Sunday-23.59\n",
    "\n",
    "### Submission and Grading Policy\n",
    "\n",
    "- Submit your assignments to the corresponding assignment link in https://odtuclass.metu.edu.tr.\n",
    "- Solutions should be submitted in a single **ipynb** file named: metu-username_HW_3.ipynb (e.g., “e123456_HW_3.ipynb”).\n",
    "- Late submissions will be accepted by December 23, 2020 at 23:59 with a 5% per day penalty.\n",
    "- Do not change variable names in the code blocks and the texts in the markdowns.\n",
    "- You can add markdown or code cells as many as you want.  \n",
    "- <font color=#C91414> **It is an individual assignment. You have to adhere to academic integrity principles.**</font>    \n",
    "- You are supposed to be able to interpret your findings. Hence, you shouldn't just find a number or result and just leave it. You need to comment on your findings by giving as much as **necessary** details.  \n",
    "  "
   ]
  },
  {
   "cell_type": "markdown",
   "metadata": {},
   "source": [
    "In this assignment, you are going to deal with data preprocessing and do some data imputation. You are expected to comment on the aspects of the different imputation methods.  "
   ]
  },
  {
   "cell_type": "markdown",
   "metadata": {},
   "source": [
    "**1. If you haven't alredy install missingno package please open anaconda prompt and install it by typing below code.**    \n",
    "**conda install -c conda-forge missingno**   \n",
    "You may want to see https://anaconda.org/conda-forge/missingno  "
   ]
  },
  {
   "cell_type": "markdown",
   "metadata": {},
   "source": [
    "**2. Import the libraries you need.**  "
   ]
  },
  {
   "cell_type": "code",
   "execution_count": 1,
   "metadata": {},
   "outputs": [],
   "source": [
    "# answer\n"
   ]
  },
  {
   "cell_type": "markdown",
   "metadata": {},
   "source": [
    "**3.Upload the data files as pandas dataframes.**   \n",
    "Set dataframe name as **data** for assignment3_data.csv and **mis_data** for assignment3_missing_data.csv"
   ]
  },
  {
   "cell_type": "code",
   "execution_count": 2,
   "metadata": {},
   "outputs": [],
   "source": [
    "### answer\n"
   ]
  },
  {
   "cell_type": "markdown",
   "metadata": {},
   "source": [
    "**4. Find the number of missing values in each attribute.    \n",
    "Draw bar chart, matrix,  and heatmap of missingno package and comment on your results.**  \n",
    "\n",
    "<font color=#C91414> Hint: Please be aware that missingness pattern and missingness mechanishm are different. Missingno charts give idea about missingness pattern.</font>   \n"
   ]
  },
  {
   "cell_type": "code",
   "execution_count": 3,
   "metadata": {},
   "outputs": [],
   "source": [
    "# answer\n"
   ]
  },
  {
   "cell_type": "markdown",
   "metadata": {},
   "source": [
    "**5.Comment on the missingness patterns and the missingness mechanisms by examining original data, missing data and your findings in the previous question.**    \n",
    "\n",
    "**For simplicity to check the missingness mechanism, use the given variable sets for each missing variables.**  \n",
    "\n",
    "- for x6 consider x1, x3, x7   \n",
    "- for x7 consider x8, x9, x10   \n",
    "- for x10 consider x7, x8, x9   \n",
    "\n",
    "> a. First use only the missing data set.   \n",
    "> b. Then use both the original data set and the missing data set. Do the outcomes of this part support the findings in part a?\n",
    "\n",
    "Justify your comments by carrying out some analysis.\n",
    "\n",
    "<font color=#C91414> Hint: You can make different comparisons on attributes while a specific attribute exists or missing. In part B, you can simply reuse your tests and codes on complete data set.</font> \n"
   ]
  },
  {
   "cell_type": "code",
   "execution_count": 4,
   "metadata": {},
   "outputs": [],
   "source": [
    "## answer\n"
   ]
  },
  {
   "cell_type": "markdown",
   "metadata": {},
   "source": [
    "**6. Drop na values from the data and save the dataframe as \"mis_data_wona\".** "
   ]
  },
  {
   "cell_type": "code",
   "execution_count": 5,
   "metadata": {},
   "outputs": [],
   "source": [
    "# answer\n"
   ]
  },
  {
   "cell_type": "markdown",
   "metadata": {},
   "source": [
    "**7. Impute missing values in mis_data with median and save the dataframe as mis_data_med.** "
   ]
  },
  {
   "cell_type": "code",
   "execution_count": 6,
   "metadata": {},
   "outputs": [],
   "source": [
    "# answer\n"
   ]
  },
  {
   "cell_type": "markdown",
   "metadata": {},
   "source": [
    "**8. Impute missing values in mis_data with mean and save the dataframe as mis_data_mean.**"
   ]
  },
  {
   "cell_type": "code",
   "execution_count": 7,
   "metadata": {},
   "outputs": [],
   "source": [
    "# answer\n"
   ]
  }
 ],
 "metadata": {
  "kernelspec": {
   "display_name": "Python 3",
   "language": "python",
   "name": "python3"
  },
  "language_info": {
   "codemirror_mode": {
    "name": "ipython",
    "version": 3
   },
   "file_extension": ".py",
   "mimetype": "text/x-python",
   "name": "python",
   "nbconvert_exporter": "python",
   "pygments_lexer": "ipython3",
   "version": "3.7.6"
  }
 },
 "nbformat": 4,
 "nbformat_minor": 4
}

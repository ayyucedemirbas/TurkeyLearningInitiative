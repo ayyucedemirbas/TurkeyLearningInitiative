{
 "cells": [
  {
   "cell_type": "markdown",
   "metadata": {},
   "source": [
    "# IS709 Assignment 1\n",
    "\n",
    "### Due: November 8, Sunday-23.59\n",
    "\n",
    "### Submission and Grading Policy\n",
    "\n",
    "- Submit your assignments to the corresponding assignment link in https://odtuclass.metu.edu.tr.\n",
    "- Solutions should be submitted in a single **ipynb** file named: metu-username_HW_1.ipynb (e.g., “e123456_HW_1.ipynb”).\n",
    "- Late submissions will be accepted by November 11, 2020, 23:59 with a 5% per day penalty.\n",
    "- Do not change variable names in the code blocks and the texts in the markdowns.\n",
    "- **<font color=#C91414>This is an individual assignment. Please do not collaborate. You have to adhere to the academic integrity principles.</font>** \n",
    "- You are supposed to be able to interpret your findings. Therefore, you should not find a number or result and just leave it. You also need to comment on your findings by giving as much as **necessary** details.\n",
    "\n",
    "------------\n",
    "\n",
    "### The aim of this assignment is getting you familiar with\n",
    "- Python and Jupyter notebook\n",
    "- simple data cleaning\n",
    "- descriptive statistics interpretation and\n",
    "- visualizing methods\n"
   ]
  },
  {
   "cell_type": "markdown",
   "metadata": {},
   "source": [
    "**1. Import pandas, numpy, matplotlib and seaborn libraries.**  \n",
    "If you need another library or packages, you may upload them too."
   ]
  },
  {
   "cell_type": "code",
   "execution_count": 1,
   "metadata": {},
   "outputs": [],
   "source": [
    "from scipy import stats\n",
    "import statsmodels.api as sm \n",
    "import pylab as py \n",
    "\n",
    "### answer ###\n"
   ]
  },
  {
   "cell_type": "markdown",
   "metadata": {},
   "source": [
    "**2. Upload the data as a pandas dataframe and show the first seven rows.**"
   ]
  },
  {
   "cell_type": "code",
   "execution_count": 2,
   "metadata": {},
   "outputs": [],
   "source": [
    "### answer ###\n"
   ]
  },
  {
   "cell_type": "markdown",
   "metadata": {},
   "source": [
    "----------\n",
    "### Data Explanation\n",
    "**x1:** f,m  \n",
    "**x2:** s,d,m   \n",
    "**x3:** continuous   \n",
    "**x4:** continuous   \n",
    "**x5:** continuous   \n",
    "**x6:** 0, 1, 2, 3, 4, 5, 6   \n",
    "**x7:** continuous   \n",
    "**x8:** continuous   \n",
    "**x9:** continuous    \n",
    "**x10:** a,b,c,d     \n",
    "**x11:** continuous      \n",
    "**x12:** 0, 1"
   ]
  },
  {
   "cell_type": "markdown",
   "metadata": {},
   "source": [
    "**3. What is the shape/size of the data set?**"
   ]
  },
  {
   "cell_type": "code",
   "execution_count": 3,
   "metadata": {},
   "outputs": [],
   "source": [
    "### answer ###\n"
   ]
  },
  {
   "cell_type": "markdown",
   "metadata": {},
   "source": [
    "### <span style=\"background-color:#C91414\">Usually you need to deal with low quality data </span> \n",
    "\n",
    "**4.Encode the x1, x2 and x10 as stated below.**       \n",
    "For x1; f=0, m=1   \n",
    "For x2; s=0 ,d=1, m=2   \n",
    "For x10; a=0 ,b=1 ,c=2 ,d=3  "
   ]
  },
  {
   "cell_type": "code",
   "execution_count": 4,
   "metadata": {},
   "outputs": [],
   "source": [
    "### answer ###\n",
    "\n"
   ]
  },
  {
   "cell_type": "markdown",
   "metadata": {},
   "source": [
    "Notice that although some columns contain numerical values, they are not reflected in the describe() method. The reason of this, these columns are read as string. To fix these issues,  \n",
    "**5.Convert all the columns of the dataframe to numeric.**    \n",
    "Please be aware that the numeric encoding of a column does not mean that the variable/attribute itself is numerical.  \n",
    "Hint:  x1 attribute\n",
    "   "
   ]
  },
  {
   "cell_type": "code",
   "execution_count": 5,
   "metadata": {},
   "outputs": [],
   "source": [
    "data.describe()"
   ]
  },
  {
   "cell_type": "code",
   "execution_count": 6,
   "metadata": {},
   "outputs": [],
   "source": [
    "### answer ###\n"
   ]
  },
  {
   "cell_type": "markdown",
   "metadata": {},
   "source": [
    "**6.Rename the name of \"x12\" column as \"target\"**"
   ]
  },
  {
   "cell_type": "code",
   "execution_count": 7,
   "metadata": {},
   "outputs": [],
   "source": [
    "print(data.columns) ## .columns returns the column names of the DataFrame.   "
   ]
  },
  {
   "cell_type": "code",
   "execution_count": 8,
   "metadata": {},
   "outputs": [],
   "source": [
    "### answer ###\n"
   ]
  },
  {
   "cell_type": "code",
   "execution_count": 9,
   "metadata": {},
   "outputs": [],
   "source": [
    "data.head()"
   ]
  },
  {
   "cell_type": "markdown",
   "metadata": {},
   "source": [
    "Notice that some data points are missing.     \n",
    "**7. Find and print the number of missing values in each column**"
   ]
  },
  {
   "cell_type": "code",
   "execution_count": 10,
   "metadata": {},
   "outputs": [],
   "source": [
    "### answer ###\n",
    "\n"
   ]
  },
  {
   "cell_type": "markdown",
   "metadata": {},
   "source": [
    "**8. Drop the columns which have more than %10 missing value rate.**"
   ]
  },
  {
   "cell_type": "code",
   "execution_count": 11,
   "metadata": {},
   "outputs": [],
   "source": [
    "### answer ###\n",
    "\n"
   ]
  },
  {
   "cell_type": "markdown",
   "metadata": {},
   "source": [
    "**9. Create a dataframe named data_wo_na by dropping the rows which have missing values.  \n",
    "What is the shape of newly created data frame \"data_wo_na\"?**   \n",
    "Please do the rest of the assignment with data_wo_na."
   ]
  },
  {
   "cell_type": "code",
   "execution_count": 12,
   "metadata": {},
   "outputs": [],
   "source": [
    "### answer ###\n"
   ]
  },
  {
   "cell_type": "markdown",
   "metadata": {},
   "source": [
    "**10. Summarize and briefly interpret the data with appropriate descriptive statistics.  \n",
    "Comment on the distribution of the attributes (bell-shaped, left-skewed, right-skewed, or how peaked etc.) <font color=#C91414> just by looking at descriptive statistics.</font> \n",
    "While answering Q11, you may want to revise your comments.**    \n",
    "Hint: The purpose of this question is to measure whether you can comment on the distribution of data by looking at descriptive statistics. \n",
    "However, just looking at the descriptive statistics is not always enough. For this reason, it is stated that after answering Q11 (after visualizing the data), you may want to revise your comments."
   ]
  },
  {
   "cell_type": "markdown",
   "metadata": {},
   "source": [
    "*Double click and write your explanations and comments here.*"
   ]
  },
  {
   "cell_type": "code",
   "execution_count": 13,
   "metadata": {},
   "outputs": [],
   "source": [
    "### answer ###\n"
   ]
  },
  {
   "cell_type": "markdown",
   "metadata": {},
   "source": [
    " "
   ]
  },
  {
   "cell_type": "markdown",
   "metadata": {},
   "source": [
    "**11. Visualize the distributions of the numeric attributes. Comment whether they are similar to Gaussian/Normal distirbution or not. Give your reasons and support them with appropriate visualization techniques.**     \n",
    "Support your answer with what you found in the previous question.\n",
    "Hint: You can use subplotting to see the several plots of same attribute at a one time."
   ]
  },
  {
   "cell_type": "code",
   "execution_count": 14,
   "metadata": {},
   "outputs": [],
   "source": [
    "### answer ###\n"
   ]
  },
  {
   "cell_type": "markdown",
   "metadata": {},
   "source": [
    "*Double click and write your explanations here.* \n"
   ]
  },
  {
   "cell_type": "markdown",
   "metadata": {},
   "source": [
    "**12. For categoric and ordinal attributes draw countplots and briefly comment on them. While commenting please consider which descriptive statistics is meaningful for each of the attributes. Can we say anything about the distribution of the categoric and ordinal attributes?**  \n",
    "Hint: You can use seaborn library. Please see the documentation via https://seaborn.pydata.org/api.html."
   ]
  },
  {
   "cell_type": "code",
   "execution_count": 15,
   "metadata": {},
   "outputs": [],
   "source": [
    "### answer ###\n"
   ]
  },
  {
   "cell_type": "markdown",
   "metadata": {},
   "source": [
    "*Double click and write your explanations and comments here.*"
   ]
  },
  {
   "cell_type": "markdown",
   "metadata": {},
   "source": [
    "**13. Determine the appropriate descriptive location measure for each of the numerical attributes.**"
   ]
  },
  {
   "cell_type": "markdown",
   "metadata": {},
   "source": [
    "*Double click and write your explanations and comments here.*"
   ]
  },
  {
   "cell_type": "markdown",
   "metadata": {},
   "source": [
    "**14. Find out whether there are any outliers and make one suggestion regarding how to deal with them.**"
   ]
  },
  {
   "cell_type": "code",
   "execution_count": 16,
   "metadata": {},
   "outputs": [],
   "source": [
    "### answer ###\n"
   ]
  },
  {
   "cell_type": "markdown",
   "metadata": {},
   "source": [
    "*Double click and write your explanations and comments here.*"
   ]
  },
  {
   "cell_type": "markdown",
   "metadata": {},
   "source": [
    "**15. Visualize the distributions of numeric attributes grouped by the target variable using violin plots. Comment on the results.**  \n",
    "Hint: Please see the seaborn library documentation via https://seaborn.pydata.org/api.html."
   ]
  },
  {
   "cell_type": "code",
   "execution_count": 17,
   "metadata": {},
   "outputs": [],
   "source": [
    "### answer ###\n"
   ]
  },
  {
   "cell_type": "markdown",
   "metadata": {},
   "source": [
    "*Double click and write your explanations and comments here.*"
   ]
  },
  {
   "cell_type": "markdown",
   "metadata": {},
   "source": [
    "**16. What does the below violin plot show? Explain.**"
   ]
  },
  {
   "cell_type": "code",
   "execution_count": 18,
   "metadata": {},
   "outputs": [
    {
     "data": {
      "image/png": "[encoded data removed]",
      "text/plain": [
       "<Figure size 432x288 with 1 Axes>"
      ]
     },
     "metadata": {
      "needs_background": "light"
     },
     "output_type": "display_data"
    }
   ],
   "source": [
    "### answer ###\n",
    "ax = sns.violinplot(x=\"x2\",y=\"x3\", hue=\"target\",  data=data_wo_na, palette=\"muted\", split=True)\n"
   ]
  },
  {
   "cell_type": "markdown",
   "metadata": {},
   "source": [
    "*Double click and write your explanations and comments here.*"
   ]
  }
 ],
 "metadata": {
  "kernelspec": {
   "display_name": "Python 3",
   "language": "python",
   "name": "python3"
  },
  "language_info": {
   "codemirror_mode": {
    "name": "ipython",
    "version": 3
   },
   "file_extension": ".py",
   "mimetype": "text/x-python",
   "name": "python",
   "nbconvert_exporter": "python",
   "pygments_lexer": "ipython3",
   "version": "3.7.6"
  }
 },
 "nbformat": 4,
 "nbformat_minor": 4
}

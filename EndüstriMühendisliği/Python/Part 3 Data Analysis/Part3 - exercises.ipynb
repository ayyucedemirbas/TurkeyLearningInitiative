{
 "cells": [
  {
   "cell_type": "code",
   "execution_count": null,
   "metadata": {},
   "outputs": [],
   "source": [
    "#L1 Combine ser1 and ser2 to form a dataframe.  \n",
    "\n",
    "import numpy as np\n",
    "ser1 = pd.Series(list('abcedfghijklmnopqrstuvwxyz'))\n",
    "ser2 = pd.Series(np.arange(26))\n",
    "\n",
    " "
   ]
  },
  {
   "cell_type": "code",
   "execution_count": null,
   "metadata": {},
   "outputs": [],
   "source": [
    "#Give a name to the series ser calling it ‘alphabets’. \n",
    "#Input\n",
    "\n",
    "ser = pd.Series(list('abcedfghijklmnopqrstuvwxyz')\n",
    " \n",
    "                "
   ]
  },
  {
   "cell_type": "code",
   "execution_count": null,
   "metadata": {},
   "outputs": [],
   "source": [
    "# L1 Reshape the series ser into a dataframe with 7 rows and 5 columns \n",
    "\n",
    "ser = pd.Series(np.random.randint(1, 10, 35))\n",
    "\n",
    " "
   ]
  },
  {
   "cell_type": "code",
   "execution_count": null,
   "metadata": {},
   "outputs": [],
   "source": [
    "#Apply the function, f(x) = x/2 on each and every element of a given pandas series \n",
    "# using lambda function"
   ]
  },
  {
   "cell_type": "code",
   "execution_count": null,
   "metadata": {},
   "outputs": [],
   "source": [
    "# sort the following df by its id and then by its index\n",
    "'''\n",
    "    id  name    age   occupation\n",
    "0   2   Vinay   22    engineer\n",
    "1   1  Kushal   25      doctor\n",
    "2   1    Aman   24  accountant\n",
    "'''"
   ]
  },
  {
   "cell_type": "code",
   "execution_count": null,
   "metadata": {},
   "outputs": [],
   "source": [
    "# FOr the same df, Find the entries that has an age gretar than 23\n"
   ]
  },
  {
   "cell_type": "code",
   "execution_count": null,
   "metadata": {},
   "outputs": [],
   "source": [
    "'''\n",
    "     name       occ  salary\n",
    "0   Vinay  engineer   60000\n",
    "1  Kushal    doctor   70000\n",
    "2    Aman  engineer   50000\n",
    "3   Rahul    doctor   60000\n",
    "4  Ramesh    doctor   65000\n",
    "'''\n",
    "# Given is a dataframe showing name, occupation, salary of people. \n",
    "# Find the average salary per occupation"
   ]
  },
  {
   "cell_type": "code",
   "execution_count": null,
   "metadata": {},
   "outputs": [],
   "source": [
    "'''\n",
    "     name       occ   salary\n",
    "0   Vinay  engineer      NaN\n",
    "1  Kushal    doctor  70000.0\n",
    "2    Aman  engineer      NaN\n",
    "3   Rahul    doctor  60000.0\n",
    "4  Ramesh    doctor  65000.0\n",
    "'''\n",
    "# fill the NaN values with 0"
   ]
  },
  {
   "cell_type": "code",
   "execution_count": null,
   "metadata": {},
   "outputs": [],
   "source": [
    "'''\n",
    "                cname  profit\n",
    "0         Shyam & Co.  -10000\n",
    "1      Ramlal & Bros.   10000\n",
    "2  Sharma Enterprises   -5000\n",
    "3    Verma Furnitures   15000\n",
    "4        Rahul Stores   20000\n",
    "\n",
    "Given is a dataframe showing Company Names (cname) and corresponding Profits (profit). \n",
    "Convert the values of Profit column such that values in it greater than 0 \n",
    "are set to True and the rest are set to False.\n",
    "'''"
   ]
  },
  {
   "cell_type": "code",
   "execution_count": null,
   "metadata": {},
   "outputs": [],
   "source": [
    "'''\n",
    "   eid   ename  stipend         position\n",
    "0    1     Sid    10000         employee\n",
    "1    2  Ramesh    10000         employee\n",
    "2    3     Ron     5000           intern\n",
    "3    4   Harry    15000  senior_employee\n",
    "'''\n",
    "#For the table above, generate the statistical summary of all the numerical features"
   ]
  },
  {
   "cell_type": "code",
   "execution_count": null,
   "metadata": {},
   "outputs": [],
   "source": [
    "\n",
    "import numpy as np\n",
    "import math\n",
    "\n",
    "#Read the csv file using the following code. \n",
    "\n",
    "Admission = pd.read_csv(\"datasets/Admission_Predict.csv\", delimiter=\",\", header=0)\n",
    "Admission\n",
    "\n",
    "# List  first 10 rows\n",
    "\n",
    "# List the GRE Score of all students. \n",
    "\n",
    "# list GRE and TOEFL scores of all students \n",
    "\n",
    "# Normalize the GRE scores so that they are between 0 and 100 and add this as another column\n",
    "##### note that this should be another dataframe, don't change the original one. \n",
    "\n",
    "# Normalize the CGPA such that the values are between 0 and 4 and add this as another column.\n",
    "###### again, don't change the original one. \n",
    "\n",
    "# In the revised data frame, drop the old (unnormalized) CGPA columns and old (unnormalized) GRE score \n",
    "#### columns. \n",
    "\n",
    "# List those whose CGPA is higher than 0.50. \n",
    "\n",
    "# Find the average of CGPA for those whose chance of admit is higher than 0.50\n",
    "\n",
    "# Print the average CGPA for those  whose chance of admit is higher than 0.50 and university rating is \n",
    "##### 1 or 2. \n",
    "\n",
    "# Generate a new column called results. For those whose chance of admit is greater than 0.80, \n",
    "##### if their CGPA (normalized) is higher than 3.5 then the results column should be \"Pass\"\n",
    "##### and the others should be \"Fail\". "
   ]
  }
 ],
 "metadata": {
  "kernelspec": {
   "display_name": "Python 3 (ipykernel)",
   "language": "python",
   "name": "python3"
  },
  "language_info": {
   "codemirror_mode": {
    "name": "ipython",
    "version": 3
   },
   "file_extension": ".py",
   "mimetype": "text/x-python",
   "name": "python",
   "nbconvert_exporter": "python",
   "pygments_lexer": "ipython3",
   "version": "3.9.7"
  }
 },
 "nbformat": 4,
 "nbformat_minor": 2
}

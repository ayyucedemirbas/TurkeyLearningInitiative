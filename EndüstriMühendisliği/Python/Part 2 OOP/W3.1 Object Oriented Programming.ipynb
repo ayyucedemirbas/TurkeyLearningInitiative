{
 "cells": [
  {
   "cell_type": "code",
   "execution_count": 1,
   "metadata": {},
   "outputs": [],
   "source": [
    "#data ==> attributes\n",
    "#method==> functions \n",
    "\n",
    "def MyF(x):\n",
    "    return x**2\n",
    "\n",
    "class Student:     \n",
    "    pass #just skip the details now\n",
    "\n",
    "#this is the definition of the class. \n",
    "#it's different than its instances\n",
    "\n",
    "i = 5\n",
    "j = 4.52\n",
    "k = \"hello guys!\"\n",
    "\n",
    "st1 = Student() \n",
    "st2 = Student()"
   ]
  },
  {
   "cell_type": "code",
   "execution_count": 2,
   "metadata": {},
   "outputs": [
    {
     "name": "stdout",
     "output_type": "stream",
     "text": [
      "<__main__.Student object at 0x0000023C23092C18>\n",
      "<__main__.Student object at 0x0000023C23092C50>\n"
     ]
    }
   ],
   "source": [
    "\n",
    "print(st1)\n",
    "print(st2)"
   ]
  },
  {
   "cell_type": "code",
   "execution_count": null,
   "metadata": {},
   "outputs": [],
   "source": [
    "class Human():\n",
    "    pass\n",
    "mehmet = Human()"
   ]
  },
  {
   "cell_type": "code",
   "execution_count": 3,
   "metadata": {},
   "outputs": [
    {
     "name": "stdout",
     "output_type": "stream",
     "text": [
      "<__main__.Student object at 0x0000023C23092C18>\n"
     ]
    }
   ],
   "source": [
    "#assign data/attributes to them\n",
    "st1.first = \"mehmet\"\n",
    "st1.last  = \"guler\"\n",
    "st1.email = \"mehmet.guler@yildiz.edu.tr\"\n",
    "st1.grade = 60\n",
    "print(st1)\n"
   ]
  },
  {
   "cell_type": "code",
   "execution_count": 4,
   "metadata": {},
   "outputs": [
    {
     "data": {
      "text/plain": [
       "{'first': 'mehmet',\n",
       " 'last': 'guler',\n",
       " 'email': 'mehmet.guler@yildiz.edu.tr',\n",
       " 'grade': 60}"
      ]
     },
     "execution_count": 4,
     "metadata": {},
     "output_type": "execute_result"
    }
   ],
   "source": [
    "st1.__dict__ # a special keyword for writing objects as dictionaries\n",
    "\n"
   ]
  },
  {
   "cell_type": "code",
   "execution_count": 5,
   "metadata": {},
   "outputs": [
    {
     "data": {
      "text/plain": [
       "{'first': 'irem',\n",
       " 'last': 'koc',\n",
       " 'email': 'irem.koc@yildiz.edu.tr',\n",
       " 'grade': 80}"
      ]
     },
     "execution_count": 5,
     "metadata": {},
     "output_type": "execute_result"
    }
   ],
   "source": [
    "st2.first = \"irem\"\n",
    "st2.last = \"koc\"\n",
    "st2.email = \"irem.koc@yildiz.edu.tr\"\n",
    "st2.grade = 80\n",
    "st2.__dict__\n",
    "#We want to do it one by one, \n",
    "#How to make this setup automatically?"
   ]
  },
  {
   "cell_type": "code",
   "execution_count": 8,
   "metadata": {},
   "outputs": [
    {
     "ename": "AttributeError",
     "evalue": "'Student' object has no attribute 'firstt'",
     "output_type": "error",
     "traceback": [
      "\u001b[1;31m---------------------------------------------------------------------------\u001b[0m",
      "\u001b[1;31mAttributeError\u001b[0m                            Traceback (most recent call last)",
      "\u001b[1;32m<ipython-input-8-e9018c489317>\u001b[0m in \u001b[0;36m<module>\u001b[1;34m\u001b[0m\n\u001b[0;32m      1\u001b[0m \u001b[0mst2\u001b[0m\u001b[1;33m.\u001b[0m\u001b[0mfirst\u001b[0m\u001b[1;33m\u001b[0m\u001b[1;33m\u001b[0m\u001b[0m\n\u001b[1;32m----> 2\u001b[1;33m \u001b[0mst1\u001b[0m\u001b[1;33m.\u001b[0m\u001b[0mfirstt\u001b[0m\u001b[1;33m\u001b[0m\u001b[1;33m\u001b[0m\u001b[0m\n\u001b[0m",
      "\u001b[1;31mAttributeError\u001b[0m: 'Student' object has no attribute 'firstt'"
     ]
    }
   ],
   "source": [
    "st2.first\n",
    "st1.firstt"
   ]
  },
  {
   "cell_type": "code",
   "execution_count": 10,
   "metadata": {},
   "outputs": [],
   "source": [
    "#####################################\n",
    "####   How to initialize an object? ####\n",
    "#####################################\n",
    "\n",
    "# each method (or function) in a class automatically  \n",
    "# takes the instance as its\n",
    "# first argument when an instance is created.  \n",
    "\n",
    "class Student:\n",
    "    def __init__(self, F, L, G):\n",
    "        self.first = F\n",
    "        self.last  = L\n",
    "        self.grade = G\n",
    "        #you may write it like this, but the eneral convention \n",
    "        #general convention is to use the same name such as:"
   ]
  },
  {
   "cell_type": "code",
   "execution_count": 11,
   "metadata": {},
   "outputs": [],
   "source": [
    "st_3 = Student(\"Cem\", \"Terakye\",90)\n",
    "st_4 = Student(\"Elif\", \"Omer\", 95)\n",
    "st_5 = Student(\"Ege\", \"Dolan\", 95)\n"
   ]
  },
  {
   "cell_type": "code",
   "execution_count": 12,
   "metadata": {},
   "outputs": [
    {
     "data": {
      "text/plain": [
       "{'first': 'Cem', 'last': 'Terakye', 'grade': 90}"
      ]
     },
     "execution_count": 12,
     "metadata": {},
     "output_type": "execute_result"
    }
   ],
   "source": [
    "st_3.__dict__\n"
   ]
  },
  {
   "cell_type": "code",
   "execution_count": 13,
   "metadata": {},
   "outputs": [
    {
     "data": {
      "text/plain": [
       "{'first': 'Elif', 'last': 'Omer', 'grade': 95}"
      ]
     },
     "execution_count": 13,
     "metadata": {},
     "output_type": "execute_result"
    }
   ],
   "source": [
    "st_4.__dict__\n"
   ]
  },
  {
   "cell_type": "code",
   "execution_count": 5,
   "metadata": {},
   "outputs": [],
   "source": [
    "class Student:\n",
    "    def __init__(self, first, last, grade):\n",
    "        self.first = first\n",
    "        self.last  = last\n",
    "        self.grade = grade\n",
    "        # use the same name and pick informative names\n",
    "        self.email = first + '.' + last + '@yildiz.edu.tr'\n",
    "        print(\"Well, you succesfully created\",self.first) \n",
    "    \n",
    "    def fullname(self): ###Don't forget about self!!!\n",
    "        return self.first + \" \" + self.last\n",
    "\n",
    "    "
   ]
  },
  {
   "cell_type": "code",
   "execution_count": 6,
   "metadata": {},
   "outputs": [
    {
     "name": "stdout",
     "output_type": "stream",
     "text": [
      "Well, you succesfully created Mehmet\n",
      "Well, you succesfully created Ismail\n",
      "Well, you succesfully created Bisher\n"
     ]
    }
   ],
   "source": [
    "st1 = Student('Mehmet','Guler',60)\n",
    "st2 = Student('Ismail','Sevim',80)\n",
    "st3 = Student(\"Bisher\", \"Allaham\", 85)\n"
   ]
  },
  {
   "cell_type": "code",
   "execution_count": 18,
   "metadata": {},
   "outputs": [
    {
     "data": {
      "text/plain": [
       "{'first': 'Bisher',\n",
       " 'last': 'Allaham',\n",
       " 'grade': 85,\n",
       " 'email': 'Bisher.Allaham@yildiz.edu.tr'}"
      ]
     },
     "execution_count": 18,
     "metadata": {},
     "output_type": "execute_result"
    }
   ],
   "source": [
    "st3.__dict__\n"
   ]
  },
  {
   "cell_type": "code",
   "execution_count": 21,
   "metadata": {},
   "outputs": [
    {
     "data": {
      "text/plain": [
       "'Mehmet.Guler@yildiz.edu.tr'"
      ]
     },
     "execution_count": 21,
     "metadata": {},
     "output_type": "execute_result"
    }
   ],
   "source": [
    "st1.email\n"
   ]
  },
  {
   "cell_type": "code",
   "execution_count": 22,
   "metadata": {},
   "outputs": [
    {
     "name": "stdout",
     "output_type": "stream",
     "text": [
      "Mehmet.Guler@yildiz.edu.tr\n",
      "Ismail.Sevim@yildiz.edu.tr\n"
     ]
    }
   ],
   "source": [
    "print(st1.email)\n",
    "print(st2.email)"
   ]
  },
  {
   "cell_type": "code",
   "execution_count": 25,
   "metadata": {},
   "outputs": [
    {
     "data": {
      "text/plain": [
       "<bound method Student.fullname of <__main__.Student object at 0x0000023C23139B70>>"
      ]
     },
     "execution_count": 25,
     "metadata": {},
     "output_type": "execute_result"
    }
   ],
   "source": [
    "st2.fullname #this is a method (function), not a variable\n"
   ]
  },
  {
   "cell_type": "code",
   "execution_count": 24,
   "metadata": {},
   "outputs": [
    {
     "data": {
      "text/plain": [
       "'Mehmet Guler'"
      ]
     },
     "execution_count": 24,
     "metadata": {},
     "output_type": "execute_result"
    }
   ],
   "source": [
    "## Please compare the following three items. \n",
    "st1.fullname() #this is a method (function), not a variable\n"
   ]
  },
  {
   "cell_type": "code",
   "execution_count": 28,
   "metadata": {},
   "outputs": [
    {
     "data": {
      "text/plain": [
       "'Bisher Allaham'"
      ]
     },
     "execution_count": 28,
     "metadata": {},
     "output_type": "execute_result"
    }
   ],
   "source": [
    "Student.fullname(st3) #this is another way of calling the function. "
   ]
  },
  {
   "cell_type": "code",
   "execution_count": 32,
   "metadata": {},
   "outputs": [],
   "source": [
    "###############################\n",
    "## Class Data/variable example #########\n",
    "###############################\n",
    "class Student:\n",
    "    #This is a CLASS DATA / Variable. \n",
    "    \n",
    "    LetterGrade='AA'\n",
    "    \n",
    "    def __init__(self, first, last, grade):\n",
    "        self.first = first\n",
    "        self.last  = last\n",
    "        self.grade = grade\n",
    "        self.email = first + '.' + last + '@yildiz.edu.tr'\n",
    "    \n",
    "    def fullname(self): ###Don't forget about self!!!\n",
    "        return self.first + \" \" + self.last\n",
    "    \n",
    "st1 = Student('Mehmet','Guler',60)\n",
    "st2 = Student('Ismail','Sevim',80)"
   ]
  },
  {
   "cell_type": "code",
   "execution_count": 33,
   "metadata": {},
   "outputs": [
    {
     "name": "stdout",
     "output_type": "stream",
     "text": [
      "AA\n",
      "AA\n",
      "AA\n"
     ]
    }
   ],
   "source": [
    "print(st1.LetterGrade)\n",
    "print(st2.LetterGrade)\n",
    "print(Student.LetterGrade)"
   ]
  },
  {
   "cell_type": "code",
   "execution_count": 34,
   "metadata": {},
   "outputs": [
    {
     "name": "stdout",
     "output_type": "stream",
     "text": [
      "{'first': 'Mehmet', 'last': 'Guler', 'grade': 60, 'email': 'Mehmet.Guler@yildiz.edu.tr'}\n"
     ]
    }
   ],
   "source": [
    "print(st1.__dict__) # this shows the data and\n",
    "#the methods of the instace of the object\n"
   ]
  },
  {
   "cell_type": "code",
   "execution_count": 35,
   "metadata": {},
   "outputs": [
    {
     "name": "stdout",
     "output_type": "stream",
     "text": [
      "BB\n",
      "AA\n",
      "AA\n"
     ]
    }
   ],
   "source": [
    "st1.LetterGrade = 'BB'\n",
    "print(st1.LetterGrade)\n",
    "print(st2.LetterGrade)\n",
    "print(Student.LetterGrade)\n"
   ]
  },
  {
   "cell_type": "code",
   "execution_count": 36,
   "metadata": {},
   "outputs": [
    {
     "name": "stdout",
     "output_type": "stream",
     "text": [
      "{'first': 'Mehmet', 'last': 'Guler', 'grade': 60, 'email': 'Mehmet.Guler@yildiz.edu.tr', 'LetterGrade': 'BB'}\n",
      "{'first': 'Ismail', 'last': 'Sevim', 'grade': 80, 'email': 'Ismail.Sevim@yildiz.edu.tr'}\n"
     ]
    }
   ],
   "source": [
    "print(st1.__dict__)\n",
    "print(st2.__dict__)\n",
    "# can you print the student class? What does it mean printing it? "
   ]
  },
  {
   "cell_type": "code",
   "execution_count": 49,
   "metadata": {},
   "outputs": [],
   "source": [
    "#Defining a function to return a particular data\n",
    "\n",
    "class Student:\n",
    "    LetterGrade='AA'\n",
    "    def __init__(self, first, last, grade):\n",
    "        self.first = first\n",
    "        self.last  = last\n",
    "        self.grade = grade\n",
    "        self.email = first + '.' + last + '@yildiz.edu.tr'\n",
    "    \n",
    "    def fullname(self): ###Don't forget about self!!!\n",
    "        return self.first + \" \" + self.last\n",
    "    \n",
    "    def printLetterGrade1(self):\n",
    "        return Student.LetterGrade\n",
    "        #please note the difference!!!\n",
    "        #return self.LetterGrade\n",
    "\n",
    "    def printLetterGrade2(self):\n",
    "        #return Student.LetterGrade\n",
    "        #please note the difference!!!\n",
    "        return self.LetterGrade\n",
    "\n"
   ]
  },
  {
   "cell_type": "code",
   "execution_count": 50,
   "metadata": {},
   "outputs": [],
   "source": [
    "st1 = Student('Mehmet','Guler',60)\n",
    "st2 = Student('Ismail','Sevim',80)\n",
    "\n"
   ]
  },
  {
   "cell_type": "code",
   "execution_count": 51,
   "metadata": {},
   "outputs": [
    {
     "data": {
      "text/plain": [
       "'AA'"
      ]
     },
     "execution_count": 51,
     "metadata": {},
     "output_type": "execute_result"
    }
   ],
   "source": [
    "st1.LetterGrade"
   ]
  },
  {
   "cell_type": "code",
   "execution_count": 52,
   "metadata": {},
   "outputs": [
    {
     "data": {
      "text/plain": [
       "{'first': 'Mehmet',\n",
       " 'last': 'Guler',\n",
       " 'grade': 60,\n",
       " 'email': 'Mehmet.Guler@yildiz.edu.tr'}"
      ]
     },
     "execution_count": 52,
     "metadata": {},
     "output_type": "execute_result"
    }
   ],
   "source": [
    "st1.__dict__"
   ]
  },
  {
   "cell_type": "code",
   "execution_count": 53,
   "metadata": {},
   "outputs": [],
   "source": [
    "st1.LetterGrade = 'BB'\n"
   ]
  },
  {
   "cell_type": "code",
   "execution_count": 55,
   "metadata": {},
   "outputs": [
    {
     "name": "stdout",
     "output_type": "stream",
     "text": [
      "AA\n",
      "BB\n"
     ]
    }
   ],
   "source": [
    "print(st1.printLetterGrade1())\n",
    "print(st1.printLetterGrade2())\n",
    "\n"
   ]
  },
  {
   "cell_type": "code",
   "execution_count": 56,
   "metadata": {},
   "outputs": [
    {
     "name": "stdout",
     "output_type": "stream",
     "text": [
      "AA\n",
      "DD\n"
     ]
    }
   ],
   "source": [
    "st2.LetterGrade = \"DD\"\n",
    "print(st2.printLetterGrade1())\n",
    "print(st2.printLetterGrade2())\n"
   ]
  },
  {
   "cell_type": "code",
   "execution_count": 57,
   "metadata": {},
   "outputs": [],
   "source": [
    "# How to add a Class Data/Variable (belong to the class, not to the object instance)\n",
    "# Where to use it? An example...\n",
    "class Student:\n",
    "    LetterGrade='AA'\n",
    "    \n",
    "    NumOfStudents = 0 #I have added another class variable. \n",
    "    \n",
    "    def __init__(self, first, last, grade):\n",
    "        self.first = first\n",
    "        self.last = last\n",
    "        self.grade= grade\n",
    "        self.email = first + '.' + last + '@yildiz.edu.tr'\n",
    "        \n",
    "        #it increments the number of students at \n",
    "        #every instance creation\n",
    "        Student.NumOfStudents +=1\n",
    "    \n",
    "    def fullname(self): ###Don't forget about self!!!\n",
    "        return self.first + \" \" + self.last\n",
    "\n"
   ]
  },
  {
   "cell_type": "code",
   "execution_count": 58,
   "metadata": {},
   "outputs": [
    {
     "name": "stdout",
     "output_type": "stream",
     "text": [
      "1\n",
      "2\n",
      "3\n",
      "4\n",
      "5\n"
     ]
    }
   ],
   "source": [
    "st1 = Student('Mehmet','Guler',60)\n",
    "print(Student.NumOfStudents)\n",
    "st2 = Student('Ismail','Sevim',80)\n",
    "print(Student.NumOfStudents)\n",
    "st3 = Student('Bisher', 'Allaham', 90)\n",
    "print(Student.NumOfStudents)\n",
    "st4 = Student('Tugce', 'Koroglu', 95)\n",
    "print(Student.NumOfStudents)\n",
    "st5 = Student('Ebru', 'Gecici', 95)\n",
    "print(Student.NumOfStudents)"
   ]
  },
  {
   "cell_type": "markdown",
   "metadata": {},
   "source": [
    "# Let's continue with another example"
   ]
  },
  {
   "cell_type": "code",
   "execution_count": 60,
   "metadata": {},
   "outputs": [],
   "source": [
    "class Coordinate():\n",
    "    def __init__(self,x,y):\n",
    "        self.x = x\n",
    "        self.y = y\n",
    "        \n",
    "    def distance(self,other):\n",
    "        x_diff_sq = (self.x-other.x)**2\n",
    "        y_diff_sq = (self.y-other.y)**2\n",
    "        distance = (x_diff_sq + y_diff_sq)**0.5\n",
    "        return distance"
   ]
  },
  {
   "cell_type": "code",
   "execution_count": 61,
   "metadata": {},
   "outputs": [],
   "source": [
    "c1 = Coordinate(3,4)\n",
    "c2 = Coordinate(0,0)\n",
    "\n"
   ]
  },
  {
   "cell_type": "code",
   "execution_count": 62,
   "metadata": {},
   "outputs": [
    {
     "data": {
      "text/plain": [
       "{'x': 3, 'y': 4}"
      ]
     },
     "execution_count": 62,
     "metadata": {},
     "output_type": "execute_result"
    }
   ],
   "source": [
    "c1.__dict__"
   ]
  },
  {
   "cell_type": "code",
   "execution_count": 63,
   "metadata": {},
   "outputs": [
    {
     "name": "stdout",
     "output_type": "stream",
     "text": [
      "5.0\n"
     ]
    }
   ],
   "source": [
    "V1    = c2.distance(c1)\n",
    "print(V1)\n"
   ]
  },
  {
   "cell_type": "code",
   "execution_count": 64,
   "metadata": {},
   "outputs": [
    {
     "data": {
      "text/plain": [
       "5.0"
      ]
     },
     "execution_count": 64,
     "metadata": {},
     "output_type": "execute_result"
    }
   ],
   "source": [
    "c1.distance(c2)"
   ]
  },
  {
   "cell_type": "code",
   "execution_count": 65,
   "metadata": {},
   "outputs": [
    {
     "name": "stdout",
     "output_type": "stream",
     "text": [
      "5.0\n"
     ]
    }
   ],
   "source": [
    "#    or\n",
    "V2 = Coordinate.distance(c1,c2)\n",
    "print(V2)"
   ]
  },
  {
   "cell_type": "code",
   "execution_count": 66,
   "metadata": {},
   "outputs": [
    {
     "name": "stdout",
     "output_type": "stream",
     "text": [
      "<__main__.Coordinate object at 0x0000023C231589B0>\n"
     ]
    }
   ],
   "source": [
    "# How to \"print\" an object? \n",
    "# How to overwrite a function?\n",
    "\n",
    "class Coordinate(object):\n",
    "    def __init__(self,x,y):\n",
    "        self.x = x\n",
    "        self.y = y\n",
    "        \n",
    "    def distance(self,other):\n",
    "        x_diff_sq = (self.x-other.x)**2\n",
    "        y_diff_sq = (self.y-other.y)**2\n",
    "        distance = (x_diff_sq + y_diff_sq)**0.5\n",
    "        return distance\n",
    "\n",
    "c = Coordinate(3,4)\n",
    "print(c)"
   ]
  },
  {
   "cell_type": "code",
   "execution_count": null,
   "metadata": {},
   "outputs": [],
   "source": [
    "# It does not know how to print it. \n",
    "# we will show it\n",
    "# We want it to be printed like this:\n",
    "    \n",
    ">>> print(c)\n",
    "<3,4>\n",
    "\n",
    "# How to do this? "
   ]
  },
  {
   "cell_type": "code",
   "execution_count": 68,
   "metadata": {},
   "outputs": [
    {
     "name": "stdout",
     "output_type": "stream",
     "text": [
      "(3;4)\n",
      "(0;0)\n",
      "(5;9)\n"
     ]
    }
   ],
   "source": [
    "class Coordinate(object):\n",
    "    def __init__(self,x,y):\n",
    "        self.x = x\n",
    "        self.y = y\n",
    "        \n",
    "    def distance(self,other):\n",
    "        x_diff_sq = (self.x-other.x)**2\n",
    "        y_diff_sq = (self.y-other.y)**2\n",
    "        distance = (x_diff_sq + y_diff_sq)**0.5\n",
    "        return distance\n",
    "    def __str__(self):\n",
    "        #return str(self.x) + \",\" + str(self.y)\n",
    "        return \"(\" +str(self.x) + \";\" + str(self.y)+ \")\"\n",
    "    \n",
    "c1 = Coordinate(3,4)\n",
    "print(c1)\n",
    "c2 = Coordinate(0,0)\n",
    "print(c2)\n",
    "c3 = Coordinate(5,9)\n",
    "print(c3) "
   ]
  },
  {
   "cell_type": "code",
   "execution_count": 69,
   "metadata": {},
   "outputs": [
    {
     "ename": "TypeError",
     "evalue": "unsupported operand type(s) for -: 'Coordinate' and 'Coordinate'",
     "output_type": "error",
     "traceback": [
      "\u001b[1;31m---------------------------------------------------------------------------\u001b[0m",
      "\u001b[1;31mTypeError\u001b[0m                                 Traceback (most recent call last)",
      "\u001b[1;32m<ipython-input-69-5f6bcbf73c59>\u001b[0m in \u001b[0;36m<module>\u001b[1;34m\u001b[0m\n\u001b[1;32m----> 1\u001b[1;33m \u001b[0mprint\u001b[0m\u001b[1;33m(\u001b[0m\u001b[0mc1\u001b[0m \u001b[1;33m-\u001b[0m \u001b[0mc3\u001b[0m\u001b[1;33m)\u001b[0m\u001b[1;33m\u001b[0m\u001b[1;33m\u001b[0m\u001b[0m\n\u001b[0m",
      "\u001b[1;31mTypeError\u001b[0m: unsupported operand type(s) for -: 'Coordinate' and 'Coordinate'"
     ]
    }
   ],
   "source": [
    "print(c1 - c3)"
   ]
  },
  {
   "cell_type": "code",
   "execution_count": 70,
   "metadata": {},
   "outputs": [
    {
     "ename": "TypeError",
     "evalue": "unsupported operand type(s) for +: 'Coordinate' and 'Coordinate'",
     "output_type": "error",
     "traceback": [
      "\u001b[1;31m---------------------------------------------------------------------------\u001b[0m",
      "\u001b[1;31mTypeError\u001b[0m                                 Traceback (most recent call last)",
      "\u001b[1;32m<ipython-input-70-b5f21b6a33d8>\u001b[0m in \u001b[0;36m<module>\u001b[1;34m\u001b[0m\n\u001b[1;32m----> 1\u001b[1;33m \u001b[0mprint\u001b[0m\u001b[1;33m(\u001b[0m\u001b[0mc1\u001b[0m \u001b[1;33m+\u001b[0m \u001b[0mc3\u001b[0m\u001b[1;33m)\u001b[0m\u001b[1;33m\u001b[0m\u001b[1;33m\u001b[0m\u001b[0m\n\u001b[0m",
      "\u001b[1;31mTypeError\u001b[0m: unsupported operand type(s) for +: 'Coordinate' and 'Coordinate'"
     ]
    }
   ],
   "source": [
    "print(c1 + c3)"
   ]
  },
  {
   "cell_type": "code",
   "execution_count": 71,
   "metadata": {},
   "outputs": [],
   "source": [
    "class Coordinate(object):\n",
    "    def __init__(self,x,y):\n",
    "        self.x = x\n",
    "        self.y = y\n",
    "        \n",
    "    def distance(self,other):\n",
    "        x_diff_sq = (self.x-other.x)**2\n",
    "        y_diff_sq = (self.y-other.y)**2\n",
    "        distance = (x_diff_sq + y_diff_sq)**0.5\n",
    "        return distance\n",
    "    def __str__(self):\n",
    "        #return str(self.x) + \",\" + str(self.y)\n",
    "        return \"<\" +str(self.x) + \",\" + str(self.y)+ \">\"\n",
    "    \n",
    "    def __add__(self, other):\n",
    "        xsum = self.x + other.x\n",
    "        ysum = self.y + other.y\n",
    "        temp = Coordinate(xsum, ysum)\n",
    "        return temp\n",
    "   \n",
    "    def __sub__(self, other):\n",
    "        return Coordinate(self.x - other.x, self.y - other.y) \n",
    "   \n",
    "\n",
    "\n",
    "\n",
    "    def __eq__(self,other):\n",
    "        xcheck = self.x == other.x\n",
    "        ycheck = self.y == other.y\n",
    "        temp = xcheck and ycheck\n",
    "        return temp\n",
    "\n",
    "\n"
   ]
  },
  {
   "cell_type": "code",
   "execution_count": 72,
   "metadata": {},
   "outputs": [
    {
     "name": "stdout",
     "output_type": "stream",
     "text": [
      "<3,4>\n",
      "<0,0>\n",
      "<5,9>\n"
     ]
    }
   ],
   "source": [
    "c1 = Coordinate(3,4)\n",
    "print(c1)\n",
    "c2 = Coordinate(0,0)\n",
    "print(c2)\n",
    "c3 = Coordinate(5,9)\n",
    "print(c3) "
   ]
  },
  {
   "cell_type": "code",
   "execution_count": 73,
   "metadata": {},
   "outputs": [
    {
     "name": "stdout",
     "output_type": "stream",
     "text": [
      "<-2,-5>\n"
     ]
    }
   ],
   "source": [
    "print(c1 - c3)"
   ]
  },
  {
   "cell_type": "code",
   "execution_count": 74,
   "metadata": {},
   "outputs": [
    {
     "name": "stdout",
     "output_type": "stream",
     "text": [
      "<8,13>\n"
     ]
    }
   ],
   "source": [
    "print(c1 + c3)"
   ]
  },
  {
   "cell_type": "code",
   "execution_count": 75,
   "metadata": {},
   "outputs": [
    {
     "name": "stdout",
     "output_type": "stream",
     "text": [
      "False\n"
     ]
    }
   ],
   "source": [
    "print(c1 == c3)\n"
   ]
  },
  {
   "cell_type": "code",
   "execution_count": 76,
   "metadata": {},
   "outputs": [
    {
     "name": "stdout",
     "output_type": "stream",
     "text": [
      "True\n"
     ]
    }
   ],
   "source": [
    "print(c1 == c1)"
   ]
  },
  {
   "cell_type": "code",
   "execution_count": null,
   "metadata": {},
   "outputs": [],
   "source": []
  }
 ],
 "metadata": {
  "kernelspec": {
   "display_name": "Python 3",
   "language": "python",
   "name": "python3"
  },
  "language_info": {
   "codemirror_mode": {
    "name": "ipython",
    "version": 3
   },
   "file_extension": ".py",
   "mimetype": "text/x-python",
   "name": "python",
   "nbconvert_exporter": "python",
   "pygments_lexer": "ipython3",
   "version": "3.7.3"
  }
 },
 "nbformat": 4,
 "nbformat_minor": 2
}

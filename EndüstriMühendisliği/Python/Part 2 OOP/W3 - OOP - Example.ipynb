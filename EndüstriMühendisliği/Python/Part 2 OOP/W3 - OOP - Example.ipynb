{
 "cells": [
  {
   "cell_type": "markdown",
   "metadata": {},
   "source": [
    "## Exercise 1\n"
   ]
  },
  {
   "cell_type": "markdown",
   "metadata": {},
   "source": [
    "Create a class person that has these attributes: name, gender, age, weight and height. \n",
    "\n",
    "write a function that calculates its BMI (body mass index), you can check it on the web to see how to calculate it. Simply you divide your weight by the square of your height. \n",
    "\n",
    "Write a function _isHealthy_ which gives the BMI result:\n",
    "\n",
    "__BMI Categories for men:__\n",
    "\n",
    "Underweight = <18.5\n",
    "\n",
    "Normal weight = 18.5–25\n",
    "\n",
    "Overweight = 25–30\n",
    "\n",
    "Obesity = BMI of 30 or greater\n",
    "\n",
    "__BMI Categories for women:__\n",
    "\n",
    "Underweight = <17.5\n",
    "\n",
    "Normal weight = 17.5–24\n",
    "\n",
    "Overweight = 24–29\n",
    "\n",
    "Obesity = BMI of 30 or greater\n",
    "\n",
    "\n"
   ]
  },
  {
   "cell_type": "markdown",
   "metadata": {},
   "source": [
    "### Exercise 2"
   ]
  },
  {
   "cell_type": "markdown",
   "metadata": {},
   "source": [
    "We will try to generate class structure of sahibinden.com. \n",
    "\n",
    "In particular I want to generate class structure of the vehicles sold in the website. \n",
    "\n",
    "First, go to the web site and check the posts \n",
    "\n",
    "Then before writing your code, try to figure out (or plan, or design) what should be the relation between these classes, which one should be a parent class, which one can be a sub class, which one should be subsub class, etc. \n",
    "\n",
    "In order to give you an intution, please visit the following web site which gives the same example, of course without sahibinden.com\n",
    "\n",
    "https://pynative.com/python-object-oriented-programming-oop-exercise/\n",
    "\n",
    "I know this is not a straightforward exercise but I believe it's a bit challenging and can give a flavour of how to create objects, classes, what is the relationship between them, etc. \n"
   ]
  },
  {
   "cell_type": "code",
   "execution_count": null,
   "metadata": {},
   "outputs": [],
   "source": []
  }
 ],
 "metadata": {
  "kernelspec": {
   "display_name": "Python 3",
   "language": "python",
   "name": "python3"
  },
  "language_info": {
   "codemirror_mode": {
    "name": "ipython",
    "version": 3
   },
   "file_extension": ".py",
   "mimetype": "text/x-python",
   "name": "python",
   "nbconvert_exporter": "python",
   "pygments_lexer": "ipython3",
   "version": "3.7.3"
  }
 },
 "nbformat": 4,
 "nbformat_minor": 2
}

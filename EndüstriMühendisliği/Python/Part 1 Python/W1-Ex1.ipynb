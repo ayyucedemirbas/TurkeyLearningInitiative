{
 "cells": [
  {
   "cell_type": "code",
   "execution_count": null,
   "metadata": {},
   "outputs": [],
   "source": [
    "#Exercise 1\n",
    "\n",
    "#please change the function so that it adds three numbers but if the third is not given than it adds two numbers. \n",
    " \n",
    "\n",
    "def add_numbers():\n",
    "...\n",
    "\n",
    "add_numbers(1, 2,3 ) \n",
    "    \n",
    "    \n"
   ]
  },
  {
   "cell_type": "code",
   "execution_count": 1,
   "metadata": {},
   "outputs": [
    {
     "ename": "SyntaxError",
     "evalue": "invalid syntax (<ipython-input-1-4af6f1b89719>, line 10)",
     "output_type": "error",
     "traceback": [
      "\u001b[1;36m  File \u001b[1;32m\"<ipython-input-1-4af6f1b89719>\"\u001b[1;36m, line \u001b[1;32m10\u001b[0m\n\u001b[1;33m    def do_math(?, ?, ?):\u001b[0m\n\u001b[1;37m                ^\u001b[0m\n\u001b[1;31mSyntaxError\u001b[0m\u001b[1;31m:\u001b[0m invalid syntax\n"
     ]
    }
   ],
   "source": [
    "#Exercise 2\n",
    "\n",
    "\n",
    "#This function should add the two values if the value of the \"kind\" \n",
    "#parameter is \"add\" or is not passed in, \n",
    "#otherwise it should subtract the second value from the first. \n",
    "\n",
    "#Can you fix the function so that it works?\n",
    "\n",
    "def do_math(?, ?, ?):\n",
    "  if (kind=='add'):\n",
    "    return a+b\n",
    "  else:\n",
    "    return a-b\n",
    "\n",
    "do_math(1, 2)   \n",
    "    \n",
    "    "
   ]
  },
  {
   "cell_type": "code",
   "execution_count": null,
   "metadata": {},
   "outputs": [],
   "source": [
    "#Exercise 3\n",
    "# What would be an appropriate slice to get the name \n",
    "#\"Christopher\" from the string \"Dr. Christopher Brooks\"\n",
    "x = 'Dr. Christopher Brooks'\n",
    "\n",
    "print(x[???])"
   ]
  },
  {
   "cell_type": "code",
   "execution_count": null,
   "metadata": {},
   "outputs": [],
   "source": [
    "# Exercise 4\n",
    "# Write a function which takes a string and returns a dictionary which gives the number of occurrences of characters. \n",
    "# for example for mississippi it will return\n",
    "# {'m': 1, 'i': 4, 's': 4, 'p': 2}\n",
    "\n"
   ]
  },
  {
   "cell_type": "code",
   "execution_count": null,
   "metadata": {},
   "outputs": [],
   "source": [
    "#exercise 5\n",
    "# write a function which finds the nth root of a number that is between 0 and 100\n",
    "# using bisection method (What was it???)\n",
    "# The number itself, the epsilon and the nth root should be parameters but must have default values whenever necessary. \n",
    "\n"
   ]
  }
 ],
 "metadata": {
  "kernelspec": {
   "display_name": "Python 3",
   "language": "python",
   "name": "python3"
  },
  "language_info": {
   "codemirror_mode": {
    "name": "ipython",
    "version": 3
   },
   "file_extension": ".py",
   "mimetype": "text/x-python",
   "name": "python",
   "nbconvert_exporter": "python",
   "pygments_lexer": "ipython3",
   "version": "3.7.3"
  }
 },
 "nbformat": 4,
 "nbformat_minor": 2
}

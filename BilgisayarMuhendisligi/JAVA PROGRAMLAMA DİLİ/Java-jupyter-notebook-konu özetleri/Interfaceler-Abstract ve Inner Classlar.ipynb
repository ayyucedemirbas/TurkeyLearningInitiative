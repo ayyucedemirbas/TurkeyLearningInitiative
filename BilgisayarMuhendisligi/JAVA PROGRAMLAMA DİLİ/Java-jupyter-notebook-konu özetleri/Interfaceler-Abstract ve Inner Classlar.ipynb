{
 "cells": [
  {
   "cell_type": "markdown",
   "metadata": {},
   "source": [
    "# Interface"
   ]
  },
  {
   "cell_type": "markdown",
   "metadata": {},
   "source": [
    "Interface, içerisinde sadece kendisinden türeyecek olan sınıfların içini dolduracağı metod tanımlarının bulunduğu ve soyutlama yapmamıza olanak sağlayan bir yapıdır. Interface’leri tanımlarken interface keywordünü kullanırız. "
   ]
  },
  {
   "cell_type": "markdown",
   "metadata": {},
   "source": [
    "Neden interface kullanırız?\n",
    "\n",
    "-Java çoklu mirası desteklemez.Çoklu miras alabilmek içinde interface çözümlerden biridir.\n",
    "\n",
    "\n",
    "\n",
    "\n",
    "\n",
    "\n",
    "\n",
    "\n",
    "İnterface içerisinde neler olmaz?\n",
    "\n",
    "-Constructor ve destructor(yok edici) kesinlikle barındırmazlar.\n",
    "Arayüz içerisinde new() operatörü ile nesne tanımlanamaz."
   ]
  },
  {
   "cell_type": "markdown",
   "metadata": {},
   "source": [
    "# Abstract"
   ]
  },
  {
   "cell_type": "markdown",
   "metadata": {},
   "source": [
    "#### Soyutlama (Abstraction)\n",
    "\n",
    "\n",
    "Nesneye yönelimli programlamadaki en önemli kavramlardan biriside soyutlamadır. Büyük ve kapsamlı program birçok sistem parçası ile mesajlaşarak çalışmaktadır. Yapılan bu çalışmaların hepsini bir programcı olarak bilmek zor, zaman alıcı ve gereksizdir. Böyle bir sistemin detaylarına odaklanmak yerine girdi ve çıktılarını bakmak sistemi daha iyi anlamıza olanak sağlar. Java dilinde soyutlama abstract class (soyut sınıflar) ve interface (arayüzler) aracılığıyla yapılır."
   ]
  },
  {
   "cell_type": "markdown",
   "metadata": {},
   "source": [
    "#### Abstract Class (Soyut Sınıf)\n",
    "\n",
    "Abstract sınıflar,genellikle ortak özellikleri olan nesneleri tek bir çatı altında toplamak için kullanılır. Abstract sınıflarda içi boş yada dolu metodlar tanımlanır. Abstract sınıflardan new kelimesi ile nesne oluşturulmaz. En az 1 abstract metod varsa sınıf abstract olmalıdır. Bir sınıfı abstract sınıf yapmak için abstract kelimesi kullanılır."
   ]
  },
  {
   "cell_type": "markdown",
   "metadata": {},
   "source": [
    "#### Genel olarak abstract sınıfların özelliklerini bir araya toplarsak;\n",
    "\n",
    "Abstract sınıfları genel olarak inheritance (kalıtım) uygularken kullanırız.\n",
    "\n",
    "new anahtar sözcüğü ile nesneleri oluşturulamaz.\n",
    "\n",
    "İçerisinde değişken ve metod bulundurabilir.\n",
    "\n",
    "Abstract sınıflardan türetilen sınıfların abstract metodları implement etmesi zorunludur. Diğer metodları override etmeden de kullanabilir.\n",
    "\n",
    "Constructors (yapıcı metodlar) ve destructors (yıkıcı metodlar) bulundurabilirler.\n",
    "\n",
    "Static tanımlanamazlar.\n",
    "\n",
    "Bir sınıf yalnızca bir abstract sınıfı inheritance yoluyla implement edebilir (extends). Çoklu kalıtım (multiple inheritance) desteklenmez.\n",
    "\n",
    "Abstract olmayan metodları da bulundurabilir.\n",
    "\n",
    "Kendisinden inherit alacak sınıflar ile arasında “is-a” ilişkisi vardır.\n"
   ]
  },
  {
   "cell_type": "markdown",
   "metadata": {},
   "source": [
    "#### Genel olarak Interface’lerin özelliklerinden bahsetmemiz gerekirse;\n",
    "\n",
    "new keywordü ile nesneleri oluşturulamaz.\n",
    "\n",
    "Bir sınıfın ne yapması gerektiğini belirtir, nasıl yapması gerektiğini değil.\n",
    "\n",
    "Default olarak tüm Interface üyeleri abstract ve public olarak tanımlanır. Sizin özellikle belirtmeniz gerekmez.\n",
    "\n",
    "Bir sınıf birden fazla interface’i inherit edebilir (implement), çoklu kalıtım (multiple-inheritance) desteklenir.\n",
    "\n",
    "İçerisinde yalnızca metodların imzaları yer alır, içi dolu metod bulunduramazlar.\n",
    "\n",
    "Kendisinden inherit alacak sınıflar ile arasında “can-do” ilişkisi vardır. (yapabilir)\n",
    "\n",
    "Interfacelere metod ve özellik eklenebilir. \n"
   ]
  },
  {
   "cell_type": "code",
   "execution_count": 28,
   "metadata": {},
   "outputs": [],
   "source": [
    "public interface ITrial{\n",
    "    public int a = 3;\n",
    "    public static void sayHello(){\n",
    "        System.out.println(\"Hello World !\");\n",
    "    }\n",
    "}"
   ]
  },
  {
   "cell_type": "code",
   "execution_count": 29,
   "metadata": {},
   "outputs": [
    {
     "data": {
      "text/plain": [
       "3"
      ]
     },
     "execution_count": 29,
     "metadata": {},
     "output_type": "execute_result"
    }
   ],
   "source": [
    "ITrial.a;"
   ]
  },
  {
   "cell_type": "code",
   "execution_count": 30,
   "metadata": {},
   "outputs": [
    {
     "name": "stdout",
     "output_type": "stream",
     "text": [
      "Hello World !\r\n"
     ]
    }
   ],
   "source": [
    "ITrial.sayHello();"
   ]
  },
  {
   "cell_type": "markdown",
   "metadata": {},
   "source": [
    "Abstract Class - Interface Farkları\n",
    "\n",
    "https://miro.medium.com/max/595/1*vmQhGSTGAeIIsCX0jEPUqg.jpeg"
   ]
  },
  {
   "cell_type": "markdown",
   "metadata": {},
   "source": [
    "### Static kelimesinin değişkenlerde kullanılması"
   ]
  },
  {
   "cell_type": "markdown",
   "metadata": {},
   "source": [
    "Static anahtar kelimesini kullanarak tanımladığımız değişkenler sınıf değişkeni olarak adlandırılır.\n",
    "\n",
    "Örnek verelim: bir araba sınıfı oluşturduğumuzda plaka ve teker sayısı diye tanımladığımız değişkenler, o classtan oluşturulan her nesne için ayrıdır. Yani nesneye özgüdür. Fakat direk classımıza özel bir değişken tanımlamak istersek bunu statik kelimesi ile yapabiliriz. "
   ]
  },
  {
   "cell_type": "code",
   "execution_count": 2,
   "metadata": {},
   "outputs": [],
   "source": [
    "public class Araba{\n",
    "    private String renk;\n",
    "    static int araba_sayisi = 0; //Class'a özgü değişken tanımladık ve başta 0 değerini verdik.\n",
    "    public Araba(String renk){ //Constructor metod tanımladık.\n",
    "    this.renk = renk;\n",
    "    araba_sayisi++; //Her yeni bir araba nesnesi tanımlandığında class'ımıza özgü araba_nesnesi değişkenimiz 1 artacak.\n",
    "    }\n",
    "    public String getRenk(){\n",
    "        return this.renk;\n",
    "    }\n",
    "    \n",
    "}"
   ]
  },
  {
   "cell_type": "code",
   "execution_count": 3,
   "metadata": {},
   "outputs": [
    {
     "name": "stdout",
     "output_type": "stream",
     "text": [
      "Kırmızı\r\n"
     ]
    }
   ],
   "source": [
    "Araba nesne1 = new Araba(\"Kırmızı\");\n",
    "System.out.println(nesne1.getRenk());"
   ]
  },
  {
   "cell_type": "code",
   "execution_count": 4,
   "metadata": {},
   "outputs": [
    {
     "data": {
      "text/plain": [
       "1"
      ]
     },
     "execution_count": 4,
     "metadata": {},
     "output_type": "execute_result"
    }
   ],
   "source": [
    "Araba.araba_sayisi //Bir tane nesne tanımladık ve araba_sayimiz 1 arttı."
   ]
  },
  {
   "cell_type": "markdown",
   "metadata": {},
   "source": [
    "### Static kelimesinin metodlarda kullanılması"
   ]
  },
  {
   "cell_type": "markdown",
   "metadata": {},
   "source": [
    "Normalde bir sınıftaki bir metodu çağırmak istiyorsak o sınıfın nesnesi üzerinden çağırırız. Nesnelerden bağımsız değişkenler yaratabildiğimiz gibi bağımsız metodlar da yaratabiliriz. Bunun için static anahtar kelimesini kullanırız."
   ]
  },
  {
   "cell_type": "code",
   "execution_count": 2,
   "metadata": {},
   "outputs": [],
   "source": [
    "public class Araba{\n",
    "    public static void renk(){\n",
    "        System.out.println(\"Kırmızı\");\n",
    "    }\n",
    "}"
   ]
  },
  {
   "cell_type": "code",
   "execution_count": 3,
   "metadata": {},
   "outputs": [],
   "source": [
    "Araba araba_nesnesi = new Araba();"
   ]
  },
  {
   "cell_type": "code",
   "execution_count": 5,
   "metadata": {},
   "outputs": [
    {
     "name": "stdout",
     "output_type": "stream",
     "text": [
      "Kırmızı\r\n"
     ]
    }
   ],
   "source": [
    "araba_nesnesi.renk(); // Nesne üzerinden metoda ulaştık."
   ]
  },
  {
   "cell_type": "code",
   "execution_count": 7,
   "metadata": {},
   "outputs": [
    {
     "name": "stdout",
     "output_type": "stream",
     "text": [
      "Kırmızı\r\n"
     ]
    }
   ],
   "source": [
    "Araba.renk(); //Bu methotu static olarak tanımladığımız için direk class üzerinden de ulaşabildik."
   ]
  },
  {
   "cell_type": "markdown",
   "metadata": {},
   "source": [
    "## Inner Classlar (Dahili Sınıflar)"
   ]
  },
  {
   "cell_type": "markdown",
   "metadata": {},
   "source": [
    "Inner Classlara sınıf içindeki sınıflar, iç içe sınıflar diyebiliriz."
   ]
  },
  {
   "cell_type": "markdown",
   "metadata": {},
   "source": [
    "### Java Inner Classes"
   ]
  },
  {
   "cell_type": "code",
   "execution_count": 18,
   "metadata": {},
   "outputs": [
    {
     "name": "stdout",
     "output_type": "stream",
     "text": [
      "15\r\n"
     ]
    }
   ],
   "source": [
    "class OuterClass { //Sınıf tanımladık.\n",
    "  int x = 10;\n",
    "\n",
    "  class InnerClass { //İç sınıf tanımladık.\n",
    "    int y = 5;\n",
    "  }\n",
    "}\n",
    "OuterClass myOuter = new OuterClass(); //Dış sınıfa nesne ürettik.\n",
    "OuterClass.InnerClass myInner = myOuter.new InnerClass();//İç sınıfa nesne üretmek için dış sınıfa ürettiğimiz nesneyi kullandık\n",
    "System.out.println(myInner.y + myOuter.x);"
   ]
  },
  {
   "cell_type": "markdown",
   "metadata": {},
   "source": [
    "### Private Inner Class"
   ]
  },
  {
   "cell_type": "code",
   "execution_count": 22,
   "metadata": {},
   "outputs": [
    {
     "ename": "CompilationException",
     "evalue": "",
     "output_type": "error",
     "traceback": [
      "\u001b[1m\u001b[30m|   \u001b[1m\u001b[30m\u001b[0m\u001b[1m\u001b[30m\u001b[41mOuterClass.InnerClass\u001b[0m\u001b[1m\u001b[30m a = new OuterClass().new InnerClass();\u001b[0m",
      "\u001b[1m\u001b[31mOuterClass.InnerClass has private access in OuterClass\u001b[0m",
      "",
      "\u001b[1m\u001b[30m|   \u001b[1m\u001b[30mOuterClass.InnerClass a = new OuterClass().new \u001b[0m\u001b[1m\u001b[30m\u001b[41mInnerClass()\u001b[0m\u001b[1m\u001b[30m;\u001b[0m",
      "\u001b[1m\u001b[31mOuterClass.InnerClass has private access in OuterClass\u001b[0m",
      ""
     ]
    }
   ],
   "source": [
    "public class OuterClass {\n",
    "  int x = 10;\n",
    "\n",
    "  private class InnerClass {\n",
    "    int y = 5;\n",
    "  }\n",
    "  }\n",
    "OuterClass myOuter = new OuterClass();\n",
    "OuterClass.InnerClass a = new OuterClass().new InnerClass();\n",
    "System.out.println(a.y); // InnerClass private olduğu için hata aldık."
   ]
  },
  {
   "cell_type": "markdown",
   "metadata": {},
   "source": [
    "### Static Inner Class"
   ]
  },
  {
   "cell_type": "code",
   "execution_count": null,
   "metadata": {},
   "outputs": [],
   "source": [
    "class OuterClass {\n",
    "  int x = 10;\n",
    "\n",
    "  static class InnerClass {\n",
    "    int y = 5;\n",
    "  }\n",
    "}\n",
    "OuterClass.InnerClass myInner = new OuterClass.InnerClass();\n",
    "System.out.println(myInner.y);"
   ]
  },
  {
   "cell_type": "markdown",
   "metadata": {},
   "source": [
    "### Final Anahtar Kelimesi"
   ]
  },
  {
   "cell_type": "markdown",
   "metadata": {},
   "source": [
    "final anahtar kelimesi ile oluşturulan bir değişken yalnızca bir değişken alır ve bir daha değiştirilemez. final kullanarak oluşturduğumuz değişkenin değerini yalnızca ilk tanımlarken veya constructorların içinde belirleyebiliriz."
   ]
  },
  {
   "cell_type": "code",
   "execution_count": 14,
   "metadata": {},
   "outputs": [],
   "source": [
    "import java.util.Scanner;\n",
    "class Database {\n",
    "    final String username = \"root\";\n",
    "    final String password = \"toor\";\n",
    "    public Database() {\n",
    "        Scanner scanner = new Scanner(System.in);\n",
    "        System.out.println(\"Kullanıcı Adınız: \");\n",
    "        String inputUserName = scanner.nextLine();\n",
    "        System.out.println(\"Şifre: \");\n",
    "        String inputPassword = scanner.nextLine();\n",
    "        if (inputUserName.equals(username) && inputPassword.equals(password)) {\n",
    "            System.out.println(\"Giriş Başarılı\");\n",
    "        }\n",
    "        else {\n",
    "            System.out.println(\"Hatalı Bilgi\");\n",
    "        }\n",
    "        \n",
    "    }\n",
    "}"
   ]
  },
  {
   "cell_type": "code",
   "execution_count": 15,
   "metadata": {},
   "outputs": [
    {
     "name": "stdout",
     "output_type": "stream",
     "text": [
      "Kullanıcı Adınız: \n",
      "root\n",
      "Şifre: \n",
      "toor\n",
      "Giriş Başarılı\n"
     ]
    }
   ],
   "source": [
    "Database signIn = new Database();"
   ]
  },
  {
   "cell_type": "markdown",
   "metadata": {},
   "source": [
    "+ final anahtar kelimesi ile oluşturulan classlar extends edilemez.\n",
    "+ final anahtar kelimesi ile oluşturulan metodlar override edilemez.\n",
    "+ final anahtar kelimesi ile gönderilen parametreler değiştirilemez."
   ]
  },
  {
   "cell_type": "code",
   "execution_count": 23,
   "metadata": {},
   "outputs": [],
   "source": [
    "class Selam{\n",
    "    public Selam(final String isim) {\n",
    "        System.out.println(\"Merhaba \" + isim);\n",
    "    }\n",
    "}"
   ]
  },
  {
   "cell_type": "code",
   "execution_count": 24,
   "metadata": {},
   "outputs": [
    {
     "name": "stdout",
     "output_type": "stream",
     "text": [
      "Merhaba Kürşat\r\n"
     ]
    }
   ],
   "source": [
    "Selam selamla = new Selam(\"Kürşat\");"
   ]
  },
  {
   "cell_type": "code",
   "execution_count": 26,
   "metadata": {},
   "outputs": [
    {
     "ename": "CompilationException",
     "evalue": "",
     "output_type": "error",
     "traceback": [
      "\u001b[1m\u001b[30m|   \u001b[1m\u001b[30m        \u001b[0m\u001b[1m\u001b[30m\u001b[41misim\u001b[0m\u001b[1m\u001b[30m = \"Muzaffer\";\u001b[0m",
      "\u001b[1m\u001b[31mfinal parameter isim may not be assigned\u001b[0m",
      ""
     ]
    }
   ],
   "source": [
    "class Selam{\n",
    "    public Selam(final String isim) {\n",
    "        isim = \"Muzaffer\";\n",
    "        System.out.println(\"Merhaba \" + isim);\n",
    "    }\n",
    "}                                       //Değiştirmeye çalıştığımız için hata aldık."
   ]
  }
 ],
 "metadata": {
  "kernelspec": {
   "display_name": "Java",
   "language": "java",
   "name": "java"
  },
  "language_info": {
   "codemirror_mode": "java",
   "file_extension": ".jshell",
   "mimetype": "text/x-java-source",
   "name": "Java",
   "pygments_lexer": "java",
   "version": "14.0.2+12-46"
  }
 },
 "nbformat": 4,
 "nbformat_minor": 4
}

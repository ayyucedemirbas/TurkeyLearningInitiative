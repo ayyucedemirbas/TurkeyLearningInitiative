{
 "cells": [
  {
   "cell_type": "markdown",
   "metadata": {},
   "source": [
    "# METODLAR - FONKSİYONLAR "
   ]
  },
  {
   "cell_type": "code",
   "execution_count": 30,
   "metadata": {},
   "outputs": [
    {
     "name": "stdout",
     "output_type": "stream",
     "text": [
      "Selam\r\n"
     ]
    }
   ],
   "source": [
    "public static void selam() { // Selam fonksiyonu oluşturalım.\n",
    "System.out.println(\"Selam\"); \n",
    "}\n",
    "selam(); // Selam fonksiyonunu çağıralım.\n"
   ]
  },
  {
   "cell_type": "code",
   "execution_count": 34,
   "metadata": {},
   "outputs": [
    {
     "name": "stdout",
     "output_type": "stream",
     "text": [
      "İsminizi giriniz: Kadir\n",
      "Selam Kadir\n"
     ]
    }
   ],
   "source": [
    "// Parametreli fonksiyon kullanımı\n",
    "import java.util.Scanner;\n",
    "\n",
    "public static void selam(String isim) { // Selam fonksiyonu oluşturalım ve isim argümanı isteyelim (String şeklinde)\n",
    "System.out.println(\"Selam \" + isim); \n",
    "}\n",
    "\n",
    "\n",
    "Scanner sc = new Scanner(System.in);\n",
    "System.out.print(\"İsminizi giriniz: \");\n",
    "String ad = sc.nextLine();\n",
    "selam(ad);\n"
   ]
  },
  {
   "cell_type": "code",
   "execution_count": 39,
   "metadata": {},
   "outputs": [
    {
     "data": {
      "text/plain": [
       "8"
      ]
     },
     "execution_count": 39,
     "metadata": {},
     "output_type": "execute_result"
    }
   ],
   "source": [
    "// Return ile fonksiyon döndürme\n",
    "\n",
    "public static int toplama(int a, int b) { // fonksiyonun çıktısı int olacağı için void yerine int kullandık.\n",
    "return a + b;\n",
    "}\n",
    "toplama(3,5);"
   ]
  },
  {
   "cell_type": "code",
   "execution_count": 38,
   "metadata": {},
   "outputs": [
    {
     "data": {
      "text/plain": [
       "Selam Murat"
      ]
     },
     "execution_count": 38,
     "metadata": {},
     "output_type": "execute_result"
    }
   ],
   "source": [
    "public static String selam(String isim) { // fonksiyonun çıktısı String olacağı için void yerine String kullandık.\n",
    "return \"Selam \" + isim;\n",
    "}\n",
    "selam(\"Murat\");"
   ]
  },
  {
   "cell_type": "markdown",
   "metadata": {},
   "source": [
    "#### OVERLOADİNG"
   ]
  },
  {
   "cell_type": "code",
   "execution_count": 54,
   "metadata": {},
   "outputs": [
    {
     "name": "stdout",
     "output_type": "stream",
     "text": [
      "58\n",
      "58\n"
     ]
    }
   ],
   "source": [
    "// Aşırı yükleme demek.\n",
    "public static int toplama(int a, int b) { // bu fonksiyona iki değer gönderebiliyoruz.\n",
    "return a + b;\n",
    "}\n",
    "// Peki üç değer göndermek istersek ?\n",
    "\n",
    "public static int toplama(int a, int b,int c) { // aynı isimle argümanı değiştirerek tekrar fonksiyonu tanımlıyoruz.\n",
    "return a + b + c;\n",
    "}\n",
    "\n",
    "\n",
    "System.out.println(toplama(56,1,1));\n",
    "System.out.println(toplama(57,1));"
   ]
  },
  {
   "cell_type": "markdown",
   "metadata": {},
   "source": [
    "#### LOKAL DEĞİŞKENLER"
   ]
  },
  {
   "cell_type": "code",
   "execution_count": 56,
   "metadata": {
    "scrolled": true
   },
   "outputs": [
    {
     "data": {
      "text/plain": [
       "5"
      ]
     },
     "execution_count": 56,
     "metadata": {},
     "output_type": "execute_result"
    }
   ],
   "source": [
    "public static int ikiyletopla(int a) {\n",
    "int c = 2; // burada c yi tanımladık.\n",
    "return a + c;\n",
    "}\n",
    "ikiyletopla(3);"
   ]
  },
  {
   "cell_type": "code",
   "execution_count": 58,
   "metadata": {},
   "outputs": [
    {
     "ename": "CompilationException",
     "evalue": "",
     "output_type": "error",
     "traceback": [
      "\u001b[1m\u001b[30m|   \u001b[1m\u001b[30mSystem.out.println(\u001b[0m\u001b[1m\u001b[30m\u001b[41mc\u001b[0m\u001b[1m\u001b[30m);\u001b[0m",
      "\u001b[1m\u001b[31mcannot find symbol\u001b[0m",
      "\u001b[1m\u001b[31m  symbol:   variable c\u001b[0m",
      ""
     ]
    }
   ],
   "source": [
    "public static int ikiyletopla(int a) {\n",
    "int c = 2; // burada c yi tanımladık.\n",
    "return a + c;\n",
    "}\n",
    "ikiyletopla(3);\n",
    "System.out.println(c);\n",
    "// Fakat ikiyletopla fonksiyonu içindeki c yi main de kullanmaya çalışırsak hata alırız.\n",
    "// Sembol bulunamadı hatası aldık. Çünkü c lokal bir değişken."
   ]
  }
 ],
 "metadata": {
  "kernelspec": {
   "display_name": "Java",
   "language": "java",
   "name": "java"
  },
  "language_info": {
   "codemirror_mode": "java",
   "file_extension": ".jshell",
   "mimetype": "text/x-java-source",
   "name": "Java",
   "pygments_lexer": "java",
   "version": "14.0.2+12-46"
  }
 },
 "nbformat": 4,
 "nbformat_minor": 4
}

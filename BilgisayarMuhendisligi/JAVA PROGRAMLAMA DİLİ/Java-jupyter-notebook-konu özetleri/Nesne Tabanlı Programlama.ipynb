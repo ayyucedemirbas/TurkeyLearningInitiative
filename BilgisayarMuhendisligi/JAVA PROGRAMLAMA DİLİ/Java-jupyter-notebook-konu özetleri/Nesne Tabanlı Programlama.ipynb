{
 "cells": [
  {
   "cell_type": "markdown",
   "metadata": {},
   "source": [
    "# NESNE TABANLI PROGRAMLAMA"
   ]
  },
  {
   "cell_type": "markdown",
   "metadata": {},
   "source": [
    "### public - private farkı"
   ]
  },
  {
   "cell_type": "markdown",
   "metadata": {},
   "source": [
    "Java'da oluşturduğunuz Class'ın özelliklerine başka bir projeden ulaşmak istiyorsanız bu özellikleri public olarak tanımlamanız gerekiyor. Private tanımlanan özelliklere farklı dosyalardan erişim mümkün olamaz."
   ]
  },
  {
   "cell_type": "code",
   "execution_count": 10,
   "metadata": {},
   "outputs": [],
   "source": [
    "public class Araba{\n",
    "    public String renk = \"Renksiz\";\n",
    "    public int teker = 4;\n",
    "}"
   ]
  },
  {
   "cell_type": "markdown",
   "metadata": {},
   "source": [
    "### Constructor (Yapıcı Metot) Oluşturma"
   ]
  },
  {
   "cell_type": "code",
   "execution_count": 15,
   "metadata": {},
   "outputs": [
    {
     "name": "stdout",
     "output_type": "stream",
     "text": [
      "Kırmızı\n",
      "4\n"
     ]
    }
   ],
   "source": [
    "public class Araba{\n",
    "    public String renk = \"Renksiz\";\n",
    "    public int teker = 4;\n",
    "    \n",
    "    public Araba(String renk,int teker) { // Constructor oluşturmak için aynı isimli bir method oluşturuyoruz.\n",
    "    this.renk = renk;\n",
    "    this.teker = teker;\n",
    "    }        \n",
    "}\n",
    "Araba araba1 = new Araba(\"Kırmızı\",4);\n",
    "System.out.println(araba1.renk);\n",
    "System.out.println(araba1.teker);"
   ]
  },
  {
   "cell_type": "markdown",
   "metadata": {},
   "source": [
    "#### ARABA SINIFI OLUŞTURMA"
   ]
  },
  {
   "cell_type": "code",
   "execution_count": 24,
   "metadata": {},
   "outputs": [],
   "source": [
    "public class Araba {\n",
    "    private String model ;\n",
    "    private String renk ;\n",
    "    private int teker ;\n",
    "    private int kapi ;\n",
    "\n",
    "    public void setModel(String model){\n",
    "        this.model = model;\n",
    "    }\n",
    "\n",
    "    public String getModel() {\n",
    "        return model;\n",
    "    }\n",
    "\n",
    "    public void setKapi(int kapi) {\n",
    "        this.kapi = kapi;\n",
    "    }\n",
    "\n",
    "    public int getKapi() {\n",
    "        return kapi;\n",
    "    }\n",
    "\n",
    "    public void setRenk(String renk) {\n",
    "        this.renk = renk;\n",
    "    }\n",
    "\n",
    "    public String getRenk() {\n",
    "        return renk;\n",
    "    }\n",
    "\n",
    "    public void setTeker(int teker) {\n",
    "        this.teker = teker;\n",
    "    }\n",
    "\n",
    "    public int getTeker() {\n",
    "        return teker;\n",
    "    }\n",
    "\n",
    "    public Araba(String model,String renk,int teker,int kapi) {\n",
    "        this.model = model;\n",
    "        this.renk = renk;\n",
    "        this.teker = teker;\n",
    "        this.kapi = kapi;\n",
    "    }\n",
    "    public Araba(String model,int teker) {\n",
    "        this(model,\"Bilgi Yok\",teker,4);\n",
    "    }\n",
    "    public void BilgileriGoster() {\n",
    "        System.out.println(\"Model: \" + this.model);\n",
    "        System.out.println(\"Renk: \" + this.renk);\n",
    "        System.out.println(\"Teker Sayısı: \" + this.teker);\n",
    "        System.out.println(\"Kapı Sayısı: \" + this.kapi);\n",
    "    }\n",
    "}"
   ]
  },
  {
   "cell_type": "code",
   "execution_count": 23,
   "metadata": {},
   "outputs": [
    {
     "name": "stdout",
     "output_type": "stream",
     "text": [
      "Araba-1\n",
      "\n",
      "Model: Ford\n",
      "Renk: Kırmızı\n",
      "Teker Sayısı: 4\n",
      "Kapı Sayısı: 4\n",
      "\n",
      "Araba-2\n",
      "\n",
      "Model: Renault\n",
      "Renk: Bilgi Yok\n",
      "Teker Sayısı: 4\n",
      "Kapı Sayısı: 4\n"
     ]
    }
   ],
   "source": [
    "Araba araba1 = new Araba(\"Ford\",\"Kırmızı\",4,4);\n",
    "Araba araba2 = new Araba(\"Renault\",4);\n",
    "\n",
    "System.out.println(\"Araba-1\\n\");\n",
    "araba1.BilgileriGoster();\n",
    "\n",
    "System.out.println(\"\\nAraba-2\\n\");\n",
    "araba2.BilgileriGoster();"
   ]
  },
  {
   "cell_type": "markdown",
   "metadata": {},
   "source": [
    "#### IS-A İLİŞKİSİ"
   ]
  },
  {
   "cell_type": "markdown",
   "metadata": {},
   "source": [
    "Üst sınıflarla alt sınıflar arasındaki özellik geçişi (kalıtım/miras alma) durumudur.\n",
    "Mesela meyve ve kırmızı_meyve diye bir sınıf oluşturduğumuzu düşünelim. Kiraz kırmızı meyve olmasına rağmen aynı zamanda bir \n",
    "meyvedir. Ama tüm meyveler kırmızı meyve değildir. Tek yönlü bir olaydır."
   ]
  },
  {
   "cell_type": "markdown",
   "metadata": {},
   "source": [
    "#### HAS-A İLİŞKİSİ"
   ]
  },
  {
   "cell_type": "markdown",
   "metadata": {},
   "source": [
    "Komposizyon ( Has - A ) kullanımı , daha önceden yazılmış ve doğruluğu kanıtlamış olan sınıf/sınıfları , yeni yazdığımız sınıf içerisinde doğrudan kullanma olarak tanımlanır. Arac adında bir sınıfımız olduğunu düşünelim . Ayrı olarak bir de Motor isminde başka bir sınıfımızın bulunduğunu düşünelim .Yukarıda belirttiğimiz gibi Araçların motorları bulunmakta olduğundan bu Motor sınıfından üreticeğimiz nesneyi , Arac sınıfı içerisinde kullanırsak Komposizyon yapmış olmaktayız ."
   ]
  },
  {
   "cell_type": "markdown",
   "metadata": {},
   "source": [
    "http://3.bp.blogspot.com/-jawoizI3htU/VZJaXfqa3zI/AAAAAAAAALo/zJqwzqZKHt8/s1600/DFDFDF.png"
   ]
  }
 ],
 "metadata": {
  "kernelspec": {
   "display_name": "Java",
   "language": "java",
   "name": "java"
  },
  "language_info": {
   "codemirror_mode": "java",
   "file_extension": ".jshell",
   "mimetype": "text/x-java-source",
   "name": "Java",
   "pygments_lexer": "java",
   "version": "14.0.2+12-46"
  }
 },
 "nbformat": 4,
 "nbformat_minor": 4
}

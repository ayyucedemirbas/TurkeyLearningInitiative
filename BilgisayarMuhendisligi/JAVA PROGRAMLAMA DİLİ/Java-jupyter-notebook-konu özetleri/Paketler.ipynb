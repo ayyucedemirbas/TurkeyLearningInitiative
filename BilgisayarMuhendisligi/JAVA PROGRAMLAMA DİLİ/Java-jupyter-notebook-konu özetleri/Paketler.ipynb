{
 "cells": [
  {
   "cell_type": "markdown",
   "metadata": {},
   "source": [
    "# PAKETLER"
   ]
  },
  {
   "cell_type": "markdown",
   "metadata": {},
   "source": [
    "Paketler birbiriyle ilişkili classların, interfacelerin birarada bulunduğu bir konteynır görevi görür. Bir çok paket oluşturarak ilişkili classları bu paketlerde depolayabiliriz."
   ]
  },
  {
   "cell_type": "markdown",
   "metadata": {},
   "source": [
    "+ Paketler sayesinde bir projenin içinde aynı isimden bir çok classı farklı paketlerin içinde depolayabiliriz.\n",
    "\n",
    "+ Paketler kullanımı sayesinde class ve interface isimlerinin çakışması en aza indirilmiş olur.\n",
    "\n",
    "+ Paket içindeki classlar başka paketteki classlara bazı sınırlandırmalar haricinden kolaylıkla erişilebilir."
   ]
  },
  {
   "cell_type": "code",
   "execution_count": 1,
   "metadata": {},
   "outputs": [],
   "source": [
    "// Örnek bir java paketi importlama\n",
    "import java.util.* \n",
    "// java.utilin içindeki tüm classları importladık."
   ]
  },
  {
   "cell_type": "code",
   "execution_count": 4,
   "metadata": {},
   "outputs": [],
   "source": [
    "// Farklı bir kullanım yolu\n",
    "java.util.ArrayList list = new java.util.ArrayList();"
   ]
  },
  {
   "cell_type": "markdown",
   "metadata": {},
   "source": [
    "### PAKET OLUŞTURMA"
   ]
  },
  {
   "cell_type": "markdown",
   "metadata": {},
   "source": [
    "![textle](https://i.hizliresim.com/IPpLEt.png)"
   ]
  },
  {
   "cell_type": "markdown",
   "metadata": {},
   "source": [
    "![textle](https://i.hizliresim.com/OQ1xZI.png)"
   ]
  },
  {
   "cell_type": "markdown",
   "metadata": {},
   "source": [
    "Bir paketin içindeki dosyalar import etmeye ihtiyaç duymadan birbirlerinin classlarını kullanabilirler. "
   ]
  }
 ],
 "metadata": {
  "kernelspec": {
   "display_name": "Java",
   "language": "java",
   "name": "java"
  },
  "language_info": {
   "codemirror_mode": "java",
   "file_extension": ".jshell",
   "mimetype": "text/x-java-source",
   "name": "Java",
   "pygments_lexer": "java",
   "version": "14.0.2+12-46"
  }
 },
 "nbformat": 4,
 "nbformat_minor": 4
}

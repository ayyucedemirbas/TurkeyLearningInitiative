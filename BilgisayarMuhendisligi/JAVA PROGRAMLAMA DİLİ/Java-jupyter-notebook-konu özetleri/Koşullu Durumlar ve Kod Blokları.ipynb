{
 "cells": [
  {
   "cell_type": "markdown",
   "metadata": {},
   "source": [
    "# KOŞULLU DURUMLAR VE KOD BLOKLARI"
   ]
  },
  {
   "cell_type": "markdown",
   "metadata": {},
   "source": [
    "### KARŞILAŞTIRMA OPERATÖRLERİ"
   ]
  },
  {
   "cell_type": "code",
   "execution_count": 3,
   "metadata": {},
   "outputs": [
    {
     "name": "stdout",
     "output_type": "stream",
     "text": [
      "true\n",
      "true\n",
      "false\n",
      "false\n",
      "true\n"
     ]
    }
   ],
   "source": [
    "/*\n",
    "== eşittir\n",
    "!= eşit değildir\n",
    "> büyüktür\n",
    "< küçüktür\n",
    ">= büyük veya eşittir\n",
    "<= küçük veya eşittir\n",
    "*/\n",
    "System.out.println(3 < 5);\n",
    "System.out.println(\"Kürşat\" == \"Kürşat\");\n",
    "System.out.println(6 <= 5);\n",
    "System.out.println(\"Alim\" != \"Alim\");\n",
    "System.out.println(10 >= 10);"
   ]
  },
  {
   "cell_type": "markdown",
   "metadata": {},
   "source": [
    "### MANTIKSAL OPERATÖRLER"
   ]
  },
  {
   "cell_type": "code",
   "execution_count": 13,
   "metadata": {},
   "outputs": [
    {
     "name": "stdout",
     "output_type": "stream",
     "text": [
      "true\n",
      "false\n",
      "true\n",
      "true\n",
      "false\n"
     ]
    }
   ],
   "source": [
    "/*\n",
    "&& ---> and operatörü: Her koşulun true olduğu durumlarda true döner.\n",
    "|| ---> or operatörü: En az bir tane true olan durumlarda true döner.\n",
    "!  ---> not operatörü: true <--> false değişimi yapar.\n",
    "*/\n",
    "System.out.println(3 < 4 && 3 != 5); // true\n",
    "System.out.println(3 < 4 && 3 != 3); // false\n",
    "System.out.println(3 < 4 || 3 != 3); //true\n",
    "System.out.println(3 < 4 || 3 != 5); //true\n",
    "System.out.println(!(3 < 4) ||  (3 != 3)); //false"
   ]
  },
  {
   "cell_type": "markdown",
   "metadata": {},
   "source": [
    "### KOŞULLU DURUMLAR"
   ]
  },
  {
   "cell_type": "markdown",
   "metadata": {},
   "source": [
    "#### IF - ELSE IF - ELSE YAPILARI"
   ]
  },
  {
   "cell_type": "code",
   "execution_count": 21,
   "metadata": {},
   "outputs": [
    {
     "name": "stdout",
     "output_type": "stream",
     "text": [
      "Yaşınızı giriniz lütfen: \n",
      "18\n",
      "Lütfen kimlik gösterin.\n"
     ]
    }
   ],
   "source": [
    "import java.util.Scanner;\n",
    "Scanner scanner = new Scanner(System.in);\n",
    "System.out.println(\"Yaşınızı giriniz lütfen: \");\n",
    "int yas = scanner.nextInt();\n",
    "if (yas < 18) {\n",
    "System.out.println(\"Giriş yapamazsınız.\");\n",
    "}\n",
    "else if (yas == 18) {\n",
    "System.out.println(\"Lütfen kimlik gösterin.\");\n",
    "}\n",
    "else {\n",
    "System.out.println(\"Hoş geldiniz.\");\n",
    "}"
   ]
  },
  {
   "cell_type": "markdown",
   "metadata": {},
   "source": [
    "#### SWITCH CASE YAPILARI"
   ]
  },
  {
   "cell_type": "code",
   "execution_count": 29,
   "metadata": {},
   "outputs": [
    {
     "name": "stdout",
     "output_type": "stream",
     "text": [
      "Yaşınızı giriniz lütfen: \n",
      "15\n",
      "Yaşıt bulunamadı.\n"
     ]
    }
   ],
   "source": [
    "import java.util.Scanner;\n",
    "Scanner scanner = new Scanner(System.in);\n",
    "System.out.println(\"Yaşınızı giriniz lütfen: \");\n",
    "int yas = scanner.nextInt();\n",
    "switch(yas) {\n",
    "case 18:\n",
    "System.out.println(\"Benimle yaşıtsın.\");\n",
    "break;\n",
    "case 43:\n",
    "System.out.println(\"Babamla yaşıtsın.\");\n",
    "break;\n",
    "default:\n",
    "System.out.println(\"Yaşıt bulunamadı.\");\n",
    "break;\n",
    "}\n",
    "\n",
    "// Switch-Case yapıları ile sadece eşitlik durumlarına göre koşullar ayarlanabilir."
   ]
  }
 ],
 "metadata": {
  "kernelspec": {
   "display_name": "Java",
   "language": "java",
   "name": "java"
  },
  "language_info": {
   "codemirror_mode": "java",
   "file_extension": ".jshell",
   "mimetype": "text/x-java-source",
   "name": "Java",
   "pygments_lexer": "java",
   "version": "14.0.2+12-46"
  }
 },
 "nbformat": 4,
 "nbformat_minor": 4
}

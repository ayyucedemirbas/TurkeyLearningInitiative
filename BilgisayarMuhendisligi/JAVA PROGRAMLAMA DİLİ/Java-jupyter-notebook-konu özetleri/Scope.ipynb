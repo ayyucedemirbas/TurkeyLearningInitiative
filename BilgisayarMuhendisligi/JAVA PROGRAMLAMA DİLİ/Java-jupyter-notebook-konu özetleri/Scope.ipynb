{
 "cells": [
  {
   "cell_type": "markdown",
   "metadata": {},
   "source": [
    "# DEĞİŞKENLERİN ve ÖZELLİKLERİN KAPSAMI - SCOPE"
   ]
  },
  {
   "cell_type": "code",
   "execution_count": 31,
   "metadata": {},
   "outputs": [],
   "source": [
    "public class Sinif1 {\n",
    "    private int degisken1 = 30;\n",
    "    public Sinif1() {\n",
    "        System.out.println(\"Değişken 1 = \" + degisken1);\n",
    "    }\n",
    "    public void islem() {\n",
    "        int degisken1 = 10;\n",
    "        System.out.println(\"Değişken 1 = \" + degisken1);\n",
    "    }\n",
    "}"
   ]
  },
  {
   "cell_type": "code",
   "execution_count": 32,
   "metadata": {},
   "outputs": [
    {
     "name": "stdout",
     "output_type": "stream",
     "text": [
      "Değişken 1 = 30\r\n"
     ]
    }
   ],
   "source": [
    "Sinif1 yeni = new Sinif1();"
   ]
  },
  {
   "cell_type": "code",
   "execution_count": 33,
   "metadata": {},
   "outputs": [
    {
     "name": "stdout",
     "output_type": "stream",
     "text": [
      "Değişken 1 = 10\r\n"
     ]
    }
   ],
   "source": [
    "yeni.islem(); "
   ]
  },
  {
   "cell_type": "code",
   "execution_count": 38,
   "metadata": {},
   "outputs": [],
   "source": [
    "public class Sinif2 {\n",
    "    private int degisken2 = 40;\n",
    "    public Sinif2() {\n",
    "        System.out.println(\"ÜST SINIF YAPICI METODU (CONSTRUCTOR)\");\n",
    "    }\n",
    "    public class altsinif2 {\n",
    "        public altsinif2() {\n",
    "            System.out.println(\"Değişken 2 = \" + degisken2);\n",
    "        }\n",
    "    }\n",
    "}"
   ]
  },
  {
   "cell_type": "code",
   "execution_count": 39,
   "metadata": {},
   "outputs": [
    {
     "name": "stdout",
     "output_type": "stream",
     "text": [
      "ÜST SINIF YAPICI METODU (CONSTRUCTOR)\n",
      "Değişken 2 = 40\n"
     ]
    }
   ],
   "source": [
    "Sinif2.altsinif2 yeni2 = new Sinif2().new altsinif2();"
   ]
  },
  {
   "cell_type": "code",
   "execution_count": 40,
   "metadata": {},
   "outputs": [],
   "source": [
    "public class Sinif3 {\n",
    "    private int degisken3 = 40;\n",
    "    public Sinif3() {\n",
    "        System.out.println(\"EN ÜST SINIF YAPICI METODU (CONSTRUCTOR)\");\n",
    "    }\n",
    "    public void kontrol() {\n",
    "        altsinif3 yeni3 = new altsinif3();\n",
    "        System.out.println(\"Değişken 4 = \" + yeni3.degisken4);\n",
    "    }\n",
    "    public class altsinif3 {\n",
    "        private int degisken4 = 100;\n",
    "        public altsinif3() {\n",
    "            System.out.println(\"ORTANCA SINIF CONSTRUCTOR\");\n",
    "        }\n",
    "    }\n",
    "    \n",
    "    \n",
    "}"
   ]
  },
  {
   "cell_type": "code",
   "execution_count": 41,
   "metadata": {},
   "outputs": [
    {
     "name": "stdout",
     "output_type": "stream",
     "text": [
      "EN ÜST SINIF YAPICI METODU (CONSTRUCTOR)\r\n"
     ]
    }
   ],
   "source": [
    "Sinif3 yeni4 = new Sinif3();"
   ]
  },
  {
   "cell_type": "code",
   "execution_count": 42,
   "metadata": {},
   "outputs": [
    {
     "name": "stdout",
     "output_type": "stream",
     "text": [
      "ORTANCA SINIF CONSTRUCTOR\n",
      "Değişken 4 = 100\n"
     ]
    }
   ],
   "source": [
    "yeni4.kontrol();"
   ]
  }
 ],
 "metadata": {
  "kernelspec": {
   "display_name": "Java",
   "language": "java",
   "name": "java"
  },
  "language_info": {
   "codemirror_mode": "java",
   "file_extension": ".jshell",
   "mimetype": "text/x-java-source",
   "name": "Java",
   "pygments_lexer": "java",
   "version": "14.0.2+12-46"
  }
 },
 "nbformat": 4,
 "nbformat_minor": 4
}

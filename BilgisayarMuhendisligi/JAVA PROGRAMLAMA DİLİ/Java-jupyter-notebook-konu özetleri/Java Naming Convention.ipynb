{
 "cells": [
  {
   "cell_type": "markdown",
   "metadata": {},
   "source": [
    "# Java Naming Convention"
   ]
  },
  {
   "cell_type": "markdown",
   "metadata": {},
   "source": [
    "Javada method,class,değişken,paket oluştururken uymamız gereken kurallardır. Gelenektir, yani uyulmazsan sıkıntı çıkmaz fakat kodun okunabilirliği açısından vb. kolaylık sağlansın diye bu geleneklere uyulur."
   ]
  },
  {
   "cell_type": "markdown",
   "metadata": {},
   "source": [
    "### DEĞİŞKEN İSİMLERİ"
   ]
  },
  {
   "cell_type": "markdown",
   "metadata": {},
   "source": [
    "+ İlk kelime küçük harfle ikinci kelime ise büyük harfle başlamalı \n",
    "+ _ çok nadir kullanılmalı\n",
    "+ For ve While döngülerinde genelde i,j,k kullanılmalı \n",
    "+ ForEach döngülerinde temp gibi değişken isimleri kullanılmalı\n",
    "+ Türkçe karakter kullanılmamalı\n",
    "\n",
    "\n",
    "\n",
    "+ Örnek: ogrenciNo, hesapNumarasi"
   ]
  },
  {
   "cell_type": "markdown",
   "metadata": {},
   "source": [
    "#### SABİT DEĞİŞKEN İSİMLERİ"
   ]
  },
  {
   "cell_type": "markdown",
   "metadata": {},
   "source": [
    "+ Değerleri değişmeyecek olan değişkenlerimiz varsa isimlerinin her harfi büyük olmalı\n",
    "+ _ kullanılmalı\n",
    "+ Değerlerin sonradan değişmemesi için final anahtar kelimesi kullanılmalı\n",
    "\n",
    "\n",
    "+ Örnek: PI_SAYISI, AVAGADRO_SAYISI"
   ]
  },
  {
   "cell_type": "markdown",
   "metadata": {},
   "source": [
    "### METHOD VE FONKSİYON İSİMLERİ"
   ]
  },
  {
   "cell_type": "markdown",
   "metadata": {},
   "source": [
    "+ İlk kelime küçük ikinci kelime büyük harfle başlamalı\n",
    "+ Fiil ifadesi barındırmalı\n",
    "+ Türkçe karakter barındırmamalı\n",
    "+ getter ve setter metodlarında isimler get ve set ibarelerini barındırmalı\n",
    "\n",
    "\n",
    "\n",
    "+ Örnek: degerleriYazdir(), puanHesapla(), setIsim(), getNumara()"
   ]
  },
  {
   "cell_type": "markdown",
   "metadata": {},
   "source": [
    "### CLASS, ABSTRACT CLASS VE İNTERFACE İSİMLERİ"
   ]
  },
  {
   "cell_type": "markdown",
   "metadata": {},
   "source": [
    "+ İlk ve ikinci kelimelere büyük harfle başlanmalı\n",
    "+ Yaptığı işi iyi vurgulamalı\n",
    "+ Fiil değil isim olmalı\n",
    "+ İnterfacelerin isimleri içerdikleri metodları iyi vurgulamalı\n",
    "\n",
    "\n",
    "+ Örnek: LinkedList, ArrayList, AdayOgrenci"
   ]
  },
  {
   "cell_type": "markdown",
   "metadata": {},
   "source": [
    "### PAKET İSİMLERİ"
   ]
  },
  {
   "cell_type": "markdown",
   "metadata": {},
   "source": [
    "+ Küçük harfle başlanmalı\n",
    "+ Benzersiz bir isim verilmeli\n",
    "+ Projenizin web sitesi \"www.deneme.com/isim\" ise paket ismi \"com.deneme.isim\" olmalı. \n",
    "+ \"-\" yerine \"_\" kullanılmalı\n",
    "+ Paket ismi Java'daki anahtar kelimeleri içeriyorsa veya değişkenlere verme kurallarına aykırı ise \"_\" ile düzeltme yapılmalı\n",
    "+ while.xyz.com >> com.xyz._while"
   ]
  }
 ],
 "metadata": {
  "kernelspec": {
   "display_name": "Java",
   "language": "java",
   "name": "java"
  },
  "language_info": {
   "codemirror_mode": "java",
   "file_extension": ".jshell",
   "mimetype": "text/x-java-source",
   "name": "Java",
   "pygments_lexer": "java",
   "version": "14.0.2+12-46"
  }
 },
 "nbformat": 4,
 "nbformat_minor": 4
}

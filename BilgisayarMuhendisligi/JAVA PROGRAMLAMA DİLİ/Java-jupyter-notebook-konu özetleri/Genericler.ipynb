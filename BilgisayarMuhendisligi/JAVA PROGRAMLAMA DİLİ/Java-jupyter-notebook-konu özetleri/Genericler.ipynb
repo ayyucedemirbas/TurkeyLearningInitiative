{
 "cells": [
  {
   "cell_type": "markdown",
   "metadata": {},
   "source": [
    "# GENERİCLER"
   ]
  },
  {
   "cell_type": "markdown",
   "metadata": {},
   "source": [
    "İçerisinde tüm referans veri tiplerini tutan ayrıca hangi referans tipini tutacağına oluştururken karar verebileceğimiz ve üzerinde aynı işlemleri işlemleri yapabileceğimiz sınıf-metod türüdür."
   ]
  },
  {
   "cell_type": "markdown",
   "metadata": {},
   "source": [
    "## GENERIC CLASSLAR"
   ]
  },
  {
   "cell_type": "code",
   "execution_count": 23,
   "metadata": {},
   "outputs": [],
   "source": [
    "public class ekranaYazdir {\n",
    "    public void yazdir(String[] liste) {\n",
    "        for (String s: liste) {\n",
    "            System.out.println(s);\n",
    "        }\n",
    "    }\n",
    "}                                                 //Classımızı oluşturduk fakat sadece Stringler için."
   ]
  },
  {
   "cell_type": "code",
   "execution_count": 24,
   "metadata": {},
   "outputs": [],
   "source": [
    "ekranaYazdir arac = new ekranaYazdir();\n",
    "String[] liste = {\"S\",\"İ\",\"V\",\"A\",\"S\"};"
   ]
  },
  {
   "cell_type": "code",
   "execution_count": 25,
   "metadata": {},
   "outputs": [
    {
     "name": "stdout",
     "output_type": "stream",
     "text": [
      "S\n",
      "İ\n",
      "V\n",
      "A\n",
      "S\n"
     ]
    }
   ],
   "source": [
    "arac.yazdir(liste);"
   ]
  },
  {
   "cell_type": "code",
   "execution_count": 26,
   "metadata": {},
   "outputs": [],
   "source": [
    "//Şimdi ise generic bir class tanımlayalım ve referans veri tipinden bağımsız olsun.\n",
    "public class ekranaBastir<E> {\n",
    "    public void yazdir(E[] liste) {\n",
    "        for (E s: liste) {\n",
    "            System.out.println(s);\n",
    "        }\n",
    "    }\n",
    "}                                                 //Classımızı oluşturduk E yerine gönderdiğimiz referans veri tipi gelecek."
   ]
  },
  {
   "cell_type": "code",
   "execution_count": 35,
   "metadata": {},
   "outputs": [],
   "source": [
    "Integer[] sayilar = {58,59,60};"
   ]
  },
  {
   "cell_type": "code",
   "execution_count": 36,
   "metadata": {},
   "outputs": [],
   "source": [
    "ekranaBastir bastir = new ekranaBastir();"
   ]
  },
  {
   "cell_type": "code",
   "execution_count": 38,
   "metadata": {},
   "outputs": [
    {
     "name": "stdout",
     "output_type": "stream",
     "text": [
      "58\n",
      "59\n",
      "60\n"
     ]
    }
   ],
   "source": [
    "bastir.yazdir(sayilar); // İçerisine Integer göndersek bile sorun yaratmadı."
   ]
  },
  {
   "cell_type": "markdown",
   "metadata": {},
   "source": [
    "## GENERIC METHOD"
   ]
  },
  {
   "cell_type": "code",
   "execution_count": 40,
   "metadata": {},
   "outputs": [],
   "source": [
    "public static <E> void yazdir(E[] liste) {\n",
    "        for (E s: liste) {\n",
    "            System.out.println(s);\n",
    "        }\n",
    "    }"
   ]
  },
  {
   "cell_type": "code",
   "execution_count": 46,
   "metadata": {},
   "outputs": [],
   "source": [
    "Integer[] list = {34,35,36};"
   ]
  },
  {
   "cell_type": "code",
   "execution_count": 48,
   "metadata": {},
   "outputs": [
    {
     "name": "stdout",
     "output_type": "stream",
     "text": [
      "34\n",
      "35\n",
      "36\n"
     ]
    }
   ],
   "source": [
    "yazdir(list);            //Methoda Integer göndererek bastırdık. Referans veri tipinden bağımsızlaştık."
   ]
  }
 ],
 "metadata": {
  "kernelspec": {
   "display_name": "Java",
   "language": "java",
   "name": "java"
  },
  "language_info": {
   "codemirror_mode": "java",
   "file_extension": ".jshell",
   "mimetype": "text/x-java-source",
   "name": "Java",
   "pygments_lexer": "java",
   "version": "14.0.2+12-46"
  }
 },
 "nbformat": 4,
 "nbformat_minor": 4
}

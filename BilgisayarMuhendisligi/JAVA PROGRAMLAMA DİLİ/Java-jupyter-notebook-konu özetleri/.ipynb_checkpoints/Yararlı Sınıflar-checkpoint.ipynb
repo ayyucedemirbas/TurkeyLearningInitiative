{
 "cells": [
  {
   "cell_type": "markdown",
   "metadata": {},
   "source": [
    "## random() sınıfı"
   ]
  },
  {
   "cell_type": "code",
   "execution_count": 4,
   "metadata": {},
   "outputs": [
    {
     "name": "stdout",
     "output_type": "stream",
     "text": [
      "77\n",
      "12\n",
      "78\n",
      "50\n",
      "7\n"
     ]
    }
   ],
   "source": [
    "// Projemize dahil edelim\n",
    "import java.util.Random;\n",
    "Random sjsj = new Random();\n",
    "System.out.println(sjsj.nextInt(100));\n",
    "System.out.println(sjsj.nextInt(100));\n",
    "System.out.println(sjsj.nextInt(100));\n",
    "System.out.println(sjsj.nextInt(100));\n",
    "System.out.println(sjsj.nextInt(100));\n",
    "\n",
    "// 100'e kadar rastgele sayı oluşturduk."
   ]
  },
  {
   "cell_type": "code",
   "execution_count": null,
   "metadata": {},
   "outputs": [],
   "source": []
  }
 ],
 "metadata": {
  "kernelspec": {
   "display_name": "Java",
   "language": "java",
   "name": "java"
  },
  "language_info": {
   "codemirror_mode": "java",
   "file_extension": ".jshell",
   "mimetype": "text/x-java-source",
   "name": "Java",
   "pygments_lexer": "java",
   "version": "14.0.2+12-46"
  }
 },
 "nbformat": 4,
 "nbformat_minor": 4
}

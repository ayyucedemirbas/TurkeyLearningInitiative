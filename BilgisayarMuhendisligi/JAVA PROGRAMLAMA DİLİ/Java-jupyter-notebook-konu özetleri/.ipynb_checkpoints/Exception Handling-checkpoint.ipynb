{
 "cells": [
  {
   "cell_type": "markdown",
   "metadata": {},
   "source": [
    "# EXCEPTION HANDLING"
   ]
  },
  {
   "cell_type": "markdown",
   "metadata": {},
   "source": [
    "Exception (İstisna), programlarımızın çalışma zamanında (runtime) normal akışını bozan olaylardır.\n",
    "+ Exception Handling (İstisna Yakalama) ise bu exceptionların yakalanması ve programlarımızın daha güvenli çalışması için geliştirilmiş bir mekanizmadır. \n",
    "\n",
    "![](https://www.w3spoint.com/wp-content/uploads/2014/08/Pasted-into-Exception-handling-in-java-1.png \"Java'da İstisna Hiyerarşisi\")"
   ]
  },
  {
   "cell_type": "markdown",
   "metadata": {},
   "source": [
    "__Checked Exception__: Runtime exceptionlardan türemeyen her class \"Checked Exception\" kapsamına girer ve Java kodların exception fırlatılabileceğini öngürür. Bu hataları yakalamazsak Java bize bu hataları yakalamamızı söyler.\n",
    "\n",
    "__Unchecked Exception__: Runtime exceptionlardan türeyen her class \"Unchecked Exception\" kapsamına girer ve programı çalıştırmadan önce kontrol edilemezler. Yani Java bu exceptionu öngöremez. Hataları yakalama programcının sorumluluğundadır.\n",
    "\n",
    "__Error__: Geri dönülemez ve tamir edilemeyen hatalardır."
   ]
  },
  {
   "cell_type": "markdown",
   "metadata": {},
   "source": [
    "### Exception Örnekleri"
   ]
  },
  {
   "cell_type": "code",
   "execution_count": 4,
   "metadata": {},
   "outputs": [
    {
     "ename": "EvalException",
     "evalue": "For input string: \"K19\"",
     "output_type": "error",
     "traceback": [
      "\u001b[1m\u001b[31m---------------------------------------------------------------------------\u001b[0m",
      "\u001b[1m\u001b[31mjava.lang.NumberFormatException: For input string: \"K19\"\u001b[0m",
      "\u001b[1m\u001b[31m\tat java.base/java.lang.NumberFormatException.forInputString(NumberFormatException.java:68)\u001b[0m",
      "\u001b[1m\u001b[31m\tat java.base/java.lang.Integer.parseInt(Integer.java:652)\u001b[0m",
      "\u001b[1m\u001b[31m\tat java.base/java.lang.Integer.parseInt(Integer.java:770)\u001b[0m",
      "\u001b[1m\u001b[31m\tat .(#13:1)\u001b[0m"
     ]
    }
   ],
   "source": [
    "String s = \"K19\";\n",
    "int a = Integer.parseInt(s);"
   ]
  },
  {
   "cell_type": "code",
   "execution_count": 5,
   "metadata": {},
   "outputs": [
    {
     "ename": "EvalException",
     "evalue": "null",
     "output_type": "error",
     "traceback": [
      "\u001b[1m\u001b[31m---------------------------------------------------------------------------\u001b[0m",
      "\u001b[1m\u001b[31mjava.lang.NullPointerException: null\u001b[0m",
      "\u001b[1m\u001b[31m\tat .(#14:1)\u001b[0m"
     ]
    }
   ],
   "source": [
    "String a = null;\n",
    "System.out.println(a.length());"
   ]
  },
  {
   "cell_type": "code",
   "execution_count": 7,
   "metadata": {},
   "outputs": [
    {
     "ename": "EvalException",
     "evalue": "/ by zero",
     "output_type": "error",
     "traceback": [
      "\u001b[1m\u001b[31m---------------------------------------------------------------------------\u001b[0m",
      "\u001b[1m\u001b[31mjava.lang.ArithmeticException: / by zero\u001b[0m",
      "\u001b[1m\u001b[31m\tat .(#15:1)\u001b[0m"
     ]
    }
   ],
   "source": [
    "int b = 12/0"
   ]
  },
  {
   "cell_type": "markdown",
   "metadata": {},
   "source": [
    "### try-catch yapısı"
   ]
  },
  {
   "cell_type": "raw",
   "metadata": {},
   "source": [
    "try {\n",
    "    hatalı kodlarımızın yazılacağı kısım\n",
    "}\n",
    "catch(Hata İsmi) {\n",
    "    Hata oluştuğunda yapılması gereken kısım\n",
    "}    \n",
    "    "
   ]
  },
  {
   "cell_type": "code",
   "execution_count": 19,
   "metadata": {},
   "outputs": [
    {
     "name": "stdout",
     "output_type": "stream",
     "text": [
      "Aritmetik İstisna Classı\r\n"
     ]
    }
   ],
   "source": [
    "try {\n",
    "    int a = 12/0;\n",
    "}\n",
    "catch(ArithmeticException e) {\n",
    "    System.out.println(\"Aritmetik İstisna Classı\");\n",
    "}\n",
    "catch(Exception e) {\n",
    "    System.out.println(\"Exception Classı\");\n",
    "}"
   ]
  },
  {
   "cell_type": "code",
   "execution_count": 20,
   "metadata": {},
   "outputs": [
    {
     "name": "stdout",
     "output_type": "stream",
     "text": [
      "Bir sayı 0'a bölünemez.\r\n"
     ]
    }
   ],
   "source": [
    "try {\n",
    "    int a = 12/0;\n",
    "}\n",
    "catch(Exception e) {                                        //Daha genel bir class girdik.\n",
    "    System.out.println(\"Bir sayı 0'a bölünemez.\");\n",
    "}"
   ]
  },
  {
   "cell_type": "code",
   "execution_count": 21,
   "metadata": {},
   "outputs": [
    {
     "name": "stdout",
     "output_type": "stream",
     "text": [
      "Aritmetik İstisna Classı\r\n"
     ]
    }
   ],
   "source": [
    "try {\n",
    "    int a = 12/0;\n",
    "}\n",
    "catch(ArithmeticException e) {\n",
    "    System.out.println(\"Aritmetik İstisna Classı\");\n",
    "}\n",
    "catch(Exception e) {\n",
    "    System.out.println(\"Exception Classı\");\n",
    "}\n",
    "\n",
    "//Hem genel hem spesifik catch girilirse program en özeli seçer."
   ]
  },
  {
   "cell_type": "markdown",
   "metadata": {},
   "source": [
    "### finally bloğu"
   ]
  },
  {
   "cell_type": "markdown",
   "metadata": {},
   "source": [
    "finally bloğu try-catch ile kullanılır ve try-catch hata yakalasa da yakalamasa da hatta yakalayamazsa da çalışır."
   ]
  },
  {
   "cell_type": "code",
   "execution_count": 26,
   "metadata": {},
   "outputs": [
    {
     "name": "stdout",
     "output_type": "stream",
     "text": [
      "Null referans hatası !\n",
      "finally bloğu çalışıyoooor..!\n"
     ]
    }
   ],
   "source": [
    "try {\n",
    "    String a = null;\n",
    "    System.out.println(a.length());\n",
    "}\n",
    "catch(NullPointerException e) {\n",
    "    System.out.println(\"Null referans hatası !\");\n",
    "}\n",
    "finally {\n",
    "    System.out.println(\"finally bloğu çalışıyoooor..!\");\n",
    "}"
   ]
  },
  {
   "cell_type": "code",
   "execution_count": 37,
   "metadata": {},
   "outputs": [
    {
     "name": "stdout",
     "output_type": "stream",
     "text": [
      "4\n",
      "finally bloğu çalışıyoooor..!\n"
     ]
    }
   ],
   "source": [
    "try {\n",
    "    String a = \"Dizi\";\n",
    "    System.out.println(a.length());\n",
    "}\n",
    "catch(NullPointerException e) {\n",
    "    System.out.println(\"Null referans hatası !\");\n",
    "}\n",
    "finally {\n",
    "    System.out.println(\"finally bloğu çalışıyoooor..!\");\n",
    "}\n",
    "\n",
    "//NullPointerException hatası almadık try bloğu düzgün çalıştı finally yine de çalıştı."
   ]
  },
  {
   "cell_type": "code",
   "execution_count": 38,
   "metadata": {},
   "outputs": [
    {
     "name": "stdout",
     "output_type": "stream",
     "text": [
      "finally bloğu çalışıyoooor..!\r\n"
     ]
    },
    {
     "ename": "EvalException",
     "evalue": "null",
     "output_type": "error",
     "traceback": [
      "\u001b[1m\u001b[31m---------------------------------------------------------------------------\u001b[0m",
      "\u001b[1m\u001b[31mjava.lang.NullPointerException: null\u001b[0m",
      "\u001b[1m\u001b[31m\tat .(#45:3)\u001b[0m"
     ]
    }
   ],
   "source": [
    "try {\n",
    "    String a = null;\n",
    "    System.out.println(a.length());\n",
    "}\n",
    "catch(ArithmeticException e) {\n",
    "    System.out.println(\"Null referans hatası !\");\n",
    "}\n",
    "finally {\n",
    "    System.out.println(\"finally bloğu çalışıyoooor..!\");\n",
    "}\n",
    "\n",
    "// try-catch bloğu yanlış yazıldı - hata yakalanamadı ama Java finally bloğunu çalıştırmayı ihmal etmedi."
   ]
  },
  {
   "cell_type": "markdown",
   "metadata": {},
   "source": [
    "### throw"
   ]
  },
  {
   "cell_type": "markdown",
   "metadata": {},
   "source": [
    "throw anahtar kelimesi ile programımızın istenilen yerinde hata fırlatabiliriz."
   ]
  },
  {
   "cell_type": "code",
   "execution_count": 66,
   "metadata": {},
   "outputs": [],
   "source": [
    "static void yasKontrol(int yas) {\n",
    "    if (yas < 18) {\n",
    "        //Hata fırlatmasını isteyeceğiz.\n",
    "        throw new ArithmeticException();\n",
    "    }\n",
    "    else {\n",
    "        System.out.println(\"Hoş geldiniz.\");\n",
    "    }\n",
    "} "
   ]
  },
  {
   "cell_type": "code",
   "execution_count": 67,
   "metadata": {},
   "outputs": [
    {
     "name": "stdout",
     "output_type": "stream",
     "text": [
      "Yaşınızı Giriniz: \n",
      "\n",
      "17\n"
     ]
    },
    {
     "ename": "EvalException",
     "evalue": "null",
     "output_type": "error",
     "traceback": [
      "\u001b[1m\u001b[31m---------------------------------------------------------------------------\u001b[0m",
      "\u001b[1m\u001b[31mjava.lang.ArithmeticException: null\u001b[0m",
      "\u001b[1m\u001b[31m\tat .yasKontrol(#50:4)\u001b[0m",
      "\u001b[1m\u001b[31m\tat .(#71:1)\u001b[0m"
     ]
    }
   ],
   "source": [
    "import java.util.*;\n",
    "Scanner scanner = new Scanner(System.in);\n",
    "System.out.print(\"Yaşınızı Giriniz: \");\n",
    "int yas = scanner.nextInt();\n",
    "yasKontrol(yas);\n",
    "\n",
    "//Başarıyla hata aldık :)"
   ]
  },
  {
   "cell_type": "code",
   "execution_count": 68,
   "metadata": {},
   "outputs": [
    {
     "name": "stdout",
     "output_type": "stream",
     "text": [
      "Yaşınızı Giriniz: 17\n",
      "18 yaşından küçükler giremez..!\n"
     ]
    }
   ],
   "source": [
    "// Şimdi de bu hatayı yakalayalım\n",
    "try {\n",
    "Scanner scanner = new Scanner(System.in);\n",
    "System.out.print(\"Yaşınızı Giriniz: \");\n",
    "int yas = scanner.nextInt();\n",
    "yasKontrol(yas);\n",
    "}\n",
    "catch(ArithmeticException e) {\n",
    "    System.out.println(\"18 yaşından küçükler giremez..!\");\n",
    "}"
   ]
  },
  {
   "cell_type": "markdown",
   "metadata": {},
   "source": [
    "### throws"
   ]
  },
  {
   "cell_type": "markdown",
   "metadata": {},
   "source": [
    "Checked Exceptionlarda hata yakalayabilmek için kullanılır."
   ]
  },
  {
   "cell_type": "code",
   "execution_count": 80,
   "metadata": {},
   "outputs": [],
   "source": [
    "static void yasKontrol(int yas) throws IOException {   //Checked excepiton fırlatacağını programa öngerebilmesi için belirttik.\n",
    "    if (yas < 18) {\n",
    "        //Hata fırlatmasını isteyeceğiz.\n",
    "        throw new IOException();                     //Checked bir exception fırlatmasını istedik.\n",
    "    }\n",
    "    else {\n",
    "        System.out.println(\"Hoş geldiniz.\");\n",
    "    }\n",
    "} "
   ]
  },
  {
   "cell_type": "markdown",
   "metadata": {},
   "source": [
    "### İç içe metodlarda hata yakalama (exception propagation)"
   ]
  },
  {
   "cell_type": "code",
   "execution_count": 70,
   "metadata": {},
   "outputs": [],
   "source": [
    "static void ucuncuFonksiyon() {\n",
    "    int a = 12 / 0;\n",
    "}\n",
    "static void ikinciFonksiyon() {\n",
    "    ucuncuFonksiyon();\n",
    "    \n",
    "}\n",
    "static void birinciFonksiyon() {\n",
    "    ikinciFonksiyon();\n",
    "}"
   ]
  },
  {
   "cell_type": "code",
   "execution_count": 71,
   "metadata": {},
   "outputs": [
    {
     "ename": "EvalException",
     "evalue": "/ by zero",
     "output_type": "error",
     "traceback": [
      "\u001b[1m\u001b[31m---------------------------------------------------------------------------\u001b[0m",
      "\u001b[1m\u001b[31mjava.lang.ArithmeticException: / by zero\u001b[0m",
      "\u001b[1m\u001b[31m\tat .ucuncuFonksiyon(#59:2)\u001b[0m",
      "\u001b[1m\u001b[31m\tat .ikinciFonksiyon(#60:1)\u001b[0m",
      "\u001b[1m\u001b[31m\tat .birinciFonksiyon(#61:1)\u001b[0m",
      "\u001b[1m\u001b[31m\tat .(#73:1)\u001b[0m"
     ]
    }
   ],
   "source": [
    "birinciFonksiyon();\n",
    "\n",
    "//Hata hiçbir metotta yakalanmadığı için main'e gelince hata verdi."
   ]
  },
  {
   "cell_type": "code",
   "execution_count": 72,
   "metadata": {},
   "outputs": [],
   "source": [
    "static void ucuncuFonksiyon() {\n",
    "    int a = 12 / 0;\n",
    "}\n",
    "static void ikinciFonksiyon() {\n",
    "    try {\n",
    "        ucuncuFonksiyon();\n",
    "    }\n",
    "    catch(ArithmeticException e) {\n",
    "        System.out.println(\"Hatayı ikinci metotta yakaladık.\");\n",
    "    }\n",
    "    \n",
    "}\n",
    "static void birinciFonksiyon() {\n",
    "    ikinciFonksiyon();\n",
    "}"
   ]
  },
  {
   "cell_type": "code",
   "execution_count": 73,
   "metadata": {},
   "outputs": [
    {
     "name": "stdout",
     "output_type": "stream",
     "text": [
      "Hatayı ikinci metotta yakaladık.\n",
      "Hatayı birinci veya ucuncu metotlarda da yakalayabilirdik.\n"
     ]
    }
   ],
   "source": [
    "birinciFonksiyon();\n",
    "System.out.println(\"Hatayı birinci veya ucuncu metotlarda da yakalayabilirdik.\");"
   ]
  },
  {
   "cell_type": "markdown",
   "metadata": {},
   "source": [
    "### Kendi exception sınıfımızı oluşturma"
   ]
  },
  {
   "cell_type": "code",
   "execution_count": 78,
   "metadata": {},
   "outputs": [],
   "source": [
    "public class GecersizYas extends ArithmeticException {\n",
    "    public GecersizYas(String s) {\n",
    "        super(s);\n",
    "    }\n",
    "    @Override\n",
    "    public void printStackTrace() {\n",
    "        System.out.println(\"Geçersiz Yaş !!!\");\n",
    "    }\n",
    "}"
   ]
  },
  {
   "cell_type": "code",
   "execution_count": 82,
   "metadata": {},
   "outputs": [],
   "source": [
    "static void yasKontrol(int yas) {  \n",
    "    if (yas < 18) {\n",
    "        //Kendi hatamızı fırlatmasını isteyeceğiz.\n",
    "        throw new GecersizYas(\"Küçük veya Hatalı Yaş\");                    \n",
    "    }\n",
    "    else {\n",
    "        System.out.println(\"Hoş geldiniz.\");\n",
    "    }\n",
    "} "
   ]
  },
  {
   "cell_type": "code",
   "execution_count": 83,
   "metadata": {},
   "outputs": [
    {
     "name": "stdout",
     "output_type": "stream",
     "text": [
      "Yaşınızı Giriniz: 17\n"
     ]
    },
    {
     "ename": "EvalException",
     "evalue": "Küçük veya Hatalı Yaş",
     "output_type": "error",
     "traceback": [
      "\u001b[1m\u001b[31m---------------------------------------------------------------------------\u001b[0m",
      "\u001b[1m\u001b[31mREPL.$JShell$79$GecersizYas: Küçük veya Hatalı Yaş\u001b[0m",
      "\u001b[1m\u001b[31m\tat .yasKontrol(#50:4)\u001b[0m",
      "\u001b[1m\u001b[31m\tat .(#83:1)\u001b[0m"
     ]
    }
   ],
   "source": [
    "import java.util.*;\n",
    "Scanner scanner = new Scanner(System.in);\n",
    "System.out.print(\"Yaşınızı Giriniz: \");\n",
    "int yas = scanner.nextInt();\n",
    "yasKontrol(yas);"
   ]
  },
  {
   "cell_type": "code",
   "execution_count": 84,
   "metadata": {},
   "outputs": [
    {
     "name": "stdout",
     "output_type": "stream",
     "text": [
      "Yaşınızı Giriniz: 17\n",
      "18 yaşından küçükler giremez..!\n"
     ]
    }
   ],
   "source": [
    "// Şimdi kendi hatamızı yakalayalım.\n",
    "try {\n",
    "Scanner scanner = new Scanner(System.in);\n",
    "System.out.print(\"Yaşınızı Giriniz: \");\n",
    "int yas = scanner.nextInt();\n",
    "yasKontrol(yas);\n",
    "}\n",
    "catch(GecersizYas e) {\n",
    "    System.out.println(\"18 yaşından küçükler giremez..!\");\n",
    "}\n"
   ]
  },
  {
   "cell_type": "markdown",
   "metadata": {},
   "source": [
    "*__Checked Hatalar da yazabiliriz :__*"
   ]
  },
  {
   "cell_type": "code",
   "execution_count": 85,
   "metadata": {},
   "outputs": [],
   "source": [
    "public class GecersizYas extends IOException {\n",
    "    public GecersizYas(String s) {\n",
    "        super(s);\n",
    "    }\n",
    "    @Override\n",
    "    public void printStackTrace() {\n",
    "        System.out.println(\"Geçersiz Yaş !!!\");\n",
    "    }\n",
    "}"
   ]
  },
  {
   "cell_type": "code",
   "execution_count": 91,
   "metadata": {},
   "outputs": [],
   "source": [
    "static void yasKontrol(int yas) throws IOException {  //throws'u unutmuyoruz..!\n",
    "    if (yas < 18) {\n",
    "        //Kendi hatamızı fırlatmasını isteyeceğiz.\n",
    "        throw new GecersizYas(\"Küçük veya Hatalı Yaş\");                    \n",
    "    }\n",
    "    else {\n",
    "        System.out.println(\"Hoş geldiniz.\");\n",
    "    }\n",
    "} "
   ]
  },
  {
   "cell_type": "code",
   "execution_count": 92,
   "metadata": {},
   "outputs": [
    {
     "name": "stdout",
     "output_type": "stream",
     "text": [
      "Yaşınızı Giriniz: 17\n"
     ]
    },
    {
     "ename": "EvalException",
     "evalue": "Küçük veya Hatalı Yaş",
     "output_type": "error",
     "traceback": [
      "\u001b[1m\u001b[31m---------------------------------------------------------------------------\u001b[0m",
      "\u001b[1m\u001b[31mREPL.$JShell$79C$GecersizYas: Küçük veya Hatalı Yaş\u001b[0m",
      "\u001b[1m\u001b[31m\tat .yasKontrol(#50:4)\u001b[0m",
      "\u001b[1m\u001b[31m\tat .(#90:1)\u001b[0m"
     ]
    }
   ],
   "source": [
    "import java.util.*;\n",
    "Scanner scanner = new Scanner(System.in);\n",
    "System.out.print(\"Yaşınızı Giriniz: \");\n",
    "int yas = scanner.nextInt();\n",
    "yasKontrol(yas);"
   ]
  }
 ],
 "metadata": {
  "kernelspec": {
   "display_name": "Java",
   "language": "java",
   "name": "java"
  },
  "language_info": {
   "codemirror_mode": "java",
   "file_extension": ".jshell",
   "mimetype": "text/x-java-source",
   "name": "Java",
   "pygments_lexer": "java",
   "version": "14.0.2+12-46"
  }
 },
 "nbformat": 4,
 "nbformat_minor": 4
}

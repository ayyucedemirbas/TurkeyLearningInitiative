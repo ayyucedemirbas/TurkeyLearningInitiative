{
 "cells": [
  {
   "cell_type": "markdown",
   "metadata": {},
   "source": [
    "# JAVA TEKNOLOJİ HARİKALIĞI"
   ]
  },
  {
   "cell_type": "markdown",
   "metadata": {},
   "source": [
    "### JAVA TEKNOLOJİSİ HAKKINDA"
   ]
  },
  {
   "cell_type": "markdown",
   "metadata": {},
   "source": [
    "#### Java Programlama Dili"
   ]
  },
  {
   "cell_type": "markdown",
   "metadata": {},
   "source": [
    "Java teknolojisi hem bir programlama dili hem de bir platformdur.\n",
    "\n",
    "Java programlama dili aşağıdaki özellikleri karşılayan yüksek seviyeli bir progragramlama dilidir.\n",
    "+ Basit\n",
    "+ Nesne Tabanlı\n",
    "+ Yaygın\n",
    "+ Çok İş Parçacıklı (Aynı anda birden fazla iş yapabilme)\n",
    "+ Dinamik\n",
    "+ Tarafsız Mimari (Donanımdan ve işletim sisteminden bağımsız)\n",
    "+ Taşınabilir (JVM'nin olduğu her ortamda çalışabilir)\n",
    "+ Yüksek Performanslı\n",
    "+ Sağlam\n",
    "+ Güvenli\n",
    "\n",
    "Java programlama dilinde tüm kaynak kodlar başta .java uzantılı olarak yazılır daha sonra bu kaynak kodlar javac derleyici (compiler) ile .class dosyalarına derlenir ve .class uzantılı bir dosya işlemcinize uygun kodlar içermez, bytcodelar içerir. Java çalıştırma aracı uygulamanızı Java Sanal Makinesinin (Java Virtual Machine) bir örneğiyle çalıştırır.\n",
    "\n",
    "![textle](https://docs.oracle.com/javase/tutorial/figures/getStarted/getStarted-compiler.gif)\n",
    "\n",
    "Java Sanal Makine (VM) birçok işletim sisteminde olduğu için aynı .class dosyaları Windows, Solaris, Linux, Mac OS işletim sistemlerinde çalışabilir. \"Java SE HotSpot at a Glance\" gibi sanal makineler uygulamamız çalışırken performansı artırmak için ek adımlar gerçekleştirir. Bu olay performansa etki eden tıkanıklıkları bulmak ve kodun sık tekrar eden bölümlerini recompiler etmek (Doğal koda çevirmek) gibi çeşitli görevleri içerir.\n",
    "\n",
    "![textle](https://docs.oracle.com/javase/tutorial/figures/getStarted/helloWorld.gif \"Java Sanal Makine sayesinde aynı uygulamalar farklı platformlarda çalışabilmektedir.\")\n"
   ]
  },
  {
   "cell_type": "markdown",
   "metadata": {},
   "source": [
    "#### Java Platformu"
   ]
  },
  {
   "cell_type": "markdown",
   "metadata": {},
   "source": [
    "Platform, bir programın çalıştığı donanım veya yazılım ortamıdır. Zaten Windows, Linux gibi popüler platformlardan bahsetmiştik. Çoğu platform, işletim sistemi ve temel donanımın bir kombinasyonu olarak tanımlanabilir. Java platformu, diğer donanım tabanlı platformların üzerinde çalışan yalnızca yazılım tabanlı bir platform olmasıyla diğer çoğu platformdan farklıdır.\n",
    "\n",
    "\n",
    "Java platformunun iki bileşeni vardır:\n",
    "* Java Sanal Makine (Virtual Machine)\n",
    "* Java Uygulama Programlama Arayüzü (API)\n",
    "\n",
    "Java Sanal Makine ile zaten tanıştınız, Java platformunun temelidir ve çeşitli donanım tabanlı platformlarda bulunur. API, birçok kullanışlı özellik sağlayan hazır yazılım bileşenlerinden oluşan geniş bir koleksiyondur. İlgili sınıfların (class) ve arayüzlerin (interface) kitaplıkları halinde gruplandırılmıştır; bu kitaplıklar paketler olarak bilinir. \n",
    "\n",
    "![](https://docs.oracle.com/javase/tutorial/figures/getStarted/getStarted-jvm.gif \"API ve Java Sanal Makine, programı temeldeki donanımdan ayrı tutar (izole eder).\")\n",
    "\n",
    "Platformdan bağımsız bir ortam olarak Java platformu, yerel koddan biraz daha yavaş olabilir fakat sanal makine ve derleyici teknolojilerindeki gelişmeler taşınabilirliği tehdit etmeden performansı yerel kod performansına yaklaştırıyor."
   ]
  },
  {
   "cell_type": "markdown",
   "metadata": {},
   "source": [
    "[Kaynak: Java Tutorial](https://docs.oracle.com/javase/tutorial/getStarted/intro/definition.html \"About the Java Technology\")"
   ]
  }
 ],
 "metadata": {
  "kernelspec": {
   "display_name": "Java",
   "language": "java",
   "name": "java"
  },
  "language_info": {
   "codemirror_mode": "java",
   "file_extension": ".jshell",
   "mimetype": "text/x-java-source",
   "name": "Java",
   "pygments_lexer": "java",
   "version": "14.0.2+12-46"
  }
 },
 "nbformat": 4,
 "nbformat_minor": 4
}

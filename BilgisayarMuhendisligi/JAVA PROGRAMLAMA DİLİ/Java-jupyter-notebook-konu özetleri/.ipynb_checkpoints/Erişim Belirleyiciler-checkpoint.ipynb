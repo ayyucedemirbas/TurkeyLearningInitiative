{
 "cells": [
  {
   "cell_type": "markdown",
   "metadata": {},
   "source": [
    "# ACCESS MODİFİERLAR (ERİŞİM BELİRLEYİCİLER)"
   ]
  },
  {
   "cell_type": "markdown",
   "metadata": {},
   "source": [
    "### SINIF DÜZEYİNDE ERİŞİM BELİRLEYİCİLER"
   ]
  },
  {
   "cell_type": "markdown",
   "metadata": {},
   "source": [
    "* public = Bir class eğer public yazılmışsa bu classa paketin içindeki ve dışındaki tüm classlar tarafından erişilir.\n",
    "\n",
    "* default = Default erişim belirleyici kullanmamak anlamına gelir. Eğer bir class hiçbir erişim belirleyici kullanmadan yazılmışsa, bu classa sadece aynı paketin içindeki classlar erişebilir. Paketin dışındaki classlar bu classa erişemez. \n",
    "\n",
    "###### protected, private gibi erişim belirleyiciler classlarda kullanılmazlar."
   ]
  },
  {
   "cell_type": "markdown",
   "metadata": {},
   "source": [
    "### METOD VE ÖZELLİK DÜZEYİNDE ERİŞİM BELİRLEYİCİLER"
   ]
  },
  {
   "cell_type": "markdown",
   "metadata": {},
   "source": [
    "* public: Eğer bir metod veya özellik(class member veya alan) public olarak tanımlanmışsa, bu alana paketin içindeki ve dışındaki tüm classlar erişebilir. Ancak tabii ki bu alanın içinde bulunduğu classın da erişilebilir olması gerekir.\n",
    "\n",
    "\n",
    "* default: Eğer bir metod veya özellik tanımlanırken hiçbir erişim belirleyici kullanılmamışsa (default), bu alana sadece kendi paketindeki classlar erişebilir.\n",
    "\n",
    "\n",
    "* protected : Eğer bir metod veya özellik(class member veya alan) protected olarak tanımlanmışsa, bu alana aynı paketin içindeki diğer classlar tarafından erişilebilir. Paketin dışındaki classlar ise sadece ve sadece bu alanın bulunduğu classın bir alt classıysa erişebilir.\n",
    "\n",
    "\n",
    "* private: Eğer bir alan private olarak tanımlanmışsa bu alana sadece kendi classı erişebilir.\n",
    "\n",
    "![](https://cdn.journaldev.com/wp-content/uploads/2013/10/java-access-modifiers-table-1.png \"Tablo\")"
   ]
  }
 ],
 "metadata": {
  "kernelspec": {
   "display_name": "Java",
   "language": "java",
   "name": "java"
  },
  "language_info": {
   "codemirror_mode": "java",
   "file_extension": ".jshell",
   "mimetype": "text/x-java-source",
   "name": "Java",
   "pygments_lexer": "java",
   "version": "14.0.2+12-46"
  }
 },
 "nbformat": 4,
 "nbformat_minor": 4
}

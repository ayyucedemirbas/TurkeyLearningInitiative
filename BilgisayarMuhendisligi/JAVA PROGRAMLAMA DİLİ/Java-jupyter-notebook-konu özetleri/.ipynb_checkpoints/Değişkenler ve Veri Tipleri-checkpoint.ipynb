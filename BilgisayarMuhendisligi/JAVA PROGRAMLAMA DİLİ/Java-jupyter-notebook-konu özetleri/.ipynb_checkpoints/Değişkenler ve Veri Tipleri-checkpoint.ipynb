{
 "cells": [
  {
   "cell_type": "markdown",
   "metadata": {},
   "source": [
    "# DEĞİŞKENLER VE VERİ TİPLERİ"
   ]
  },
  {
   "cell_type": "markdown",
   "metadata": {},
   "source": [
    "### TAM SAYILAR"
   ]
  },
  {
   "cell_type": "code",
   "execution_count": 3,
   "metadata": {
    "scrolled": true
   },
   "outputs": [
    {
     "name": "stdout",
     "output_type": "stream",
     "text": [
      "127\n",
      "-128\n"
     ]
    }
   ],
   "source": [
    "// Byte Max değeri : 2^7 -1\n",
    "System.out.println(Byte.MAX_VALUE);\n",
    "// Byte Min değeri : -2^7\n",
    "System.out.println(Byte.MIN_VALUE);"
   ]
  },
  {
   "cell_type": "code",
   "execution_count": 5,
   "metadata": {},
   "outputs": [
    {
     "name": "stdout",
     "output_type": "stream",
     "text": [
      "32767\n",
      "-32768\n"
     ]
    }
   ],
   "source": [
    "// Short Max değeri : 2^15 -1\n",
    "System.out.println(Short.MAX_VALUE);\n",
    "// Short Min değeri : -2^15\n",
    "System.out.println(Short.MIN_VALUE);"
   ]
  },
  {
   "cell_type": "code",
   "execution_count": 7,
   "metadata": {},
   "outputs": [
    {
     "name": "stdout",
     "output_type": "stream",
     "text": [
      "2147483647\n",
      "-2147483648\n"
     ]
    }
   ],
   "source": [
    "// Integer Max değeri : 2^31 -1\n",
    "System.out.println(Integer.MAX_VALUE);\n",
    "// Integer Min değeri : -2^31\n",
    "System.out.println(Integer.MIN_VALUE);"
   ]
  },
  {
   "cell_type": "code",
   "execution_count": 8,
   "metadata": {},
   "outputs": [
    {
     "name": "stdout",
     "output_type": "stream",
     "text": [
      "9223372036854775807\n",
      "-9223372036854775808\n"
     ]
    }
   ],
   "source": [
    "// Long Max değeri : 2^63 -1\n",
    "System.out.println(Long.MAX_VALUE);\n",
    "// Long Min değeri : -2^63\n",
    "System.out.println(Long.MIN_VALUE);"
   ]
  },
  {
   "cell_type": "markdown",
   "metadata": {},
   "source": [
    "### ONDALIKLI SAYILAR"
   ]
  },
  {
   "cell_type": "code",
   "execution_count": 16,
   "metadata": {},
   "outputs": [
    {
     "name": "stdout",
     "output_type": "stream",
     "text": [
      "Float Sayı: 2.32\n",
      "Double Sayı: 2.0\n"
     ]
    }
   ],
   "source": [
    "float sayi1 = 2.32f;\n",
    "double sayi2 = 2d;\n",
    "System.out.println(\"Float Sayı: \" + sayi1);\n",
    "System.out.println(\"Double Sayı: \" + sayi2);"
   ]
  },
  {
   "cell_type": "markdown",
   "metadata": {},
   "source": [
    "### CHAR VE BOOLEAN"
   ]
  },
  {
   "cell_type": "code",
   "execution_count": 17,
   "metadata": {},
   "outputs": [
    {
     "name": "stdout",
     "output_type": "stream",
     "text": [
      "?\n",
      "true\n"
     ]
    }
   ],
   "source": [
    "char soru = '?';\n",
    "boolean dogru = true;\n",
    "System.out.println(soru);\n",
    "System.out.println(dogru);"
   ]
  },
  {
   "cell_type": "markdown",
   "metadata": {},
   "source": [
    "### STRİNGLER"
   ]
  },
  {
   "cell_type": "code",
   "execution_count": 18,
   "metadata": {},
   "outputs": [
    {
     "name": "stdout",
     "output_type": "stream",
     "text": [
      "Merhaba, Nasılsın ?\r\n"
     ]
    }
   ],
   "source": [
    "String hello = \"Merhaba, Nasılsın \" + soru;\n",
    "System.out.println(hello);"
   ]
  },
  {
   "cell_type": "markdown",
   "metadata": {},
   "source": [
    "#### \\t : Bir tab boşluk bırakır.     \\n : Alt satıra geçer."
   ]
  },
  {
   "cell_type": "code",
   "execution_count": 20,
   "metadata": {},
   "outputs": [
    {
     "name": "stdout",
     "output_type": "stream",
     "text": [
      "Selam\tMerhaba\n",
      "Nasılsın\t?\r\n"
     ]
    }
   ],
   "source": [
    "String hi = \"Selam\\tMerhaba\\nNasılsın\\t\" + soru;\n",
    "System.out.println(hi);"
   ]
  },
  {
   "cell_type": "markdown",
   "metadata": {},
   "source": [
    "### MATEMATİK OPERATÖRLERİ"
   ]
  },
  {
   "cell_type": "code",
   "execution_count": 21,
   "metadata": {},
   "outputs": [
    {
     "name": "stdout",
     "output_type": "stream",
     "text": [
      "7\n",
      "1\n",
      "6\n",
      "3\n",
      "2\n"
     ]
    }
   ],
   "source": [
    "int a = 3;\n",
    "int b = 4;\n",
    "int c = 2;\n",
    "int d = 10;\n",
    "System.out.println(a+b); // toplama: +\n",
    "System.out.println(b-a); // çıkarma: -\n",
    "System.out.println(a*c); // çarpma: *\n",
    "System.out.println(d/a); // bölme: /\n",
    "System.out.println(d%b); // kalan: %\n",
    "\n"
   ]
  },
  {
   "cell_type": "markdown",
   "metadata": {},
   "source": [
    "#### POSTFIX VE PREFIX"
   ]
  },
  {
   "cell_type": "code",
   "execution_count": 24,
   "metadata": {},
   "outputs": [
    {
     "name": "stdout",
     "output_type": "stream",
     "text": [
      "9\r\n"
     ]
    }
   ],
   "source": [
    "int sayi = 3;\n",
    "int sayi2 = 5;\n",
    "\n",
    "\n",
    "sayi = sayi + 2; //sayimiz 5 oldu.\n",
    "sayi += 2; //sayimiz 7 oldu.\n",
    "sayi++; //sayimiz 8 oldu. //postfix\n",
    "++sayi; //sayimiz 9 oldu. //prefix\n",
    "System.out.println(sayi);"
   ]
  },
  {
   "cell_type": "code",
   "execution_count": 36,
   "metadata": {},
   "outputs": [
    {
     "name": "stdout",
     "output_type": "stream",
     "text": [
      "10--> GÜNCELLENMEMİŞ (POSTFIX) SAYI\n",
      "11--> POSTFIX İLE SAYI ŞİMDİ GÜNCELLENDİ\n",
      "12--> PREFIX İLE SAYI DİREK GÜNCELLENDİ\n"
     ]
    }
   ],
   "source": [
    "// POSTFIX VE PREFIX FARKI\n",
    "int sayi3 = 10;\n",
    "\n",
    "System.out.println(sayi3++ + \"--> GÜNCELLENMEMİŞ (POSTFIX) SAYI\");\n",
    "System.out.println(sayi3 + \"--> POSTFIX İLE SAYI ŞİMDİ GÜNCELLENDİ\");\n",
    "// POSTFIX'TE GÜNCELLENMEMİŞ SAYI BASILIR.\n",
    "System.out.println(++sayi3 + \"--> PREFIX İLE SAYI DİREK GÜNCELLENDİ\");\n",
    "// PREFIX'TE SAYI DİREK GÜNCELLENİR VE BASILIR."
   ]
  },
  {
   "cell_type": "markdown",
   "metadata": {},
   "source": [
    "### INPUT ALMA "
   ]
  },
  {
   "cell_type": "code",
   "execution_count": 2,
   "metadata": {},
   "outputs": [
    {
     "name": "stdout",
     "output_type": "stream",
     "text": [
      "Lütfen string giriniz: \n",
      "Kursat Simsek\n",
      "String: Kursat Simsek\n",
      "Lütfen integer sayı giriniz: \n",
      "58\n",
      "Integer Sayı: 58\n",
      "Lütfen ondalıklı sayı giriniz: \n",
      "34,2\n",
      "Ondalıklı Sayı: 34.2\n"
     ]
    }
   ],
   "source": [
    "import java.util.Scanner; //Projemize gerekli fonksiyonu dahil ettik.\n",
    "Scanner scanner = new Scanner(System.in);\n",
    "// String alma\n",
    "        System.out.println(\"Lütfen string giriniz: \");\n",
    "        String yazi = scanner.nextLine();\n",
    "        System.out.println(\"String: \" + yazi);\n",
    "\n",
    "// Integer sayı alma\n",
    "        System.out.println(\"Lütfen integer sayı giriniz: \");\n",
    "        int sayi = scanner.nextInt();\n",
    "        System.out.println(\"Integer Sayı: \" + sayi);\n",
    "\n",
    "// Ondalıklı sayı alma\n",
    "        System.out.println(\"Lütfen ondalıklı sayı giriniz: \");\n",
    "        double sayi2 = scanner.nextDouble();\n",
    "        System.out.println(\"Ondalıklı Sayı: \" + sayi2);"
   ]
  },
  {
   "cell_type": "markdown",
   "metadata": {},
   "source": [
    "#### next.Int() 'den sonra next.Line() kullanamama problemi"
   ]
  },
  {
   "cell_type": "code",
   "execution_count": 4,
   "metadata": {},
   "outputs": [
    {
     "name": "stdout",
     "output_type": "stream",
     "text": [
      "Lütfen integer sayı giriniz: \n",
      "58\n",
      "Integer Sayı: 58\n",
      "Lütfen string giriniz: \n",
      "String: \n"
     ]
    }
   ],
   "source": [
    "// Integer sayı alma\n",
    "        System.out.println(\"Lütfen integer sayı giriniz: \");\n",
    "        int sayi = scanner.nextInt();\n",
    "        System.out.println(\"Integer Sayı: \" + sayi);\n",
    "// Şimdi ise string almayı deneyelim.\n",
    "\n",
    "// String alma\n",
    "        System.out.println(\"Lütfen string giriniz: \");\n",
    "        String yazi = scanner.nextLine();\n",
    "        System.out.println(\"String: \" + yazi);\n",
    "\n",
    "// String inputumuzu almadan programı bitirecektir. Yani bu şekilde bir kullanım hatadır."
   ]
  },
  {
   "cell_type": "code",
   "execution_count": 6,
   "metadata": {},
   "outputs": [
    {
     "name": "stdout",
     "output_type": "stream",
     "text": [
      "Lütfen integer sayı giriniz: \n",
      "58\n",
      "Integer Sayı: 58\n",
      "Lütfen string giriniz: \n",
      "Kursat\n",
      "String: Kursat\n"
     ]
    }
   ],
   "source": [
    "// Çözüm\n",
    "// Integer sayı alma\n",
    "        System.out.println(\"Lütfen integer sayı giriniz: \");\n",
    "        int sayi = scanner.nextInt();\n",
    "        System.out.println(\"Integer Sayı: \" + sayi);\n",
    "// Şimdi ise string almayı deneyelim.\n",
    "\n",
    "// String alma\n",
    "        scanner.nextLine(); //Dummy\n",
    "        System.out.println(\"Lütfen string giriniz: \");\n",
    "        String yazi = scanner.nextLine();\n",
    "        System.out.println(\"String: \" + yazi);\n"
   ]
  },
  {
   "cell_type": "markdown",
   "metadata": {},
   "source": [
    "### DEĞER DEĞİŞTİRME"
   ]
  },
  {
   "cell_type": "code",
   "execution_count": 10,
   "metadata": {},
   "outputs": [
    {
     "name": "stdout",
     "output_type": "stream",
     "text": [
      "Değiştirilmeden önce \tbirinci sayi: 3\tikinci sayi: 5\n",
      "Değiştirildikten sonra \tbirinci sayi: 5\tikinci sayi: 3\n"
     ]
    }
   ],
   "source": [
    "int birinci = 3;\n",
    "int ikinci = 5;\n",
    "System.out.println(\"Değiştirilmeden önce \" + \"\\tbirinci sayi: \" + birinci + \"\\tikinci sayi: \" + ikinci);\n",
    "// Değiştiriliyor\n",
    "int gecici = birinci;\n",
    "birinci = ikinci;\n",
    "ikinci = gecici;\n",
    "System.out.println(\"Değiştirildikten sonra \" + \"\\tbirinci sayi: \" + birinci + \"\\tikinci sayi: \" + ikinci);"
   ]
  },
  {
   "cell_type": "markdown",
   "metadata": {},
   "source": [
    "### KAREKÖK ALMA "
   ]
  },
  {
   "cell_type": "code",
   "execution_count": 11,
   "metadata": {},
   "outputs": [
    {
     "data": {
      "text/plain": [
       "2.0"
      ]
     },
     "execution_count": 11,
     "metadata": {},
     "output_type": "execute_result"
    }
   ],
   "source": [
    "int sayi = 4;\n",
    "Math.sqrt(sayi);"
   ]
  }
 ],
 "metadata": {
  "kernelspec": {
   "display_name": "Java",
   "language": "java",
   "name": "java"
  },
  "language_info": {
   "codemirror_mode": "java",
   "file_extension": ".jshell",
   "mimetype": "text/x-java-source",
   "name": "Java",
   "pygments_lexer": "java",
   "version": "14.0.2+12-46"
  }
 },
 "nbformat": 4,
 "nbformat_minor": 4
}

{
 "cells": [
  {
   "cell_type": "markdown",
   "metadata": {},
   "source": [
    "# Multithreading ve Concurrency"
   ]
  },
  {
   "cell_type": "markdown",
   "metadata": {},
   "source": [
    "__MultiTasking :__ Bilgisayarın bir çok işlemi (processi) aynı anda çalıştırmasıdır.\n",
    "\n",
    "Örneğin, bilgisayarın aynı anda Browserı ve Spotify'ı çalıştırması.\n",
    "\n",
    "__MultiThreading :__ Bir process içinde bir çok çalışma ünitesi-iş parçacığı (thread) oluşturarak bir çok işi bir arada yapmaktır.\n",
    "\n",
    "Örneğin, Word içinde yazı yazarken yazdıklarımızın aynı zamanda kontrol edilmesi."
   ]
  },
  {
   "cell_type": "markdown",
   "metadata": {},
   "source": [
    "__Process :__ Bilgisayarda çalışabilecek her türlü uygulamamızdır.\n",
    "\n",
    "+ Her process bellekte kendi *memory space'ine (bellek alanı)* sahiptir. \n",
    "\n",
    "Biz bir Java uygulamasını çalıştırdığımız zaman bu uygulama JVM üzerinde çalışacak bir process'e dönüşür. Java projeleri process'e dönüştükleri zaman kendi memory space'ini veya diğer adıyla *heap'ini* oluşturur. Eğer elimizde 2 tane çalışır durumda uygulamamız(process) varsa bu uygulamalar birbirlerinin bellek alanlarına ya da heaplerine erişemezler.\n",
    "\n",
    "__Thread :__ Bir processin içinde bulunan bir çalışma ünitesidir ve her Java programı en az bir thread'e sahiptir. Eğer biz hiç thread oluşturmasak bile Java projeleri main metodunu çalıştırırken bir tane main thread oluşturur. Bu main threadinin yanına kendimiz değişik işlemler yaptırmak için kendi threadlerimizi oluşturabiliriz.\n",
    "\n",
    "Threadler processlerin içinde oluştuğu için processlerin oluşturduğu bellek alanlarına direk olarak erişim sağlayabilirler.\n",
    "Ayrıca bellek alanından ayrı olarak her threadin sadece kendinin erişilebileceği bir tane thread stack'i bulunur.\n",
    "\n",
    "Biz programlarımızda bir çok thread oluşturduğumuzda JVM ile İşletim Sistemi bu threadlerin ne zaman çalışacağını ve ne zaman başlayacağını kendisi belirler. Ayrıca threadlerin çalışma sırası ve başlatılma sırası farklı olabileceği için programlarımızda ortaya çıkan çıktılar farklılık gösterebilirler.\n",
    "\n",
    "Şimdi bir örnekle threadin mantığına bakalım: Bizim 3 tane sırasıyla 10, 5 ve 3 dk süren işlemlerimiz olsun. Eğer farklı threadler kullanmazsak bu işlemi tek threadte 18 dk sürecektir. Fakat bu işlem için 3 ayrı thread oluşturursak programımız 10 dakika sürecektir."
   ]
  },
  {
   "cell_type": "markdown",
   "metadata": {},
   "source": [
    "## Thread Oluşturma Yöntemleri"
   ]
  },
  {
   "cell_type": "code",
   "execution_count": 78,
   "metadata": {},
   "outputs": [],
   "source": [
    "public class SahuraKalk extends Thread{\n",
    "    private String isim;\n",
    "    public SahuraKalk(String isim) {\n",
    "        this.isim = isim;\n",
    "    }\n",
    "\n",
    "    @Override\n",
    "    public void run() {\n",
    "        System.out.println(isim + \" sahura kalktı.\");\n",
    "    }\n",
    "}"
   ]
  },
  {
   "cell_type": "code",
   "execution_count": 79,
   "metadata": {},
   "outputs": [
    {
     "name": "stdout",
     "output_type": "stream",
     "text": [
      "Muzaffer sahura kalktı.\n",
      "Kadri sahura kalktı.\n",
      "main thread çalışıyor...\n"
     ]
    }
   ],
   "source": [
    "SahuraKalk muzaffer = new SahuraKalk(\"Muzaffer\");\n",
    "SahuraKalk kadri = new SahuraKalk(\"Kadri\");\n",
    "muzaffer.start();\n",
    "kadri.start();\n",
    "System.out.println(\"main thread çalışıyor...\");\n",
    "\n",
    "// Thread çalışma sırasını JVM ve OS belirler."
   ]
  },
  {
   "cell_type": "markdown",
   "metadata": {},
   "source": [
    "__--------------------------------------------------------------__"
   ]
  },
  {
   "cell_type": "code",
   "execution_count": 80,
   "metadata": {},
   "outputs": [],
   "source": [
    "public class IftarYap implements Runnable{\n",
    "    private String isim;\n",
    "    public IftarYap(String isim) {\n",
    "        this.isim = isim;\n",
    "    }\n",
    "\n",
    "    @Override\n",
    "    public void run() {\n",
    "        System.out.println(isim + \" iftar yaptı.\");\n",
    "    }\n",
    "}"
   ]
  },
  {
   "cell_type": "code",
   "execution_count": 81,
   "metadata": {},
   "outputs": [
    {
     "name": "stdout",
     "output_type": "stream",
     "text": [
      "Murat iftar yaptı.\n",
      "-----------Main Threadi-------------\n",
      "Asım iftar yaptı.\n"
     ]
    }
   ],
   "source": [
    "Thread murat = new Thread(new IftarYap(\"Murat\"));                    //Farklı bir thread objesi oluşturma yöntemi.\n",
    "Thread asım = new Thread(new IftarYap(\"Asım\"));\n",
    "murat.start();\n",
    "System.out.println(\"-----------Main Threadi-------------\");\n",
    "asım.start();"
   ]
  },
  {
   "cell_type": "markdown",
   "metadata": {},
   "source": [
    "__--------------------------------------------------------------__"
   ]
  },
  {
   "cell_type": "code",
   "execution_count": 85,
   "metadata": {},
   "outputs": [
    {
     "name": "stdout",
     "output_type": "stream",
     "text": [
      "Thread Çalışıyor.\r\n"
     ]
    }
   ],
   "source": [
    "new Thread(new Runnable() {                                               //Farklı bir thread çalıştırma şekli\n",
    "    @Override\n",
    "    public void run() {\n",
    "        System.out.println(\"Thread Çalışıyor.\");\n",
    "    }\n",
    "}).start();"
   ]
  },
  {
   "cell_type": "markdown",
   "metadata": {},
   "source": [
    "![](https://i.resmim.net/Se4bc.md.png \"Başka bir thread oluşturma şekli\")"
   ]
  },
  {
   "cell_type": "markdown",
   "metadata": {},
   "source": [
    "### Threadlerde Senkronizasyon\n",
    "\n",
    "Not: Jupyter Notebookta thread çalışması otomatik olarak sıraya konuluyor fakat IDE'lerimizde bu durum farklı."
   ]
  },
  {
   "cell_type": "code",
   "execution_count": 19,
   "metadata": {},
   "outputs": [
    {
     "name": "stdout",
     "output_type": "stream",
     "text": [
      "Count Değeri: 10000\r\n"
     ]
    }
   ],
   "source": [
    "int count = 0;\n",
    "Thread counter1 = new Thread(new Runnable() {\n",
    "            @Override\n",
    "            public void run() {\n",
    "                for(int i = 0; i < 5000;i++) {\n",
    "                    count++;\n",
    "                }\n",
    "            }\n",
    "        });\n",
    "        Thread counter2 = new Thread(new Runnable() {\n",
    "            @Override\n",
    "            public void run() {\n",
    "                for(int i = 0; i < 5000;i++) {\n",
    "                    count++;\n",
    "                }\n",
    "            }\n",
    "        });\n",
    "        counter1.start();\n",
    "        counter2.start();\n",
    "\n",
    "        try {\n",
    "            counter1.join();                              //.join() ile main threadden önce çalıştırdık.\n",
    "            counter2.join();\n",
    "        } catch (InterruptedException e) {\n",
    "            e.printStackTrace();\n",
    "        }\n",
    "\n",
    "        System.out.println(\"Count Değeri: \" + count);"
   ]
  },
  {
   "cell_type": "markdown",
   "metadata": {},
   "source": [
    "Yukarıdaki kod idemizde yanlış sonuç çıkaracaktır olması gereken kod şu şekildedir.\n",
    "\n",
    "![](https://r.resimlink.com/iIFUgJl.png)"
   ]
  },
  {
   "cell_type": "code",
   "execution_count": null,
   "metadata": {},
   "outputs": [],
   "source": []
  }
 ],
 "metadata": {
  "kernelspec": {
   "display_name": "Java",
   "language": "java",
   "name": "java"
  },
  "language_info": {
   "codemirror_mode": "java",
   "file_extension": ".jshell",
   "mimetype": "text/x-java-source",
   "name": "Java",
   "pygments_lexer": "java",
   "version": "14.0.2+12-46"
  }
 },
 "nbformat": 4,
 "nbformat_minor": 4
}

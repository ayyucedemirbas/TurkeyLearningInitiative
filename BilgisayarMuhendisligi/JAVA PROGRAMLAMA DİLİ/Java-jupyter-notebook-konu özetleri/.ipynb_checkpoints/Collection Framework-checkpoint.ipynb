{
 "cells": [
  {
   "cell_type": "markdown",
   "metadata": {},
   "source": [
    "# JAVA COLLECTİON FRAMEWORK"
   ]
  },
  {
   "cell_type": "markdown",
   "metadata": {},
   "source": [
    "Çoğu zaman programlarımızı geliştirirken tek bir öge yerine ögelerden oluşan diziler tanımlamak isteriz. Bu tanımlamalarda eğer veri tipimiz aynı ise, eleman sayımız belliyse standart bir dizi tanımlaması gerçekleştiriyorduk. Söz konusu değerlerin belirsizliği durumunda ise collection framework içerisinde bulunan interfaceler ve bu interfacelerden oluşan kurgulardan faydalanırız.\n",
    "\n",
    "Bu oluşumların en temelinde List, Set ve Map olmak üzere üç tip yer almaktadır. Bu kavramlardan Set ve List, Java Collection interface’ini kullanırken Map kavramı ise ayrı bir tür olarak bu yapıdan ayrılır. Bu yapıların bütününü ele aldığımızda ortaya Java Collection Framework çıkmaktadır.\n",
    "\n",
    "![](https://emrecelen.com.tr/wp-content/uploads/2021/04/java-collections-1024x492.png)"
   ]
  },
  {
   "cell_type": "markdown",
   "metadata": {},
   "source": [
    "### Set Interface ile List Interface’in farkı\n",
    "    List interface’i implemente eden classlar bir elementten birden fazla depolayabilirken,  \n",
    "    Set interface’i implemente eden classlar bir elementten sadece bir tane depolarlar."
   ]
  },
  {
   "cell_type": "markdown",
   "metadata": {},
   "source": [
    "### HashSet Sınıfı\n",
    "    1.HashSet elementleri \"hashing\" yani hash table  mekanizmasına uygun bir biçimde depolarlar\n",
    "    (Her element belli bir key'e göre depolanır.)\n",
    "\n",
    "    2.HashSet bir element'i sadece bir defa depolar.(Set Interface)\n",
    "\n",
    "    3. Elementlerin ekleme sırasına göre depolamaz.\n",
    "    \n",
    "### LinkedHashSet Sınıfı\n",
    "    1. LinkedHashSet hem HashTable hem de Set Interface'in LinkedList implementasyonu gibi davranır.\n",
    "\n",
    "    2. HashSette olduğu gibi bir elementi sadece bir defa depolar.(Set Interface)\n",
    "\n",
    "    3. Elementleri ekleme sırasına göre depolar.\n",
    "    \n",
    "### TreeSet Sınıfı\n",
    "\n",
    "    TreeSet sınıfı NavigableSet inteface'ini implemente eder ve AbstractSet sınıfından miras alır. \n",
    "    NavigableSet interface'i de SortedSet interfaceinden miras alır. \n",
    "\n",
    "    1. Elementleri depolamak için Tree yani Ağaç yapısını kullanır.\n",
    "\n",
    "    2. Elementleri alfabetik olarak sıralarlar.    "
   ]
  },
  {
   "cell_type": "markdown",
   "metadata": {},
   "source": [
    "### HashSet vs LinkedHashSet vs TreeSet\n",
    "\n",
    "    HashSet, Hash Table mekanizmasını uyguladığı için elementler sıralı değildir. Ekleme,Çıkarma ve\n",
    "    Arama metodları sabit zamanda( Time Complexity : O(1) ) çalışır. \n",
    "\n",
    "    TreeSet, elementleri tree yapısına yani ağaç yapısına uygun depolar. Ekleme,Çıkarma ve \n",
    "    Arama metodları O(log(n)) complexitysi ile çalışır.\n",
    "\n",
    "    LinkedHashSet sınıfı hashtable ile linked list yapısını kullanarak elementleri depolar.Bu yüzden,\n",
    "    elemetler ekleme sırasına göre depolanır. Ekleme,Çıkarma ve Arama metodları \n",
    "    sabit zamanda( Time Complexity : O(1) ) çalışır."
   ]
  },
  {
   "cell_type": "code",
   "execution_count": 2,
   "metadata": {},
   "outputs": [],
   "source": [
    "Set<String> set1 = new HashSet<String>();\n",
    "Set<String> set2 = new LinkedHashSet<String>();\n",
    "Set<String> set3 = new TreeSet<String>();"
   ]
  },
  {
   "cell_type": "code",
   "execution_count": 3,
   "metadata": {},
   "outputs": [
    {
     "name": "stdout",
     "output_type": "stream",
     "text": [
      "true\r\n"
     ]
    }
   ],
   "source": [
    "System.out.println(set1.isEmpty());"
   ]
  },
  {
   "cell_type": "code",
   "execution_count": 4,
   "metadata": {},
   "outputs": [
    {
     "data": {
      "text/plain": [
       "true"
      ]
     },
     "execution_count": 4,
     "metadata": {},
     "output_type": "execute_result"
    }
   ],
   "source": [
    "// HashSet\n",
    "    set1.add(\"Java\");\n",
    "    set1.add(\"Python\");\n",
    "    set1.add(\"C++\");\n",
    "    set1.add(\"Javascript\");\n",
    "    set1.add(\"Php\");\n",
    "// LinkedHashSet\n",
    "    set2.add(\"Java\");\n",
    "    set2.add(\"Python\");\n",
    "    set2.add(\"C++\");\n",
    "    set2.add(\"Javascript\");\n",
    "    set2.add(\"Php\");\n",
    "// TreeSet\n",
    "    set3.add(\"Java\");\n",
    "    set3.add(\"Python\");\n",
    "    set3.add(\"C++\");\n",
    "    set3.add(\"Javascript\");\n",
    "    set3.add(\"Php\");"
   ]
  },
  {
   "cell_type": "code",
   "execution_count": 10,
   "metadata": {},
   "outputs": [
    {
     "name": "stdout",
     "output_type": "stream",
     "text": [
      "HashSet\n",
      "*******************************\n",
      "Java\n",
      "C++\n",
      "Javascript\n",
      "Php\n",
      "Python\n",
      "---------------------------------------------- KENDİ YAPISINA GÖRE SIRALADI\n",
      "LinkedHashSet\n",
      "*******************************\n",
      "Java\n",
      "Python\n",
      "C++\n",
      "Javascript\n",
      "Php\n",
      "---------------------------------------------- EKLENME SIRASINA GÖRE SIRALADI\n",
      "TreeSet\n",
      "*******************************\n",
      "C++\n",
      "Java\n",
      "Javascript\n",
      "Php\n",
      "Python\n",
      "---------------------------------------------- ALFABETİK SIRALADI\n"
     ]
    }
   ],
   "source": [
    "System.out.println(\"HashSet\\n*******************************\");\n",
    "    for (String s: set1){\n",
    "        System.out.println(s);\n",
    "        \n",
    "    }\n",
    "    System.out.println(\"---------------------------------------------- KENDİ YAPISINA GÖRE SIRALADI\");\n",
    "    System.out.println(\"LinkedHashSet\\n*******************************\");\n",
    "    for (String s: set2){\n",
    "        System.out.println(s);\n",
    "        \n",
    "    }\n",
    "    System.out.println(\"---------------------------------------------- EKLENME SIRASINA GÖRE SIRALADI\");\n",
    "    System.out.println(\"TreeSet\\n*******************************\");\n",
    "    for (String s: set3){\n",
    "        System.out.println(s);\n",
    "        \n",
    "    }\n",
    "    System.out.println(\"---------------------------------------------- ALFABETİK SIRALADI\");"
   ]
  },
  {
   "cell_type": "code",
   "execution_count": 11,
   "metadata": {},
   "outputs": [
    {
     "name": "stdout",
     "output_type": "stream",
     "text": [
      "false\n",
      "true\n",
      "C++\n",
      "Javascript\n",
      "Php\n",
      "Python\n"
     ]
    }
   ],
   "source": [
    "System.out.println(set1.contains(\"Go\")); //Değer arar varsa true yoksa false döner\n",
    "System.out.println(set1.contains(\"Java\")); \n",
    "        \n",
    "set1.remove(\"Java\"); //Değer kaldırır\n",
    "for (String s: set1){\n",
    "        System.out.println(s);\n",
    "}"
   ]
  },
  {
   "cell_type": "code",
   "execution_count": 12,
   "metadata": {},
   "outputs": [
    {
     "data": {
      "text/plain": [
       "true"
      ]
     },
     "execution_count": 12,
     "metadata": {},
     "output_type": "execute_result"
    }
   ],
   "source": [
    "Set<String> set1 = new HashSet<String>();\n",
    "    Set<String> set2 = new HashSet<String>();\n",
    "    \n",
    "    set1.add(\"Java\");\n",
    "    set1.add(\"C++\");\n",
    "    set1.add(\"Python\");\n",
    "    set1.add(\"Javascript\");\n",
    "    set1.add(\"Php\");\n",
    "    \n",
    "    set2.add(\"Go\");\n",
    "    set2.add(\"Java\");\n",
    "    set2.add(\"CSS\");"
   ]
  },
  {
   "cell_type": "code",
   "execution_count": 13,
   "metadata": {},
   "outputs": [
    {
     "name": "stdout",
     "output_type": "stream",
     "text": [
      "true\n",
      "[CSS, Go]\n"
     ]
    }
   ],
   "source": [
    "Set<String> fark = new HashSet<String>(set2);      //Fark Bulma\n",
    "\n",
    "System.out.println(fark.removeAll(set1));\n",
    "System.out.println(fark);"
   ]
  },
  {
   "cell_type": "code",
   "execution_count": 15,
   "metadata": {},
   "outputs": [
    {
     "name": "stdout",
     "output_type": "stream",
     "text": [
      "true\n",
      "[Java]\n"
     ]
    }
   ],
   "source": [
    "Set<String> kesisim = new HashSet<String>(set2);  //Kesişi Bulma\n",
    "System.out.println(kesisim.retainAll(set1));\n",
    "        \n",
    "System.out.println(kesisim);"
   ]
  },
  {
   "cell_type": "markdown",
   "metadata": {},
   "source": [
    "### HashMap"
   ]
  },
  {
   "cell_type": "code",
   "execution_count": 6,
   "metadata": {},
   "outputs": [],
   "source": [
    "HashMap<Integer,String> sozluk = new HashMap<Integer,String>(); "
   ]
  },
  {
   "cell_type": "code",
   "execution_count": 7,
   "metadata": {},
   "outputs": [],
   "source": [
    "sozluk.put(1,\"Java\");\n",
    "sozluk.put(2,\"Python\");"
   ]
  },
  {
   "cell_type": "code",
   "execution_count": 8,
   "metadata": {},
   "outputs": [
    {
     "data": {
      "text/plain": [
       "[1=Java, 2=Python]"
      ]
     },
     "execution_count": 8,
     "metadata": {},
     "output_type": "execute_result"
    }
   ],
   "source": [
    "sozluk.entrySet();"
   ]
  },
  {
   "cell_type": "code",
   "execution_count": 9,
   "metadata": {},
   "outputs": [
    {
     "name": "stdout",
     "output_type": "stream",
     "text": [
      "Java\n",
      "Python\n"
     ]
    }
   ],
   "source": [
    "for (Map.Entry<Integer,String> entry: sozluk.entrySet()) {\n",
    "    System.out.println(entry.getValue());\n",
    "}  // entrylerin içinde gezinebilme"
   ]
  },
  {
   "cell_type": "raw",
   "metadata": {},
   "source": [
    "import java.util.Collection;\n",
    "import java.util.HashMap;\n",
    "import java.util.LinkedHashMap;\n",
    "import java.util.Map;\n",
    "import java.util.TreeMap;"
   ]
  },
  {
   "cell_type": "code",
   "execution_count": 9,
   "metadata": {},
   "outputs": [],
   "source": [
    "public static void mapYazdir(Map<Integer,String> map) {\n",
    "map.put(10, \"C++\");\n",
    "map.put(5, \"Java\");\n",
    "map.put(1, \"Python\");\n",
    "map.put(2, \"Php\");\n",
    "map.put(100, \"C\");\n",
    "Collection<String> values = map.values();\n",
    "for (String s: values) {\n",
    "System.out.println(\"Değer : \" + s);\n",
    "}\n",
    "}"
   ]
  },
  {
   "cell_type": "code",
   "execution_count": 10,
   "metadata": {},
   "outputs": [],
   "source": [
    "Map<Integer,String> hashmap = new HashMap<Integer,String>();\n",
    "Map<Integer,String> linkedhashmap = new LinkedHashMap<Integer,String>();\n",
    "Map<Integer,String> treemap = new TreeMap<Integer,String>();"
   ]
  },
  {
   "cell_type": "code",
   "execution_count": 13,
   "metadata": {},
   "outputs": [
    {
     "name": "stdout",
     "output_type": "stream",
     "text": [
      "******************  HASHMAP  \n",
      "Değer : Python\n",
      "Değer : Php\n",
      "Değer : C\n",
      "Değer : Java\n",
      "Değer : C++\n",
      "******************\n",
      "******************  LINKEDHASHMAP  \n",
      "Değer : C++\n",
      "Değer : Java\n",
      "Değer : Python\n",
      "Değer : Php\n",
      "Değer : C\n",
      "******************\n",
      "****************** TREE MAP  \n",
      "Değer : Python\n",
      "Değer : Php\n",
      "Değer : Java\n",
      "Değer : C++\n",
      "Değer : C\n",
      "******************\n"
     ]
    }
   ],
   "source": [
    "System.out.println(\"******************  HASHMAP  \");\n",
    "mapYazdir(hashmap);\n",
    "System.out.println(\"******************\");\n",
    "System.out.println(\"******************  LINKEDHASHMAP  \");\n",
    "mapYazdir(linkedhashmap);\n",
    "System.out.println(\"******************\");\n",
    "System.out.println(\"****************** TREE MAP  \");\n",
    "mapYazdir(treemap);\n",
    "System.out.println(\"******************\");"
   ]
  },
  {
   "cell_type": "markdown",
   "metadata": {},
   "source": [
    "------HashCode() ve equals()------"
   ]
  },
  {
   "cell_type": "code",
   "execution_count": 10,
   "metadata": {},
   "outputs": [],
   "source": [
    "class Player {\n",
    "    private String isim;\n",
    "    \n",
    "    private int id;\n",
    "\n",
    "    public Player(String isim, int id) {\n",
    "        this.isim = isim;\n",
    "        this.id = id;\n",
    "    }\n",
    "\n",
    "    @Override\n",
    "    public String toString() {\n",
    "       return \"|||| ID: \" + id + \" İsim :\" + isim + \" |||\";\n",
    "       \n",
    "    }\n",
    "\n",
    "}"
   ]
  },
  {
   "cell_type": "code",
   "execution_count": 11,
   "metadata": {},
   "outputs": [
    {
     "name": "stdout",
     "output_type": "stream",
     "text": [
      "|||| ID: 1 İsim :Mustafa |||\n",
      "|||| ID: 10 İsim :Mehmet |||\n",
      "|||| ID: 6 İsim :Emre |||\n",
      "|||| ID: 1 İsim :Mustafa |||\n"
     ]
    }
   ],
   "source": [
    "List<Player> player_list = new ArrayList<Player>();\n",
    "        \n",
    "        \n",
    "                \n",
    "        \n",
    "        Player player1 = new Player(\"Mustafa\",1);\n",
    "        Player player2 = new Player(\"Mehmet\",10);\n",
    "        Player player3 = new Player(\"Emre\",6);\n",
    "        Player player4 = new Player(\"Mustafa\",1);\n",
    "        \n",
    "    \n",
    "        player_list.add(player1);\n",
    "        player_list.add(player2);\n",
    "        player_list.add(player3);\n",
    "        player_list.add(player4);\n",
    "     \n",
    "        \n",
    "        for(Player p: player_list) {\n",
    "            System.out.println(p);\n",
    "        }"
   ]
  },
  {
   "cell_type": "markdown",
   "metadata": {},
   "source": [
    "------------------ HASHMAP VE EQUALS DAHİL EDİLİNCE -----------------------------"
   ]
  },
  {
   "cell_type": "code",
   "execution_count": 11,
   "metadata": {},
   "outputs": [],
   "source": [
    "class Player {\n",
    "    private String isim;\n",
    "    \n",
    "    private int id;\n",
    "\n",
    "    public Player(String isim, int id) {\n",
    "        this.isim = isim;\n",
    "        this.id = id;\n",
    "    }\n",
    "\n",
    "    @Override\n",
    "    public String toString() {\n",
    "       return \"|||| ID: \" + id + \" İsim :\" + isim + \" |||\";\n",
    "       \n",
    "    }\n",
    "\n",
    "    @Override\n",
    "    public boolean equals(Object o) {\n",
    "        if (this == o) return true;\n",
    "        if (o == null || getClass() != o.getClass()) return false;\n",
    "        Player player = (Player) o;\n",
    "        return id == player.id && isim.equals(player.isim);\n",
    "    }\n",
    "\n",
    "    @Override\n",
    "    public int hashCode() {\n",
    "        return Objects.hash(isim, id);\n",
    "    }\n",
    "}"
   ]
  },
  {
   "cell_type": "code",
   "execution_count": 12,
   "metadata": {},
   "outputs": [
    {
     "name": "stdout",
     "output_type": "stream",
     "text": [
      "|||| ID: 6 İsim :Emre |||\n",
      "|||| ID: 10 İsim :Mehmet |||\n",
      "|||| ID: 1 İsim :Mustafa |||\n"
     ]
    }
   ],
   "source": [
    "Set<Player> hashset = new HashSet<>();\n",
    "        \n",
    "        \n",
    "        List<Player> player_list = new ArrayList<Player>();\n",
    "        \n",
    "        \n",
    "                \n",
    "        \n",
    "        Player player1 = new Player(\"Mustafa\",1);\n",
    "        Player player2 = new Player(\"Mehmet\",10);\n",
    "        Player player3 = new Player(\"Emre\",6);\n",
    "        Player player4 = new Player(\"Mustafa\",1);\n",
    "        \n",
    "    \n",
    "        hashset.add(player1);\n",
    "        hashset.add(player2);\n",
    "        hashset.add(player3);\n",
    "        hashset.add(player4);\n",
    "     \n",
    "        \n",
    "        for(Player p: hashset) {\n",
    "            System.out.println(p);\n",
    "        }   // Aynı değerleri bir daha yazmadı."
   ]
  },
  {
   "cell_type": "markdown",
   "metadata": {},
   "source": [
    "### SIRALAMA"
   ]
  },
  {
   "cell_type": "code",
   "execution_count": 14,
   "metadata": {},
   "outputs": [
    {
     "name": "stdout",
     "output_type": "stream",
     "text": [
      "C++\n",
      "Go\n",
      "Java\n",
      "Php\n",
      "Python\n"
     ]
    }
   ],
   "source": [
    "List<String> list_string = new ArrayList<String>();\n",
    "list_string.add(\"Java\");\n",
    "list_string.add(\"C++\");\n",
    "list_string.add(\"Python\");\n",
    "list_string.add(\"Php\");\n",
    "list_string.add(\"Go\");\n",
    "        \n",
    "Collections.sort(list_string); //Sıraladık\n",
    "        \n",
    "for (String s : list_string) {\n",
    "    System.out.println(s);\n",
    "}"
   ]
  },
  {
   "cell_type": "code",
   "execution_count": 16,
   "metadata": {},
   "outputs": [],
   "source": [
    "// Kendi oluşturduğumuz classların nesnelerini sıralamak için\n",
    "class Player implements Comparable<Player>{\n",
    "    private String isim;\n",
    "    \n",
    "    private int id;\n",
    "\n",
    "    public Player(String isim, int id) {\n",
    "        this.isim = isim;\n",
    "        this.id = id;\n",
    "    }\n",
    "\n",
    "    @Override\n",
    "    public String toString() {\n",
    "       return \"|||| ID: \" + id + \" İsim :\" + isim + \" |||\";\n",
    "       \n",
    "    }\n",
    "\n",
    "    @Override\n",
    "    public int compareTo(Player player) { //Comparable interface'ini implements edip compareTo methodunu Override etmeliyiz.\n",
    "\n",
    "        if (this.id < player.id) {\n",
    "            \n",
    "            return -1;\n",
    "        }\n",
    "        else if (this.id > player.id) {\n",
    "            return 1;\n",
    "        }\n",
    "        return 0;\n",
    "    }\n",
    "}"
   ]
  },
  {
   "cell_type": "code",
   "execution_count": 19,
   "metadata": {},
   "outputs": [
    {
     "name": "stdout",
     "output_type": "stream",
     "text": [
      "|||| ID: 1 İsim :Emre |||\n",
      "|||| ID: 4 İsim :Yusuf |||\n",
      "|||| ID: 5 İsim :Murat |||\n",
      "|||| ID: 10 İsim :Oğuz |||\n"
     ]
    }
   ],
   "source": [
    "List<Player> list_player = new ArrayList<Player>();\n",
    "        \n",
    "list_player.add(new Player(\"Murat\", 5));\n",
    "list_player.add(new Player(\"Emre\", 1));\n",
    "list_player.add(new Player(\"Oğuz\", 10));\n",
    "list_player.add(new Player(\"Yusuf\", 4));\n",
    "        \n",
    "Player p1 = new Player(\"Murat\", 5);\n",
    "Player p2 = new Player(\"Yusuf\", 4);\n",
    "        \n",
    "Collections.sort(list_player);\n",
    "        \n",
    "for (Player p : list_player) {\n",
    "            \n",
    "    System.out.println(p);\n",
    "            \n",
    "}"
   ]
  },
  {
   "cell_type": "markdown",
   "metadata": {},
   "source": [
    "Comparator interfaceni implements edip sıralama yapmak"
   ]
  },
  {
   "cell_type": "code",
   "execution_count": 23,
   "metadata": {},
   "outputs": [],
   "source": [
    "class KucuktenBuyugePlayer implements Comparator<Player> {\n",
    " \n",
    "    public KucuktenBuyugePlayer() {\n",
    "    }\n",
    "\n",
    "    @Override\n",
    "    public int compare(Player o1, Player o2) {\n",
    "        if (o1.getId() < o2.getId()) {\n",
    "            return -1;\n",
    "            \n",
    "        }\n",
    "        else if (o1.getId() > o2.getId()) {\n",
    "            return 15;\n",
    "        }\n",
    "        return 0;\n",
    "    }\n",
    "}"
   ]
  },
  {
   "cell_type": "code",
   "execution_count": 28,
   "metadata": {},
   "outputs": [
    {
     "name": "stdout",
     "output_type": "stream",
     "text": [
      "|||| ID: 1 İsim :Emre |||\n",
      "|||| ID: 4 İsim :Yusuf |||\n",
      "|||| ID: 5 İsim :Murat |||\n",
      "|||| ID: 10 İsim :Oğuz |||\n"
     ]
    }
   ],
   "source": [
    "class Player{\n",
    "    private String isim;\n",
    "    \n",
    "    private int id;\n",
    "\n",
    "    public Player(String isim, int id) {\n",
    "        this.isim = isim;\n",
    "        this.id = id;\n",
    "    }\n",
    "\n",
    "    public String getIsim() {\n",
    "        return isim;\n",
    "    }\n",
    "\n",
    "    public void setIsim(String isim) {\n",
    "        this.isim = isim;\n",
    "    }\n",
    "\n",
    "    public int getId() {\n",
    "        return id;\n",
    "    }\n",
    "\n",
    "    public void setId(int id) {\n",
    "        this.id = id;\n",
    "    }\n",
    "\n",
    "    @Override\n",
    "    public String toString() {\n",
    "       return \"|||| ID: \" + id + \" İsim :\" + isim + \" |||\";\n",
    "       \n",
    "    }\n",
    "\n",
    "}\n",
    "import java.util.ArrayList;\n",
    "import java.util.Collections;\n",
    "import java.util.Comparator;\n",
    "import java.util.List;\n",
    "List<Player> list_player = new ArrayList<Player>();\n",
    "        \n",
    "list_player.add(new Player(\"Murat\", 5));\n",
    "list_player.add(new Player(\"Emre\", 1));\n",
    "list_player.add(new Player(\"Oğuz\", 10));\n",
    "list_player.add(new Player(\"Yusuf\", 4));\n",
    "        \n",
    "Collections.sort(list_player,new KucuktenBuyugePlayer());\n",
    "for (Player p: list_player) {\n",
    "    System.out.println(p);\n",
    "}"
   ]
  },
  {
   "cell_type": "markdown",
   "metadata": {},
   "source": [
    "### VEKTÖR-STACK"
   ]
  },
  {
   "cell_type": "code",
   "execution_count": 1,
   "metadata": {},
   "outputs": [],
   "source": [
    "import java.util.*;"
   ]
  },
  {
   "cell_type": "code",
   "execution_count": 2,
   "metadata": {},
   "outputs": [
    {
     "data": {
      "text/plain": [
       "true"
      ]
     },
     "execution_count": 2,
     "metadata": {},
     "output_type": "execute_result"
    }
   ],
   "source": [
    "Vector<String> vector =  new Vector<String>();\n",
    "        \n",
    "vector.add(\"Java\");\n",
    "vector.add(\"Python\");\n",
    "vector.add(\"Python\");\n",
    "vector.add(\"Php\");"
   ]
  },
  {
   "cell_type": "code",
   "execution_count": 3,
   "metadata": {},
   "outputs": [
    {
     "name": "stdout",
     "output_type": "stream",
     "text": [
      "Java\n",
      "Python\n",
      "Python\n",
      "Php\n"
     ]
    }
   ],
   "source": [
    "for (String s : vector) {\n",
    "    System.out.println(s);\n",
    "}"
   ]
  },
  {
   "cell_type": "code",
   "execution_count": 5,
   "metadata": {},
   "outputs": [
    {
     "name": "stdout",
     "output_type": "stream",
     "text": [
      "Java\n",
      "Python\n",
      "Python\n",
      "Php\n"
     ]
    }
   ],
   "source": [
    "ListIterator<String> iterator =  vector.listIterator(); //Vectorlar üzerinde iteratorler ile gezinebiliriz.\n",
    "        \n",
    "while (iterator.hasNext()) {\n",
    "            \n",
    "    System.out.println(iterator.next());\n",
    "            \n",
    "}"
   ]
  },
  {
   "cell_type": "code",
   "execution_count": 8,
   "metadata": {},
   "outputs": [
    {
     "name": "stdout",
     "output_type": "stream",
     "text": [
      "Java\n",
      "Python\n",
      "Python\n",
      "Php\n"
     ]
    }
   ],
   "source": [
    "Enumeration<String> enumaration = vector.elements(); //Vectorlerde gezinmek için farklı bir yol.\n",
    "        \n",
    "while (enumaration.hasMoreElements()) {\n",
    "            \n",
    "    System.out.println(enumaration.nextElement());\n",
    "            \n",
    "}"
   ]
  },
  {
   "cell_type": "code",
   "execution_count": 9,
   "metadata": {},
   "outputs": [
    {
     "name": "stdout",
     "output_type": "stream",
     "text": [
      "İlk Eleman : Java\n",
      "Son Eleman : Php\n"
     ]
    }
   ],
   "source": [
    "System.out.println(\"İlk Eleman : \" + vector.firstElement());\n",
    "System.out.println(\"Son Eleman : \" + vector.lastElement());"
   ]
  },
  {
   "cell_type": "code",
   "execution_count": 10,
   "metadata": {},
   "outputs": [
    {
     "name": "stdout",
     "output_type": "stream",
     "text": [
      "true\r\n"
     ]
    }
   ],
   "source": [
    "Stack<String> stack = new Stack<String>();\n",
    "System.out.println(stack.empty());"
   ]
  },
  {
   "cell_type": "code",
   "execution_count": 11,
   "metadata": {},
   "outputs": [
    {
     "data": {
      "text/plain": [
       "Go"
      ]
     },
     "execution_count": 11,
     "metadata": {},
     "output_type": "execute_result"
    }
   ],
   "source": [
    "stack.push(\"Java\");\n",
    "stack.push(\"Python\");\n",
    "stack.push(\"Php\");\n",
    "stack.push(\"Go\");"
   ]
  },
  {
   "cell_type": "code",
   "execution_count": 12,
   "metadata": {},
   "outputs": [
    {
     "name": "stdout",
     "output_type": "stream",
     "text": [
      "Java\n",
      "Python\n",
      "Php\n",
      "Go\n"
     ]
    }
   ],
   "source": [
    "for (String s : stack ){\n",
    "            \n",
    "    System.out.println(s);\n",
    "            \n",
    "}"
   ]
  },
  {
   "cell_type": "code",
   "execution_count": 13,
   "metadata": {},
   "outputs": [
    {
     "name": "stdout",
     "output_type": "stream",
     "text": [
      "Java\n",
      "Python\n",
      "Php\n",
      "Go\n"
     ]
    }
   ],
   "source": [
    "Enumeration<String> enumeration = stack.elements();\n",
    "        \n",
    "while (enumeration.hasMoreElements()) {\n",
    "            \n",
    "    System.out.println(enumeration.nextElement());\n",
    "            \n",
    "}"
   ]
  },
  {
   "cell_type": "code",
   "execution_count": 14,
   "metadata": {},
   "outputs": [
    {
     "name": "stdout",
     "output_type": "stream",
     "text": [
      "Son eleman Çıkarılıyor : Go\n",
      "-----------------------\n",
      "Java\n",
      "Python\n",
      "Php\n"
     ]
    }
   ],
   "source": [
    "System.out.println(\"Son eleman Çıkarılıyor : \" + stack.pop());\n",
    "System.out.println(\"-----------------------\");        \n",
    "for (String s : stack ){\n",
    "            \n",
    "    System.out.println(s);\n",
    "            \n",
    "}"
   ]
  },
  {
   "cell_type": "code",
   "execution_count": 15,
   "metadata": {},
   "outputs": [
    {
     "name": "stdout",
     "output_type": "stream",
     "text": [
      "false\r\n"
     ]
    }
   ],
   "source": [
    "System.out.println(stack.empty());"
   ]
  },
  {
   "cell_type": "code",
   "execution_count": 16,
   "metadata": {},
   "outputs": [
    {
     "name": "stdout",
     "output_type": "stream",
     "text": [
      "Eleman Çıkarılıyor : Php\n",
      "Eleman Çıkarılıyor : Python\n",
      "Eleman Çıkarılıyor : Java\n"
     ]
    }
   ],
   "source": [
    "while (!stack.empty()){\n",
    "            \n",
    "    System.out.println(\"Eleman Çıkarılıyor : \" + stack.pop());\n",
    "            \n",
    "}"
   ]
  },
  {
   "cell_type": "code",
   "execution_count": 4,
   "metadata": {},
   "outputs": [
    {
     "name": "stdout",
     "output_type": "stream",
     "text": [
      "RAMAZAN PİDE FIRINI RAMAZAN PİDESİ KUYRUĞU\n",
      "------------------------------------------\n",
      "Pide Sayısı: 3\n",
      "Kadir pide aldı.\n",
      "Kürşat pide aldı.\n",
      "Serkan pide aldı.\n",
      "Pide kalmadı.\n"
     ]
    }
   ],
   "source": [
    "import java.util.LinkedList;\n",
    "import java.util.Queue;\n",
    "import java.util.Random;\n",
    "System.out.println(\"RAMAZAN PİDE FIRINI RAMAZAN PİDESİ KUYRUĞU\");\n",
    "System.out.println(\"------------------------------------------\");\n",
    "Queue<String> musteri = new LinkedList<>();\n",
    "Random random = new Random();\n",
    "int pideSayisi = 1 + random.nextInt(3);\n",
    "musteri.offer(\"Kadir\");\n",
    "musteri.offer(\"Kürşat\");\n",
    "musteri.offer(\"Serkan\");\n",
    "musteri.offer(\"Hamza\");\n",
    "System.out.println(\"Pide Sayısı: \" + pideSayisi);\n",
    "while (pideSayisi!=0) {\n",
    "    System.out.println(musteri.poll() + \" pide aldı.\");\n",
    "    pideSayisi--;\n",
    "    Thread.sleep(1000);\n",
    "}\n",
    "System.out.println(\"Pide kalmadı.\");"
   ]
  },
  {
   "cell_type": "code",
   "execution_count": 13,
   "metadata": {},
   "outputs": [
    {
     "name": "stdout",
     "output_type": "stream",
     "text": [
      "-------------\n",
      "Adem\n",
      "-------------\n",
      "Altay\n",
      "-------------\n",
      "Kağan\n"
     ]
    }
   ],
   "source": [
    "// PriorityQueue\n",
    "Queue<String> hastalar = new PriorityQueue<>();\n",
    "hastalar.offer(\"Adem\");\n",
    "hastalar.offer(\"Kağan\");\n",
    "hastalar.offer(\"Altay\");\n",
    "while (hastalar.isEmpty() != true) {\n",
    "    System.out.println(\"-------------\");\n",
    "    System.out.println(hastalar.poll());\n",
    "}  //Kendi içinde sıralanır."
   ]
  },
  {
   "cell_type": "markdown",
   "metadata": {},
   "source": [
    "### GENEL ÖZET\n",
    "\n",
    "----------------------------------------------------------------------------\n",
    "    List Interface'i Implement'e Eden Classlar\n",
    "    \n",
    "    Elementleri liste halinde depolar.\n",
    "    Bir element birden fazla bulunabilir.\n",
    "    Elementler indeks ile tutulur.\n",
    "    Elementler eklenme sırasını korur.\n",
    "    Bir elemanı aramak çok yavaştır.\n",
    "    Bir eleman'a indeks değeri ile ulaşmak hızlıdır.\n",
    "    Listeler Collections.sort() metoduyla sıralanabilir.\n",
    "    \n",
    "    Thread İşlemlerinde Kullanılabilecek Veri Yapısı\n",
    "    \n",
    "    Vectorler ----> Çünkü bazı metodları \"synchronized\" anahtar kelimesiyle yazılmıştır.\n",
    "    \n",
    "    Elemanı Sadece Sona Eklediğimiz Durumlarda\n",
    "    \n",
    "    ArrayList -----> Çünkü sadece sona eklemek arraylistlerde daha hızlıdır.\n",
    "   \n",
    "    Elemanı Ortalara Ekleyeceğimiz Durumlar Varsa\n",
    "    \n",
    "    LinkedList ----> Çünkü sadece o bölgenin referansları üzerinde işlem yapılır.\n",
    "    ----------------------------------------------------------------------------\n",
    "    \n",
    "    Set Interface'ini implemente eden classlar\n",
    "    \n",
    "    Bir elemanı sadece bir defa depolar.\n",
    "    Bir elemanın sadece bir defa depolanmasını istiyorsak Listler(ArrayList,LinkedList vs. ) yerine kullanılabilir.\n",
    "    Elemanlar listler gibi indekslenmezler.\n",
    "    Bir elemanı setlerde olup olmadığını sorgulama listlere göre oldukça hızlıdır.\n",
    "    \n",
    "    Elemanların Sırası Önemli Değilse ve Sorgulama İşlemlerinin Hızlı Olması İsteniyorsa\n",
    "    \n",
    "    HashSet ---> Elemanları ekleme sırasına göre depolamaz ve bir elemanın olup olmadığını sorgulama\n",
    "    hash fonksiyonuyla yapıldığı için her zaman hızlı ve sabit zamanda çalışır.\n",
    "    \n",
    "    Elemanların Eklenme Sırası Önemliyse ve Sorgulama İşlemlerinin Hızlı Olması İsteniyorsa\n",
    "    \n",
    "    LinkedHashSet ---> LinkedList ve HashSet implementasyonu gibi çalıştığı için değerleri ekleme\n",
    "    sırasına göre depolar. Ayrıca elemanları sorgulama çok hızlıdır ve sabit zamanda çalışır.\n",
    "    \n",
    "    Elemanların Sıralanması Önemliyse\n",
    "    \n",
    "    TreeSet ---> Verileri ağaç yapısında depoladığı için veriler her zaman sıralıdır. Ancak bir elemanın\n",
    "    var olup olmadığını sorgulama zamanı içindeki eleman sayısıyla doğru orantılıdır. (O(logn))\n",
    "    \n",
    "    Eğer kendi objelerimizi setlerde kullanmak istiyorsak hashCode() ve equals() metodlarını override etmeliyiz.\n",
    "    \n",
    "    -----------------------------------------------------------------------------------------------\n",
    "    Map Interface'ini Implement Eden Classlar\n",
    "    \n",
    "    Veriler Anahtar Değer ilişkisiyle depolanır.\n",
    "    Bir key'e karşılık gelen yalnızca bir değer bulunur.\n",
    "    Bir key birden fazla bulunamaz.\n",
    "    Bir değere bir key üzerinden erişmek çok hızlıdır.\n",
    "    Değerlerin üzerinde tek tek gezinmek çok yavaştır.\n",
    "    Eğer kendi objelerimizi maplerde kullanmak istiyorsak hashCode() ve equals() metodlarını override etmeliyiz.\n",
    "      \n",
    "    \n",
    "    HashMap \n",
    "    \n",
    "    Anahtarlar ve Değerler Sıralı Değildir.\n",
    "    \n",
    "    LinkedHashMap \n",
    "    \n",
    "    Anahtarlar ve Değerler eklenme sırasına göre depolanır.\n",
    "    \n",
    "    TreeMap\n",
    "    \n",
    "    Anahtarlar ve Değerler \"Anahtarlara Göre\" Sıralı depolanır.\n",
    "    \n",
    "    --------------------------------------------------------------------------------------------\n",
    "    Queue Interface'ini Implement'e eden Classlar\n",
    "    \n",
    "    LinkedList\n",
    "    \n",
    "    Eğer Queue Interface'inden bir referans ile LinkedList oluşturulursa bu linkedlist aynı zamanda bir \n",
    "    Queue gibi davranır.\n",
    "    \n",
    "    First In First Out(İlk gelen İlk Çıkar mantığıyla Çalışır) \n",
    "    \n",
    "    PriorityQueue\n",
    "    \n",
    "    Queue Interface'ini implemente etmesine rağmen First In First Out mantığıyla çalışmaz. Değerler öncelik\n",
    "    sırasına göre kuyruğun başına geçer.\n",
    "    \n",
    "    --------------------------------------------------------------------------------------------------------\n",
    "    \n",
    "    Vector Classından Extend Eden Stackler\n",
    "    \n",
    "    LIFO (Last in First Out Mantığıyla Çalışır.) Bilgisayarlarda Recursif Fonksiyonlar çalıştırılırken kullanılır.\n",
    "    \n",
    "    -------------------------------------------------------------------------------------------------------\n",
    "    \n",
    "    Kendi Objelerimizle Oluşturduğumuz bir Veri Yapısını Sıralamak\n",
    "    \n",
    "    Collections.sort() metoduyla kendi Objelerimizle oluşturduğumuz bir veri yapısını sıralamak için \n",
    "    ya Comparable Interface'ini ya da Comparator interfaceini implemente etmek zorundayız.\n",
    "    \n",
    "    -------------------------------------------------------------------------------------------------------\n",
    "    \n",
    "    Iteratorlar ve Iterable\n",
    "    \n",
    "    Bir veri yapısından iterator oluşturarak veri yapısının elemanları üzerinden kolayca gezinebiliriz.\n",
    "    \n",
    "    Aslında For Each Döngüsü kendi içinde iterator kullanır.\n",
    "    \n",
    "    O yüzden bizim de bir classımızdan oluşturduğumuz objelerin üzerinde gezinebilmemiz için Iterable Sınıfını\n",
    "    implemente etmemiz ve Classımıza ait bir tane iterator class yazmamız gerekmektedir.\n",
    "    \n",
    "    -------------------------------------------------------------------------------------------------------"
   ]
  }
 ],
 "metadata": {
  "kernelspec": {
   "display_name": "Java",
   "language": "java",
   "name": "java"
  },
  "language_info": {
   "codemirror_mode": "java",
   "file_extension": ".jshell",
   "mimetype": "text/x-java-source",
   "name": "Java",
   "pygments_lexer": "java",
   "version": "14.0.2+12-46"
  }
 },
 "nbformat": 4,
 "nbformat_minor": 4
}

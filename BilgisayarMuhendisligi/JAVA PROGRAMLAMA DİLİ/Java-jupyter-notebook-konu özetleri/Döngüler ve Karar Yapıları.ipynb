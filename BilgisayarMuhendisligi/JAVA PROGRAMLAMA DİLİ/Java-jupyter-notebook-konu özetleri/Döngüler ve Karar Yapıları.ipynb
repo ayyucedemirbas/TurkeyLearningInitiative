{
 "cells": [
  {
   "cell_type": "markdown",
   "metadata": {},
   "source": [
    "# DÖNGÜLER VE KARAR YAPILARI"
   ]
  },
  {
   "cell_type": "markdown",
   "metadata": {},
   "source": [
    "### FOR DÖNGÜSÜ"
   ]
  },
  {
   "cell_type": "code",
   "execution_count": 2,
   "metadata": {},
   "outputs": [
    {
     "name": "stdout",
     "output_type": "stream",
     "text": [
      "0\n",
      "1\n",
      "2\n",
      "3\n",
      "4\n",
      "5\n",
      "6\n",
      "7\n",
      "8\n",
      "9\n",
      "10\n"
     ]
    }
   ],
   "source": [
    "for (int i = 0; i <= 10; i++) {\n",
    "System.out.println(i);\n",
    "}"
   ]
  },
  {
   "cell_type": "code",
   "execution_count": 1,
   "metadata": {},
   "outputs": [
    {
     "name": "stdout",
     "output_type": "stream",
     "text": [
      "Sayıyı giriniz: \n",
      "5\n",
      "Faktöriyel:120\n"
     ]
    }
   ],
   "source": [
    "// Faktöriyel Hesaplama\n",
    "import java.util.Scanner;\n",
    "\n",
    "Scanner scanner = new Scanner(System.in);\n",
    "System.out.println(\"Sayıyı giriniz: \");\n",
    "int sayi = scanner.nextInt();\n",
    "int faktoriyel = 1;\n",
    "for (int i = 1; i <= sayi; i++) {\n",
    "faktoriyel *= i;\n",
    "}\n",
    "System.out.println(\"Faktöriyel:\" + faktoriyel);"
   ]
  },
  {
   "cell_type": "markdown",
   "metadata": {},
   "source": [
    "#### ARRAY'LERDE FOR DÖNGÜSÜ"
   ]
  },
  {
   "cell_type": "code",
   "execution_count": 3,
   "metadata": {},
   "outputs": [
    {
     "name": "stdout",
     "output_type": "stream",
     "text": [
      "1\n",
      "2\n",
      "3\n",
      "4\n",
      "5\n"
     ]
    }
   ],
   "source": [
    "// Bir Array oluşturalım\n",
    "int[] liste = {1,2,3,4,5};\n",
    "// For döngüsü ile liste üzerinde her bir elemana i değerimizi eşitleyip ekrana yazdıralım.\n",
    "for (int i: liste) {\n",
    "System.out.println(i);\n",
    "}"
   ]
  },
  {
   "cell_type": "markdown",
   "metadata": {},
   "source": [
    "### WHİLE DÖNGÜSÜ "
   ]
  },
  {
   "cell_type": "code",
   "execution_count": 11,
   "metadata": {},
   "outputs": [
    {
     "name": "stdout",
     "output_type": "stream",
     "text": [
      "Sayıyı giriniz: \n",
      "4\n",
      "Faktöriyel: 24\n"
     ]
    }
   ],
   "source": [
    "// While döngüsü ile faktöriyel hesaplayalım.\n",
    "import java.util.Scanner;\n",
    "Scanner scanner = new Scanner(System.in);\n",
    "\n",
    "System.out.println(\"Sayıyı giriniz: \");\n",
    "int sayi = scanner.nextInt();\n",
    "int faktoriyel = 1;\n",
    "\n",
    "while(sayi > 0) {\n",
    "faktoriyel *= sayi;\n",
    "sayi--;\n",
    "}\n",
    "System.out.println(\"Faktöriyel: \" + faktoriyel);"
   ]
  },
  {
   "cell_type": "markdown",
   "metadata": {},
   "source": [
    "### DO WHİLE DÖNGÜSÜ"
   ]
  },
  {
   "cell_type": "code",
   "execution_count": 22,
   "metadata": {},
   "outputs": [
    {
     "name": "stdout",
     "output_type": "stream",
     "text": [
      "Sayıyı giriniz: \n",
      "45\n",
      "Rakamlar toplamı: 5\n"
     ]
    }
   ],
   "source": [
    "// Do While döngüsü ile bir sayının rakamları toplamını bulalım.\n",
    "import java.util.Scanner;\n",
    "Scanner scanner = new Scanner(System.in);\n",
    "\n",
    "System.out.println(\"Sayıyı giriniz: \");\n",
    "\n",
    "int sayi = scanner.nextInt();\n",
    "\n",
    "int toplam = 0;\n",
    "\n",
    "do {\n",
    "toplam += sayi % 10;\n",
    "sayi /= 10;\n",
    "}while(sayi > 10);\n",
    "System.out.println(\"Rakamlar toplamı: \" + toplam);\n"
   ]
  },
  {
   "cell_type": "markdown",
   "metadata": {},
   "source": [
    "### BREAK VE CONTINUE"
   ]
  },
  {
   "cell_type": "markdown",
   "metadata": {},
   "source": [
    "Break ifadesi kullanıldığı döngüyü durdurur.\n",
    "Continue ifadesi kullanıldığı yerde aşağıdaki kodları çalıştırtmadan döngünün başına döndürür."
   ]
  },
  {
   "cell_type": "code",
   "execution_count": 30,
   "metadata": {},
   "outputs": [
    {
     "name": "stdout",
     "output_type": "stream",
     "text": [
      "i: 0\n",
      "i: 1\n",
      "i: 2\n",
      "i: 3\n",
      "i: 4\n",
      "i: 5\n",
      "i: 6\n",
      "i: 7\n",
      "i: 8\n"
     ]
    }
   ],
   "source": [
    "int i = 0;\n",
    "while (i < 30) {\n",
    "if (i == 9) {\n",
    "break;\n",
    "}\n",
    "System.out.println(\"i: \" + i);\n",
    "i++;\n",
    "}\n",
    "\n",
    "// Program i'nin 9 olduğu durumda döngüyü sonlandırdı."
   ]
  },
  {
   "cell_type": "code",
   "execution_count": 4,
   "metadata": {},
   "outputs": [
    {
     "name": "stdout",
     "output_type": "stream",
     "text": [
      "0\n",
      "1\n",
      "2\n",
      "4\n",
      "5\n",
      "6\n",
      "7\n",
      "8\n"
     ]
    }
   ],
   "source": [
    "int i = 0;\n",
    "while (i < 9) {\n",
    "if (i == 3) {\n",
    "i++;\n",
    "continue;\n",
    "}\n",
    "System.out.println(i);\n",
    "i++;\n",
    "}\n",
    "\n",
    "// i sayımız 3 olduğunda program continue ile aşağıdaki kodları çalıştırmadan döngü başına döndü."
   ]
  },
  {
   "cell_type": "code",
   "execution_count": 21,
   "metadata": {},
   "outputs": [
    {
     "name": "stdout",
     "output_type": "stream",
     "text": [
      "Hello\n",
      "Hello\n",
      "Hello\n",
      "Hello\n",
      "Hello\n"
     ]
    }
   ],
   "source": [
    "// Java içteki döngüden dışarıdaki döngüyü durdurma.\n",
    "\n",
    "outerloop:\n",
    "for (int i = 0; i < 50; i++) {\n",
    "    for (int a = 0; a < 10; a++) {\n",
    "        if (a == 5) {\n",
    "            break outerloop;\n",
    "        }\n",
    "        System.out.println(\"Hello\");\n",
    "        \n",
    "    }\n",
    "    System.out.println(\"Merhaba\");\n",
    "}"
   ]
  },
  {
   "cell_type": "code",
   "execution_count": null,
   "metadata": {},
   "outputs": [],
   "source": []
  }
 ],
 "metadata": {
  "kernelspec": {
   "display_name": "Java",
   "language": "java",
   "name": "java"
  },
  "language_info": {
   "codemirror_mode": "java",
   "file_extension": ".jshell",
   "mimetype": "text/x-java-source",
   "name": "Java",
   "pygments_lexer": "java",
   "version": "14.0.2+12-46"
  }
 },
 "nbformat": 4,
 "nbformat_minor": 4
}
